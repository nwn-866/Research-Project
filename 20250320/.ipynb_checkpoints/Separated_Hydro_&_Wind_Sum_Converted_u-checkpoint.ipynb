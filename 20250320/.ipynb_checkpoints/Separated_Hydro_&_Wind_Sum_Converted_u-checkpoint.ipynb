{
 "cells": [
  {
   "cell_type": "code",
   "execution_count": null,
   "id": "b3d16b66",
   "metadata": {},
   "outputs": [],
   "source": [
    "\n",
    "import pandas as pd\n",
    "\n",
    "# Load the dataset\n",
    "df = pd.read_csv(\"merged_data.csv\")\n",
    "\n",
    "# Filter data for Hydro and Wind\n",
    "hydro_df = df[df[\"Fuel_Code\"] == \"Hydro\"]\n",
    "wind_df = df[df[\"Fuel_Code\"] == \"Wind\"]\n",
    "\n",
    "# Group by Fuel_Code and Trading_date and sum the values\n",
    "hydro_df = hydro_df.groupby(['Fuel_Code', 'Trading_date'], as_index=False).sum()\n",
    "wind_df = wind_df.groupby(['Fuel_Code', 'Trading_date'], as_index=False).sum()\n",
    "\n",
    "# Save to separate CSV files\n",
    "hydro_df.to_csv(\"hydro_data.csv\", index=False)\n",
    "wind_df.to_csv(\"wind_data.csv\", index=False)\n",
    "\n",
    "print(\"Hydro and Wind data have been successfully saved to separate CSV files.\")\n"
   ]
  }
 ],
 "metadata": {},
 "nbformat": 4,
 "nbformat_minor": 5
}
