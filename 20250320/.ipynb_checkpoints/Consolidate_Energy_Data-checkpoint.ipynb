{
 "cells": [
  {
   "cell_type": "code",
   "execution_count": 1,
   "id": "16ab33fb-2c27-4c6a-b277-6224528c1bdf",
   "metadata": {},
   "outputs": [],
   "source": [
    "\n",
    "import os\n",
    "import pandas as pd"
   ]
  },
  {
   "cell_type": "code",
   "execution_count": 3,
   "id": "c2dabf43-67e7-4044-ae91-38577d518066",
   "metadata": {},
   "outputs": [],
   "source": [
    "\n",
    "\n",
    "# Define the input_folder where the CSV files are stored\n",
    "input_folder = r\"C:\\Users\\nwn86\\ResearchProject\\Staging\\Energy\"  # Change this to your actual path"
   ]
  },
  {
   "cell_type": "code",
   "execution_count": 5,
   "id": "895fab8e-a506-4f61-a403-285a4ab8d92d",
   "metadata": {},
   "outputs": [
    {
     "data": {
      "text/plain": [
       "'C:\\\\Users\\\\nwn86\\\\ResearchProject\\\\Staging\\\\Energy'"
      ]
     },
     "execution_count": 5,
     "metadata": {},
     "output_type": "execute_result"
    }
   ],
   "source": [
    "input_folder"
   ]
  },
  {
   "cell_type": "code",
   "execution_count": 7,
   "id": "033d29dd-1a71-48bc-ad5a-c16d10a62cc8",
   "metadata": {},
   "outputs": [
    {
     "name": "stdout",
     "output_type": "stream",
     "text": [
      "Merged CSV file saved as C:\\\\Users\\\\nwn86\\\\ResearchProject\\\\Processed\\merged_data.csv\n"
     ]
    }
   ],
   "source": [
    "# Initialize an empty list to store individual DataFrames\n",
    "dfs = []\n",
    "\n",
    "# Loop through all CSV files in the input_folder\n",
    "for filename in os.listdir(input_folder):\n",
    "    if filename.endswith(\".csv\"):\n",
    "        file_path = os.path.join(input_folder, filename)\n",
    "        df = pd.read_csv(file_path, parse_dates=[\"Trading_date\"])\n",
    "        dfs.append(df)\n",
    "\n",
    "# Concatenate all DataFrames into a single DataFrame\n",
    "merged_df = pd.concat(dfs, ignore_index=True)\n",
    "\n",
    "# Ensure the data is sorted by Trading_date\n",
    "merged_df.sort_values(by=\"Trading_date\", inplace=True)\n",
    "\n",
    "# Filter data within the specified date range\n",
    "start_date = \"2015-01-01\"\n",
    "end_date = \"2024-12-31\"\n",
    "merged_df = merged_df[(merged_df[\"Trading_date\"] >= start_date) & (merged_df[\"Trading_date\"] <= end_date)]\n",
    "\n",
    "_dir = r\"C:\\\\Users\\\\nwn86\\\\ResearchProject\\\\Processed\"\n",
    "# Save the merged DataFrame to a new CSV file\n",
    "filename = \"merged_data.csv\"\n",
    "\n",
    "output_file = os.path.join(_dir, filename)\n",
    "\n",
    "merged_df.to_csv(output_file, index=False)\n",
    "\n",
    "print(f\"Merged CSV file saved as {output_file}\")"
   ]
  },
  {
   "cell_type": "code",
   "execution_count": null,
   "id": "56d9a14f-5234-42a4-8258-865b426291af",
   "metadata": {},
   "outputs": [],
   "source": [
    "# Load the dataset\n",
    "#df = pd.read_csv(\"merged_data.csv\")\n",
    "\n",
    "# Filter data for Hydro and Wind\n",
    "hydro_df = merged_df[merged_df[\"Fuel_Code\"] == \"Hydro\"]\n",
    "wind_df = merged_df[merged_df[\"Fuel_Code\"] == \"Wind\"]\n",
    "\n"
   ]
  },
  {
   "cell_type": "code",
   "execution_count": null,
   "id": "f95887dc-afc4-4ea8-8eb4-7a6a0c29ccfb",
   "metadata": {},
   "outputs": [],
   "source": [
    "hydro_data = \"hydro_data.csv\"\n",
    "output_hydro_file = os.path.join(_dir, hydro_data)"
   ]
  },
  {
   "cell_type": "code",
   "execution_count": null,
   "id": "8e6fa42e-7470-4117-ad65-6f6567866105",
   "metadata": {},
   "outputs": [],
   "source": [
    "wind_data = \"wind_data.csv\"\n",
    "output_wind_file = os.path.join(_dir, wind_data)"
   ]
  },
  {
   "cell_type": "code",
   "execution_count": null,
   "id": "a7b8270c-994f-49de-abe8-4d05ffd31483",
   "metadata": {},
   "outputs": [],
   "source": [
    "# Save to separate CSV files\n",
    "hydro_df.to_csv(output_hydro_file, index=False)\n",
    "wind_df.to_csv(output_wind_file, index=False)\n",
    "\n",
    "print(\"Hydro and Wind data have been successfully saved to separate CSV files.\")"
   ]
  }
 ],
 "metadata": {
  "kernelspec": {
   "display_name": "Python [conda env:base] *",
   "language": "python",
   "name": "conda-base-py"
  },
  "language_info": {
   "codemirror_mode": {
    "name": "ipython",
    "version": 3
   },
   "file_extension": ".py",
   "mimetype": "text/x-python",
   "name": "python",
   "nbconvert_exporter": "python",
   "pygments_lexer": "ipython3",
   "version": "3.12.7"
  }
 },
 "nbformat": 4,
 "nbformat_minor": 5
}
