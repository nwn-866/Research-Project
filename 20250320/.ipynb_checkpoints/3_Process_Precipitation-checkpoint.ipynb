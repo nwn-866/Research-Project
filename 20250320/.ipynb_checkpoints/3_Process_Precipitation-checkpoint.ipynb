{
 "cells": [
  {
   "cell_type": "code",
   "execution_count": null,
   "id": "aff7521c",
   "metadata": {},
   "outputs": [],
   "source": [
    "\n",
    "import pandas as pd\n",
    "\n",
    "# Load your dataset\n",
    "df = pd.read_csv(\"PRECTOTCORR.csv\")\n",
    "\n",
    "# Convert DOY to a proper date format\n",
    "df[\"DATE\"] = pd.to_datetime(df[\"YEAR\"].astype(str) + df[\"DOY\"].astype(str), format=\"%Y%j\")\n",
    "\n",
    "# Replace DOY with the formatted date\n",
    "df[\"DOY\"] = df[\"DATE\"].dt.strftime(\"%Y-%m-%d\")\n",
    "\n",
    "# Drop the auxiliary DATE column\n",
    "df = df.drop(columns=[\"DATE\"])\n",
    "\n",
    "# Save the cleaned dataset\n",
    "df.to_csv(\"PRECTOTCORR_CLEANED.csv\", index=False)\n",
    "\n",
    "print(df.head())  # Display the first few rows\n"
   ]
  }
 ],
 "metadata": {},
 "nbformat": 4,
 "nbformat_minor": 5
}
