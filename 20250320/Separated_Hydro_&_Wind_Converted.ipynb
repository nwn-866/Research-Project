{
 "cells": [
  {
   "cell_type": "code",
   "execution_count": null,
   "id": "fd1b295d",
   "metadata": {},
   "outputs": [],
   "source": [
    "\n",
    "import pandas as pd\n",
    "\n",
    "# Load the dataset\n",
    "df = pd.read_csv(\"merged_data.csv\")\n",
    "\n",
    "# Filter data for Hydro and Wind\n",
    "hydro_df = df[df[\"Fuel_Code\"] == \"Hydro\"]\n",
    "wind_df = df[df[\"Fuel_Code\"] == \"Wind\"]\n",
    "\n",
    "# Save to separate CSV files\n",
    "hydro_df.to_csv(\"hydro_data.csv\", index=False)\n",
    "wind_df.to_csv(\"wind_data.csv\", index=False)\n",
    "\n",
    "print(\"Hydro and Wind data have been successfully saved to separate CSV files.\")\n"
   ]
  }
 ],
 "metadata": {
  "kernelspec": {
   "display_name": "Python [conda env:base] *",
   "language": "python",
   "name": "conda-base-py"
  },
  "language_info": {
   "codemirror_mode": {
    "name": "ipython",
    "version": 3
   },
   "file_extension": ".py",
   "mimetype": "text/x-python",
   "name": "python",
   "nbconvert_exporter": "python",
   "pygments_lexer": "ipython3",
   "version": "3.12.7"
  }
 },
 "nbformat": 4,
 "nbformat_minor": 5
}
