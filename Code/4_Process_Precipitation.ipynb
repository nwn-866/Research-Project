{
 "cells": [
  {
   "cell_type": "code",
   "execution_count": null,
   "id": "aff7521c",
   "metadata": {},
   "outputs": [],
   "source": [
    "\n",
    "import pandas as pd\n",
    "\n",
    "# Load your dataset\n",
    "df = pd.read_csv(\"PRECTOTCORR.csv\")\n",
    "\n",
    "# Convert DOY to a proper date format\n",
    "df[\"DATE\"] = pd.to_datetime(df[\"YEAR\"].astype(str) + df[\"DOY\"].astype(str), format=\"%Y%j\")\n",
    "\n",
    "# Replace DOY with the formatted date\n",
    "df[\"DOY\"] = df[\"DATE\"].dt.strftime(\"%Y-%m-%d\")\n",
    "\n",
    "# Drop the auxiliary DATE column\n",
    "df = df.drop(columns=[\"DATE\"])\n",
    "\n",
    "# Save the cleaned dataset\n",
    "df.to_csv(\"PRECTOTCORR_CLEANED.csv\", index=False)\n",
    "\n",
    "print(df.head())  # Display the first few rows\n"
   ]
  }
 ],
 "metadata": {
  "kernelspec": {
   "display_name": "Python [conda env:base] *",
   "language": "python",
   "name": "conda-base-py"
  },
  "language_info": {
   "codemirror_mode": {
    "name": "ipython",
    "version": 3
   },
   "file_extension": ".py",
   "mimetype": "text/x-python",
   "name": "python",
   "nbconvert_exporter": "python",
   "pygments_lexer": "ipython3",
   "version": "3.12.7"
  }
 },
 "nbformat": 4,
 "nbformat_minor": 5
}
