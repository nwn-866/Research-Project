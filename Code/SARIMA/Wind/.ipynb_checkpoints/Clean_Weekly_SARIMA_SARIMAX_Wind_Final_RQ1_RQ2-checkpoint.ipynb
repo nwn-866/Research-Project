{
 "cells": [
  {
   "cell_type": "markdown",
   "id": "1cded814",
   "metadata": {},
   "source": [
    "# 🌬️ Wind Energy Forecasting using SARIMA and SARIMAX (NZ)\n",
    "This notebook models weekly wind energy generation in New Zealand using SARIMA and SARIMAX approaches.\n",
    "We include meteorological features and lagged effects to answer:\n",
    "1. **RQ1**: Which model gives more accurate forecasts?\n",
    "2. **RQ2**: Do lagged climate variables improve accuracy?\n",
    "\n",
    "All analyses use **weekly-aggregated data** for **both South and North Islands**."
   ]
  },
  {
   "cell_type": "code",
   "execution_count": null,
   "id": "9eb2a3e1",
   "metadata": {},
   "outputs": [],
   "source": [
    "import pandas as pd\n",
    "import numpy as np\n",
    "import matplotlib.pyplot as plt\n",
    "import seaborn as sns\n",
    "from statsmodels.tsa.statespace.sarimax import SARIMAX\n",
    "from statsmodels.tsa.stattools import adfuller\n",
    "from sklearn.metrics import mean_squared_error, mean_absolute_error\n",
    "import warnings\n",
    "warnings.filterwarnings('ignore')"
   ]
  },
  {
   "cell_type": "code",
   "execution_count": null,
   "id": "0f0e1e9c",
   "metadata": {},
   "outputs": [],
   "source": [
    "# Load weekly-aggregated wind generation and climate data (merged by Island)\n",
    "weekly_df = pd.read_csv('merged_weekly_wind_climate.csv', parse_dates=['Date'], index_col='Date')\n",
    "\n",
    "# Filter for total wind generation across NZ (both islands)\n",
    "weekly_df = weekly_df.groupby('Date').sum()\n",
    "\n",
    "# Rename generation column if needed\n",
    "weekly_df.rename(columns={\"GENERATION\": \"GENERATION\"}, inplace=True)\n",
    "weekly_df.head()"
   ]
  },
  {
   "cell_type": "markdown",
   "id": "90c2e446",
   "metadata": {},
   "source": [
    "## 🔍 Correlation and Lagged Climate Features\n",
    "We evaluate the correlation of wind generation with climate variables (WS50M, T2M, PS, RH2M, PRECTOTCORR), and generate 1-week lagged versions for SARIMAX."
   ]
  },
  {
   "cell_type": "code",
   "execution_count": null,
   "id": "dcd68dd5",
   "metadata": {},
   "outputs": [],
   "source": [
    "plt.figure(figsize=(10, 6))\n",
    "sns.heatmap(weekly_df.corr(), annot=True, cmap='coolwarm')\n",
    "plt.title('Correlation Between Weekly Wind Generation and Climate Variables')\n",
    "plt.show()"
   ]
  },
  {
   "cell_type": "code",
   "execution_count": null,
   "id": "bfead328",
   "metadata": {},
   "outputs": [],
   "source": [
    "# Create 1-week lagged climate features (excluding wind direction)\n",
    "weekly_df['T2M_lag1'] = weekly_df['T2M'].shift(1)\n",
    "weekly_df['PS_lag1'] = weekly_df['PS'].shift(1)\n",
    "weekly_df['WS50M_lag1'] = weekly_df['WS50M'].shift(1)\n",
    "weekly_df['RH2M_lag1'] = weekly_df['RH2M'].shift(1)\n",
    "weekly_df['PRECTOTCORR_lag1'] = weekly_df['PRECTOTCORR'].shift(1)\n",
    "\n",
    "# Drop NA values caused by shifting\n",
    "weekly_df.dropna(inplace=True)"
   ]
  },
  {
   "cell_type": "markdown",
   "id": "635d011c",
   "metadata": {},
   "source": [
    "## 📈 SARIMA Model (Univariate - RQ1)\n",
    "This model uses only past wind generation data to forecast future values. It serves as the baseline model for comparison."
   ]
  },
  {
   "cell_type": "code",
   "execution_count": null,
   "id": "3fde07a1",
   "metadata": {},
   "outputs": [],
   "source": [
    "# 80/20 split\n",
    "split_index = int(len(weekly_df) * 0.8)\n",
    "train_sarima = weekly_df['GENERATION'].iloc[:split_index]\n",
    "test_sarima = weekly_df['GENERATION'].iloc[split_index:]\n",
    "\n",
    "# Fit SARIMA (manual order here, should be selected via AIC grid search ideally)\n",
    "sarima_model = SARIMAX(train_sarima, order=(1,1,1), seasonal_order=(1,1,1,52))\n",
    "sarima_result = sarima_model.fit(disp=False)\n",
    "\n",
    "# Forecast\n",
    "forecast_sarima = sarima_result.forecast(steps=len(test_sarima))\n",
    "\n",
    "# Evaluation\n",
    "mape = np.mean(np.abs((test_sarima - forecast_sarima) / test_sarima)) * 100\n",
    "mae = mean_absolute_error(test_sarima, forecast_sarima)\n",
    "rmse = np.sqrt(mean_squared_error(test_sarima, forecast_sarima))\n",
    "print(f\"SARIMA - MAPE: {mape:.2f}%, MAE: {mae:.2f}, RMSE: {rmse:.2f}\")"
   ]
  },
  {
   "cell_type": "markdown",
   "id": "8e356185",
   "metadata": {},
   "source": [
    "## 🌦️ SARIMAX Model with Lagged Climate Features (RQ2)\n",
    "This model includes lagged meteorological features to evaluate their influence on wind forecasting accuracy."
   ]
  },
  {
   "cell_type": "code",
   "execution_count": null,
   "id": "597b92fd",
   "metadata": {},
   "outputs": [],
   "source": [
    "# Define endogenous and exogenous variables\n",
    "endog = weekly_df['GENERATION']\n",
    "exog = weekly_df[['T2M_lag1', 'PS_lag1', 'WS50M_lag1', 'RH2M_lag1', 'PRECTOTCORR_lag1']]\n",
    "\n",
    "# Split\n",
    "split_index = int(len(endog) * 0.8)\n",
    "train_endog, test_endog = endog[:split_index], endog[split_index:]\n",
    "train_exog, test_exog = exog[:split_index], exog[split_index:]\n",
    "\n",
    "# Fit SARIMAX\n",
    "sarimax_model = SARIMAX(train_endog, exog=train_exog, order=(1,1,1), seasonal_order=(1,1,1,52))\n",
    "sarimax_result = sarimax_model.fit(disp=False)\n",
    "\n",
    "# Forecast\n",
    "forecast_sarimax = sarimax_result.forecast(steps=len(test_endog), exog=test_exog)\n",
    "\n",
    "# Evaluation\n",
    "mape_sx = np.mean(np.abs((test_endog - forecast_sarimax) / test_endog)) * 100\n",
    "mae_sx = mean_absolute_error(test_endog, forecast_sarimax)\n",
    "rmse_sx = np.sqrt(mean_squared_error(test_endog, forecast_sarimax))\n",
    "print(f\"SARIMAX (Lagged Climate) - MAPE: {mape_sx:.2f}%, MAE: {mae_sx:.2f}, RMSE: {rmse_sx:.2f}\")"
   ]
  }
 ],
 "metadata": {},
 "nbformat": 4,
 "nbformat_minor": 5
}
