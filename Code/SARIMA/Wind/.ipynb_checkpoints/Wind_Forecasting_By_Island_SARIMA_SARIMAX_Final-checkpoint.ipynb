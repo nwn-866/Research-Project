{
 "cells": [
  {
   "cell_type": "markdown",
   "id": "0c7fb8f3",
   "metadata": {},
   "source": [
    "# 🌬️ Wind Forecasting by Island: SARIMA & SARIMAX (NZ)\n",
    "This notebook forecasts weekly wind generation separately for **South Island** and **North Island** using SARIMA and SARIMAX models.\n",
    "Both RQ1 and RQ2 are addressed using climate features (excluding wind direction)."
   ]
  },
  {
   "cell_type": "code",
   "execution_count": null,
   "id": "bbba4699",
   "metadata": {},
   "outputs": [],
   "source": [
    "import pandas as pd\n",
    "import numpy as np\n",
    "import matplotlib.pyplot as plt\n",
    "import seaborn as sns\n",
    "from statsmodels.tsa.statespace.sarimax import SARIMAX\n",
    "from sklearn.metrics import mean_squared_error, mean_absolute_error\n",
    "import warnings\n",
    "warnings.filterwarnings('ignore')"
   ]
  },
  {
   "cell_type": "code",
   "execution_count": null,
   "id": "c607cb15",
   "metadata": {},
   "outputs": [],
   "source": [
    "# Load weekly wind and climate data by island\n",
    "df = pd.read_csv('merged_weekly_wind_climate_by_island.csv', parse_dates=['Date'], index_col='Date')\n",
    "\n",
    "# Drop wind direction if present\n",
    "df = df.drop(columns=[col for col in df.columns if 'WD50M' in col], errors='ignore')\n",
    "\n",
    "# Create South Island dataset\n",
    "south = df[[col for col in df.columns if 'SOUTH' in col or 'Date' in col]].copy()\n",
    "south.rename(columns=lambda x: x.replace('_SOUTH', ''), inplace=True)\n",
    "\n",
    "# Create North Island dataset\n",
    "north = df[[col for col in df.columns if 'NORTH' in col or 'Date' in col]].copy()\n",
    "north.rename(columns=lambda x: x.replace('_NORTH', ''), inplace=True)\n",
    "\n",
    "print('South Island features:', south.columns.tolist())\n",
    "print('North Island features:', north.columns.tolist())"
   ]
  },
  {
   "cell_type": "markdown",
   "id": "a509a04b",
   "metadata": {},
   "source": [
    "## 🧭 South Island Forecasting\n",
    "### SARIMA (RQ1) + SARIMAX with Lagged Climate Features (RQ2)"
   ]
  },
  {
   "cell_type": "code",
   "execution_count": null,
   "id": "75a46e14",
   "metadata": {},
   "outputs": [],
   "source": [
    "# Create lagged climate features for South\n",
    "south['T2M_lag1'] = south['T2M'].shift(1)\n",
    "south['PS_lag1'] = south['PS'].shift(1)\n",
    "south['WS50M_lag1'] = south['WS50M'].shift(1)\n",
    "south['RH2M_lag1'] = south['RH2M'].shift(1)\n",
    "south['PRECTOTCORR_lag1'] = south['PRECTOTCORR'].shift(1)\n",
    "south.dropna(inplace=True)\n",
    "\n",
    "# SARIMA: Univariate\n",
    "split_s = int(len(south) * 0.8)\n",
    "train_sarima = south['GENERATION'][:split_s]\n",
    "test_sarima = south['GENERATION'][split_s:]\n",
    "sarima_model = SARIMAX(train_sarima, order=(1,1,1), seasonal_order=(1,1,1,52))\n",
    "sarima_res = sarima_model.fit(disp=False)\n",
    "pred_sarima = sarima_res.forecast(steps=len(test_sarima))\n",
    "mape_sarima = np.mean(np.abs((test_sarima - pred_sarima) / test_sarima)) * 100\n",
    "\n",
    "# SARIMAX: Lagged exog\n",
    "endog = south['GENERATION']\n",
    "exog = south[['T2M_lag1', 'PS_lag1', 'WS50M_lag1', 'RH2M_lag1', 'PRECTOTCORR_lag1']]\n",
    "train_endog, test_endog = endog[:split_s], endog[split_s:]\n",
    "train_exog, test_exog = exog[:split_s], exog[split_s:]\n",
    "sarimax_model = SARIMAX(train_endog, exog=train_exog, order=(1,1,1), seasonal_order=(1,1,1,52))\n",
    "sarimax_res = sarimax_model.fit(disp=False)\n",
    "pred_sarimax = sarimax_res.forecast(steps=len(test_endog), exog=test_exog)\n",
    "mape_sarimax = np.mean(np.abs((test_endog - pred_sarimax) / test_endog)) * 100\n",
    "\n",
    "print(f\"South Island SARIMA MAPE: {mape_sarima:.2f}%\")\n",
    "print(f\"South Island SARIMAX (Lagged) MAPE: {mape_sarimax:.2f}%\")"
   ]
  },
  {
   "cell_type": "markdown",
   "id": "4c4b49bb",
   "metadata": {},
   "source": [
    "## 🧭 North Island Forecasting\n",
    "### SARIMA (RQ1) + SARIMAX with Lagged Climate Features (RQ2)"
   ]
  },
  {
   "cell_type": "code",
   "execution_count": null,
   "id": "5fab436e",
   "metadata": {},
   "outputs": [],
   "source": [
    "# Create lagged climate features for North\n",
    "north['T2M_lag1'] = north['T2M'].shift(1)\n",
    "north['PS_lag1'] = north['PS'].shift(1)\n",
    "north['WS50M_lag1'] = north['WS50M'].shift(1)\n",
    "north['RH2M_lag1'] = north['RH2M'].shift(1)\n",
    "north['PRECTOTCORR_lag1'] = north['PRECTOTCORR'].shift(1)\n",
    "north.dropna(inplace=True)\n",
    "\n",
    "# SARIMA: Univariate\n",
    "split_n = int(len(north) * 0.8)\n",
    "train_sarima_n = north['GENERATION'][:split_n]\n",
    "test_sarima_n = north['GENERATION'][split_n:]\n",
    "sarima_model_n = SARIMAX(train_sarima_n, order=(1,1,1), seasonal_order=(1,1,1,52))\n",
    "sarima_res_n = sarima_model_n.fit(disp=False)\n",
    "pred_sarima_n = sarima_res_n.forecast(steps=len(test_sarima_n))\n",
    "mape_sarima_n = np.mean(np.abs((test_sarima_n - pred_sarima_n) / test_sarima_n)) * 100\n",
    "\n",
    "# SARIMAX: Lagged exog\n",
    "endog_n = north['GENERATION']\n",
    "exog_n = north[['T2M_lag1', 'PS_lag1', 'WS50M_lag1', 'RH2M_lag1', 'PRECTOTCORR_lag1']]\n",
    "train_endog_n, test_endog_n = endog_n[:split_n], endog_n[split_n:]\n",
    "train_exog_n, test_exog_n = exog_n[:split_n], exog_n[split_n:]\n",
    "sarimax_model_n = SARIMAX(train_endog_n, exog=train_exog_n, order=(1,1,1), seasonal_order=(1,1,1,52))\n",
    "sarimax_res_n = sarimax_model_n.fit(disp=False)\n",
    "pred_sarimax_n = sarimax_res_n.forecast(steps=len(test_endog_n), exog=test_exog_n)\n",
    "mape_sarimax_n = np.mean(np.abs((test_endog_n - pred_sarimax_n) / test_endog_n)) * 100\n",
    "\n",
    "print(f\"North Island SARIMA MAPE: {mape_sarima_n:.2f}%\")\n",
    "print(f\"North Island SARIMAX (Lagged) MAPE: {mape_sarimax_n:.2f}%\")"
   ]
  }
 ],
 "metadata": {},
 "nbformat": 4,
 "nbformat_minor": 5
}
