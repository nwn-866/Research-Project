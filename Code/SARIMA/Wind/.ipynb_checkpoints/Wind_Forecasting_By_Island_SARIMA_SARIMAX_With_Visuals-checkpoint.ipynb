{
 "cells": [
  {
   "cell_type": "markdown",
   "id": "0c7fb8f3",
   "metadata": {},
   "source": [
    "# 🌬️ Wind Forecasting by Island: SARIMA & SARIMAX (NZ)\n",
    "This notebook forecasts weekly wind generation separately for **South Island** and **North Island** using SARIMA and SARIMAX models.\n",
    "Both RQ1 and RQ2 are addressed using climate features (excluding wind direction)."
   ]
  },
  {
   "cell_type": "code",
   "execution_count": null,
   "id": "bbba4699",
   "metadata": {},
   "outputs": [],
   "source": [
    "import pandas as pd\n",
    "import numpy as np\n",
    "import matplotlib.pyplot as plt\n",
    "import seaborn as sns\n",
    "from statsmodels.tsa.statespace.sarimax import SARIMAX\n",
    "from sklearn.metrics import mean_squared_error, mean_absolute_error\n",
    "import warnings\n",
    "warnings.filterwarnings('ignore')"
   ]
  },
  {
   "cell_type": "code",
   "execution_count": null,
   "id": "c607cb15",
   "metadata": {},
   "outputs": [],
   "source": [
    "# Load weekly wind and climate data by island\n",
    "df = pd.read_csv('merged_weekly_wind_climate_by_island.csv', parse_dates=['Date'], index_col='Date')\n",
    "\n",
    "# Drop wind direction if present\n",
    "df = df.drop(columns=[col for col in df.columns if 'WD50M' in col], errors='ignore')\n",
    "\n",
    "# Create South Island dataset\n",
    "south = df[[col for col in df.columns if 'SOUTH' in col or 'Date' in col]].copy()\n",
    "south.rename(columns=lambda x: x.replace('_SOUTH', ''), inplace=True)\n",
    "\n",
    "# Create North Island dataset\n",
    "north = df[[col for col in df.columns if 'NORTH' in col or 'Date' in col]].copy()\n",
    "north.rename(columns=lambda x: x.replace('_NORTH', ''), inplace=True)\n",
    "\n",
    "print('South Island features:', south.columns.tolist())\n",
    "print('North Island features:', north.columns.tolist())"
   ]
  },
  {
   "cell_type": "markdown",
   "id": "a509a04b",
   "metadata": {},
   "source": [
    "## 🧭 South Island Forecasting\n",
    "### SARIMA (RQ1) + SARIMAX with Lagged Climate Features (RQ2)"
   ]
  },
  {
   "cell_type": "markdown",
   "id": "b6c54653",
   "metadata": {},
   "source": [
    "## 🔍 Correlation Analysis\n",
    "To understand which climate features influence wind generation, we compute correlation matrices for each island."
   ]
  },
  {
   "cell_type": "code",
   "execution_count": null,
   "id": "2fe42773",
   "metadata": {},
   "outputs": [],
   "source": [
    "# Correlation matrix for South Island\n",
    "plt.figure(figsize=(8, 5))\n",
    "sns.heatmap(south.corr(), annot=True, cmap='coolwarm', fmt='.2f')\n",
    "plt.title('South Island: Correlation with Wind Generation')\n",
    "plt.show()"
   ]
  },
  {
   "cell_type": "code",
   "execution_count": null,
   "id": "56985df2",
   "metadata": {},
   "outputs": [],
   "source": [
    "# Correlation matrix for North Island\n",
    "plt.figure(figsize=(8, 5))\n",
    "sns.heatmap(north.corr(), annot=True, cmap='coolwarm', fmt='.2f')\n",
    "plt.title('North Island: Correlation with Wind Generation')\n",
    "plt.show()"
   ]
  },
  {
   "cell_type": "markdown",
   "id": "aacc3870",
   "metadata": {},
   "source": [
    "## ✅ Feature Selection Based on Correlation\n",
    "We select only those lagged climate features that have a correlation coefficient with wind generation greater than **|0.3|**.\n",
    "This step reduces noise and focuses on more relevant predictors."
   ]
  },
  {
   "cell_type": "code",
   "execution_count": null,
   "id": "2ea0d141",
   "metadata": {},
   "outputs": [],
   "source": [
    "# Compute correlation with generation for South\n",
    "corr_south = south.corr()['GENERATION'].drop('GENERATION')\n",
    "selected_features_south = corr_south[abs(corr_south) > 0.3].index.tolist()\n",
    "print('Selected features for SARIMAX (South):', selected_features_south)"
   ]
  },
  {
   "cell_type": "code",
   "execution_count": null,
   "id": "bf5b39b3",
   "metadata": {},
   "outputs": [],
   "source": [
    "# SARIMAX South with filtered features\n",
    "exog = south[selected_features_south]\n",
    "train_exog = exog[:split_s]\n",
    "test_exog = exog[split_s:]\n",
    "sarimax_model = SARIMAX(train_endog, exog=train_exog, order=(1,1,1), seasonal_order=(1,1,1,52))\n",
    "sarimax_res = sarimax_model.fit(disp=False)\n",
    "pred_sarimax = sarimax_res.forecast(steps=len(test_endog), exog=test_exog)\n",
    "mape_sarimax = np.mean(np.abs((test_endog - pred_sarimax) / test_endog)) * 100\n",
    "print(f\"South Island SARIMAX (Filtered Features) MAPE: {mape_sarimax:.2f}%\")"
   ]
  },
  {
   "cell_type": "markdown",
   "id": "4c4b49bb",
   "metadata": {},
   "source": [
    "## 🧭 North Island Forecasting\n",
    "### SARIMA (RQ1) + SARIMAX with Lagged Climate Features (RQ2)"
   ]
  },
  {
   "cell_type": "code",
   "execution_count": null,
   "id": "63714f0c",
   "metadata": {},
   "outputs": [],
   "source": [
    "# Compute correlation with generation for North\n",
    "corr_north = north.corr()['GENERATION'].drop('GENERATION')\n",
    "selected_features_north = corr_north[abs(corr_north) > 0.3].index.tolist()\n",
    "print('Selected features for SARIMAX (North):', selected_features_north)"
   ]
  },
  {
   "cell_type": "code",
   "execution_count": null,
   "id": "c946a248",
   "metadata": {},
   "outputs": [],
   "source": [
    "# SARIMAX North with filtered features\n",
    "exog_n = north[selected_features_north]\n",
    "train_exog_n = exog_n[:split_n]\n",
    "test_exog_n = exog_n[split_n:]\n",
    "sarimax_model_n = SARIMAX(train_endog_n, exog=train_exog_n, order=(1,1,1), seasonal_order=(1,1,1,52))\n",
    "sarimax_res_n = sarimax_model_n.fit(disp=False)\n",
    "pred_sarimax_n = sarimax_res_n.forecast(steps=len(test_endog_n), exog=test_exog_n)\n",
    "mape_sarimax_n = np.mean(np.abs((test_endog_n - pred_sarimax_n) / test_endog_n)) * 100\n",
    "print(f\"North Island SARIMAX (Filtered Features) MAPE: {mape_sarimax_n:.2f}%\")"
   ]
  },
  {
   "cell_type": "markdown",
   "id": "0bbbbcdb",
   "metadata": {},
   "source": [
    "## 📊 Visualizing Selected Features vs. Wind Generation\n",
    "These plots help interpret the relationship between selected climate features and weekly wind generation."
   ]
  },
  {
   "cell_type": "code",
   "execution_count": null,
   "id": "978f748f",
   "metadata": {},
   "outputs": [],
   "source": [
    "# Plot selected features vs. wind generation (South)\n",
    "for col in selected_features_south:\n",
    "    plt.figure(figsize=(6, 4))\n",
    "    plt.scatter(south[col], south['GENERATION'], alpha=0.6)\n",
    "    plt.xlabel(col)\n",
    "    plt.ylabel('Wind Generation')\n",
    "    plt.title(f'South Island: {col} vs. Generation')\n",
    "    plt.grid(True)\n",
    "    plt.tight_layout()\n",
    "    plt.show()"
   ]
  },
  {
   "cell_type": "code",
   "execution_count": null,
   "id": "130c5cd5",
   "metadata": {},
   "outputs": [],
   "source": [
    "# Plot selected features vs. wind generation (North)\n",
    "for col in selected_features_north:\n",
    "    plt.figure(figsize=(6, 4))\n",
    "    plt.scatter(north[col], north['GENERATION'], alpha=0.6)\n",
    "    plt.xlabel(col)\n",
    "    plt.ylabel('Wind Generation')\n",
    "    plt.title(f'North Island: {col} vs. Generation')\n",
    "    plt.grid(True)\n",
    "    plt.tight_layout()\n",
    "    plt.show()"
   ]
  }
 ],
 "metadata": {},
 "nbformat": 4,
 "nbformat_minor": 5
}
