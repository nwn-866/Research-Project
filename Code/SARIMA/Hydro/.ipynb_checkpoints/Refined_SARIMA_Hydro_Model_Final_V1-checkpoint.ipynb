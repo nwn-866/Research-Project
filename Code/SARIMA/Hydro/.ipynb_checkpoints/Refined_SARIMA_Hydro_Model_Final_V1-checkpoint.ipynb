{
 "cells": [
  {
   "cell_type": "markdown",
   "id": "aceb3bb1",
   "metadata": {},
   "source": [
    "# SARIMA Modeling for Hydro Energy Forecasting\n",
    "**Objective**: Evaluate SARIMA model performance for forecasting hydro energy generation in New Zealand.\n",
    "\n",
    "This notebook contributes to **RQ1**: _Which model (SARIMA or ANN) provides the most accurate forecast for renewable energy generation in New Zealand?_\n",
    "\n",
    "We focus on univariate SARIMA modeling using historical hydro generation data."
   ]
  },
  {
   "cell_type": "code",
   "execution_count": null,
   "id": "cc0ed284",
   "metadata": {},
   "outputs": [],
   "source": [
    "import pandas as pd\n",
    "import numpy as np\n",
    "import matplotlib.pyplot as plt\n",
    "import seaborn as sns\n",
    "from statsmodels.tsa.statespace.sarimax import SARIMAX\n",
    "from statsmodels.tsa.stattools import adfuller\n",
    "from statsmodels.graphics.tsaplots import plot_acf, plot_pacf\n",
    "from sklearn.metrics import mean_squared_error, mean_absolute_error\n",
    "import warnings\n",
    "warnings.filterwarnings('ignore')\n",
    "plt.style.use('seaborn-vintage')"
   ]
  },
  {
   "cell_type": "markdown",
   "id": "46642570",
   "metadata": {},
   "source": [
    "## Load Hydro Generation Data"
   ]
  },
  {
   "cell_type": "code",
   "execution_count": null,
   "id": "61f81e4c",
   "metadata": {},
   "outputs": [],
   "source": [
    "# Load dataset\n",
    "hydro_df = pd.read_csv('hydro_data.csv', parse_dates=['DATE'])\n",
    "hydro_df = hydro_df.sort_values('DATE')\n",
    "hydro_df.set_index('DATE', inplace=True)\n",
    "hydro_df = hydro_df.asfreq('D')  # Ensure daily frequency\n",
    "\n",
    "# Preview\n",
    "hydro_df['GENERATION'].plot(title='Daily Hydro Energy Generation', figsize=(12,4))\n",
    "plt.ylabel('MWh')\n",
    "plt.show()"
   ]
  },
  {
   "cell_type": "markdown",
   "id": "02582124",
   "metadata": {},
   "source": [
    "## Stationarity Check using Augmented Dickey-Fuller Test"
   ]
  },
  {
   "cell_type": "code",
   "execution_count": null,
   "id": "125515a6",
   "metadata": {},
   "outputs": [],
   "source": [
    "result = adfuller(hydro_df['GENERATION'].dropna())\n",
    "print(f'ADF Statistic: {result[0]:.4f}')\n",
    "print(f'p-value: {result[1]:.4f}')\n",
    "if result[1] < 0.05:\n",
    "    print('✅ Series is stationary')\n",
    "else:\n",
    "    print('⚠️ Series is non-stationary — differencing required')"
   ]
  },
  {
   "cell_type": "markdown",
   "id": "22ee12a2",
   "metadata": {},
   "source": [
    "## Differencing to Achieve Stationarity"
   ]
  },
  {
   "cell_type": "code",
   "execution_count": null,
   "id": "d72477df",
   "metadata": {},
   "outputs": [],
   "source": [
    "# Apply first-order differencing if needed\n",
    "hydro_df['DIFF_GEN'] = hydro_df['GENERATION'].diff()\n",
    "hydro_df['DIFF_GEN'].dropna().plot(title='Differenced Series', figsize=(12,4))\n",
    "plt.ylabel('Differenced MWh')\n",
    "plt.show()\n",
    "\n",
    "# ADF test after differencing\n",
    "result_diff = adfuller(hydro_df['DIFF_GEN'].dropna())\n",
    "print(f'ADF Statistic (Differenced): {result_diff[0]:.4f}')\n",
    "print(f'p-value: {result_diff[1]:.4f}')"
   ]
  },
  {
   "cell_type": "markdown",
   "id": "69ad69bb",
   "metadata": {},
   "source": [
    "## ACF and PACF Plots for Order Selection"
   ]
  },
  {
   "cell_type": "code",
   "execution_count": null,
   "id": "70e01101",
   "metadata": {},
   "outputs": [],
   "source": [
    "fig, ax = plt.subplots(2, 1, figsize=(12, 8))\n",
    "plot_acf(hydro_df['DIFF_GEN'].dropna(), ax=ax[0], lags=40)\n",
    "plot_pacf(hydro_df['DIFF_GEN'].dropna(), ax=ax[1], lags=40)\n",
    "ax[0].set_title('ACF of Differenced Series')\n",
    "ax[1].set_title('PACF of Differenced Series')\n",
    "plt.tight_layout()\n",
    "plt.show()"
   ]
  },
  {
   "cell_type": "markdown",
   "id": "c910a562",
   "metadata": {},
   "source": [
    "## SARIMA Model Fitting"
   ]
  },
  {
   "cell_type": "code",
   "execution_count": null,
   "id": "496317f3",
   "metadata": {},
   "outputs": [],
   "source": [
    "# Fit SARIMA model based on ACF/PACF inspection or AIC minimization\n",
    "model = SARIMAX(hydro_df['GENERATION'], \n",
    "                order=(1,1,1), \n",
    "                seasonal_order=(1,1,1,7), \n",
    "                enforce_stationarity=False, \n",
    "                enforce_invertibility=False)\n",
    "\n",
    "results = model.fit(disp=False)\n",
    "print(results.summary())"
   ]
  },
  {
   "cell_type": "markdown",
   "id": "4c4f3a57",
   "metadata": {},
   "source": [
    "## Model Diagnostics"
   ]
  },
  {
   "cell_type": "code",
   "execution_count": null,
   "id": "e75b0271",
   "metadata": {},
   "outputs": [],
   "source": [
    "results.plot_diagnostics(figsize=(12,8))\n",
    "plt.tight_layout()\n",
    "plt.show()"
   ]
  },
  {
   "cell_type": "markdown",
   "id": "4ea51152",
   "metadata": {},
   "source": [
    "## Forecasting Future Hydro Generation"
   ]
  },
  {
   "cell_type": "code",
   "execution_count": null,
   "id": "1fd411f7",
   "metadata": {},
   "outputs": [],
   "source": [
    "# Forecast the next 30 days\n",
    "forecast = results.get_forecast(steps=30)\n",
    "pred_ci = forecast.conf_int()\n",
    "\n",
    "# Plot\n",
    "ax = hydro_df['GENERATION'].plot(label='Observed', figsize=(12, 6))\n",
    "forecast.predicted_mean.plot(ax=ax, label='Forecast')\n",
    "ax.fill_between(pred_ci.index,\n",
    "                pred_ci.iloc[:, 0],\n",
    "                pred_ci.iloc[:, 1], color='lightblue', alpha=0.4)\n",
    "plt.title('Hydro Energy Forecast (Next 30 Days)')\n",
    "plt.legend()\n",
    "plt.show()"
   ]
  },
  {
   "cell_type": "markdown",
   "id": "9470b444",
   "metadata": {},
   "source": [
    "## Forecast Evaluation"
   ]
  },
  {
   "cell_type": "code",
   "execution_count": null,
   "id": "e2945692",
   "metadata": {},
   "outputs": [],
   "source": [
    "# Use train-test split for actual evaluation\n",
    "train = hydro_df['GENERATION'][:-30]\n",
    "test = hydro_df['GENERATION'][-30:]\n",
    "\n",
    "model_eval = SARIMAX(train, order=(1,1,1), seasonal_order=(1,1,1,7), \n",
    "                     enforce_stationarity=False, enforce_invertibility=False)\n",
    "results_eval = model_eval.fit(disp=False)\n",
    "\n",
    "forecast_eval = results_eval.get_forecast(steps=30)\n",
    "pred = forecast_eval.predicted_mean\n",
    "\n",
    "# Metrics\n",
    "mae = mean_absolute_error(test, pred)\n",
    "rmse = np.sqrt(mean_squared_error(test, pred))\n",
    "mape = np.mean(np.abs((test - pred) / test)) * 100\n",
    "\n",
    "print(f'MAE: {mae:.2f}')\n",
    "print(f'RMSE: {rmse:.2f}')\n",
    "print(f'MAPE: {mape:.2f}%')"
   ]
  },
  {
   "cell_type": "markdown",
   "id": "75e22b13",
   "metadata": {},
   "source": [
    "### 🔍 Interpretation (RQ1)\n",
    "The SARIMA model provides a baseline for forecasting hydro energy generation. The performance metrics — MAE, RMSE, and MAPE — will be compared against the ANN model to evaluate forecasting accuracy (RQ1).\n",
    "\n",
    "A future extension will involve SARIMAX using lagged climate features to assess RQ2."
   ]
  }
 ],
 "metadata": {},
 "nbformat": 4,
 "nbformat_minor": 5
}
