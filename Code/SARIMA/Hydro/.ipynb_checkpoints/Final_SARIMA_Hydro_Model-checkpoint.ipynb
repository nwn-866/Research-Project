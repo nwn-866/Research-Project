{
 "cells": [
  {
   "cell_type": "markdown",
   "id": "aceb3bb1",
   "metadata": {},
   "source": [
    "# SARIMA Modeling for Hydro Energy Forecasting\n",
    "**Objective**: Evaluate SARIMA model performance for forecasting hydro energy generation in New Zealand.\n",
    "\n",
    "This notebook contributes to **RQ1**: _Which model (SARIMA or ANN) provides the most accurate forecast for renewable energy generation in New Zealand?_\n",
    "\n",
    "We focus on univariate SARIMA modeling using historical hydro generation data."
   ]
  },
  {
   "cell_type": "code",
   "execution_count": null,
   "id": "cc0ed284",
   "metadata": {},
   "outputs": [],
   "source": [
    "import pandas as pd\n",
    "import numpy as np\n",
    "import matplotlib.pyplot as plt\n",
    "import seaborn as sns\n",
    "from statsmodels.tsa.statespace.sarimax import SARIMAX\n",
    "from statsmodels.tsa.stattools import adfuller\n",
    "from statsmodels.graphics.tsaplots import plot_acf, plot_pacf\n",
    "from sklearn.metrics import mean_squared_error, mean_absolute_error\n",
    "import warnings\n",
    "warnings.filterwarnings('ignore')\n",
    "plt.style.use('seaborn-vintage')"
   ]
  },
  {
   "cell_type": "markdown",
   "id": "46642570",
   "metadata": {},
   "source": [
    "## Load Hydro Generation Data"
   ]
  },
  {
   "cell_type": "code",
   "execution_count": null,
   "id": "61f81e4c",
   "metadata": {},
   "outputs": [],
   "source": [
    "# Load dataset\n",
    "hydro_df = pd.read_csv('hydro_data.csv', parse_dates=['DATE'])\n",
    "hydro_df = hydro_df.sort_values('DATE')\n",
    "hydro_df.set_index('DATE', inplace=True)\n",
    "hydro_df = hydro_df.asfreq('D')  # Ensure daily frequency\n",
    "\n",
    "# Preview\n",
    "hydro_df['GENERATION'].plot(title='Daily Hydro Energy Generation', figsize=(12,4))\n",
    "plt.ylabel('MWh')\n",
    "plt.show()"
   ]
  },
  {
   "cell_type": "markdown",
   "id": "02582124",
   "metadata": {},
   "source": [
    "## Stationarity Check using Augmented Dickey-Fuller Test"
   ]
  },
  {
   "cell_type": "code",
   "execution_count": null,
   "id": "125515a6",
   "metadata": {},
   "outputs": [],
   "source": [
    "result = adfuller(hydro_df['GENERATION'].dropna())\n",
    "print(f'ADF Statistic: {result[0]:.4f}')\n",
    "print(f'p-value: {result[1]:.4f}')\n",
    "if result[1] < 0.05:\n",
    "    print('✅ Series is stationary')\n",
    "else:\n",
    "    print('⚠️ Series is non-stationary — differencing required')"
   ]
  }
 ],
 "metadata": {},
 "nbformat": 4,
 "nbformat_minor": 5
}
