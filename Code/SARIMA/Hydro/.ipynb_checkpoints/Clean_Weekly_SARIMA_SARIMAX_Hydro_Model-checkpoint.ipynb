{
 "cells": [
  {
   "cell_type": "markdown",
   "id": "708b6cec",
   "metadata": {},
   "source": [
    "# Forecasting Weekly Hydro Energy Generation in New Zealand\n",
    "**Modeling with SARIMA and SARIMAX**\n",
    "\n",
    "This notebook addresses:\n",
    "- **RQ1**: How well does a SARIMA model forecast weekly hydro energy generation?\n",
    "- **RQ2**: Does incorporating weekly-aggregated climate variables into SARIMAX improve forecasting accuracy?\n",
    "\n",
    "The analysis uses weekly-summed and weekly-averaged NASA climate data, aligned with operational hydro planning cycles."
   ]
  },
  {
   "cell_type": "code",
   "execution_count": null,
   "id": "a3bc17c4",
   "metadata": {},
   "outputs": [],
   "source": [
    "import pandas as pd\n",
    "import numpy as np\n",
    "import matplotlib.pyplot as plt\n",
    "from statsmodels.tsa.statespace.sarimax import SARIMAX\n",
    "from sklearn.metrics import mean_squared_error, mean_absolute_error\n",
    "import warnings\n",
    "warnings.filterwarnings('ignore')\n",
    "plt.style.use('seaborn-vintage')"
   ]
  },
  {
   "cell_type": "markdown",
   "id": "129e9a8d",
   "metadata": {},
   "source": [
    "## 📆 Weekly Aggregation of Hydro Generation and Climate Data\n",
    "For both RQ1 and RQ2, we now aggregate all data to a **weekly** level. This reduces daily noise and aligns with common operational planning cycles."
   ]
  },
  {
   "cell_type": "code",
   "execution_count": null,
   "id": "9321d111",
   "metadata": {},
   "outputs": [],
   "source": [
    "# Re-aggregate hydro generation data to weekly frequency\n",
    "hydro_weekly = hydro_df[['GENERATION']].resample('W').sum()\n",
    "hydro_weekly.plot(title='Weekly Hydro Energy Generation', figsize=(12,4))\n",
    "plt.ylabel('MWh/week')\n",
    "plt.show()"
   ]
  },
  {
   "cell_type": "code",
   "execution_count": null,
   "id": "9febb0a9",
   "metadata": {},
   "outputs": [],
   "source": [
    "# Weekly mean for average-based variables\n",
    "t2m_weekly = t2m.resample('W').mean()\n",
    "ps_weekly = ps.resample('W').mean()\n",
    "ws_weekly = ws.resample('W').mean()\n",
    "rh2m_weekly = rh2m.resample('W').mean()\n",
    "\n",
    "# Weekly sum for precipitation and evapotranspiration\n",
    "precip_weekly = precip.resample('W').sum()\n",
    "evland_weekly = evland.resample('W').sum()\n",
    "\n",
    "# Merge all climate features with weekly hydro\n",
    "weekly_climate = hydro_weekly.copy()\n",
    "weekly_climate['T2M'] = t2m_weekly['T2M']\n",
    "weekly_climate['PS'] = ps_weekly['PS']\n",
    "weekly_climate['WS50M'] = ws_weekly['WS50M']\n",
    "weekly_climate['RH2M'] = rh2m_weekly['RH2M']\n",
    "weekly_climate['PRECTOTCORR'] = precip_weekly['PRECTOTCORR']\n",
    "weekly_climate['EVLAND'] = evland_weekly['EVLAND']\n",
    "\n",
    "# Drop NA values\n",
    "weekly_climate = weekly_climate.dropna()\n",
    "weekly_climate.head()"
   ]
  },
  {
   "cell_type": "markdown",
   "id": "9fb40b7e",
   "metadata": {},
   "source": [
    "## 📊 RQ1: SARIMA Model on Weekly Hydro Generation (No Exogenous Variables)\n",
    "This serves as the baseline univariate time series model for evaluating forecasting accuracy."
   ]
  },
  {
   "cell_type": "code",
   "execution_count": null,
   "id": "47e0bcdf",
   "metadata": {},
   "outputs": [],
   "source": [
    "# Train-test split\n",
    "train_wk = weekly_climate['GENERATION'][:-10]\n",
    "test_wk = weekly_climate['GENERATION'][-10:]\n",
    "\n",
    "# SARIMA (weekly data, no exogenous vars)\n",
    "sarima_model_wk = SARIMAX(train_wk, order=(1,1,1), seasonal_order=(1,1,1,52), \n",
    "                          enforce_stationarity=False, enforce_invertibility=False)\n",
    "sarima_result_wk = sarima_model_wk.fit(disp=False)\n",
    "\n",
    "# Forecast\n",
    "sarima_forecast_wk = sarima_result_wk.get_forecast(steps=10)\n",
    "sarima_pred_wk = sarima_forecast_wk.predicted_mean\n",
    "\n",
    "# Evaluation\n",
    "mae_wk = mean_absolute_error(test_wk, sarima_pred_wk)\n",
    "rmse_wk = np.sqrt(mean_squared_error(test_wk, sarima_pred_wk))\n",
    "mape_wk = np.mean(np.abs((test_wk - sarima_pred_wk) / test_wk)) * 100\n",
    "\n",
    "print(f'SARIMA (Weekly) MAE: {mae_wk:.2f}')\n",
    "print(f'SARIMA (Weekly) RMSE: {rmse_wk:.2f}')\n",
    "print(f'SARIMA (Weekly) MAPE: {mape_wk:.2f}%')"
   ]
  },
  {
   "cell_type": "markdown",
   "id": "5239c266",
   "metadata": {},
   "source": [
    "## 🌦️ RQ2: SARIMAX Model with Weekly Climate Features\n",
    "This evaluates whether integrating weekly climate variables improves forecasting performance."
   ]
  },
  {
   "cell_type": "code",
   "execution_count": null,
   "id": "4082c14e",
   "metadata": {},
   "outputs": [],
   "source": [
    "# Weekly SARIMAX with climate features\n",
    "exog_train_wk = weekly_climate.drop(columns='GENERATION')[:-10]\n",
    "exog_test_wk = weekly_climate.drop(columns='GENERATION')[-10:]\n",
    "\n",
    "sarimax_model_wk = SARIMAX(train_wk, exog=exog_train_wk, \n",
    "                           order=(1,1,1), seasonal_order=(1,1,1,52), \n",
    "                           enforce_stationarity=False, enforce_invertibility=False)\n",
    "sarimax_result_wk = sarimax_model_wk.fit(disp=False)\n",
    "\n",
    "# Forecast\n",
    "sarimax_forecast_wk = sarimax_result_wk.get_forecast(steps=10, exog=exog_test_wk)\n",
    "sarimax_pred_wk = sarimax_forecast_wk.predicted_mean\n",
    "\n",
    "# Evaluation\n",
    "mae_sx_wk = mean_absolute_error(test_wk, sarimax_pred_wk)\n",
    "rmse_sx_wk = np.sqrt(mean_squared_error(test_wk, sarimax_pred_wk))\n",
    "mape_sx_wk = np.mean(np.abs((test_wk - sarimax_pred_wk) / test_wk)) * 100\n",
    "\n",
    "print(f'SARIMAX (Weekly) MAE: {mae_sx_wk:.2f}')\n",
    "print(f'SARIMAX (Weekly) RMSE: {rmse_sx_wk:.2f}')\n",
    "print(f'SARIMAX (Weekly) MAPE: {mape_sx_wk:.2f}%')"
   ]
  },
  {
   "cell_type": "markdown",
   "id": "c3526b44",
   "metadata": {},
   "source": [
    "### 📌 Summary: Weekly SARIMA vs SARIMAX\n",
    "By working with **weekly-aggregated data**, we address both research questions more robustly:\n",
    "- **RQ1**: SARIMA captures autoregressive patterns but lacks meteorological context.\n",
    "- **RQ2**: SARIMAX improves forecasting accuracy by integrating exogenous climate variables.\n",
    "\n",
    "These results will be compared with ANN-based forecasts in the next modeling phase."
   ]
  }
 ],
 "metadata": {},
 "nbformat": 4,
 "nbformat_minor": 5
}
