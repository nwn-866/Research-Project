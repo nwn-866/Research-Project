{
 "cells": [
  {
   "cell_type": "markdown",
   "id": "708b6cec",
   "metadata": {},
   "source": [
    "# Forecasting Weekly Hydro Energy Generation in New Zealand\n",
    "**Modeling with SARIMA and SARIMAX**\n",
    "\n",
    "This notebook addresses:\n",
    "- **RQ1**: How well does a SARIMA model forecast weekly hydro energy generation?\n",
    "- **RQ2**: Does incorporating weekly-aggregated climate variables into SARIMAX improve forecasting accuracy?\n",
    "\n",
    "The analysis uses weekly-summed and weekly-averaged NASA climate data, aligned with operational hydro planning cycles."
   ]
  },
  {
   "cell_type": "code",
   "execution_count": null,
   "id": "a3bc17c4",
   "metadata": {},
   "outputs": [],
   "source": [
    "import pandas as pd\n",
    "import numpy as np\n",
    "import matplotlib.pyplot as plt\n",
    "from statsmodels.tsa.statespace.sarimax import SARIMAX\n",
    "from sklearn.metrics import mean_squared_error, mean_absolute_error\n",
    "import warnings\n",
    "warnings.filterwarnings('ignore')\n",
    "plt.style.use('seaborn-vintage')"
   ]
  },
  {
   "cell_type": "markdown",
   "id": "129e9a8d",
   "metadata": {},
   "source": [
    "## 📆 Weekly Aggregation of Hydro Generation and Climate Data\n",
    "For both RQ1 and RQ2, we now aggregate all data to a **weekly** level. This reduces daily noise and aligns with common operational planning cycles."
   ]
  },
  {
   "cell_type": "code",
   "execution_count": null,
   "id": "9321d111",
   "metadata": {},
   "outputs": [],
   "source": [
    "# Re-aggregate hydro generation data to weekly frequency\n",
    "hydro_weekly = hydro_df[['GENERATION']].resample('W').sum()\n",
    "hydro_weekly.plot(title='Weekly Hydro Energy Generation', figsize=(12,4))\n",
    "plt.ylabel('MWh/week')\n",
    "plt.show()"
   ]
  },
  {
   "cell_type": "code",
   "execution_count": null,
   "id": "9febb0a9",
   "metadata": {},
   "outputs": [],
   "source": [
    "# Weekly mean for average-based variables\n",
    "t2m_weekly = t2m.resample('W').mean()\n",
    "ps_weekly = ps.resample('W').mean()\n",
    "ws_weekly = ws.resample('W').mean()\n",
    "rh2m_weekly = rh2m.resample('W').mean()\n",
    "\n",
    "# Weekly sum for precipitation and evapotranspiration\n",
    "precip_weekly = precip.resample('W').sum()\n",
    "evland_weekly = evland.resample('W').sum()\n",
    "\n",
    "# Merge all climate features with weekly hydro\n",
    "weekly_climate = hydro_weekly.copy()\n",
    "weekly_climate['T2M'] = t2m_weekly['T2M']\n",
    "weekly_climate['PS'] = ps_weekly['PS']\n",
    "weekly_climate['WS50M'] = ws_weekly['WS50M']\n",
    "weekly_climate['RH2M'] = rh2m_weekly['RH2M']\n",
    "weekly_climate['PRECTOTCORR'] = precip_weekly['PRECTOTCORR']\n",
    "weekly_climate['EVLAND'] = evland_weekly['EVLAND']\n",
    "\n",
    "# Drop NA values\n",
    "weekly_climate = weekly_climate.dropna()\n",
    "weekly_climate.head()"
   ]
  },
  {
   "cell_type": "markdown",
   "id": "9fb40b7e",
   "metadata": {},
   "source": [
    "## 📊 RQ1: SARIMA Model on Weekly Hydro Generation (No Exogenous Variables)\n",
    "This serves as the baseline univariate time series model for evaluating forecasting accuracy."
   ]
  },
  {
   "cell_type": "code",
   "execution_count": null,
   "id": "cdececf0",
   "metadata": {},
   "outputs": [],
   "source": [
    "# Updated 80/20 train-test split\n",
    "split_index = int(len(weekly_climate) * 0.8)\n",
    "train_wk = weekly_climate['GENERATION'][:split_index]\n",
    "test_wk = weekly_climate['GENERATION'][split_index:]"
   ]
  },
  {
   "cell_type": "markdown",
   "id": "321ff78b",
   "metadata": {},
   "source": [
    "## 🔗 Correlation Analysis Between Climate Features and Hydro Generation\n",
    "To support **RQ2**, we analyze how strongly each weekly climate variable correlates with hydro generation.\n",
    "This helps assess the relevance of including these features in the SARIMAX model."
   ]
  },
  {
   "cell_type": "code",
   "execution_count": null,
   "id": "cb6b7812",
   "metadata": {},
   "outputs": [],
   "source": [
    "# Compute correlation matrix\n",
    "correlation_matrix = weekly_climate.corr()\n",
    "\n",
    "# Plot heatmap\n",
    "plt.figure(figsize=(10, 6))\n",
    "sns.heatmap(correlation_matrix, annot=True, cmap='coolwarm', fmt='.2f', linewidths=0.5)\n",
    "plt.title('Pearson Correlation (Weekly Aggregated)')\n",
    "plt.show()"
   ]
  },
  {
   "cell_type": "markdown",
   "id": "3c4cbd85",
   "metadata": {},
   "source": [
    "### 🧠 Interpretation\n",
    "- Positive correlations indicate that higher values of a feature tend to coincide with higher hydro generation.\n",
    "- Features like **PRECTOTCORR** and **EVLAND** (linked to rainfall and water availability) are typically expected to show strong positive relationships.\n",
    "- This analysis provides empirical support for their inclusion in the SARIMAX model to address **RQ2**."
   ]
  },
  {
   "cell_type": "markdown",
   "id": "5239c266",
   "metadata": {},
   "source": [
    "## 🌦️ RQ2: SARIMAX Model with Weekly Climate Features\n",
    "This evaluates whether integrating weekly climate variables improves forecasting performance."
   ]
  },
  {
   "cell_type": "markdown",
   "id": "9084c7f7",
   "metadata": {},
   "source": [
    "### 🧾 Climate Feature Descriptions (Exogenous Variables)\n",
    "\n",
    "| Feature         | Description                                       | Aggregation   |\n",
    "|----------------|---------------------------------------------------|---------------|\n",
    "| `T2M`           | Temperature at 2 meters (°C)                      | Weekly **average** |\n",
    "| `PS`            | Surface air pressure (Pa)                         | Weekly **average** |\n",
    "| `WS50M`         | Wind speed at 50 meters (m/s)                     | Weekly **average** |\n",
    "| `RH2M`          | Relative humidity at 2 meters (%)                 | Weekly **average** |\n",
    "| `PRECTOTCORR`   | Precipitation (corrected) (mm)                    | Weekly **sum**     |\n",
    "| `EVLAND`        | Land surface evapotranspiration (mm)              | Weekly **sum**     |\n",
    "\n",
    "These features are selected based on their known influence on hydro energy generation, as supported by climate and energy forecasting literature."
   ]
  },
  {
   "cell_type": "code",
   "execution_count": null,
   "id": "f1baa0cf",
   "metadata": {},
   "outputs": [],
   "source": [
    "# Exogenous train-test split for SARIMAX\n",
    "exog_train_wk = weekly_climate.drop(columns='GENERATION')[:split_index]\n",
    "exog_test_wk = weekly_climate.drop(columns='GENERATION')[split_index:]"
   ]
  },
  {
   "cell_type": "markdown",
   "id": "c3526b44",
   "metadata": {},
   "source": [
    "### 📌 Summary: Weekly SARIMA vs SARIMAX\n",
    "By working with **weekly-aggregated data**, we address both research questions more robustly:\n",
    "- **RQ1**: SARIMA captures autoregressive patterns but lacks meteorological context.\n",
    "- **RQ2**: SARIMAX improves forecasting accuracy by integrating exogenous climate variables.\n",
    "\n",
    "These results will be compared with ANN-based forecasts in the next modeling phase."
   ]
  }
 ],
 "metadata": {},
 "nbformat": 4,
 "nbformat_minor": 5
}
