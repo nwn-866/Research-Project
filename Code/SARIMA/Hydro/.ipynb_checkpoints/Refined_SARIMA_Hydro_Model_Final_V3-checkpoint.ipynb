{
 "cells": [
  {
   "cell_type": "markdown",
   "id": "aceb3bb1",
   "metadata": {},
   "source": [
    "# SARIMA Modeling for Hydro Energy Forecasting\n",
    "**Objective**: Evaluate SARIMA model performance for forecasting hydro energy generation in New Zealand.\n",
    "\n",
    "This notebook contributes to **RQ1**: _Which model (SARIMA or ANN) provides the most accurate forecast for renewable energy generation in New Zealand?_\n",
    "\n",
    "We focus on univariate SARIMA modeling using historical hydro generation data."
   ]
  },
  {
   "cell_type": "code",
   "execution_count": null,
   "id": "cc0ed284",
   "metadata": {},
   "outputs": [],
   "source": [
    "import pandas as pd\n",
    "import numpy as np\n",
    "import matplotlib.pyplot as plt\n",
    "import seaborn as sns\n",
    "from statsmodels.tsa.statespace.sarimax import SARIMAX\n",
    "from statsmodels.tsa.stattools import adfuller\n",
    "from statsmodels.graphics.tsaplots import plot_acf, plot_pacf\n",
    "from sklearn.metrics import mean_squared_error, mean_absolute_error\n",
    "import warnings\n",
    "warnings.filterwarnings('ignore')\n",
    "plt.style.use('seaborn-vintage')"
   ]
  },
  {
   "cell_type": "markdown",
   "id": "46642570",
   "metadata": {},
   "source": [
    "## Load Hydro Generation Data"
   ]
  },
  {
   "cell_type": "code",
   "execution_count": null,
   "id": "61f81e4c",
   "metadata": {},
   "outputs": [],
   "source": [
    "# Load dataset\n",
    "hydro_df = pd.read_csv('hydro_data.csv', parse_dates=['DATE'])\n",
    "hydro_df = hydro_df.sort_values('DATE')\n",
    "hydro_df.set_index('DATE', inplace=True)\n",
    "hydro_df = hydro_df.asfreq('D')  # Ensure daily frequency\n",
    "\n",
    "# Preview\n",
    "hydro_df['GENERATION'].plot(title='Daily Hydro Energy Generation', figsize=(12,4))\n",
    "plt.ylabel('MWh')\n",
    "plt.show()"
   ]
  },
  {
   "cell_type": "markdown",
   "id": "02582124",
   "metadata": {},
   "source": [
    "## Stationarity Check using Augmented Dickey-Fuller Test"
   ]
  },
  {
   "cell_type": "code",
   "execution_count": null,
   "id": "125515a6",
   "metadata": {},
   "outputs": [],
   "source": [
    "result = adfuller(hydro_df['GENERATION'].dropna())\n",
    "print(f'ADF Statistic: {result[0]:.4f}')\n",
    "print(f'p-value: {result[1]:.4f}')\n",
    "if result[1] < 0.05:\n",
    "    print('✅ Series is stationary')\n",
    "else:\n",
    "    print('⚠️ Series is non-stationary — differencing required')"
   ]
  },
  {
   "cell_type": "markdown",
   "id": "22ee12a2",
   "metadata": {},
   "source": [
    "## Differencing to Achieve Stationarity"
   ]
  },
  {
   "cell_type": "code",
   "execution_count": null,
   "id": "d72477df",
   "metadata": {},
   "outputs": [],
   "source": [
    "# Apply first-order differencing if needed\n",
    "hydro_df['DIFF_GEN'] = hydro_df['GENERATION'].diff()\n",
    "hydro_df['DIFF_GEN'].dropna().plot(title='Differenced Series', figsize=(12,4))\n",
    "plt.ylabel('Differenced MWh')\n",
    "plt.show()\n",
    "\n",
    "# ADF test after differencing\n",
    "result_diff = adfuller(hydro_df['DIFF_GEN'].dropna())\n",
    "print(f'ADF Statistic (Differenced): {result_diff[0]:.4f}')\n",
    "print(f'p-value: {result_diff[1]:.4f}')"
   ]
  },
  {
   "cell_type": "markdown",
   "id": "69ad69bb",
   "metadata": {},
   "source": [
    "## ACF and PACF Plots for Order Selection"
   ]
  },
  {
   "cell_type": "code",
   "execution_count": null,
   "id": "70e01101",
   "metadata": {},
   "outputs": [],
   "source": [
    "fig, ax = plt.subplots(2, 1, figsize=(12, 8))\n",
    "plot_acf(hydro_df['DIFF_GEN'].dropna(), ax=ax[0], lags=40)\n",
    "plot_pacf(hydro_df['DIFF_GEN'].dropna(), ax=ax[1], lags=40)\n",
    "ax[0].set_title('ACF of Differenced Series')\n",
    "ax[1].set_title('PACF of Differenced Series')\n",
    "plt.tight_layout()\n",
    "plt.show()"
   ]
  },
  {
   "cell_type": "markdown",
   "id": "c910a562",
   "metadata": {},
   "source": [
    "## SARIMA Model Fitting"
   ]
  },
  {
   "cell_type": "code",
   "execution_count": null,
   "id": "496317f3",
   "metadata": {},
   "outputs": [],
   "source": [
    "# Fit SARIMA model based on ACF/PACF inspection or AIC minimization\n",
    "model = SARIMAX(hydro_df['GENERATION'], \n",
    "                order=(1,1,1), \n",
    "                seasonal_order=(1,1,1,7), \n",
    "                enforce_stationarity=False, \n",
    "                enforce_invertibility=False)\n",
    "\n",
    "results = model.fit(disp=False)\n",
    "print(results.summary())"
   ]
  },
  {
   "cell_type": "markdown",
   "id": "4c4f3a57",
   "metadata": {},
   "source": [
    "## Model Diagnostics"
   ]
  },
  {
   "cell_type": "code",
   "execution_count": null,
   "id": "e75b0271",
   "metadata": {},
   "outputs": [],
   "source": [
    "results.plot_diagnostics(figsize=(12,8))\n",
    "plt.tight_layout()\n",
    "plt.show()"
   ]
  },
  {
   "cell_type": "markdown",
   "id": "4ea51152",
   "metadata": {},
   "source": [
    "## Forecasting Future Hydro Generation"
   ]
  },
  {
   "cell_type": "code",
   "execution_count": null,
   "id": "1fd411f7",
   "metadata": {},
   "outputs": [],
   "source": [
    "# Forecast the next 30 days\n",
    "forecast = results.get_forecast(steps=30)\n",
    "pred_ci = forecast.conf_int()\n",
    "\n",
    "# Plot\n",
    "ax = hydro_df['GENERATION'].plot(label='Observed', figsize=(12, 6))\n",
    "forecast.predicted_mean.plot(ax=ax, label='Forecast')\n",
    "ax.fill_between(pred_ci.index,\n",
    "                pred_ci.iloc[:, 0],\n",
    "                pred_ci.iloc[:, 1], color='lightblue', alpha=0.4)\n",
    "plt.title('Hydro Energy Forecast (Next 30 Days)')\n",
    "plt.legend()\n",
    "plt.show()"
   ]
  },
  {
   "cell_type": "markdown",
   "id": "9470b444",
   "metadata": {},
   "source": [
    "## Forecast Evaluation"
   ]
  },
  {
   "cell_type": "code",
   "execution_count": null,
   "id": "e2945692",
   "metadata": {},
   "outputs": [],
   "source": [
    "# Use train-test split for actual evaluation\n",
    "train = hydro_df['GENERATION'][:-30]\n",
    "test = hydro_df['GENERATION'][-30:]\n",
    "\n",
    "model_eval = SARIMAX(train, order=(1,1,1), seasonal_order=(1,1,1,7), \n",
    "                     enforce_stationarity=False, enforce_invertibility=False)\n",
    "results_eval = model_eval.fit(disp=False)\n",
    "\n",
    "forecast_eval = results_eval.get_forecast(steps=30)\n",
    "pred = forecast_eval.predicted_mean\n",
    "\n",
    "# Metrics\n",
    "mae = mean_absolute_error(test, pred)\n",
    "rmse = np.sqrt(mean_squared_error(test, pred))\n",
    "mape = np.mean(np.abs((test - pred) / test)) * 100\n",
    "\n",
    "print(f'MAE: {mae:.2f}')\n",
    "print(f'RMSE: {rmse:.2f}')\n",
    "print(f'MAPE: {mape:.2f}%')"
   ]
  },
  {
   "cell_type": "markdown",
   "id": "75e22b13",
   "metadata": {},
   "source": [
    "### 🔍 Interpretation (RQ1)\n",
    "The SARIMA model provides a baseline for forecasting hydro energy generation. The performance metrics — MAE, RMSE, and MAPE — will be compared against the ANN model to evaluate forecasting accuracy (RQ1).\n",
    "\n",
    "A future extension will involve SARIMAX using lagged climate features to assess RQ2."
   ]
  },
  {
   "cell_type": "markdown",
   "id": "b9a0ddbb",
   "metadata": {},
   "source": [
    "## SARIMAX Model: Incorporating Climate Features (RQ2)\n",
    "To explore **RQ2**, we now enhance the SARIMA model by incorporating exogenous meteorological variables (climate features) into a **SARIMAX** model. These features represent daily averaged or summed climate conditions that potentially impact hydro generation."
   ]
  },
  {
   "cell_type": "code",
   "execution_count": null,
   "id": "4998e9b6",
   "metadata": {},
   "outputs": [],
   "source": [
    "# Load daily climate features\n",
    "t2m = pd.read_csv('Hydro_Factor_Daily_T2M.csv', parse_dates=['DATE']).set_index('DATE')\n",
    "ps = pd.read_csv('Hydro_Factor_Daily_PS.csv', parse_dates=['DATE']).set_index('DATE')\n",
    "ws = pd.read_csv('Hydro_Factor_Daily_WS50M.csv', parse_dates=['DATE']).set_index('DATE')\n",
    "rh2m = pd.read_csv('Hydro_Factor_Daily_RH2M.csv', parse_dates=['DATE']).set_index('DATE')\n",
    "precip = pd.read_csv('Hydro_Factor_Daily_PRECTOTCORR.csv', parse_dates=['DATE']).set_index('DATE')\n",
    "evland = pd.read_csv('Hydro_Factor_Daily_EVLAND.csv', parse_dates=['DATE']).set_index('DATE')\n",
    "\n",
    "# Merge all into a single DataFrame with the hydro data\n",
    "climate_df = hydro_df[['GENERATION']].copy()\n",
    "climate_df['T2M'] = t2m['T2M']\n",
    "climate_df['PS'] = ps['PS']\n",
    "climate_df['WS50M'] = ws['WS50M']\n",
    "climate_df['RH2M'] = rh2m['RH2M']\n",
    "climate_df['PRECTOTCORR'] = precip['PRECTOTCORR']\n",
    "climate_df['EVLAND'] = evland['EVLAND']\n",
    "\n",
    "# Drop any NA values introduced by merging\n",
    "climate_df = climate_df.dropna()\n",
    "climate_df.head()"
   ]
  },
  {
   "cell_type": "markdown",
   "id": "5aaedf99",
   "metadata": {},
   "source": [
    "## SARIMAX Model Fitting with Exogenous Climate Features"
   ]
  },
  {
   "cell_type": "code",
   "execution_count": null,
   "id": "aaf9840a",
   "metadata": {},
   "outputs": [],
   "source": [
    "# Train-test split\n",
    "train_clim = climate_df.iloc[:-30]\n",
    "test_clim = climate_df.iloc[-30:]\n",
    "\n",
    "# Define exogenous variables\n",
    "exog_train = train_clim.drop(columns='GENERATION')\n",
    "exog_test = test_clim.drop(columns='GENERATION')\n",
    "\n",
    "# SARIMAX model with exogenous climate variables\n",
    "sarimax_model = SARIMAX(train_clim['GENERATION'], \n",
    "                        exog=exog_train,\n",
    "                        order=(1,1,1), \n",
    "                        seasonal_order=(1,1,1,7), \n",
    "                        enforce_stationarity=False, \n",
    "                        enforce_invertibility=False)\n",
    "\n",
    "sarimax_result = sarimax_model.fit(disp=False)\n",
    "print(sarimax_result.summary())"
   ]
  },
  {
   "cell_type": "markdown",
   "id": "2cba491a",
   "metadata": {},
   "source": [
    "## SARIMAX Forecast and Evaluation"
   ]
  },
  {
   "cell_type": "code",
   "execution_count": null,
   "id": "8cf729e9",
   "metadata": {},
   "outputs": [],
   "source": [
    "# Forecast\n",
    "sarimax_forecast = sarimax_result.get_forecast(steps=30, exog=exog_test)\n",
    "sarimax_pred = sarimax_forecast.predicted_mean\n",
    "\n",
    "# Evaluation Metrics\n",
    "mae_sx = mean_absolute_error(test_clim['GENERATION'], sarimax_pred)\n",
    "rmse_sx = np.sqrt(mean_squared_error(test_clim['GENERATION'], sarimax_pred))\n",
    "mape_sx = np.mean(np.abs((test_clim['GENERATION'] - sarimax_pred) / test_clim['GENERATION'])) * 100\n",
    "\n",
    "print(f'SARIMAX MAE: {mae_sx:.2f}')\n",
    "print(f'SARIMAX RMSE: {rmse_sx:.2f}')\n",
    "print(f'SARIMAX MAPE: {mape_sx:.2f}%')"
   ]
  },
  {
   "cell_type": "markdown",
   "id": "af9e3908",
   "metadata": {},
   "source": [
    "### 🔍 Interpretation (RQ2)\n",
    "The SARIMAX model integrates climate features (T2M, PS, WS50M, RH2M, PRECTOTCORR, EVLAND) to forecast hydro energy. \n",
    "The comparison of SARIMAX with SARIMA highlights the contribution of climate variables in improving predictive performance. \n",
    "\n",
    "Lower values of **MAPE**, **MAE**, and **RMSE** indicate better alignment with observed data, supporting the hypothesis that meteorological drivers enhance forecasting accuracy (RQ2)."
   ]
  },
  {
   "cell_type": "markdown",
   "id": "129e9a8d",
   "metadata": {},
   "source": [
    "## 📆 Weekly Aggregation of Hydro Generation and Climate Data\n",
    "For both RQ1 and RQ2, we now aggregate all data to a **weekly** level. This reduces daily noise and aligns with common operational planning cycles."
   ]
  },
  {
   "cell_type": "code",
   "execution_count": null,
   "id": "9321d111",
   "metadata": {},
   "outputs": [],
   "source": [
    "# Re-aggregate hydro generation data to weekly frequency\n",
    "hydro_weekly = hydro_df[['GENERATION']].resample('W').sum()\n",
    "hydro_weekly.plot(title='Weekly Hydro Energy Generation', figsize=(12,4))\n",
    "plt.ylabel('MWh/week')\n",
    "plt.show()"
   ]
  },
  {
   "cell_type": "code",
   "execution_count": null,
   "id": "9febb0a9",
   "metadata": {},
   "outputs": [],
   "source": [
    "# Weekly mean for average-based variables\n",
    "t2m_weekly = t2m.resample('W').mean()\n",
    "ps_weekly = ps.resample('W').mean()\n",
    "ws_weekly = ws.resample('W').mean()\n",
    "rh2m_weekly = rh2m.resample('W').mean()\n",
    "\n",
    "# Weekly sum for precipitation and evapotranspiration\n",
    "precip_weekly = precip.resample('W').sum()\n",
    "evland_weekly = evland.resample('W').sum()\n",
    "\n",
    "# Merge all climate features with weekly hydro\n",
    "weekly_climate = hydro_weekly.copy()\n",
    "weekly_climate['T2M'] = t2m_weekly['T2M']\n",
    "weekly_climate['PS'] = ps_weekly['PS']\n",
    "weekly_climate['WS50M'] = ws_weekly['WS50M']\n",
    "weekly_climate['RH2M'] = rh2m_weekly['RH2M']\n",
    "weekly_climate['PRECTOTCORR'] = precip_weekly['PRECTOTCORR']\n",
    "weekly_climate['EVLAND'] = evland_weekly['EVLAND']\n",
    "\n",
    "# Drop NA values\n",
    "weekly_climate = weekly_climate.dropna()\n",
    "weekly_climate.head()"
   ]
  },
  {
   "cell_type": "markdown",
   "id": "9fb40b7e",
   "metadata": {},
   "source": [
    "## 📊 RQ1: SARIMA Model on Weekly Hydro Generation (No Exogenous Variables)\n",
    "This serves as the baseline univariate time series model for evaluating forecasting accuracy."
   ]
  },
  {
   "cell_type": "code",
   "execution_count": null,
   "id": "47e0bcdf",
   "metadata": {},
   "outputs": [],
   "source": [
    "# Train-test split\n",
    "train_wk = weekly_climate['GENERATION'][:-10]\n",
    "test_wk = weekly_climate['GENERATION'][-10:]\n",
    "\n",
    "# SARIMA (weekly data, no exogenous vars)\n",
    "sarima_model_wk = SARIMAX(train_wk, order=(1,1,1), seasonal_order=(1,1,1,52), \n",
    "                          enforce_stationarity=False, enforce_invertibility=False)\n",
    "sarima_result_wk = sarima_model_wk.fit(disp=False)\n",
    "\n",
    "# Forecast\n",
    "sarima_forecast_wk = sarima_result_wk.get_forecast(steps=10)\n",
    "sarima_pred_wk = sarima_forecast_wk.predicted_mean\n",
    "\n",
    "# Evaluation\n",
    "mae_wk = mean_absolute_error(test_wk, sarima_pred_wk)\n",
    "rmse_wk = np.sqrt(mean_squared_error(test_wk, sarima_pred_wk))\n",
    "mape_wk = np.mean(np.abs((test_wk - sarima_pred_wk) / test_wk)) * 100\n",
    "\n",
    "print(f'SARIMA (Weekly) MAE: {mae_wk:.2f}')\n",
    "print(f'SARIMA (Weekly) RMSE: {rmse_wk:.2f}')\n",
    "print(f'SARIMA (Weekly) MAPE: {mape_wk:.2f}%')"
   ]
  },
  {
   "cell_type": "markdown",
   "id": "5239c266",
   "metadata": {},
   "source": [
    "## 🌦️ RQ2: SARIMAX Model with Weekly Climate Features\n",
    "This evaluates whether integrating weekly climate variables improves forecasting performance."
   ]
  },
  {
   "cell_type": "code",
   "execution_count": null,
   "id": "4082c14e",
   "metadata": {},
   "outputs": [],
   "source": [
    "# Weekly SARIMAX with climate features\n",
    "exog_train_wk = weekly_climate.drop(columns='GENERATION')[:-10]\n",
    "exog_test_wk = weekly_climate.drop(columns='GENERATION')[-10:]\n",
    "\n",
    "sarimax_model_wk = SARIMAX(train_wk, exog=exog_train_wk, \n",
    "                           order=(1,1,1), seasonal_order=(1,1,1,52), \n",
    "                           enforce_stationarity=False, enforce_invertibility=False)\n",
    "sarimax_result_wk = sarimax_model_wk.fit(disp=False)\n",
    "\n",
    "# Forecast\n",
    "sarimax_forecast_wk = sarimax_result_wk.get_forecast(steps=10, exog=exog_test_wk)\n",
    "sarimax_pred_wk = sarimax_forecast_wk.predicted_mean\n",
    "\n",
    "# Evaluation\n",
    "mae_sx_wk = mean_absolute_error(test_wk, sarimax_pred_wk)\n",
    "rmse_sx_wk = np.sqrt(mean_squared_error(test_wk, sarimax_pred_wk))\n",
    "mape_sx_wk = np.mean(np.abs((test_wk - sarimax_pred_wk) / test_wk)) * 100\n",
    "\n",
    "print(f'SARIMAX (Weekly) MAE: {mae_sx_wk:.2f}')\n",
    "print(f'SARIMAX (Weekly) RMSE: {rmse_sx_wk:.2f}')\n",
    "print(f'SARIMAX (Weekly) MAPE: {mape_sx_wk:.2f}%')"
   ]
  },
  {
   "cell_type": "markdown",
   "id": "c3526b44",
   "metadata": {},
   "source": [
    "### 📌 Summary: Weekly SARIMA vs SARIMAX\n",
    "By working with **weekly-aggregated data**, we address both research questions more robustly:\n",
    "- **RQ1**: SARIMA captures autoregressive patterns but lacks meteorological context.\n",
    "- **RQ2**: SARIMAX improves forecasting accuracy by integrating exogenous climate variables.\n",
    "\n",
    "These results will be compared with ANN-based forecasts in the next modeling phase."
   ]
  }
 ],
 "metadata": {},
 "nbformat": 4,
 "nbformat_minor": 5
}
