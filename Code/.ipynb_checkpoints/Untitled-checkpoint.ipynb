{
 "cells": [
  {
   "cell_type": "code",
   "execution_count": 1,
   "id": "888f25c2-d249-4a8b-a78a-3375eb126101",
   "metadata": {},
   "outputs": [],
   "source": [
    "#pip install pandas numpy matplotlib seaborn statsmodels scikit-learn"
   ]
  },
  {
   "cell_type": "code",
   "execution_count": null,
   "id": "7712e78e-0ab2-4d23-a823-655b0c91fe33",
   "metadata": {},
   "outputs": [],
   "source": [
    "import pandas as pd\n",
    "import numpy as np\n",
    "import matplotlib.pyplot as plt\n",
    "import seaborn as sns\n",
    "from statsmodels.tsa.stattools import adfuller\n",
    "from statsmodels.graphics.tsaplots import plot_acf, plot_pacf\n",
    "from statsmodels.tsa.statespace.sarimax import SARIMAX\n",
    "from sklearn.metrics import mean_absolute_error, mean_squared_error\n",
    "import warnings"
   ]
  },
  {
   "cell_type": "code",
   "execution_count": null,
   "id": "3210a543-a035-4caf-b98e-f9e12741161b",
   "metadata": {},
   "outputs": [],
   "source": [
    "# Load Wind energy data\n",
    "wind_energy = pd.read_csv(\"wind_data.csv\")  \n",
    "wind_energy = wind_energy[wind_energy[\"Fuel_Code\"] == \"Wind\"] \n",
    "wind_energy = wind_energy[[\"Trading_date\", \"Total_TP\"]]\n",
    "wind_energy[\"Trading_date\"] = pd.to_datetime(wind_energy[\"Trading_date\"])\n",
    "wind_energy.set_index(\"Trading_date\", inplace=True)\n"
   ]
  },
  {
   "cell_type": "code",
   "execution_count": null,
   "id": "c447c715-d32f-4ced-8668-46c4960c4145",
   "metadata": {},
   "outputs": [],
   "source": [
    "# Load the C.F data  (Wind_Factor_Daily_AVG_PS)\n",
    "wind_factor = pd.read_csv(\"Wind_Factor_Daily_AVG_PS.csv\")  \n",
    "wind_factor[\"DATE\"] = pd.to_datetime(wind_factor[\"DATE\"]) \n",
    "wind_factor.set_index(\"DATE\", inplace=True)"
   ]
  },
  {
   "cell_type": "code",
   "execution_count": null,
   "id": "66400af7-322f-451c-9426-52cbf78e38c4",
   "metadata": {},
   "outputs": [],
   "source": []
  }
 ],
 "metadata": {
  "kernelspec": {
   "display_name": "Python [conda env:base] *",
   "language": "python",
   "name": "conda-base-py"
  },
  "language_info": {
   "codemirror_mode": {
    "name": "ipython",
    "version": 3
   },
   "file_extension": ".py",
   "mimetype": "text/x-python",
   "name": "python",
   "nbconvert_exporter": "python",
   "pygments_lexer": "ipython3",
   "version": "3.12.7"
  }
 },
 "nbformat": 4,
 "nbformat_minor": 5
}
