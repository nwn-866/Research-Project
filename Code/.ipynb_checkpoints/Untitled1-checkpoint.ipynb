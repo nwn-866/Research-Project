{
 "cells": [
  {
   "cell_type": "code",
   "execution_count": null,
   "id": "9918e214-50e1-4b7f-aca7-399df19a69e0",
   "metadata": {},
   "outputs": [],
   "source": [
    "# Filter only for Hydro and Wind sources (as per the image)\n",
    "filtered_df = df[df['Fuel_Code'].isin(['Hydro', 'Wind'])]\n",
    "\n",
    "# Group by Island and Fuel_Code to count the number of plants\n",
    "plant_counts_filtered = filtered_df.groupby(['Island', 'Fuel_Code']).size().reset_index(name='No of Plants')\n",
    "\n",
    "# Pivot and add totals\n",
    "summary_filtered = plant_counts_filtered.pivot_table(index='Island', columns='Fuel_Code', values='No of Plants', fill_value=0)\n",
    "summary_filtered['Total'] = summary_filtered.sum(axis=1)\n",
    "summary_filtered.loc['Grand Total'] = summary_filtered.sum(axis=0)\n",
    "\n",
    "# Reset index and reshape for tabular view\n",
    "summary_filtered_reset = summary_filtered.reset_index()\n",
    "summary_reshaped_filtered = pd.melt(summary_filtered_reset, id_vars='Island', var_name='Source', value_name='No of Plants')\n",
    "summary_reshaped_filtered = summary_reshaped_filtered.sort_values(by=['Island', 'Source'], ascending=[True, True])\n",
    "\n",
    "tools.display_dataframe_to_user(name=\"Hydro and Wind Plants Summary\", dataframe=summary_reshaped_filtered)\n"
   ]
  },
  {
   "cell_type": "code",
   "execution_count": 1,
   "id": "0646325a-9964-483d-a0c4-b2ea3f7c91d7",
   "metadata": {},
   "outputs": [],
   "source": [
    "import pandas as pd\n",
    "import numpy as np"
   ]
  },
  {
   "cell_type": "code",
   "execution_count": null,
   "id": "dc0f007b-0adb-4b46-bfc1-2a9d30555314",
   "metadata": {},
   "outputs": [],
   "source": [
    "# 1. Load & prepare data\n",
    "df_wind = pd.read_csv('EDA_Wind_all_nsp.csv')"
   ]
  }
 ],
 "metadata": {
  "kernelspec": {
   "display_name": "Python [conda env:base] *",
   "language": "python",
   "name": "conda-base-py"
  },
  "language_info": {
   "codemirror_mode": {
    "name": "ipython",
    "version": 3
   },
   "file_extension": ".py",
   "mimetype": "text/x-python",
   "name": "python",
   "nbconvert_exporter": "python",
   "pygments_lexer": "ipython3",
   "version": "3.12.7"
  }
 },
 "nbformat": 4,
 "nbformat_minor": 5
}
