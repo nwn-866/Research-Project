{
 "cells": [
  {
   "cell_type": "code",
   "execution_count": 1,
   "id": "16ab33fb-2c27-4c6a-b277-6224528c1bdf",
   "metadata": {},
   "outputs": [],
   "source": [
    "import os\n",
    "import pandas as pd"
   ]
  },
  {
   "cell_type": "code",
   "execution_count": 3,
   "id": "c2dabf43-67e7-4044-ae91-38577d518066",
   "metadata": {},
   "outputs": [],
   "source": [
    "# Define the input_folder where the CSV files are stored\n",
    "input_folder = r\"C:\\Users\\nwn86\\ResearchProject_singlensp\\Staging\\Energy\"  # Change this to your actual path"
   ]
  },
  {
   "cell_type": "code",
   "execution_count": 5,
   "id": "895fab8e-a506-4f61-a403-285a4ab8d92d",
   "metadata": {},
   "outputs": [
    {
     "data": {
      "text/plain": [
       "'C:\\\\Users\\\\nwn86\\\\ResearchProject_singlensp\\\\Staging\\\\Energy'"
      ]
     },
     "execution_count": 5,
     "metadata": {},
     "output_type": "execute_result"
    }
   ],
   "source": [
    "input_folder"
   ]
  },
  {
   "cell_type": "code",
   "execution_count": 7,
   "id": "033d29dd-1a71-48bc-ad5a-c16d10a62cc8",
   "metadata": {},
   "outputs": [],
   "source": [
    "# Initialize an empty list to store individual DataFrames\n",
    "dfs = []\n",
    "\n",
    "# Loop through all CSV files in the input_folder\n",
    "for filename in os.listdir(input_folder):\n",
    "    if filename.endswith(\".csv\"):\n",
    "        file_path = os.path.join(input_folder, filename)\n",
    "        df = pd.read_csv(file_path, parse_dates=[\"Trading_date\"])\n",
    "        dfs.append(df)\n",
    "\n",
    "# Concatenate all DataFrames into a single DataFrame\n",
    "merged_df = pd.concat(dfs, ignore_index=True)\n",
    "\n",
    "# Ensure the data is sorted by Trading_date\n",
    "merged_df.sort_values(by=\"Trading_date\", inplace=True)\n",
    "\n"
   ]
  },
  {
   "cell_type": "code",
   "execution_count": 9,
   "id": "46f31f5f-609c-4d87-8a8b-2830cd86a55a",
   "metadata": {},
   "outputs": [
    {
     "data": {
      "text/html": [
       "<div>\n",
       "<style scoped>\n",
       "    .dataframe tbody tr th:only-of-type {\n",
       "        vertical-align: middle;\n",
       "    }\n",
       "\n",
       "    .dataframe tbody tr th {\n",
       "        vertical-align: top;\n",
       "    }\n",
       "\n",
       "    .dataframe thead th {\n",
       "        text-align: right;\n",
       "    }\n",
       "</style>\n",
       "<table border=\"1\" class=\"dataframe\">\n",
       "  <thead>\n",
       "    <tr style=\"text-align: right;\">\n",
       "      <th></th>\n",
       "      <th>Fuel_Code</th>\n",
       "      <th>POC_Code</th>\n",
       "      <th>Trading_date</th>\n",
       "      <th>Total_TP</th>\n",
       "    </tr>\n",
       "  </thead>\n",
       "  <tbody>\n",
       "    <tr>\n",
       "      <th>0</th>\n",
       "      <td>Hydro</td>\n",
       "      <td>ANI0111</td>\n",
       "      <td>2000-01-01</td>\n",
       "      <td>352663.0</td>\n",
       "    </tr>\n",
       "    <tr>\n",
       "      <th>217</th>\n",
       "      <td>Hydro</td>\n",
       "      <td>BWK1101</td>\n",
       "      <td>2000-01-01</td>\n",
       "      <td>63952.0</td>\n",
       "    </tr>\n",
       "    <tr>\n",
       "      <th>372</th>\n",
       "      <td>Hydro</td>\n",
       "      <td>KPO1101</td>\n",
       "      <td>2000-01-01</td>\n",
       "      <td>940750.0</td>\n",
       "    </tr>\n",
       "    <tr>\n",
       "      <th>403</th>\n",
       "      <td>Hydro</td>\n",
       "      <td>KUM0111</td>\n",
       "      <td>2000-01-01</td>\n",
       "      <td>87503.0</td>\n",
       "    </tr>\n",
       "    <tr>\n",
       "      <th>899</th>\n",
       "      <td>Hydro</td>\n",
       "      <td>TUI1101</td>\n",
       "      <td>2000-01-01</td>\n",
       "      <td>942570.0</td>\n",
       "    </tr>\n",
       "    <tr>\n",
       "      <th>...</th>\n",
       "      <td>...</td>\n",
       "      <td>...</td>\n",
       "      <td>...</td>\n",
       "      <td>...</td>\n",
       "    </tr>\n",
       "    <tr>\n",
       "      <th>377633</th>\n",
       "      <td>Hydro</td>\n",
       "      <td>TKB2201</td>\n",
       "      <td>2025-01-31</td>\n",
       "      <td>2317178.0</td>\n",
       "    </tr>\n",
       "    <tr>\n",
       "      <th>377013</th>\n",
       "      <td>Hydro</td>\n",
       "      <td>CYD2201</td>\n",
       "      <td>2025-01-31</td>\n",
       "      <td>3547678.0</td>\n",
       "    </tr>\n",
       "    <tr>\n",
       "      <th>377602</th>\n",
       "      <td>Hydro</td>\n",
       "      <td>TKA0111</td>\n",
       "      <td>2025-01-31</td>\n",
       "      <td>460917.0</td>\n",
       "    </tr>\n",
       "    <tr>\n",
       "      <th>377819</th>\n",
       "      <td>Hydro</td>\n",
       "      <td>WTK0111</td>\n",
       "      <td>2025-01-31</td>\n",
       "      <td>1610301.0</td>\n",
       "    </tr>\n",
       "    <tr>\n",
       "      <th>378222</th>\n",
       "      <td>Wind</td>\n",
       "      <td>WWD1103</td>\n",
       "      <td>2025-01-31</td>\n",
       "      <td>544447.0</td>\n",
       "    </tr>\n",
       "  </tbody>\n",
       "</table>\n",
       "<p>378223 rows × 4 columns</p>\n",
       "</div>"
      ],
      "text/plain": [
       "       Fuel_Code POC_Code Trading_date   Total_TP\n",
       "0          Hydro  ANI0111   2000-01-01   352663.0\n",
       "217        Hydro  BWK1101   2000-01-01    63952.0\n",
       "372        Hydro  KPO1101   2000-01-01   940750.0\n",
       "403        Hydro  KUM0111   2000-01-01    87503.0\n",
       "899        Hydro  TUI1101   2000-01-01   942570.0\n",
       "...          ...      ...          ...        ...\n",
       "377633     Hydro  TKB2201   2025-01-31  2317178.0\n",
       "377013     Hydro  CYD2201   2025-01-31  3547678.0\n",
       "377602     Hydro  TKA0111   2025-01-31   460917.0\n",
       "377819     Hydro  WTK0111   2025-01-31  1610301.0\n",
       "378222      Wind  WWD1103   2025-01-31   544447.0\n",
       "\n",
       "[378223 rows x 4 columns]"
      ]
     },
     "execution_count": 9,
     "metadata": {},
     "output_type": "execute_result"
    }
   ],
   "source": [
    "merged_df"
   ]
  },
  {
   "cell_type": "code",
   "execution_count": 11,
   "id": "535907c0-7086-4d87-85ef-4e9eaf2cdf93",
   "metadata": {},
   "outputs": [],
   "source": [
    "# # Filter data within the specified date range\n",
    "# start_date = \"2015-01-01\"\n",
    "# end_date = \"2024-12-31\"\n",
    "# merged_df = merged_df[(merged_df[\"Trading_date\"] >= start_date) & (merged_df[\"Trading_date\"] <= end_date)]\n",
    "\n"
   ]
  },
  {
   "cell_type": "code",
   "execution_count": 13,
   "id": "7ff12294-dd8a-4b04-9aa6-d661b846b4cb",
   "metadata": {},
   "outputs": [],
   "source": [
    "merged_df = merged_df.rename(columns={'Trading_date': 'DATE'})"
   ]
  },
  {
   "cell_type": "code",
   "execution_count": 15,
   "id": "54cf767e-af9b-4caa-8043-9c0441ab3c21",
   "metadata": {},
   "outputs": [],
   "source": [
    "merged_df['Total_TP'] = merged_df['Total_TP'].round(4)"
   ]
  },
  {
   "cell_type": "code",
   "execution_count": 17,
   "id": "993d2c9e-d93a-41f2-85c2-83ab252e7d40",
   "metadata": {},
   "outputs": [
    {
     "data": {
      "text/html": [
       "<div>\n",
       "<style scoped>\n",
       "    .dataframe tbody tr th:only-of-type {\n",
       "        vertical-align: middle;\n",
       "    }\n",
       "\n",
       "    .dataframe tbody tr th {\n",
       "        vertical-align: top;\n",
       "    }\n",
       "\n",
       "    .dataframe thead th {\n",
       "        text-align: right;\n",
       "    }\n",
       "</style>\n",
       "<table border=\"1\" class=\"dataframe\">\n",
       "  <thead>\n",
       "    <tr style=\"text-align: right;\">\n",
       "      <th></th>\n",
       "      <th>Fuel_Code</th>\n",
       "      <th>POC_Code</th>\n",
       "      <th>DATE</th>\n",
       "      <th>Total_TP</th>\n",
       "    </tr>\n",
       "  </thead>\n",
       "  <tbody>\n",
       "    <tr>\n",
       "      <th>0</th>\n",
       "      <td>Hydro</td>\n",
       "      <td>ANI0111</td>\n",
       "      <td>2000-01-01</td>\n",
       "      <td>352663.0</td>\n",
       "    </tr>\n",
       "    <tr>\n",
       "      <th>217</th>\n",
       "      <td>Hydro</td>\n",
       "      <td>BWK1101</td>\n",
       "      <td>2000-01-01</td>\n",
       "      <td>63952.0</td>\n",
       "    </tr>\n",
       "    <tr>\n",
       "      <th>372</th>\n",
       "      <td>Hydro</td>\n",
       "      <td>KPO1101</td>\n",
       "      <td>2000-01-01</td>\n",
       "      <td>940750.0</td>\n",
       "    </tr>\n",
       "    <tr>\n",
       "      <th>403</th>\n",
       "      <td>Hydro</td>\n",
       "      <td>KUM0111</td>\n",
       "      <td>2000-01-01</td>\n",
       "      <td>87503.0</td>\n",
       "    </tr>\n",
       "    <tr>\n",
       "      <th>899</th>\n",
       "      <td>Hydro</td>\n",
       "      <td>TUI1101</td>\n",
       "      <td>2000-01-01</td>\n",
       "      <td>942570.0</td>\n",
       "    </tr>\n",
       "    <tr>\n",
       "      <th>...</th>\n",
       "      <td>...</td>\n",
       "      <td>...</td>\n",
       "      <td>...</td>\n",
       "      <td>...</td>\n",
       "    </tr>\n",
       "    <tr>\n",
       "      <th>377633</th>\n",
       "      <td>Hydro</td>\n",
       "      <td>TKB2201</td>\n",
       "      <td>2025-01-31</td>\n",
       "      <td>2317178.0</td>\n",
       "    </tr>\n",
       "    <tr>\n",
       "      <th>377013</th>\n",
       "      <td>Hydro</td>\n",
       "      <td>CYD2201</td>\n",
       "      <td>2025-01-31</td>\n",
       "      <td>3547678.0</td>\n",
       "    </tr>\n",
       "    <tr>\n",
       "      <th>377602</th>\n",
       "      <td>Hydro</td>\n",
       "      <td>TKA0111</td>\n",
       "      <td>2025-01-31</td>\n",
       "      <td>460917.0</td>\n",
       "    </tr>\n",
       "    <tr>\n",
       "      <th>377819</th>\n",
       "      <td>Hydro</td>\n",
       "      <td>WTK0111</td>\n",
       "      <td>2025-01-31</td>\n",
       "      <td>1610301.0</td>\n",
       "    </tr>\n",
       "    <tr>\n",
       "      <th>378222</th>\n",
       "      <td>Wind</td>\n",
       "      <td>WWD1103</td>\n",
       "      <td>2025-01-31</td>\n",
       "      <td>544447.0</td>\n",
       "    </tr>\n",
       "  </tbody>\n",
       "</table>\n",
       "<p>378223 rows × 4 columns</p>\n",
       "</div>"
      ],
      "text/plain": [
       "       Fuel_Code POC_Code       DATE   Total_TP\n",
       "0          Hydro  ANI0111 2000-01-01   352663.0\n",
       "217        Hydro  BWK1101 2000-01-01    63952.0\n",
       "372        Hydro  KPO1101 2000-01-01   940750.0\n",
       "403        Hydro  KUM0111 2000-01-01    87503.0\n",
       "899        Hydro  TUI1101 2000-01-01   942570.0\n",
       "...          ...      ...        ...        ...\n",
       "377633     Hydro  TKB2201 2025-01-31  2317178.0\n",
       "377013     Hydro  CYD2201 2025-01-31  3547678.0\n",
       "377602     Hydro  TKA0111 2025-01-31   460917.0\n",
       "377819     Hydro  WTK0111 2025-01-31  1610301.0\n",
       "378222      Wind  WWD1103 2025-01-31   544447.0\n",
       "\n",
       "[378223 rows x 4 columns]"
      ]
     },
     "execution_count": 17,
     "metadata": {},
     "output_type": "execute_result"
    }
   ],
   "source": [
    "merged_df"
   ]
  },
  {
   "cell_type": "code",
   "execution_count": 19,
   "id": "8a891b39-09bf-423b-923f-d430e5ecde1f",
   "metadata": {},
   "outputs": [
    {
     "name": "stdout",
     "output_type": "stream",
     "text": [
      "Merged CSV file saved as C:\\Users\\nwn86\\ResearchProject_singlensp\\Processed\\merged_data.csv\n"
     ]
    }
   ],
   "source": [
    "_dir = r\"C:\\Users\\nwn86\\ResearchProject_singlensp\\Processed\"\n",
    "# Save the merged DataFrame to a new CSV file\n",
    "filename = \"merged_data.csv\"\n",
    "\n",
    "output_file = os.path.join(_dir, filename)\n",
    "\n",
    "merged_df.to_csv(output_file, index=False)\n",
    "\n",
    "print(f\"Merged CSV file saved as {output_file}\")"
   ]
  },
  {
   "cell_type": "code",
   "execution_count": 21,
   "id": "56d9a14f-5234-42a4-8258-865b426291af",
   "metadata": {},
   "outputs": [],
   "source": [
    "# Load the dataset\n",
    "#df = pd.read_csv(\"merged_data.csv\")"
   ]
  },
  {
   "cell_type": "code",
   "execution_count": 23,
   "id": "86842abf-dc5e-4a3f-9751-14303b686ee7",
   "metadata": {},
   "outputs": [],
   "source": [
    "# Filter data for Hydro and Wind\n",
    "hydro_df = merged_df[merged_df[\"Fuel_Code\"] == \"Hydro\"]\n",
    "wind_df = merged_df[merged_df[\"Fuel_Code\"] == \"Wind\"]"
   ]
  },
  {
   "cell_type": "code",
   "execution_count": 27,
   "id": "a5e6af1f-a0d0-4375-88ad-eb9f8ef09b24",
   "metadata": {},
   "outputs": [],
   "source": [
    "hydro_df = hydro_df.groupby(['Fuel_Code','POC_Code', 'DATE'], as_index=False).sum()\n"
   ]
  },
  {
   "cell_type": "code",
   "execution_count": 29,
   "id": "8e12f557-a0fa-4736-bcbe-ec7dd417c6a4",
   "metadata": {},
   "outputs": [],
   "source": [
    "wind_df = wind_df.groupby(['Fuel_Code','POC_Code', 'DATE'], as_index=False).sum()"
   ]
  },
  {
   "cell_type": "code",
   "execution_count": 31,
   "id": "f95887dc-afc4-4ea8-8eb4-7a6a0c29ccfb",
   "metadata": {},
   "outputs": [],
   "source": [
    "hydro_data = \"hydro_data.csv\"\n",
    "output_hydro_file = os.path.join(_dir, hydro_data)"
   ]
  },
  {
   "cell_type": "code",
   "execution_count": 33,
   "id": "8e6fa42e-7470-4117-ad65-6f6567866105",
   "metadata": {},
   "outputs": [],
   "source": [
    "wind_data = \"wind_data.csv\"\n",
    "output_wind_file = os.path.join(_dir, wind_data)"
   ]
  },
  {
   "cell_type": "code",
   "execution_count": 35,
   "id": "a7b8270c-994f-49de-abe8-4d05ffd31483",
   "metadata": {},
   "outputs": [
    {
     "name": "stdout",
     "output_type": "stream",
     "text": [
      "Hydro and Wind data have been successfully saved to separate CSV files.\n"
     ]
    }
   ],
   "source": [
    "# Save to separate CSV files\n",
    "hydro_df.to_csv(output_hydro_file, index=False)\n",
    "wind_df.to_csv(output_wind_file, index=False)\n",
    "\n",
    "print(\"Hydro and Wind data have been successfully saved to separate CSV files.\")"
   ]
  },
  {
   "cell_type": "code",
   "execution_count": null,
   "id": "b049c95a-d486-4978-92be-612a9cb14a83",
   "metadata": {},
   "outputs": [],
   "source": []
  }
 ],
 "metadata": {
  "kernelspec": {
   "display_name": "Python [conda env:base] *",
   "language": "python",
   "name": "conda-base-py"
  },
  "language_info": {
   "codemirror_mode": {
    "name": "ipython",
    "version": 3
   },
   "file_extension": ".py",
   "mimetype": "text/x-python",
   "name": "python",
   "nbconvert_exporter": "python",
   "pygments_lexer": "ipython3",
   "version": "3.12.7"
  }
 },
 "nbformat": 4,
 "nbformat_minor": 5
}
