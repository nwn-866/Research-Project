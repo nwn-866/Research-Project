{
 "cells": [
  {
   "cell_type": "code",
   "execution_count": 1,
   "metadata": {},
   "outputs": [
    {
     "name": "stdout",
     "output_type": "stream",
     "text": [
      "Data successfully saved to NASA_Climate_WS50M_20150101_20250228.csv\n"
     ]
    }
   ],
   "source": [
    "#Wind Energy Generation - 1\n",
    "\n",
    "import requests\n",
    "import pandas as pd\n",
    "import os\n",
    "\n",
    "# Define parameters\n",
    "latitude = -40.9006\n",
    "longitude = 174.8860\n",
    "parameters = \"WS50M\"  # WS50M (Wind Speed at 50 Meters): The average of wind speed at 50 meters above the surface of the earth\n",
    "start_date = \"20150101\"\n",
    "end_date = \"20250228\"\n",
    "community = \"AG\"\n",
    "format_type = \"CSV\"\n",
    "\n",
    "#filepath = \"D:\\Research_Project\\DataSet\\Climate\"\n",
    "\n",
    "# Construct API URL\n",
    "url = f\"https://power.larc.nasa.gov/api/temporal/daily/point?parameters={parameters}&community={community}&longitude={longitude}&latitude={latitude}&start={start_date}&end={end_date}&format={format_type}\"\n",
    "\n",
    "#try: \n",
    "# Request data\n",
    "response = requests.get(url)\n",
    "\n",
    "# Save to file\n",
    "#filename = os.path.join(filepath, f\"NASA_Climate_{parameters}_{start_date}_{end_date}.csv\")\n",
    "filename = f\"NASA_Climate_{parameters}_{start_date}_{end_date}.csv\"\n",
    "if response.status_code == 200:\n",
    "    with open(filename, \"w\") as file:\n",
    "        file.write(response.text)  # Correct indentation\n",
    "\n",
    "    print(f\"Data successfully saved to {filename}\")\n",
    "else:\n",
    "    print(\"Failed to fetch data:\", response.status_code)\n"
   ]
  },
  {
   "cell_type": "code",
   "execution_count": 3,
   "metadata": {},
   "outputs": [
    {
     "name": "stdout",
     "output_type": "stream",
     "text": [
      "Data successfully saved to NASA_Climate_WD50M_20150101_20250228.csv\n"
     ]
    }
   ],
   "source": [
    "#Wind Energy Generation - 2\n",
    "\n",
    "import requests\n",
    "import pandas as pd\n",
    "import os\n",
    "\n",
    "# Define parameters\n",
    "latitude = -40.9006\n",
    "longitude = 174.8860\n",
    "parameters = \"WD50M\"  # WD50M (Wind Direction at 50 Meters): The average of the wind direction at 50 meters above the surface of the earth.\n",
    "start_date = \"20150101\"\n",
    "end_date = \"20250228\"\n",
    "community = \"AG\"\n",
    "format_type = \"CSV\"\n",
    "\n",
    "#filepath = \"D:\\Research_Project\\DataSet\\Climate\"\n",
    "\n",
    "# Construct API URL\n",
    "url = f\"https://power.larc.nasa.gov/api/temporal/daily/point?parameters={parameters}&community={community}&longitude={longitude}&latitude={latitude}&start={start_date}&end={end_date}&format={format_type}\"\n",
    "\n",
    "#try: \n",
    "# Request data\n",
    "response = requests.get(url)\n",
    "\n",
    "# Save to file\n",
    "#filename = os.path.join(filepath, f\"NASA_Climate_{parameters}_{start_date}_{end_date}.csv\")\n",
    "filename = f\"NASA_Climate_{parameters}_{start_date}_{end_date}.csv\"\n",
    "if response.status_code == 200:\n",
    "    with open(filename, \"w\") as file:\n",
    "        file.write(response.text)  # Correct indentation\n",
    "\n",
    "    print(f\"Data successfully saved to {filename}\")\n",
    "else:\n",
    "    print(\"Failed to fetch data:\", response.status_code)"
   ]
  },
  {
   "cell_type": "code",
   "execution_count": 3,
   "metadata": {},
   "outputs": [
    {
     "name": "stdout",
     "output_type": "stream",
     "text": [
      "Data successfully saved to NASA_Climate_T2M_20150101_20250228.csv\n"
     ]
    }
   ],
   "source": [
    "#Wind Energy Generation - 3\n",
    "\n",
    "import requests\n",
    "import pandas as pd\n",
    "import os\n",
    "\n",
    "# Define parameters\n",
    "latitude = -40.9006\n",
    "longitude = 174.8860\n",
    "parameters = \"T2M\"  # T2M (Temperature at 2 Meters): The average air (dry bulb) temperature at 2 meters above the surface of the earth.\n",
    "start_date = \"20150101\"\n",
    "end_date = \"20250228\"\n",
    "community = \"AG\"\n",
    "format_type = \"CSV\"\n",
    "\n",
    "#filepath = \"D:\\Research_Project\\DataSet\\Climate\"\n",
    "\n",
    "# Construct API URL\n",
    "url = f\"https://power.larc.nasa.gov/api/temporal/daily/point?parameters={parameters}&community={community}&longitude={longitude}&latitude={latitude}&start={start_date}&end={end_date}&format={format_type}\"\n",
    "\n",
    "#try: \n",
    "# Request data\n",
    "response = requests.get(url)\n",
    "\n",
    "# Save to file\n",
    "#filename = os.path.join(filepath, f\"NASA_Climate_{parameters}_{start_date}_{end_date}.csv\")\n",
    "filename = f\"NASA_Climate_{parameters}_{start_date}_{end_date}.csv\"\n",
    "if response.status_code == 200:\n",
    "    with open(filename, \"w\") as file:\n",
    "        file.write(response.text)  # Correct indentation\n",
    "\n",
    "    print(f\"Data successfully saved to {filename}\")\n",
    "else:\n",
    "    print(\"Failed to fetch data:\", response.status_code)"
   ]
  },
  {
   "cell_type": "code",
   "execution_count": 5,
   "metadata": {},
   "outputs": [
    {
     "name": "stdout",
     "output_type": "stream",
     "text": [
      "Data successfully saved to NASA_Climate_PS_20150101_20250228.csv\n"
     ]
    }
   ],
   "source": [
    "#Wind Energy Generation - 4\n",
    "\n",
    "import requests\n",
    "import pandas as pd\n",
    "import os\n",
    "\n",
    "# Define parameters\n",
    "latitude = -40.9006\n",
    "longitude = 174.8860\n",
    "parameters = \"PS\"  # PS (Surface Pressure): The average of surface pressure at the surface of the earth.\n",
    "start_date = \"20150101\"\n",
    "end_date = \"20250228\"\n",
    "community = \"AG\"\n",
    "format_type = \"CSV\"\n",
    "\n",
    "#filepath = \"D:\\Research_Project\\DataSet\\Climate\"\n",
    "\n",
    "# Construct API URL\n",
    "url = f\"https://power.larc.nasa.gov/api/temporal/daily/point?parameters={parameters}&community={community}&longitude={longitude}&latitude={latitude}&start={start_date}&end={end_date}&format={format_type}\"\n",
    "\n",
    "#try: \n",
    "# Request data\n",
    "response = requests.get(url)\n",
    "\n",
    "# Save to file\n",
    "#filename = os.path.join(filepath, f\"NASA_Climate_{parameters}_{start_date}_{end_date}.csv\")\n",
    "filename = f\"NASA_Climate_{parameters}_{start_date}_{end_date}.csv\"\n",
    "if response.status_code == 200:\n",
    "    with open(filename, \"w\") as file:\n",
    "        file.write(response.text)  # Correct indentation\n",
    "\n",
    "    print(f\"Data successfully saved to {filename}\")\n",
    "else:\n",
    "    print(\"Failed to fetch data:\", response.status_code)"
   ]
  },
  {
   "cell_type": "code",
   "execution_count": 9,
   "metadata": {},
   "outputs": [
    {
     "name": "stdout",
     "output_type": "stream",
     "text": [
      "Failed to fetch data: 422\n"
     ]
    }
   ],
   "source": [
    "#Hydro Energy Generation - 1\n",
    "\n",
    "import requests\n",
    "import pandas as pd\n",
    "import os\n",
    "\n",
    "# Define parameters\n",
    "latitude = -40.9006\n",
    "longitude = 174.8860\n",
    "parameters = \"PRECTOTCORR\"  # PRECTOTCORR_SUM (Precipitation Corrected Sum): The bias corrected sum of total precipitation at the surface of the earth.\n",
    "start_date = \"20150101\"\n",
    "end_date = \"20250228\"\n",
    "community = \"AG\"\n",
    "format_type = \"CSV\"\n",
    "\n",
    "#filepath = \"D:\\Research_Project\\DataSet\\Climate\"\n",
    "\n",
    "# Construct API URL\n",
    "url = f\"https://power.larc.nasa.gov/api/temporal/daily/point?parameters={parameters}&community={community}&longitude={longitude}&latitude={latitude}&start={start_date}&end={end_date}&format={format_type}\"\n",
    "\n",
    "#try: \n",
    "# Request data\n",
    "response = requests.get(url)\n",
    "\n",
    "# Save to file\n",
    "#filename = os.path.join(filepath, f\"NASA_Climate_{parameters}_{start_date}_{end_date}.csv\")\n",
    "filename = f\"NASA_Climate_{parameters}_{start_date}_{end_date}.csv\"\n",
    "if response.status_code == 200:\n",
    "    with open(filename, \"w\") as file:\n",
    "        file.write(response.text)  # Correct indentation\n",
    "\n",
    "    print(f\"Data successfully saved to {filename}\")\n",
    "else:\n",
    "    print(\"Failed to fetch data:\", response.status_code)\n"
   ]
  },
  {
   "cell_type": "code",
   "execution_count": 11,
   "metadata": {},
   "outputs": [
    {
     "name": "stdout",
     "output_type": "stream",
     "text": [
      "Data successfully saved to NASA_Climate_EVLAND_20150101_20250228.csv\n"
     ]
    }
   ],
   "source": [
    "#Hydro Energy Generation - 2\n",
    "\n",
    "import requests\n",
    "import pandas as pd\n",
    "import os\n",
    "\n",
    "# Define parameters\n",
    "latitude = -40.9006\n",
    "longitude = 174.8860\n",
    "parameters = \"EVLAND\"  # EVLAND (Evaporation Land): The evaporation over land at the surface of the earth.\n",
    "start_date = \"20150101\"\n",
    "end_date = \"20250228\"\n",
    "community = \"AG\"\n",
    "format_type = \"CSV\"\n",
    "\n",
    "#filepath = \"D:\\Research_Project\\DataSet\\Climate\"\n",
    "\n",
    "# Construct API URL\n",
    "url = f\"https://power.larc.nasa.gov/api/temporal/daily/point?parameters={parameters}&community={community}&longitude={longitude}&latitude={latitude}&start={start_date}&end={end_date}&format={format_type}\"\n",
    "\n",
    "#try: \n",
    "# Request data\n",
    "response = requests.get(url)\n",
    "\n",
    "# Save to file\n",
    "#filename = os.path.join(filepath, f\"NASA_Climate_{parameters}_{start_date}_{end_date}.csv\")\n",
    "filename = f\"NASA_Climate_{parameters}_{start_date}_{end_date}.csv\"\n",
    "if response.status_code == 200:\n",
    "    with open(filename, \"w\") as file:\n",
    "        file.write(response.text)  # Correct indentation\n",
    "\n",
    "    print(f\"Data successfully saved to {filename}\")\n",
    "else:\n",
    "    print(\"Failed to fetch data:\", response.status_code)"
   ]
  },
  {
   "cell_type": "code",
   "execution_count": null,
   "metadata": {},
   "outputs": [],
   "source": [
    "#Hydro Energy Generation - 3\n",
    "\n",
    "import requests\n",
    "import pandas as pd\n",
    "import os\n",
    "\n",
    "# Define parameters\n",
    "latitude = -40.9006\n",
    "longitude = 174.8860\n",
    "parameters = \"GWETTOP\"  # GWETTOP (Surface Soil Wetness): The percent of soil moisture a value of \n",
    "#0 indicates a completely water-free soil and a value of 1 indicates a completely saturated soil; \n",
    "#where surface is the layer from the surface 0 cm to 5 cm below grade.\n",
    "start_date = \"20150101\"\n",
    "end_date = \"20250228\"\n",
    "community = \"AG\"\n",
    "format_type = \"CSV\"\n",
    "\n",
    "#filepath = \"D:\\Research_Project\\DataSet\\Climate\"\n",
    "\n",
    "# Construct API URL\n",
    "url = f\"https://power.larc.nasa.gov/api/temporal/daily/point?parameters={parameters}&community={community}&longitude={longitude}&latitude={latitude}&start={start_date}&end={end_date}&format={format_type}\"\n",
    "\n",
    "#try: \n",
    "# Request data\n",
    "response = requests.get(url)\n",
    "\n",
    "# Save to file\n",
    "#filename = os.path.join(filepath, f\"NASA_Climate_{parameters}_{start_date}_{end_date}.csv\")\n",
    "filename = f\"NASA_Climate_{parameters}_{start_date}_{end_date}.csv\"\n",
    "if response.status_code == 200:\n",
    "    with open(filename, \"w\") as file:\n",
    "        file.write(response.text)  # Correct indentation\n",
    "\n",
    "    print(f\"Data successfully saved to {filename}\")\n",
    "else:\n",
    "    print(\"Failed to fetch data:\", response.status_code)"
   ]
  }
 ],
 "metadata": {
  "kernelspec": {
   "display_name": "Python [conda env:base] *",
   "language": "python",
   "name": "conda-base-py"
  },
  "language_info": {
   "codemirror_mode": {
    "name": "ipython",
    "version": 3
   },
   "file_extension": ".py",
   "mimetype": "text/x-python",
   "name": "python",
   "nbconvert_exporter": "python",
   "pygments_lexer": "ipython3",
   "version": "3.12.7"
  }
 },
 "nbformat": 4,
 "nbformat_minor": 4
}
