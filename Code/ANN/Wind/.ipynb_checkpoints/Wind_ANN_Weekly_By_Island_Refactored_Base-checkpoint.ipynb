{
 "cells": [
  {
   "cell_type": "markdown",
   "id": "9d120fd2",
   "metadata": {},
   "source": [
    "# 🌬️ Wind Generation Forecasting with ANN (Weekly, NZ Islands)\n",
    "This notebook uses Artificial Neural Networks to forecast **weekly wind energy generation** separately for the **South** and **North Islands**.\n",
    "\n",
    "We address:\n",
    "- **RQ1**: Accuracy of ANN using historical generation (univariate)\n",
    "- **RQ2**: Improvement with lagged climate features based on correlation\n",
    "\n",
    "📆 All analysis is done on weekly-aggregated data."
   ]
  },
  {
   "cell_type": "code",
   "execution_count": null,
   "id": "e53df077",
   "metadata": {},
   "outputs": [],
   "source": [
    "import pandas as pd\n",
    "import numpy as np\n",
    "import matplotlib.pyplot as plt\n",
    "import seaborn as sns\n",
    "import tensorflow as tf\n",
    "from sklearn.model_selection import train_test_split\n",
    "from sklearn.preprocessing import MinMaxScaler\n",
    "from sklearn.metrics import mean_squared_error, mean_absolute_error\n",
    "import warnings\n",
    "warnings.filterwarnings('ignore')"
   ]
  },
  {
   "cell_type": "code",
   "execution_count": null,
   "id": "81a80fa5",
   "metadata": {},
   "outputs": [],
   "source": [
    "# Load daily wind + climate dataset (South and North combined)\n",
    "df = pd.read_csv('wind_daily_data.csv', parse_dates=['Date'])\n",
    "df['Date'] = pd.to_datetime(df['Date'])\n",
    "df = df.set_index('Date')\n",
    "\n",
    "# Drop wind direction columns if present\n",
    "df = df.drop(columns=[col for col in df.columns if 'WD50M' in col], errors='ignore')"
   ]
  },
  {
   "cell_type": "code",
   "execution_count": null,
   "id": "2b95ec95",
   "metadata": {},
   "outputs": [],
   "source": [
    "# Resample to weekly mean or sum depending on variable type\n",
    "weekly_df = pd.DataFrame()\n",
    "weekly_df['GENERATION_SOUTH'] = df['GENERATION_SOUTH'].resample('W').sum()\n",
    "weekly_df['GENERATION_NORTH'] = df['GENERATION_NORTH'].resample('W').sum()\n",
    "\n",
    "# Climate variables averaged or summed as appropriate\n",
    "for var in ['WS50M', 'T2M', 'PS', 'RH2M']:\n",
    "    weekly_df[f'{var}_SOUTH'] = df[f'{var}_SOUTH'].resample('W').mean()\n",
    "    weekly_df[f'{var}_NORTH'] = df[f'{var}_NORTH'].resample('W').mean()\n",
    "\n",
    "for var in ['PRECTOTCORR', 'EVLAND']:\n",
    "    weekly_df[f'{var}_SOUTH'] = df[f'{var}_SOUTH'].resample('W').sum()\n",
    "    weekly_df[f'{var}_NORTH'] = df[f'{var}_NORTH'].resample('W').sum()\n",
    "\n",
    "# Drop weeks with missing values\n",
    "weekly_df.dropna(inplace=True)\n",
    "weekly_df.head()"
   ]
  }
 ],
 "metadata": {},
 "nbformat": 4,
 "nbformat_minor": 5
}
