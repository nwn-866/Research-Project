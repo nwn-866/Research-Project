{
 "cells": [
  {
   "cell_type": "markdown",
   "id": "9d120fd2",
   "metadata": {},
   "source": [
    "# 🌬️ Wind Generation Forecasting with ANN (Weekly, NZ Islands)\n",
    "This notebook uses Artificial Neural Networks to forecast **weekly wind energy generation** separately for the **South** and **North Islands**.\n",
    "\n",
    "We address:\n",
    "- **RQ1**: Accuracy of ANN using historical generation (univariate)\n",
    "- **RQ2**: Improvement with lagged climate features based on correlation\n",
    "\n",
    "📆 All analysis is done on weekly-aggregated data."
   ]
  },
  {
   "cell_type": "code",
   "execution_count": null,
   "id": "e53df077",
   "metadata": {},
   "outputs": [],
   "source": [
    "import pandas as pd\n",
    "import numpy as np\n",
    "import matplotlib.pyplot as plt\n",
    "import seaborn as sns\n",
    "import tensorflow as tf\n",
    "from sklearn.model_selection import train_test_split\n",
    "from sklearn.preprocessing import MinMaxScaler\n",
    "from sklearn.metrics import mean_squared_error, mean_absolute_error\n",
    "import warnings\n",
    "warnings.filterwarnings('ignore')"
   ]
  },
  {
   "cell_type": "code",
   "execution_count": null,
   "id": "81a80fa5",
   "metadata": {},
   "outputs": [],
   "source": [
    "# Load daily wind + climate dataset (South and North combined)\n",
    "df = pd.read_csv('wind_daily_data.csv', parse_dates=['Date'])\n",
    "df['Date'] = pd.to_datetime(df['Date'])\n",
    "df = df.set_index('Date')\n",
    "\n",
    "# Drop wind direction columns if present\n",
    "df = df.drop(columns=[col for col in df.columns if 'WD50M' in col], errors='ignore')"
   ]
  },
  {
   "cell_type": "code",
   "execution_count": null,
   "id": "2b95ec95",
   "metadata": {},
   "outputs": [],
   "source": [
    "# Resample to weekly mean or sum depending on variable type\n",
    "weekly_df = pd.DataFrame()\n",
    "weekly_df['GENERATION_SOUTH'] = df['GENERATION_SOUTH'].resample('W').sum()\n",
    "weekly_df['GENERATION_NORTH'] = df['GENERATION_NORTH'].resample('W').sum()\n",
    "\n",
    "# Climate variables averaged or summed as appropriate\n",
    "for var in ['WS50M', 'T2M', 'PS', 'RH2M']:\n",
    "    weekly_df[f'{var}_SOUTH'] = df[f'{var}_SOUTH'].resample('W').mean()\n",
    "    weekly_df[f'{var}_NORTH'] = df[f'{var}_NORTH'].resample('W').mean()\n",
    "\n",
    "for var in ['PRECTOTCORR', 'EVLAND']:\n",
    "    weekly_df[f'{var}_SOUTH'] = df[f'{var}_SOUTH'].resample('W').sum()\n",
    "    weekly_df[f'{var}_NORTH'] = df[f'{var}_NORTH'].resample('W').sum()\n",
    "\n",
    "# Drop weeks with missing values\n",
    "weekly_df.dropna(inplace=True)\n",
    "weekly_df.head()"
   ]
  },
  {
   "cell_type": "markdown",
   "id": "d223ed14",
   "metadata": {},
   "source": [
    "## 🔍 Correlation Analysis for Feature Selection\n",
    "We calculate Pearson correlation between weekly wind generation and meteorological variables for each island.\n",
    "Only features with |correlation| > 0.3 will be used for RQ2 models."
   ]
  },
  {
   "cell_type": "code",
   "execution_count": null,
   "id": "25c143f0",
   "metadata": {},
   "outputs": [],
   "source": [
    "# Correlation: South Island\n",
    "south_df = weekly_df[[col for col in weekly_df.columns if '_SOUTH' in col]].copy()\n",
    "south_df.columns = [col.replace('_SOUTH', '') for col in south_df.columns]\n",
    "corr_south = south_df.corr()\n",
    "plt.figure(figsize=(8, 5))\n",
    "sns.heatmap(corr_south, annot=True, cmap='coolwarm', fmt='.2f')\n",
    "plt.title('South Island: Correlation Heatmap')\n",
    "plt.show()\n",
    "\n",
    "# Select features with correlation > 0.3 with GENERATION\n",
    "selected_features_south = corr_south['GENERATION'].drop('GENERATION')\n",
    "selected_features_south = selected_features_south[abs(selected_features_south) > 0.3].index.tolist()\n",
    "print('Selected features (South):', selected_features_south)"
   ]
  },
  {
   "cell_type": "code",
   "execution_count": null,
   "id": "1466eeaf",
   "metadata": {},
   "outputs": [],
   "source": [
    "# Correlation: North Island\n",
    "north_df = weekly_df[[col for col in weekly_df.columns if '_NORTH' in col]].copy()\n",
    "north_df.columns = [col.replace('_NORTH', '') for col in north_df.columns]\n",
    "corr_north = north_df.corr()\n",
    "plt.figure(figsize=(8, 5))\n",
    "sns.heatmap(corr_north, annot=True, cmap='coolwarm', fmt='.2f')\n",
    "plt.title('North Island: Correlation Heatmap')\n",
    "plt.show()\n",
    "\n",
    "# Select features with correlation > 0.3 with GENERATION\n",
    "selected_features_north = corr_north['GENERATION'].drop('GENERATION')\n",
    "selected_features_north = selected_features_north[abs(selected_features_north) > 0.3].index.tolist()\n",
    "print('Selected features (North):', selected_features_north)"
   ]
  },
  {
   "cell_type": "markdown",
   "id": "781e7928",
   "metadata": {},
   "source": [
    "## 🧠 ANN Modeling for Wind Forecasting (RQ1 & RQ2)\n",
    "We implement two ANN models per island:\n",
    "- **RQ1**: Using only past generation values (univariate)\n",
    "- **RQ2**: Including selected lagged climate features (based on correlation)"
   ]
  },
  {
   "cell_type": "code",
   "execution_count": null,
   "id": "80cd5107",
   "metadata": {},
   "outputs": [],
   "source": [
    "# ANN - South Island\n",
    "# Prepare data\n",
    "south_df = weekly_df[[col for col in weekly_df.columns if '_SOUTH' in col]].copy()\n",
    "south_df.columns = [col.replace('_SOUTH', '') for col in south_df.columns]\n",
    "\n",
    "# RQ1: Univariate model\n",
    "X_rq1 = south_df[['GENERATION']].shift(1).dropna()\n",
    "y_rq1 = south_df['GENERATION'].iloc[1:]\n",
    "\n",
    "# RQ2: Selected lagged climate features\n",
    "X_rq2 = south_df[selected_features_south].shift(1).dropna()\n",
    "y_rq2 = south_df['GENERATION'].iloc[1:]\n",
    "\n",
    "# Align y values for lag\n",
    "y_rq2 = y_rq2.loc[X_rq2.index]\n",
    "\n",
    "# Split and scale\n",
    "def train_ann_model(X, y):\n",
    "    X_train, X_test, y_train, y_test = train_test_split(X, y, test_size=0.2, shuffle=False)\n",
    "    scaler_X = MinMaxScaler()\n",
    "    scaler_y = MinMaxScaler()\n",
    "    X_train_scaled = scaler_X.fit_transform(X_train)\n",
    "    X_test_scaled = scaler_X.transform(X_test)\n",
    "    y_train_scaled = scaler_y.fit_transform(y_train.values.reshape(-1, 1))\n",
    "\n",
    "    model = tf.keras.Sequential([\n",
    "        tf.keras.layers.Dense(64, activation='relu', input_shape=(X_train.shape[1],)),\n",
    "        tf.keras.layers.Dense(32, activation='relu'),\n",
    "        tf.keras.layers.Dense(1)\n",
    "    ])\n",
    "    model.compile(optimizer='adam', loss='mse')\n",
    "    model.fit(X_train_scaled, y_train_scaled, epochs=100, verbose=0)\n",
    "\n",
    "    preds_scaled = model.predict(X_test_scaled)\n",
    "    preds = scaler_y.inverse_transform(preds_scaled)\n",
    "    mae = mean_absolute_error(y_test, preds)\n",
    "    rmse = np.sqrt(mean_squared_error(y_test, preds))\n",
    "    mape = np.mean(np.abs((y_test - preds.flatten()) / y_test)) * 100\n",
    "    return mae, rmse, mape\n",
    "\n",
    "# Train both models\n",
    "mae_rq1, rmse_rq1, mape_rq1 = train_ann_model(X_rq1, y_rq1)\n",
    "mae_rq2, rmse_rq2, mape_rq2 = train_ann_model(X_rq2, y_rq2)\n",
    "\n",
    "print(f\"South Island ANN RQ1 - MAPE: {mape_rq1:.2f}% | MAE: {mae_rq1:.2f} | RMSE: {rmse_rq1:.2f}\")\n",
    "print(f\"South Island ANN RQ2 - MAPE: {mape_rq2:.2f}% | MAE: {mae_rq2:.2f} | RMSE: {rmse_rq2:.2f}\")"
   ]
  },
  {
   "cell_type": "code",
   "execution_count": null,
   "id": "80af2d66",
   "metadata": {},
   "outputs": [],
   "source": [
    "# ANN - North Island\n",
    "north_df = weekly_df[[col for col in weekly_df.columns if '_NORTH' in col]].copy()\n",
    "north_df.columns = [col.replace('_NORTH', '') for col in north_df.columns]\n",
    "\n",
    "# RQ1: Univariate model\n",
    "X_rq1 = north_df[['GENERATION']].shift(1).dropna()\n",
    "y_rq1 = north_df['GENERATION'].iloc[1:]\n",
    "\n",
    "# RQ2: Selected lagged climate features\n",
    "X_rq2 = north_df[selected_features_north].shift(1).dropna()\n",
    "y_rq2 = north_df['GENERATION'].iloc[1:]\n",
    "\n",
    "# Align y values for lag\n",
    "y_rq2 = y_rq2.loc[X_rq2.index]\n",
    "\n",
    "# Train both models\n",
    "mae_rq1, rmse_rq1, mape_rq1 = train_ann_model(X_rq1, y_rq1)\n",
    "mae_rq2, rmse_rq2, mape_rq2 = train_ann_model(X_rq2, y_rq2)\n",
    "\n",
    "print(f\"North Island ANN RQ1 - MAPE: {mape_rq1:.2f}% | MAE: {mae_rq1:.2f} | RMSE: {rmse_rq1:.2f}\")\n",
    "print(f\"North Island ANN RQ2 - MAPE: {mape_rq2:.2f}% | MAE: {mae_rq2:.2f} | RMSE: {rmse_rq2:.2f}\")"
   ]
  },
  {
   "cell_type": "markdown",
   "id": "1b86c209",
   "metadata": {},
   "source": [
    "## 📊 ANN Performance Summary (RQ1 vs RQ2)\n",
    "This table summarizes evaluation metrics for both RQ1 and RQ2 ANN models across South and North Islands."
   ]
  },
  {
   "cell_type": "code",
   "execution_count": null,
   "id": "60d40383",
   "metadata": {},
   "outputs": [],
   "source": [
    "import pandas as pd\n",
    "\n",
    "comparison_df = pd.DataFrame({\n",
    "    'Island': ['South', 'South', 'North', 'North'],\n",
    "    'Model': ['ANN-RQ1', 'ANN-RQ2', 'ANN-RQ1', 'ANN-RQ2'],\n",
    "    'MAPE (%)': [mape_rq1, mape_rq2, mape_rq1, mape_rq2],\n",
    "    'MAE': [mae_rq1, mae_rq2, mae_rq1, mae_rq2],\n",
    "    'RMSE': [rmse_rq1, rmse_rq2, rmse_rq1, rmse_rq2]\n",
    "})\n",
    "display(comparison_df.round(2))"
   ]
  }
 ],
 "metadata": {},
 "nbformat": 4,
 "nbformat_minor": 5
}
