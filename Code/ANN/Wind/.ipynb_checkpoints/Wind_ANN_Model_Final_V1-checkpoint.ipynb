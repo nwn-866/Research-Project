{
 "cells": [
  {
   "cell_type": "markdown",
   "metadata": {},
   "source": [
    "# Forecasting Weekly Wind Energy Generation in New Zealand\n",
    "Model - ANN\n",
    "\n",
    "This notebook addresses:\n",
    "* RQ1: How well does a ANN model forecast weekly wind energy generation?\n",
    "* RQ2: Does incorporating weekly-aggregated climate variables into ANN improve forecasting accuracy?\n",
    "\n",
    "The analysis uses weekly sumed and weekly averaged NASA climate data, aligned with operational wind generation data."
   ]
  },
  {
   "cell_type": "code",
   "execution_count": 2,
   "metadata": {},
   "outputs": [],
   "source": [
    "import pandas as pd\n",
    "import numpy as np\n",
    "import matplotlib.pyplot as plt\n",
    "import tensorflow as tf\n",
    "import seaborn as sns\n",
    "import random\n",
    "from tensorflow.keras.models import Sequential\n",
    "from tensorflow.keras.layers import Input,Dense, Dropout, BatchNormalization, LeakyReLU\n",
    "from sklearn.preprocessing import MinMaxScaler , StandardScaler\n",
    "from sklearn.metrics import mean_absolute_error, mean_squared_error , root_mean_squared_error , mean_absolute_percentage_error\n",
    "from sklearn.model_selection import train_test_split\n",
    "from tensorflow.keras import Sequential\n",
    "from tensorflow.keras.losses import Huber\n",
    "from tensorflow.keras.callbacks import EarlyStopping, ReduceLROnPlateau\n"
   ]
  },
  {
   "cell_type": "code",
   "execution_count": 3,
   "metadata": {},
   "outputs": [],
   "source": [
    "all_poc_data = pd.read_csv('EDA_Wind_all_nsp.csv')"
   ]
  },
  {
   "cell_type": "code",
   "execution_count": 4,
   "metadata": {},
   "outputs": [
    {
     "data": {
      "text/html": [
       "<div>\n",
       "<style scoped>\n",
       "    .dataframe tbody tr th:only-of-type {\n",
       "        vertical-align: middle;\n",
       "    }\n",
       "\n",
       "    .dataframe tbody tr th {\n",
       "        vertical-align: top;\n",
       "    }\n",
       "\n",
       "    .dataframe thead th {\n",
       "        text-align: right;\n",
       "    }\n",
       "</style>\n",
       "<table border=\"1\" class=\"dataframe\">\n",
       "  <thead>\n",
       "    <tr style=\"text-align: right;\">\n",
       "      <th></th>\n",
       "      <th>Fuel_Code</th>\n",
       "      <th>POC_Code</th>\n",
       "      <th>DATE</th>\n",
       "      <th>Total_TP</th>\n",
       "      <th>Island</th>\n",
       "      <th>Latitude</th>\n",
       "      <th>Longitude</th>\n",
       "      <th>PS</th>\n",
       "      <th>T2M</th>\n",
       "      <th>WD50M</th>\n",
       "      <th>WD50M_rad</th>\n",
       "      <th>u</th>\n",
       "      <th>v</th>\n",
       "      <th>WS50M</th>\n",
       "    </tr>\n",
       "  </thead>\n",
       "  <tbody>\n",
       "    <tr>\n",
       "      <th>0</th>\n",
       "      <td>Wind</td>\n",
       "      <td>BPE0331</td>\n",
       "      <td>2015-03-01</td>\n",
       "      <td>472971.4800</td>\n",
       "      <td>NI</td>\n",
       "      <td>-40.280614</td>\n",
       "      <td>175.640510</td>\n",
       "      <td>99.50</td>\n",
       "      <td>18.88</td>\n",
       "      <td>302.2</td>\n",
       "      <td>5.274385</td>\n",
       "      <td>0.532876</td>\n",
       "      <td>-0.846193</td>\n",
       "      <td>5.89</td>\n",
       "    </tr>\n",
       "    <tr>\n",
       "      <th>1</th>\n",
       "      <td>Wind</td>\n",
       "      <td>BPE0331</td>\n",
       "      <td>2015-03-02</td>\n",
       "      <td>119485.1800</td>\n",
       "      <td>NI</td>\n",
       "      <td>-40.280614</td>\n",
       "      <td>175.640510</td>\n",
       "      <td>99.39</td>\n",
       "      <td>18.43</td>\n",
       "      <td>304.9</td>\n",
       "      <td>5.321509</td>\n",
       "      <td>0.572146</td>\n",
       "      <td>-0.820152</td>\n",
       "      <td>6.52</td>\n",
       "    </tr>\n",
       "    <tr>\n",
       "      <th>2</th>\n",
       "      <td>Wind</td>\n",
       "      <td>BPE0331</td>\n",
       "      <td>2015-03-03</td>\n",
       "      <td>173416.5861</td>\n",
       "      <td>NI</td>\n",
       "      <td>-40.280614</td>\n",
       "      <td>175.640510</td>\n",
       "      <td>99.24</td>\n",
       "      <td>18.92</td>\n",
       "      <td>302.8</td>\n",
       "      <td>5.284857</td>\n",
       "      <td>0.541708</td>\n",
       "      <td>-0.840567</td>\n",
       "      <td>5.08</td>\n",
       "    </tr>\n",
       "    <tr>\n",
       "      <th>3</th>\n",
       "      <td>Wind</td>\n",
       "      <td>BPE0331</td>\n",
       "      <td>2015-03-04</td>\n",
       "      <td>127370.3811</td>\n",
       "      <td>NI</td>\n",
       "      <td>-40.280614</td>\n",
       "      <td>175.640510</td>\n",
       "      <td>98.90</td>\n",
       "      <td>18.34</td>\n",
       "      <td>315.5</td>\n",
       "      <td>5.506514</td>\n",
       "      <td>0.713250</td>\n",
       "      <td>-0.700909</td>\n",
       "      <td>4.19</td>\n",
       "    </tr>\n",
       "    <tr>\n",
       "      <th>4</th>\n",
       "      <td>Wind</td>\n",
       "      <td>BPE0331</td>\n",
       "      <td>2015-03-05</td>\n",
       "      <td>59379.3772</td>\n",
       "      <td>NI</td>\n",
       "      <td>-40.280614</td>\n",
       "      <td>175.640510</td>\n",
       "      <td>98.46</td>\n",
       "      <td>19.62</td>\n",
       "      <td>328.2</td>\n",
       "      <td>5.728171</td>\n",
       "      <td>0.849893</td>\n",
       "      <td>-0.526956</td>\n",
       "      <td>3.64</td>\n",
       "    </tr>\n",
       "    <tr>\n",
       "      <th>...</th>\n",
       "      <td>...</td>\n",
       "      <td>...</td>\n",
       "      <td>...</td>\n",
       "      <td>...</td>\n",
       "      <td>...</td>\n",
       "      <td>...</td>\n",
       "      <td>...</td>\n",
       "      <td>...</td>\n",
       "      <td>...</td>\n",
       "      <td>...</td>\n",
       "      <td>...</td>\n",
       "      <td>...</td>\n",
       "      <td>...</td>\n",
       "      <td>...</td>\n",
       "    </tr>\n",
       "    <tr>\n",
       "      <th>35015</th>\n",
       "      <td>Wind</td>\n",
       "      <td>WWD1103</td>\n",
       "      <td>2025-01-27</td>\n",
       "      <td>443172.0000</td>\n",
       "      <td>NI</td>\n",
       "      <td>-41.295618</td>\n",
       "      <td>174.660496</td>\n",
       "      <td>100.13</td>\n",
       "      <td>15.20</td>\n",
       "      <td>185.2</td>\n",
       "      <td>3.232350</td>\n",
       "      <td>-0.995884</td>\n",
       "      <td>-0.090633</td>\n",
       "      <td>6.37</td>\n",
       "    </tr>\n",
       "    <tr>\n",
       "      <th>35016</th>\n",
       "      <td>Wind</td>\n",
       "      <td>WWD1103</td>\n",
       "      <td>2025-01-28</td>\n",
       "      <td>338884.0000</td>\n",
       "      <td>NI</td>\n",
       "      <td>-41.295618</td>\n",
       "      <td>174.660496</td>\n",
       "      <td>101.12</td>\n",
       "      <td>16.11</td>\n",
       "      <td>342.9</td>\n",
       "      <td>5.984734</td>\n",
       "      <td>0.955793</td>\n",
       "      <td>-0.294040</td>\n",
       "      <td>5.59</td>\n",
       "    </tr>\n",
       "    <tr>\n",
       "      <th>35017</th>\n",
       "      <td>Wind</td>\n",
       "      <td>WWD1103</td>\n",
       "      <td>2025-01-29</td>\n",
       "      <td>983736.0000</td>\n",
       "      <td>NI</td>\n",
       "      <td>-41.295618</td>\n",
       "      <td>174.660496</td>\n",
       "      <td>100.28</td>\n",
       "      <td>17.92</td>\n",
       "      <td>320.9</td>\n",
       "      <td>5.600762</td>\n",
       "      <td>0.776046</td>\n",
       "      <td>-0.630676</td>\n",
       "      <td>10.59</td>\n",
       "    </tr>\n",
       "    <tr>\n",
       "      <th>35018</th>\n",
       "      <td>Wind</td>\n",
       "      <td>WWD1103</td>\n",
       "      <td>2025-01-30</td>\n",
       "      <td>114433.0000</td>\n",
       "      <td>NI</td>\n",
       "      <td>-41.295618</td>\n",
       "      <td>174.660496</td>\n",
       "      <td>100.73</td>\n",
       "      <td>16.00</td>\n",
       "      <td>134.7</td>\n",
       "      <td>2.350959</td>\n",
       "      <td>-0.703395</td>\n",
       "      <td>0.710799</td>\n",
       "      <td>3.85</td>\n",
       "    </tr>\n",
       "    <tr>\n",
       "      <th>35019</th>\n",
       "      <td>Wind</td>\n",
       "      <td>WWD1103</td>\n",
       "      <td>2025-01-31</td>\n",
       "      <td>544447.0000</td>\n",
       "      <td>NI</td>\n",
       "      <td>-41.295618</td>\n",
       "      <td>174.660496</td>\n",
       "      <td>100.91</td>\n",
       "      <td>17.22</td>\n",
       "      <td>338.2</td>\n",
       "      <td>5.902704</td>\n",
       "      <td>0.928486</td>\n",
       "      <td>-0.371368</td>\n",
       "      <td>5.09</td>\n",
       "    </tr>\n",
       "  </tbody>\n",
       "</table>\n",
       "<p>35020 rows × 14 columns</p>\n",
       "</div>"
      ],
      "text/plain": [
       "      Fuel_Code POC_Code        DATE     Total_TP Island   Latitude  \\\n",
       "0          Wind  BPE0331  2015-03-01  472971.4800     NI -40.280614   \n",
       "1          Wind  BPE0331  2015-03-02  119485.1800     NI -40.280614   \n",
       "2          Wind  BPE0331  2015-03-03  173416.5861     NI -40.280614   \n",
       "3          Wind  BPE0331  2015-03-04  127370.3811     NI -40.280614   \n",
       "4          Wind  BPE0331  2015-03-05   59379.3772     NI -40.280614   \n",
       "...         ...      ...         ...          ...    ...        ...   \n",
       "35015      Wind  WWD1103  2025-01-27  443172.0000     NI -41.295618   \n",
       "35016      Wind  WWD1103  2025-01-28  338884.0000     NI -41.295618   \n",
       "35017      Wind  WWD1103  2025-01-29  983736.0000     NI -41.295618   \n",
       "35018      Wind  WWD1103  2025-01-30  114433.0000     NI -41.295618   \n",
       "35019      Wind  WWD1103  2025-01-31  544447.0000     NI -41.295618   \n",
       "\n",
       "        Longitude      PS    T2M  WD50M  WD50M_rad         u         v  WS50M  \n",
       "0      175.640510   99.50  18.88  302.2   5.274385  0.532876 -0.846193   5.89  \n",
       "1      175.640510   99.39  18.43  304.9   5.321509  0.572146 -0.820152   6.52  \n",
       "2      175.640510   99.24  18.92  302.8   5.284857  0.541708 -0.840567   5.08  \n",
       "3      175.640510   98.90  18.34  315.5   5.506514  0.713250 -0.700909   4.19  \n",
       "4      175.640510   98.46  19.62  328.2   5.728171  0.849893 -0.526956   3.64  \n",
       "...           ...     ...    ...    ...        ...       ...       ...    ...  \n",
       "35015  174.660496  100.13  15.20  185.2   3.232350 -0.995884 -0.090633   6.37  \n",
       "35016  174.660496  101.12  16.11  342.9   5.984734  0.955793 -0.294040   5.59  \n",
       "35017  174.660496  100.28  17.92  320.9   5.600762  0.776046 -0.630676  10.59  \n",
       "35018  174.660496  100.73  16.00  134.7   2.350959 -0.703395  0.710799   3.85  \n",
       "35019  174.660496  100.91  17.22  338.2   5.902704  0.928486 -0.371368   5.09  \n",
       "\n",
       "[35020 rows x 14 columns]"
      ]
     },
     "execution_count": 4,
     "metadata": {},
     "output_type": "execute_result"
    }
   ],
   "source": [
    "all_poc_data"
   ]
  },
  {
   "cell_type": "code",
   "execution_count": 5,
   "metadata": {},
   "outputs": [],
   "source": [
    "all_poc_data['DATE'] = pd.to_datetime(all_poc_data['DATE'])"
   ]
  },
  {
   "cell_type": "code",
   "execution_count": 6,
   "metadata": {},
   "outputs": [],
   "source": [
    "all_poc_data['Fuel_Code'] = all_poc_data['Fuel_Code'].astype(str)"
   ]
  },
  {
   "cell_type": "code",
   "execution_count": 7,
   "metadata": {},
   "outputs": [],
   "source": [
    "all_poc_data['Island'] = all_poc_data['Island'].astype(str)"
   ]
  },
  {
   "cell_type": "code",
   "execution_count": 8,
   "metadata": {},
   "outputs": [
    {
     "name": "stdout",
     "output_type": "stream",
     "text": [
      "Fuel_Code            object\n",
      "POC_Code             object\n",
      "DATE         datetime64[ns]\n",
      "Total_TP            float64\n",
      "Island               object\n",
      "Latitude            float64\n",
      "Longitude           float64\n",
      "PS                  float64\n",
      "T2M                 float64\n",
      "WD50M               float64\n",
      "WD50M_rad           float64\n",
      "u                   float64\n",
      "v                   float64\n",
      "WS50M               float64\n",
      "dtype: object\n"
     ]
    }
   ],
   "source": [
    "print(all_poc_data.dtypes)"
   ]
  },
  {
   "cell_type": "code",
   "execution_count": 9,
   "metadata": {},
   "outputs": [
    {
     "name": "stdout",
     "output_type": "stream",
     "text": [
      "Fuel_Code    0\n",
      "POC_Code     0\n",
      "DATE         0\n",
      "Total_TP     0\n",
      "Island       0\n",
      "Latitude     0\n",
      "Longitude    0\n",
      "PS           0\n",
      "T2M          0\n",
      "WD50M        0\n",
      "WD50M_rad    0\n",
      "u            0\n",
      "v            0\n",
      "WS50M        0\n",
      "dtype: int64\n",
      "No missing values found in the DataFrame.\n"
     ]
    }
   ],
   "source": [
    "# Check for missing values in each column\n",
    "missing_values = all_poc_data.isnull().sum()\n",
    "print(missing_values)\n",
    "\n",
    "# Optionally, check if there are any missing values at all\n",
    "if all_poc_data.isnull().values.any():\n",
    "    print(\"There are missing values in the DataFrame.\")\n",
    "else:\n",
    "    print(\"No missing values found in the DataFrame.\")"
   ]
  },
  {
   "cell_type": "code",
   "execution_count": 10,
   "metadata": {},
   "outputs": [
    {
     "name": "stdout",
     "output_type": "stream",
     "text": [
      "Index(['Fuel_Code', 'POC_Code', 'DATE', 'Total_TP', 'Island', 'Latitude',\n",
      "       'Longitude', 'PS', 'T2M', 'WD50M', 'WD50M_rad', 'u', 'v', 'WS50M'],\n",
      "      dtype='object')\n"
     ]
    }
   ],
   "source": [
    "# List all column names as an Index object\n",
    "print(all_poc_data.columns)"
   ]
  },
  {
   "cell_type": "code",
   "execution_count": 11,
   "metadata": {},
   "outputs": [],
   "source": [
    "selected_col_for_wind = ['DATE','Island', 'Total_TP','PS', 'T2M', 'WD50M', 'WD50M_rad', 'u', 'v', 'WS50M']  # Replace with your desired column names"
   ]
  },
  {
   "cell_type": "code",
   "execution_count": 12,
   "metadata": {},
   "outputs": [],
   "source": [
    "df_wind_daily_all_nsp = all_poc_data[selected_col_for_wind].copy()"
   ]
  },
  {
   "cell_type": "code",
   "execution_count": 13,
   "metadata": {},
   "outputs": [
    {
     "name": "stdout",
     "output_type": "stream",
     "text": [
      "DATE         datetime64[ns]\n",
      "Island               object\n",
      "Total_TP            float64\n",
      "PS                  float64\n",
      "T2M                 float64\n",
      "WD50M               float64\n",
      "WD50M_rad           float64\n",
      "u                   float64\n",
      "v                   float64\n",
      "WS50M               float64\n",
      "dtype: object\n"
     ]
    }
   ],
   "source": [
    "print(df_wind_daily_all_nsp.dtypes)"
   ]
  },
  {
   "cell_type": "code",
   "execution_count": 14,
   "metadata": {},
   "outputs": [
    {
     "data": {
      "text/html": [
       "<div>\n",
       "<style scoped>\n",
       "    .dataframe tbody tr th:only-of-type {\n",
       "        vertical-align: middle;\n",
       "    }\n",
       "\n",
       "    .dataframe tbody tr th {\n",
       "        vertical-align: top;\n",
       "    }\n",
       "\n",
       "    .dataframe thead th {\n",
       "        text-align: right;\n",
       "    }\n",
       "</style>\n",
       "<table border=\"1\" class=\"dataframe\">\n",
       "  <thead>\n",
       "    <tr style=\"text-align: right;\">\n",
       "      <th></th>\n",
       "      <th>DATE</th>\n",
       "      <th>Island</th>\n",
       "      <th>Total_TP</th>\n",
       "      <th>PS</th>\n",
       "      <th>T2M</th>\n",
       "      <th>WD50M</th>\n",
       "      <th>WD50M_rad</th>\n",
       "      <th>u</th>\n",
       "      <th>v</th>\n",
       "      <th>WS50M</th>\n",
       "    </tr>\n",
       "  </thead>\n",
       "  <tbody>\n",
       "    <tr>\n",
       "      <th>0</th>\n",
       "      <td>2015-03-01</td>\n",
       "      <td>NI</td>\n",
       "      <td>472971.4800</td>\n",
       "      <td>99.50</td>\n",
       "      <td>18.88</td>\n",
       "      <td>302.2</td>\n",
       "      <td>5.274385</td>\n",
       "      <td>0.532876</td>\n",
       "      <td>-0.846193</td>\n",
       "      <td>5.89</td>\n",
       "    </tr>\n",
       "    <tr>\n",
       "      <th>1</th>\n",
       "      <td>2015-03-02</td>\n",
       "      <td>NI</td>\n",
       "      <td>119485.1800</td>\n",
       "      <td>99.39</td>\n",
       "      <td>18.43</td>\n",
       "      <td>304.9</td>\n",
       "      <td>5.321509</td>\n",
       "      <td>0.572146</td>\n",
       "      <td>-0.820152</td>\n",
       "      <td>6.52</td>\n",
       "    </tr>\n",
       "    <tr>\n",
       "      <th>2</th>\n",
       "      <td>2015-03-03</td>\n",
       "      <td>NI</td>\n",
       "      <td>173416.5861</td>\n",
       "      <td>99.24</td>\n",
       "      <td>18.92</td>\n",
       "      <td>302.8</td>\n",
       "      <td>5.284857</td>\n",
       "      <td>0.541708</td>\n",
       "      <td>-0.840567</td>\n",
       "      <td>5.08</td>\n",
       "    </tr>\n",
       "    <tr>\n",
       "      <th>3</th>\n",
       "      <td>2015-03-04</td>\n",
       "      <td>NI</td>\n",
       "      <td>127370.3811</td>\n",
       "      <td>98.90</td>\n",
       "      <td>18.34</td>\n",
       "      <td>315.5</td>\n",
       "      <td>5.506514</td>\n",
       "      <td>0.713250</td>\n",
       "      <td>-0.700909</td>\n",
       "      <td>4.19</td>\n",
       "    </tr>\n",
       "    <tr>\n",
       "      <th>4</th>\n",
       "      <td>2015-03-05</td>\n",
       "      <td>NI</td>\n",
       "      <td>59379.3772</td>\n",
       "      <td>98.46</td>\n",
       "      <td>19.62</td>\n",
       "      <td>328.2</td>\n",
       "      <td>5.728171</td>\n",
       "      <td>0.849893</td>\n",
       "      <td>-0.526956</td>\n",
       "      <td>3.64</td>\n",
       "    </tr>\n",
       "  </tbody>\n",
       "</table>\n",
       "</div>"
      ],
      "text/plain": [
       "        DATE Island     Total_TP     PS    T2M  WD50M  WD50M_rad         u  \\\n",
       "0 2015-03-01     NI  472971.4800  99.50  18.88  302.2   5.274385  0.532876   \n",
       "1 2015-03-02     NI  119485.1800  99.39  18.43  304.9   5.321509  0.572146   \n",
       "2 2015-03-03     NI  173416.5861  99.24  18.92  302.8   5.284857  0.541708   \n",
       "3 2015-03-04     NI  127370.3811  98.90  18.34  315.5   5.506514  0.713250   \n",
       "4 2015-03-05     NI   59379.3772  98.46  19.62  328.2   5.728171  0.849893   \n",
       "\n",
       "          v  WS50M  \n",
       "0 -0.846193   5.89  \n",
       "1 -0.820152   6.52  \n",
       "2 -0.840567   5.08  \n",
       "3 -0.700909   4.19  \n",
       "4 -0.526956   3.64  "
      ]
     },
     "execution_count": 14,
     "metadata": {},
     "output_type": "execute_result"
    }
   ],
   "source": [
    "df_wind_daily_all_nsp.head()"
   ]
  },
  {
   "cell_type": "code",
   "execution_count": 15,
   "metadata": {},
   "outputs": [],
   "source": [
    "df_wind_daily_all_nsp.set_index('DATE', inplace=True)"
   ]
  },
  {
   "cell_type": "code",
   "execution_count": 16,
   "metadata": {},
   "outputs": [
    {
     "data": {
      "text/html": [
       "<div>\n",
       "<style scoped>\n",
       "    .dataframe tbody tr th:only-of-type {\n",
       "        vertical-align: middle;\n",
       "    }\n",
       "\n",
       "    .dataframe tbody tr th {\n",
       "        vertical-align: top;\n",
       "    }\n",
       "\n",
       "    .dataframe thead th {\n",
       "        text-align: right;\n",
       "    }\n",
       "</style>\n",
       "<table border=\"1\" class=\"dataframe\">\n",
       "  <thead>\n",
       "    <tr style=\"text-align: right;\">\n",
       "      <th></th>\n",
       "      <th>Island</th>\n",
       "      <th>Total_TP</th>\n",
       "      <th>PS</th>\n",
       "      <th>T2M</th>\n",
       "      <th>WD50M</th>\n",
       "      <th>WD50M_rad</th>\n",
       "      <th>u</th>\n",
       "      <th>v</th>\n",
       "      <th>WS50M</th>\n",
       "    </tr>\n",
       "    <tr>\n",
       "      <th>DATE</th>\n",
       "      <th></th>\n",
       "      <th></th>\n",
       "      <th></th>\n",
       "      <th></th>\n",
       "      <th></th>\n",
       "      <th></th>\n",
       "      <th></th>\n",
       "      <th></th>\n",
       "      <th></th>\n",
       "    </tr>\n",
       "  </thead>\n",
       "  <tbody>\n",
       "    <tr>\n",
       "      <th>2015-03-01</th>\n",
       "      <td>NI</td>\n",
       "      <td>472971.4800</td>\n",
       "      <td>99.50</td>\n",
       "      <td>18.88</td>\n",
       "      <td>302.2</td>\n",
       "      <td>5.274385</td>\n",
       "      <td>0.532876</td>\n",
       "      <td>-0.846193</td>\n",
       "      <td>5.89</td>\n",
       "    </tr>\n",
       "    <tr>\n",
       "      <th>2015-03-02</th>\n",
       "      <td>NI</td>\n",
       "      <td>119485.1800</td>\n",
       "      <td>99.39</td>\n",
       "      <td>18.43</td>\n",
       "      <td>304.9</td>\n",
       "      <td>5.321509</td>\n",
       "      <td>0.572146</td>\n",
       "      <td>-0.820152</td>\n",
       "      <td>6.52</td>\n",
       "    </tr>\n",
       "    <tr>\n",
       "      <th>2015-03-03</th>\n",
       "      <td>NI</td>\n",
       "      <td>173416.5861</td>\n",
       "      <td>99.24</td>\n",
       "      <td>18.92</td>\n",
       "      <td>302.8</td>\n",
       "      <td>5.284857</td>\n",
       "      <td>0.541708</td>\n",
       "      <td>-0.840567</td>\n",
       "      <td>5.08</td>\n",
       "    </tr>\n",
       "    <tr>\n",
       "      <th>2015-03-04</th>\n",
       "      <td>NI</td>\n",
       "      <td>127370.3811</td>\n",
       "      <td>98.90</td>\n",
       "      <td>18.34</td>\n",
       "      <td>315.5</td>\n",
       "      <td>5.506514</td>\n",
       "      <td>0.713250</td>\n",
       "      <td>-0.700909</td>\n",
       "      <td>4.19</td>\n",
       "    </tr>\n",
       "    <tr>\n",
       "      <th>2015-03-05</th>\n",
       "      <td>NI</td>\n",
       "      <td>59379.3772</td>\n",
       "      <td>98.46</td>\n",
       "      <td>19.62</td>\n",
       "      <td>328.2</td>\n",
       "      <td>5.728171</td>\n",
       "      <td>0.849893</td>\n",
       "      <td>-0.526956</td>\n",
       "      <td>3.64</td>\n",
       "    </tr>\n",
       "  </tbody>\n",
       "</table>\n",
       "</div>"
      ],
      "text/plain": [
       "           Island     Total_TP     PS    T2M  WD50M  WD50M_rad         u  \\\n",
       "DATE                                                                       \n",
       "2015-03-01     NI  472971.4800  99.50  18.88  302.2   5.274385  0.532876   \n",
       "2015-03-02     NI  119485.1800  99.39  18.43  304.9   5.321509  0.572146   \n",
       "2015-03-03     NI  173416.5861  99.24  18.92  302.8   5.284857  0.541708   \n",
       "2015-03-04     NI  127370.3811  98.90  18.34  315.5   5.506514  0.713250   \n",
       "2015-03-05     NI   59379.3772  98.46  19.62  328.2   5.728171  0.849893   \n",
       "\n",
       "                   v  WS50M  \n",
       "DATE                         \n",
       "2015-03-01 -0.846193   5.89  \n",
       "2015-03-02 -0.820152   6.52  \n",
       "2015-03-03 -0.840567   5.08  \n",
       "2015-03-04 -0.700909   4.19  \n",
       "2015-03-05 -0.526956   3.64  "
      ]
     },
     "execution_count": 16,
     "metadata": {},
     "output_type": "execute_result"
    }
   ],
   "source": [
    "df_wind_daily_all_nsp.head()"
   ]
  },
  {
   "cell_type": "code",
   "execution_count": 17,
   "metadata": {},
   "outputs": [
    {
     "name": "stdout",
     "output_type": "stream",
     "text": [
      "Island\n",
      "NI    30876\n",
      "SI     4144\n",
      "dtype: int64\n"
     ]
    }
   ],
   "source": [
    "record_counts = df_wind_daily_all_nsp.groupby('Island').size()\n",
    "print(record_counts)"
   ]
  },
  {
   "cell_type": "code",
   "execution_count": 18,
   "metadata": {},
   "outputs": [
    {
     "name": "stdout",
     "output_type": "stream",
     "text": [
      "['Island', 'Total_TP', 'PS', 'T2M', 'WD50M', 'WD50M_rad', 'u', 'v', 'WS50M']\n"
     ]
    }
   ],
   "source": [
    "# list the column names\n",
    "print(df_wind_daily_all_nsp.columns.tolist())"
   ]
  },
  {
   "cell_type": "code",
   "execution_count": 19,
   "metadata": {},
   "outputs": [
    {
     "data": {
      "text/html": [
       "<div>\n",
       "<style scoped>\n",
       "    .dataframe tbody tr th:only-of-type {\n",
       "        vertical-align: middle;\n",
       "    }\n",
       "\n",
       "    .dataframe tbody tr th {\n",
       "        vertical-align: top;\n",
       "    }\n",
       "\n",
       "    .dataframe thead th {\n",
       "        text-align: right;\n",
       "    }\n",
       "</style>\n",
       "<table border=\"1\" class=\"dataframe\">\n",
       "  <thead>\n",
       "    <tr style=\"text-align: right;\">\n",
       "      <th></th>\n",
       "      <th>Island</th>\n",
       "      <th>Total_TP</th>\n",
       "      <th>PS</th>\n",
       "      <th>T2M</th>\n",
       "      <th>WD50M</th>\n",
       "      <th>WD50M_rad</th>\n",
       "      <th>u</th>\n",
       "      <th>v</th>\n",
       "      <th>WS50M</th>\n",
       "    </tr>\n",
       "    <tr>\n",
       "      <th>DATE</th>\n",
       "      <th></th>\n",
       "      <th></th>\n",
       "      <th></th>\n",
       "      <th></th>\n",
       "      <th></th>\n",
       "      <th></th>\n",
       "      <th></th>\n",
       "      <th></th>\n",
       "      <th></th>\n",
       "    </tr>\n",
       "  </thead>\n",
       "  <tbody>\n",
       "    <tr>\n",
       "      <th>2015-03-01</th>\n",
       "      <td>NI</td>\n",
       "      <td>472971.4800</td>\n",
       "      <td>99.50</td>\n",
       "      <td>18.88</td>\n",
       "      <td>302.2</td>\n",
       "      <td>5.274385</td>\n",
       "      <td>0.532876</td>\n",
       "      <td>-0.846193</td>\n",
       "      <td>5.89</td>\n",
       "    </tr>\n",
       "    <tr>\n",
       "      <th>2015-03-02</th>\n",
       "      <td>NI</td>\n",
       "      <td>119485.1800</td>\n",
       "      <td>99.39</td>\n",
       "      <td>18.43</td>\n",
       "      <td>304.9</td>\n",
       "      <td>5.321509</td>\n",
       "      <td>0.572146</td>\n",
       "      <td>-0.820152</td>\n",
       "      <td>6.52</td>\n",
       "    </tr>\n",
       "    <tr>\n",
       "      <th>2015-03-03</th>\n",
       "      <td>NI</td>\n",
       "      <td>173416.5861</td>\n",
       "      <td>99.24</td>\n",
       "      <td>18.92</td>\n",
       "      <td>302.8</td>\n",
       "      <td>5.284857</td>\n",
       "      <td>0.541708</td>\n",
       "      <td>-0.840567</td>\n",
       "      <td>5.08</td>\n",
       "    </tr>\n",
       "    <tr>\n",
       "      <th>2015-03-04</th>\n",
       "      <td>NI</td>\n",
       "      <td>127370.3811</td>\n",
       "      <td>98.90</td>\n",
       "      <td>18.34</td>\n",
       "      <td>315.5</td>\n",
       "      <td>5.506514</td>\n",
       "      <td>0.713250</td>\n",
       "      <td>-0.700909</td>\n",
       "      <td>4.19</td>\n",
       "    </tr>\n",
       "    <tr>\n",
       "      <th>2015-03-05</th>\n",
       "      <td>NI</td>\n",
       "      <td>59379.3772</td>\n",
       "      <td>98.46</td>\n",
       "      <td>19.62</td>\n",
       "      <td>328.2</td>\n",
       "      <td>5.728171</td>\n",
       "      <td>0.849893</td>\n",
       "      <td>-0.526956</td>\n",
       "      <td>3.64</td>\n",
       "    </tr>\n",
       "    <tr>\n",
       "      <th>...</th>\n",
       "      <td>...</td>\n",
       "      <td>...</td>\n",
       "      <td>...</td>\n",
       "      <td>...</td>\n",
       "      <td>...</td>\n",
       "      <td>...</td>\n",
       "      <td>...</td>\n",
       "      <td>...</td>\n",
       "      <td>...</td>\n",
       "    </tr>\n",
       "    <tr>\n",
       "      <th>2025-01-27</th>\n",
       "      <td>NI</td>\n",
       "      <td>443172.0000</td>\n",
       "      <td>100.13</td>\n",
       "      <td>15.20</td>\n",
       "      <td>185.2</td>\n",
       "      <td>3.232350</td>\n",
       "      <td>-0.995884</td>\n",
       "      <td>-0.090633</td>\n",
       "      <td>6.37</td>\n",
       "    </tr>\n",
       "    <tr>\n",
       "      <th>2025-01-28</th>\n",
       "      <td>NI</td>\n",
       "      <td>338884.0000</td>\n",
       "      <td>101.12</td>\n",
       "      <td>16.11</td>\n",
       "      <td>342.9</td>\n",
       "      <td>5.984734</td>\n",
       "      <td>0.955793</td>\n",
       "      <td>-0.294040</td>\n",
       "      <td>5.59</td>\n",
       "    </tr>\n",
       "    <tr>\n",
       "      <th>2025-01-29</th>\n",
       "      <td>NI</td>\n",
       "      <td>983736.0000</td>\n",
       "      <td>100.28</td>\n",
       "      <td>17.92</td>\n",
       "      <td>320.9</td>\n",
       "      <td>5.600762</td>\n",
       "      <td>0.776046</td>\n",
       "      <td>-0.630676</td>\n",
       "      <td>10.59</td>\n",
       "    </tr>\n",
       "    <tr>\n",
       "      <th>2025-01-30</th>\n",
       "      <td>NI</td>\n",
       "      <td>114433.0000</td>\n",
       "      <td>100.73</td>\n",
       "      <td>16.00</td>\n",
       "      <td>134.7</td>\n",
       "      <td>2.350959</td>\n",
       "      <td>-0.703395</td>\n",
       "      <td>0.710799</td>\n",
       "      <td>3.85</td>\n",
       "    </tr>\n",
       "    <tr>\n",
       "      <th>2025-01-31</th>\n",
       "      <td>NI</td>\n",
       "      <td>544447.0000</td>\n",
       "      <td>100.91</td>\n",
       "      <td>17.22</td>\n",
       "      <td>338.2</td>\n",
       "      <td>5.902704</td>\n",
       "      <td>0.928486</td>\n",
       "      <td>-0.371368</td>\n",
       "      <td>5.09</td>\n",
       "    </tr>\n",
       "  </tbody>\n",
       "</table>\n",
       "<p>35020 rows × 9 columns</p>\n",
       "</div>"
      ],
      "text/plain": [
       "           Island     Total_TP      PS    T2M  WD50M  WD50M_rad         u  \\\n",
       "DATE                                                                        \n",
       "2015-03-01     NI  472971.4800   99.50  18.88  302.2   5.274385  0.532876   \n",
       "2015-03-02     NI  119485.1800   99.39  18.43  304.9   5.321509  0.572146   \n",
       "2015-03-03     NI  173416.5861   99.24  18.92  302.8   5.284857  0.541708   \n",
       "2015-03-04     NI  127370.3811   98.90  18.34  315.5   5.506514  0.713250   \n",
       "2015-03-05     NI   59379.3772   98.46  19.62  328.2   5.728171  0.849893   \n",
       "...           ...          ...     ...    ...    ...        ...       ...   \n",
       "2025-01-27     NI  443172.0000  100.13  15.20  185.2   3.232350 -0.995884   \n",
       "2025-01-28     NI  338884.0000  101.12  16.11  342.9   5.984734  0.955793   \n",
       "2025-01-29     NI  983736.0000  100.28  17.92  320.9   5.600762  0.776046   \n",
       "2025-01-30     NI  114433.0000  100.73  16.00  134.7   2.350959 -0.703395   \n",
       "2025-01-31     NI  544447.0000  100.91  17.22  338.2   5.902704  0.928486   \n",
       "\n",
       "                   v  WS50M  \n",
       "DATE                         \n",
       "2015-03-01 -0.846193   5.89  \n",
       "2015-03-02 -0.820152   6.52  \n",
       "2015-03-03 -0.840567   5.08  \n",
       "2015-03-04 -0.700909   4.19  \n",
       "2015-03-05 -0.526956   3.64  \n",
       "...              ...    ...  \n",
       "2025-01-27 -0.090633   6.37  \n",
       "2025-01-28 -0.294040   5.59  \n",
       "2025-01-29 -0.630676  10.59  \n",
       "2025-01-30  0.710799   3.85  \n",
       "2025-01-31 -0.371368   5.09  \n",
       "\n",
       "[35020 rows x 9 columns]"
      ]
     },
     "execution_count": 19,
     "metadata": {},
     "output_type": "execute_result"
    }
   ],
   "source": [
    "df_wind_daily_all_nsp"
   ]
  },
  {
   "cell_type": "code",
   "execution_count": 20,
   "metadata": {},
   "outputs": [],
   "source": [
    "# 1. Define custom agg: sum for some columns, mean for the rest\n",
    "agg_dict = {\n",
    "    'Total_TP':    'sum',\n",
    "    'PS':          'mean',\n",
    "    'T2M':         'mean',\n",
    "    'WS50M':       'mean'\n",
    "   }"
   ]
  },
  {
   "cell_type": "code",
   "execution_count": 21,
   "metadata": {},
   "outputs": [],
   "source": [
    "# Perform weekly aggregation grouped by Island\n",
    "df_wind_weekly = df_wind_daily_all_nsp.groupby([pd.Grouper(freq='W'), 'Island']).agg(agg_dict)"
   ]
  },
  {
   "cell_type": "code",
   "execution_count": 22,
   "metadata": {},
   "outputs": [
    {
     "data": {
      "text/html": [
       "<div>\n",
       "<style scoped>\n",
       "    .dataframe tbody tr th:only-of-type {\n",
       "        vertical-align: middle;\n",
       "    }\n",
       "\n",
       "    .dataframe tbody tr th {\n",
       "        vertical-align: top;\n",
       "    }\n",
       "\n",
       "    .dataframe thead th {\n",
       "        text-align: right;\n",
       "    }\n",
       "</style>\n",
       "<table border=\"1\" class=\"dataframe\">\n",
       "  <thead>\n",
       "    <tr style=\"text-align: right;\">\n",
       "      <th></th>\n",
       "      <th></th>\n",
       "      <th>Total_TP</th>\n",
       "      <th>PS</th>\n",
       "      <th>T2M</th>\n",
       "      <th>WS50M</th>\n",
       "    </tr>\n",
       "    <tr>\n",
       "      <th>DATE</th>\n",
       "      <th>Island</th>\n",
       "      <th></th>\n",
       "      <th></th>\n",
       "      <th></th>\n",
       "      <th></th>\n",
       "    </tr>\n",
       "  </thead>\n",
       "  <tbody>\n",
       "    <tr>\n",
       "      <th rowspan=\"2\" valign=\"top\">2015-03-01</th>\n",
       "      <th>NI</th>\n",
       "      <td>5.260841e+06</td>\n",
       "      <td>100.112857</td>\n",
       "      <td>19.091429</td>\n",
       "      <td>5.437143</td>\n",
       "    </tr>\n",
       "    <tr>\n",
       "      <th>SI</th>\n",
       "      <td>6.983304e+05</td>\n",
       "      <td>100.890000</td>\n",
       "      <td>16.700000</td>\n",
       "      <td>6.830000</td>\n",
       "    </tr>\n",
       "    <tr>\n",
       "      <th rowspan=\"2\" valign=\"top\">2015-03-08</th>\n",
       "      <th>NI</th>\n",
       "      <td>2.970966e+07</td>\n",
       "      <td>99.060204</td>\n",
       "      <td>18.372449</td>\n",
       "      <td>7.480408</td>\n",
       "    </tr>\n",
       "    <tr>\n",
       "      <th>SI</th>\n",
       "      <td>2.978269e+06</td>\n",
       "      <td>99.881429</td>\n",
       "      <td>13.911429</td>\n",
       "      <td>6.545714</td>\n",
       "    </tr>\n",
       "    <tr>\n",
       "      <th>2015-03-15</th>\n",
       "      <th>NI</th>\n",
       "      <td>1.724348e+07</td>\n",
       "      <td>99.761224</td>\n",
       "      <td>17.476327</td>\n",
       "      <td>4.644694</td>\n",
       "    </tr>\n",
       "  </tbody>\n",
       "</table>\n",
       "</div>"
      ],
      "text/plain": [
       "                       Total_TP          PS        T2M     WS50M\n",
       "DATE       Island                                               \n",
       "2015-03-01 NI      5.260841e+06  100.112857  19.091429  5.437143\n",
       "           SI      6.983304e+05  100.890000  16.700000  6.830000\n",
       "2015-03-08 NI      2.970966e+07   99.060204  18.372449  7.480408\n",
       "           SI      2.978269e+06   99.881429  13.911429  6.545714\n",
       "2015-03-15 NI      1.724348e+07   99.761224  17.476327  4.644694"
      ]
     },
     "execution_count": 22,
     "metadata": {},
     "output_type": "execute_result"
    }
   ],
   "source": [
    "df_wind_weekly.head()"
   ]
  },
  {
   "cell_type": "code",
   "execution_count": 23,
   "metadata": {},
   "outputs": [],
   "source": [
    "#North Island specific data\n",
    "df_wind_weekly_north = df_wind_weekly.xs('NI', level='Island')"
   ]
  },
  {
   "cell_type": "code",
   "execution_count": 24,
   "metadata": {},
   "outputs": [
    {
     "name": "stdout",
     "output_type": "stream",
     "text": [
      "(519, 4)\n"
     ]
    }
   ],
   "source": [
    "print(df_wind_weekly_north.shape)"
   ]
  },
  {
   "cell_type": "code",
   "execution_count": 25,
   "metadata": {},
   "outputs": [],
   "source": [
    "#South Island specific data\n",
    "df_wind_weekly_south = df_wind_weekly.xs('SI', level='Island')"
   ]
  },
  {
   "cell_type": "code",
   "execution_count": 26,
   "metadata": {},
   "outputs": [
    {
     "name": "stdout",
     "output_type": "stream",
     "text": [
      "(519, 4)\n"
     ]
    }
   ],
   "source": [
    "print(df_wind_weekly_south.shape)"
   ]
  },
  {
   "cell_type": "code",
   "execution_count": 27,
   "metadata": {},
   "outputs": [
    {
     "name": "stdout",
     "output_type": "stream",
     "text": [
      "Number of weekly records with Total_TP equal to 0: 0\n",
      "Empty DataFrame\n",
      "Columns: [Total_TP, PS, T2M, WS50M]\n",
      "Index: []\n"
     ]
    }
   ],
   "source": [
    "# Check for rows where Total_TP equals 0.0\n",
    "zero_records = df_wind_weekly[df_wind_weekly['Total_TP'] == 0.0]\n",
    "print(\"Number of weekly records with Total_TP equal to 0:\", len(zero_records))\n",
    "print(zero_records)"
   ]
  },
  {
   "cell_type": "code",
   "execution_count": 28,
   "metadata": {},
   "outputs": [],
   "source": [
    "df_wind_weekly_north_before = df_wind_weekly_north.copy()"
   ]
  },
  {
   "cell_type": "code",
   "execution_count": 29,
   "metadata": {},
   "outputs": [],
   "source": [
    "# Drop the 2015‑03‑01 and 2025-02-02\t rows , looks incomplete\n",
    "df_wind_weekly_north = df_wind_weekly_north.drop(index=pd.to_datetime('2015-03-01'))\n",
    "df_wind_weekly_north = df_wind_weekly_north.drop(index=pd.to_datetime('2025-02-02'))"
   ]
  },
  {
   "cell_type": "code",
   "execution_count": 30,
   "metadata": {},
   "outputs": [
    {
     "name": "stdout",
     "output_type": "stream",
     "text": [
      "(517, 4)\n"
     ]
    }
   ],
   "source": [
    "print(df_wind_weekly_north.shape)"
   ]
  },
  {
   "cell_type": "code",
   "execution_count": 31,
   "metadata": {},
   "outputs": [],
   "source": [
    "df_wind_weekly_south_before = df_wind_weekly_south.copy()"
   ]
  },
  {
   "cell_type": "code",
   "execution_count": 32,
   "metadata": {},
   "outputs": [],
   "source": [
    "# Drop the 2015‑03‑01 and 2025-02-02\t rows , looks incomplete\n",
    "df_wind_weekly_south = df_wind_weekly_south.drop(index=pd.to_datetime('2015-03-01'))\n",
    "df_wind_weekly_south = df_wind_weekly_south.drop(index=pd.to_datetime('2025-02-02'))"
   ]
  },
  {
   "cell_type": "code",
   "execution_count": 33,
   "metadata": {},
   "outputs": [
    {
     "name": "stdout",
     "output_type": "stream",
     "text": [
      "(517, 4)\n"
     ]
    }
   ],
   "source": [
    "print(df_wind_weekly_south.shape)"
   ]
  },
  {
   "cell_type": "markdown",
   "metadata": {},
   "source": [
    "## North Island Daily"
   ]
  },
  {
   "cell_type": "code",
   "execution_count": 35,
   "metadata": {},
   "outputs": [],
   "source": [
    "# Add 1 to 2-week lagged climate features\n",
    "df_wind_weekly_north['TP_lag1w'] = df_wind_weekly_north['Total_TP'].shift(1)\n",
    "df_wind_weekly_north['T2M_lag1w'] = df_wind_weekly_north['T2M'].shift(1)\n",
    "df_wind_weekly_north['PS_lag1w'] = df_wind_weekly_north['PS'].shift(1)\n",
    "df_wind_weekly_north['WS50M_lag1w'] = df_wind_weekly_north['WS50M'].shift(1)\n",
    "df_wind_weekly_north['WS50M_lag2w'] = df_wind_weekly_north['WS50M'].shift(2)\n",
    "df_wind_weekly_north['WS50M_EWMA'] = df_wind_weekly_north['WS50M'].ewm(alpha=0.3, adjust=False).mean()\n",
    "#df_hydro_weekly_north['APIxGWETPROF'] = df_hydro_weekly_north['PRECIP_EWMA'] * df_hydro_weekly_north['GWETPROF']"
   ]
  },
  {
   "cell_type": "code",
   "execution_count": 36,
   "metadata": {},
   "outputs": [
    {
     "name": "stdout",
     "output_type": "stream",
     "text": [
      "['Total_TP', 'PS', 'T2M', 'WS50M', 'TP_lag1w', 'T2M_lag1w', 'PS_lag1w', 'WS50M_lag1w', 'WS50M_lag2w', 'WS50M_EWMA']\n"
     ]
    }
   ],
   "source": [
    "print(df_wind_weekly_north.columns.tolist())"
   ]
  },
  {
   "cell_type": "code",
   "execution_count": 37,
   "metadata": {},
   "outputs": [
    {
     "data": {
      "text/html": [
       "<div>\n",
       "<style scoped>\n",
       "    .dataframe tbody tr th:only-of-type {\n",
       "        vertical-align: middle;\n",
       "    }\n",
       "\n",
       "    .dataframe tbody tr th {\n",
       "        vertical-align: top;\n",
       "    }\n",
       "\n",
       "    .dataframe thead th {\n",
       "        text-align: right;\n",
       "    }\n",
       "</style>\n",
       "<table border=\"1\" class=\"dataframe\">\n",
       "  <thead>\n",
       "    <tr style=\"text-align: right;\">\n",
       "      <th></th>\n",
       "      <th>Total_TP</th>\n",
       "      <th>PS</th>\n",
       "      <th>T2M</th>\n",
       "      <th>WS50M</th>\n",
       "      <th>TP_lag1w</th>\n",
       "      <th>T2M_lag1w</th>\n",
       "      <th>PS_lag1w</th>\n",
       "      <th>WS50M_lag1w</th>\n",
       "      <th>WS50M_lag2w</th>\n",
       "      <th>WS50M_EWMA</th>\n",
       "    </tr>\n",
       "    <tr>\n",
       "      <th>DATE</th>\n",
       "      <th></th>\n",
       "      <th></th>\n",
       "      <th></th>\n",
       "      <th></th>\n",
       "      <th></th>\n",
       "      <th></th>\n",
       "      <th></th>\n",
       "      <th></th>\n",
       "      <th></th>\n",
       "      <th></th>\n",
       "    </tr>\n",
       "  </thead>\n",
       "  <tbody>\n",
       "    <tr>\n",
       "      <th>2015-03-22</th>\n",
       "      <td>2.317096e+07</td>\n",
       "      <td>99.580612</td>\n",
       "      <td>13.854694</td>\n",
       "      <td>7.118980</td>\n",
       "      <td>1.724348e+07</td>\n",
       "      <td>17.476327</td>\n",
       "      <td>99.761224</td>\n",
       "      <td>4.644694</td>\n",
       "      <td>7.480408</td>\n",
       "      <td>6.776480</td>\n",
       "    </tr>\n",
       "    <tr>\n",
       "      <th>2015-03-29</th>\n",
       "      <td>2.053256e+07</td>\n",
       "      <td>99.906531</td>\n",
       "      <td>16.650408</td>\n",
       "      <td>5.629796</td>\n",
       "      <td>2.317096e+07</td>\n",
       "      <td>13.854694</td>\n",
       "      <td>99.580612</td>\n",
       "      <td>7.118980</td>\n",
       "      <td>4.644694</td>\n",
       "      <td>6.432474</td>\n",
       "    </tr>\n",
       "    <tr>\n",
       "      <th>2015-04-05</th>\n",
       "      <td>3.000496e+07</td>\n",
       "      <td>100.376327</td>\n",
       "      <td>16.031224</td>\n",
       "      <td>6.114286</td>\n",
       "      <td>2.053256e+07</td>\n",
       "      <td>16.650408</td>\n",
       "      <td>99.906531</td>\n",
       "      <td>5.629796</td>\n",
       "      <td>7.118980</td>\n",
       "      <td>6.337018</td>\n",
       "    </tr>\n",
       "    <tr>\n",
       "      <th>2015-04-12</th>\n",
       "      <td>3.550845e+07</td>\n",
       "      <td>99.678367</td>\n",
       "      <td>16.105510</td>\n",
       "      <td>8.142449</td>\n",
       "      <td>3.000496e+07</td>\n",
       "      <td>16.031224</td>\n",
       "      <td>100.376327</td>\n",
       "      <td>6.114286</td>\n",
       "      <td>5.629796</td>\n",
       "      <td>6.878647</td>\n",
       "    </tr>\n",
       "    <tr>\n",
       "      <th>2015-04-19</th>\n",
       "      <td>2.991374e+07</td>\n",
       "      <td>99.568980</td>\n",
       "      <td>11.181837</td>\n",
       "      <td>7.519388</td>\n",
       "      <td>3.550845e+07</td>\n",
       "      <td>16.105510</td>\n",
       "      <td>99.678367</td>\n",
       "      <td>8.142449</td>\n",
       "      <td>6.114286</td>\n",
       "      <td>7.070869</td>\n",
       "    </tr>\n",
       "  </tbody>\n",
       "</table>\n",
       "</div>"
      ],
      "text/plain": [
       "                Total_TP          PS        T2M     WS50M      TP_lag1w  \\\n",
       "DATE                                                                      \n",
       "2015-03-22  2.317096e+07   99.580612  13.854694  7.118980  1.724348e+07   \n",
       "2015-03-29  2.053256e+07   99.906531  16.650408  5.629796  2.317096e+07   \n",
       "2015-04-05  3.000496e+07  100.376327  16.031224  6.114286  2.053256e+07   \n",
       "2015-04-12  3.550845e+07   99.678367  16.105510  8.142449  3.000496e+07   \n",
       "2015-04-19  2.991374e+07   99.568980  11.181837  7.519388  3.550845e+07   \n",
       "\n",
       "            T2M_lag1w    PS_lag1w  WS50M_lag1w  WS50M_lag2w  WS50M_EWMA  \n",
       "DATE                                                                     \n",
       "2015-03-22  17.476327   99.761224     4.644694     7.480408    6.776480  \n",
       "2015-03-29  13.854694   99.580612     7.118980     4.644694    6.432474  \n",
       "2015-04-05  16.650408   99.906531     5.629796     7.118980    6.337018  \n",
       "2015-04-12  16.031224  100.376327     6.114286     5.629796    6.878647  \n",
       "2015-04-19  16.105510   99.678367     8.142449     6.114286    7.070869  "
      ]
     },
     "execution_count": 37,
     "metadata": {},
     "output_type": "execute_result"
    }
   ],
   "source": [
    "# Retain only lagged + target, drop NA\n",
    "df_wind_weekly_lagged_north = df_wind_weekly_north[['Total_TP', 'PS', 'T2M', 'WS50M', 'TP_lag1w', 'T2M_lag1w', 'PS_lag1w', 'WS50M_lag1w', 'WS50M_lag2w', 'WS50M_EWMA']].dropna()\n",
    "df_wind_weekly_lagged_north.head()"
   ]
  },
  {
   "cell_type": "raw",
   "metadata": {},
   "source": [
    "##########   Feature Engineering    ##########"
   ]
  },
  {
   "cell_type": "code",
   "execution_count": 38,
   "metadata": {},
   "outputs": [],
   "source": [
    "#   Set seeds for reproducibility  \n",
    "np.random.seed(42)\n",
    "random.seed(42)\n",
    "tf.random.set_seed(42)"
   ]
  },
  {
   "cell_type": "code",
   "execution_count": 39,
   "metadata": {},
   "outputs": [
    {
     "data": {
      "text/html": [
       "<div>\n",
       "<style scoped>\n",
       "    .dataframe tbody tr th:only-of-type {\n",
       "        vertical-align: middle;\n",
       "    }\n",
       "\n",
       "    .dataframe tbody tr th {\n",
       "        vertical-align: top;\n",
       "    }\n",
       "\n",
       "    .dataframe thead th {\n",
       "        text-align: right;\n",
       "    }\n",
       "</style>\n",
       "<table border=\"1\" class=\"dataframe\">\n",
       "  <thead>\n",
       "    <tr style=\"text-align: right;\">\n",
       "      <th></th>\n",
       "      <th>Total_TP</th>\n",
       "      <th>PS</th>\n",
       "      <th>T2M</th>\n",
       "      <th>WS50M</th>\n",
       "      <th>TP_lag1w</th>\n",
       "      <th>T2M_lag1w</th>\n",
       "      <th>PS_lag1w</th>\n",
       "      <th>WS50M_lag1w</th>\n",
       "      <th>WS50M_lag2w</th>\n",
       "      <th>WS50M_EWMA</th>\n",
       "    </tr>\n",
       "    <tr>\n",
       "      <th>DATE</th>\n",
       "      <th></th>\n",
       "      <th></th>\n",
       "      <th></th>\n",
       "      <th></th>\n",
       "      <th></th>\n",
       "      <th></th>\n",
       "      <th></th>\n",
       "      <th></th>\n",
       "      <th></th>\n",
       "      <th></th>\n",
       "    </tr>\n",
       "  </thead>\n",
       "  <tbody>\n",
       "    <tr>\n",
       "      <th>2015-03-22</th>\n",
       "      <td>2.317096e+07</td>\n",
       "      <td>99.580612</td>\n",
       "      <td>13.854694</td>\n",
       "      <td>7.118980</td>\n",
       "      <td>1.724348e+07</td>\n",
       "      <td>17.476327</td>\n",
       "      <td>99.761224</td>\n",
       "      <td>4.644694</td>\n",
       "      <td>7.480408</td>\n",
       "      <td>6.776480</td>\n",
       "    </tr>\n",
       "    <tr>\n",
       "      <th>2015-03-29</th>\n",
       "      <td>2.053256e+07</td>\n",
       "      <td>99.906531</td>\n",
       "      <td>16.650408</td>\n",
       "      <td>5.629796</td>\n",
       "      <td>2.317096e+07</td>\n",
       "      <td>13.854694</td>\n",
       "      <td>99.580612</td>\n",
       "      <td>7.118980</td>\n",
       "      <td>4.644694</td>\n",
       "      <td>6.432474</td>\n",
       "    </tr>\n",
       "    <tr>\n",
       "      <th>2015-04-05</th>\n",
       "      <td>3.000496e+07</td>\n",
       "      <td>100.376327</td>\n",
       "      <td>16.031224</td>\n",
       "      <td>6.114286</td>\n",
       "      <td>2.053256e+07</td>\n",
       "      <td>16.650408</td>\n",
       "      <td>99.906531</td>\n",
       "      <td>5.629796</td>\n",
       "      <td>7.118980</td>\n",
       "      <td>6.337018</td>\n",
       "    </tr>\n",
       "    <tr>\n",
       "      <th>2015-04-12</th>\n",
       "      <td>3.550845e+07</td>\n",
       "      <td>99.678367</td>\n",
       "      <td>16.105510</td>\n",
       "      <td>8.142449</td>\n",
       "      <td>3.000496e+07</td>\n",
       "      <td>16.031224</td>\n",
       "      <td>100.376327</td>\n",
       "      <td>6.114286</td>\n",
       "      <td>5.629796</td>\n",
       "      <td>6.878647</td>\n",
       "    </tr>\n",
       "    <tr>\n",
       "      <th>2015-04-19</th>\n",
       "      <td>2.991374e+07</td>\n",
       "      <td>99.568980</td>\n",
       "      <td>11.181837</td>\n",
       "      <td>7.519388</td>\n",
       "      <td>3.550845e+07</td>\n",
       "      <td>16.105510</td>\n",
       "      <td>99.678367</td>\n",
       "      <td>8.142449</td>\n",
       "      <td>6.114286</td>\n",
       "      <td>7.070869</td>\n",
       "    </tr>\n",
       "  </tbody>\n",
       "</table>\n",
       "</div>"
      ],
      "text/plain": [
       "                Total_TP          PS        T2M     WS50M      TP_lag1w  \\\n",
       "DATE                                                                      \n",
       "2015-03-22  2.317096e+07   99.580612  13.854694  7.118980  1.724348e+07   \n",
       "2015-03-29  2.053256e+07   99.906531  16.650408  5.629796  2.317096e+07   \n",
       "2015-04-05  3.000496e+07  100.376327  16.031224  6.114286  2.053256e+07   \n",
       "2015-04-12  3.550845e+07   99.678367  16.105510  8.142449  3.000496e+07   \n",
       "2015-04-19  2.991374e+07   99.568980  11.181837  7.519388  3.550845e+07   \n",
       "\n",
       "            T2M_lag1w    PS_lag1w  WS50M_lag1w  WS50M_lag2w  WS50M_EWMA  \n",
       "DATE                                                                     \n",
       "2015-03-22  17.476327   99.761224     4.644694     7.480408    6.776480  \n",
       "2015-03-29  13.854694   99.580612     7.118980     4.644694    6.432474  \n",
       "2015-04-05  16.650408   99.906531     5.629796     7.118980    6.337018  \n",
       "2015-04-12  16.031224  100.376327     6.114286     5.629796    6.878647  \n",
       "2015-04-19  16.105510   99.678367     8.142449     6.114286    7.070869  "
      ]
     },
     "execution_count": 39,
     "metadata": {},
     "output_type": "execute_result"
    }
   ],
   "source": [
    "df_wind_weekly_lagged_north.head()"
   ]
  },
  {
   "cell_type": "code",
   "execution_count": 40,
   "metadata": {},
   "outputs": [],
   "source": [
    "# 2) Data prep (no randomness here, aside from ’shift’ which is deterministic)\n",
    "df_ann_wind_north_wk = df_wind_weekly_lagged_north[['Total_TP','TP_lag1w']]"
   ]
  },
  {
   "cell_type": "code",
   "execution_count": 41,
   "metadata": {},
   "outputs": [
    {
     "data": {
      "text/html": [
       "<div>\n",
       "<style scoped>\n",
       "    .dataframe tbody tr th:only-of-type {\n",
       "        vertical-align: middle;\n",
       "    }\n",
       "\n",
       "    .dataframe tbody tr th {\n",
       "        vertical-align: top;\n",
       "    }\n",
       "\n",
       "    .dataframe thead th {\n",
       "        text-align: right;\n",
       "    }\n",
       "</style>\n",
       "<table border=\"1\" class=\"dataframe\">\n",
       "  <thead>\n",
       "    <tr style=\"text-align: right;\">\n",
       "      <th></th>\n",
       "      <th>Total_TP</th>\n",
       "      <th>TP_lag1w</th>\n",
       "    </tr>\n",
       "    <tr>\n",
       "      <th>DATE</th>\n",
       "      <th></th>\n",
       "      <th></th>\n",
       "    </tr>\n",
       "  </thead>\n",
       "  <tbody>\n",
       "    <tr>\n",
       "      <th>2015-03-22</th>\n",
       "      <td>2.317096e+07</td>\n",
       "      <td>1.724348e+07</td>\n",
       "    </tr>\n",
       "    <tr>\n",
       "      <th>2015-03-29</th>\n",
       "      <td>2.053256e+07</td>\n",
       "      <td>2.317096e+07</td>\n",
       "    </tr>\n",
       "    <tr>\n",
       "      <th>2015-04-05</th>\n",
       "      <td>3.000496e+07</td>\n",
       "      <td>2.053256e+07</td>\n",
       "    </tr>\n",
       "    <tr>\n",
       "      <th>2015-04-12</th>\n",
       "      <td>3.550845e+07</td>\n",
       "      <td>3.000496e+07</td>\n",
       "    </tr>\n",
       "    <tr>\n",
       "      <th>2015-04-19</th>\n",
       "      <td>2.991374e+07</td>\n",
       "      <td>3.550845e+07</td>\n",
       "    </tr>\n",
       "  </tbody>\n",
       "</table>\n",
       "</div>"
      ],
      "text/plain": [
       "                Total_TP      TP_lag1w\n",
       "DATE                                  \n",
       "2015-03-22  2.317096e+07  1.724348e+07\n",
       "2015-03-29  2.053256e+07  2.317096e+07\n",
       "2015-04-05  3.000496e+07  2.053256e+07\n",
       "2015-04-12  3.550845e+07  3.000496e+07\n",
       "2015-04-19  2.991374e+07  3.550845e+07"
      ]
     },
     "execution_count": 41,
     "metadata": {},
     "output_type": "execute_result"
    }
   ],
   "source": [
    "df_ann_wind_north_wk.head()"
   ]
  },
  {
   "cell_type": "code",
   "execution_count": 42,
   "metadata": {},
   "outputs": [],
   "source": [
    "n_wind_ann     = len(df_ann_wind_north_wk)\n",
    "split_ann = int(n_wind_ann * 0.8)\n",
    "\n",
    "train_n_ann = df_ann_wind_north_wk.iloc[:split_ann]\n",
    "test_n_ann  = df_ann_wind_north_wk.iloc[split_ann:]\n",
    "\n",
    "X_train = train_n_ann[['TP_lag1w']].values\n",
    "y_train = train_n_ann['Total_TP'].values.reshape(-1,1)\n",
    "X_test  = test_n_ann[['TP_lag1w']].values\n",
    "y_test  = test_n_ann['Total_TP'].values.reshape(-1,1)\n"
   ]
  },
  {
   "cell_type": "code",
   "execution_count": 43,
   "metadata": {},
   "outputs": [],
   "source": [
    "# 3) Scaling\n",
    "scaler_X = MinMaxScaler()\n",
    "X_train_s = scaler_X.fit_transform(X_train)\n",
    "X_test_s  = scaler_X.transform(X_test)\n",
    "\n",
    "scaler_y = MinMaxScaler()\n",
    "y_train_s = scaler_y.fit_transform(y_train)\n",
    "# (We hold off on transforming y_test because we want raw y_test for metrics.)"
   ]
  },
  {
   "cell_type": "code",
   "execution_count": 44,
   "metadata": {},
   "outputs": [
    {
     "name": "stderr",
     "output_type": "stream",
     "text": [
      "C:\\Users\\nwn86\\anaconda3\\Lib\\site-packages\\keras\\src\\layers\\core\\dense.py:87: UserWarning: Do not pass an `input_shape`/`input_dim` argument to a layer. When using Sequential models, prefer using an `Input(shape)` object as the first layer in the model instead.\n",
      "  super().__init__(activity_regularizer=activity_regularizer, **kwargs)\n"
     ]
    }
   ],
   "source": [
    "# 4) Build the ANN\n",
    "model_ann = Sequential([\n",
    "    Dense(16, activation='relu', input_shape=(1,)),\n",
    "    Dense(8,  activation='relu'),\n",
    "    Dense(1)\n",
    "])\n",
    "model_ann.compile(optimizer='adam', loss='mse')"
   ]
  },
  {
   "cell_type": "code",
   "execution_count": 45,
   "metadata": {},
   "outputs": [],
   "source": [
    "# 5) Train the ANN (the shuffle order is now deterministic)\n",
    "history = model_ann.fit(\n",
    "    X_train_s, y_train_s,\n",
    "    epochs=100,\n",
    "    batch_size=16,\n",
    "    validation_split=0.05,\n",
    "    verbose=0\n",
    ")"
   ]
  },
  {
   "cell_type": "code",
   "execution_count": 46,
   "metadata": {},
   "outputs": [
    {
     "name": "stdout",
     "output_type": "stream",
     "text": [
      "\u001b[1m4/4\u001b[0m \u001b[32m━━━━━━━━━━━━━━━━━━━━\u001b[0m\u001b[37m\u001b[0m \u001b[1m0s\u001b[0m 28ms/step\n"
     ]
    }
   ],
   "source": [
    "# 6) Predict & rescale\n",
    "y_pred_s = model_ann.predict(X_test_s)\n",
    "y_pred   = scaler_y.inverse_transform(y_pred_s).flatten()"
   ]
  },
  {
   "cell_type": "code",
   "execution_count": 47,
   "metadata": {},
   "outputs": [
    {
     "name": "stdout",
     "output_type": "stream",
     "text": [
      "North Island (without regressors) - Wind - ANN - MAE: 19554300.14, RMSE: 23627402.89, MAPE: 30.94%\n"
     ]
    }
   ],
   "source": [
    "# 7) Metrics on raw scale\n",
    "mae_ann  = mean_absolute_error(y_test.flatten(), y_pred)\n",
    "rmse_ann = np.sqrt(mean_squared_error(y_test.flatten(), y_pred))\n",
    "mape_ann = np.mean(np.abs((y_test.flatten() - y_pred) / y_test.flatten())) * 100\n",
    "\n",
    "print(f\"North Island (without regressors) - Wind - ANN - MAE: {mae_ann:.2f}, RMSE: {rmse_ann:.2f}, MAPE: {mape_ann:.2f}%\")"
   ]
  },
  {
   "cell_type": "code",
   "execution_count": 48,
   "metadata": {},
   "outputs": [
    {
     "data": {
      "image/png": "[encoded data removed]",
      "text/plain": [
       "<Figure size 1200x500 with 1 Axes>"
      ]
     },
     "metadata": {},
     "output_type": "display_data"
    }
   ],
   "source": [
    "plt.figure(figsize=(12,5))\n",
    "plt.plot(train_n_ann.index,y_train.flatten(),label=\"Train(2015 -> split)\",color=\"lightgray\")\n",
    "plt.plot(test_n_ann.index, y_test, label=\"Actual\",   color=\"black\")\n",
    "plt.plot(test_n_ann.index, y_pred, label=\"Forecast\",      color=\"darkorange\")\n",
    "plt.title(\"North Island: ANN Wind Forecast vs. Actual (RQ1)\" , fontsize=9)\n",
    "plt.xlabel(\"Date\")\n",
    "plt.ylabel(\"Weekly Total_TP (×10⁸ kWh)\",  fontsize=9)\n",
    "plt.legend(loc=\"upper right\", fontsize=7)\n",
    "plt.grid(True)\n",
    "plt.tight_layout()\n",
    "plt.show()"
   ]
  },
  {
   "cell_type": "code",
   "execution_count": 49,
   "metadata": {},
   "outputs": [
    {
     "data": {
      "text/html": [
       "<div>\n",
       "<style scoped>\n",
       "    .dataframe tbody tr th:only-of-type {\n",
       "        vertical-align: middle;\n",
       "    }\n",
       "\n",
       "    .dataframe tbody tr th {\n",
       "        vertical-align: top;\n",
       "    }\n",
       "\n",
       "    .dataframe thead th {\n",
       "        text-align: right;\n",
       "    }\n",
       "</style>\n",
       "<table border=\"1\" class=\"dataframe\">\n",
       "  <thead>\n",
       "    <tr style=\"text-align: right;\">\n",
       "      <th></th>\n",
       "      <th>Total_TP</th>\n",
       "      <th>PS</th>\n",
       "      <th>T2M</th>\n",
       "      <th>WS50M</th>\n",
       "      <th>TP_lag1w</th>\n",
       "      <th>T2M_lag1w</th>\n",
       "      <th>PS_lag1w</th>\n",
       "      <th>WS50M_lag1w</th>\n",
       "      <th>WS50M_lag2w</th>\n",
       "      <th>WS50M_EWMA</th>\n",
       "    </tr>\n",
       "    <tr>\n",
       "      <th>DATE</th>\n",
       "      <th></th>\n",
       "      <th></th>\n",
       "      <th></th>\n",
       "      <th></th>\n",
       "      <th></th>\n",
       "      <th></th>\n",
       "      <th></th>\n",
       "      <th></th>\n",
       "      <th></th>\n",
       "      <th></th>\n",
       "    </tr>\n",
       "  </thead>\n",
       "  <tbody>\n",
       "    <tr>\n",
       "      <th>2015-03-22</th>\n",
       "      <td>2.317096e+07</td>\n",
       "      <td>99.580612</td>\n",
       "      <td>13.854694</td>\n",
       "      <td>7.118980</td>\n",
       "      <td>1.724348e+07</td>\n",
       "      <td>17.476327</td>\n",
       "      <td>99.761224</td>\n",
       "      <td>4.644694</td>\n",
       "      <td>7.480408</td>\n",
       "      <td>6.776480</td>\n",
       "    </tr>\n",
       "    <tr>\n",
       "      <th>2015-03-29</th>\n",
       "      <td>2.053256e+07</td>\n",
       "      <td>99.906531</td>\n",
       "      <td>16.650408</td>\n",
       "      <td>5.629796</td>\n",
       "      <td>2.317096e+07</td>\n",
       "      <td>13.854694</td>\n",
       "      <td>99.580612</td>\n",
       "      <td>7.118980</td>\n",
       "      <td>4.644694</td>\n",
       "      <td>6.432474</td>\n",
       "    </tr>\n",
       "    <tr>\n",
       "      <th>2015-04-05</th>\n",
       "      <td>3.000496e+07</td>\n",
       "      <td>100.376327</td>\n",
       "      <td>16.031224</td>\n",
       "      <td>6.114286</td>\n",
       "      <td>2.053256e+07</td>\n",
       "      <td>16.650408</td>\n",
       "      <td>99.906531</td>\n",
       "      <td>5.629796</td>\n",
       "      <td>7.118980</td>\n",
       "      <td>6.337018</td>\n",
       "    </tr>\n",
       "    <tr>\n",
       "      <th>2015-04-12</th>\n",
       "      <td>3.550845e+07</td>\n",
       "      <td>99.678367</td>\n",
       "      <td>16.105510</td>\n",
       "      <td>8.142449</td>\n",
       "      <td>3.000496e+07</td>\n",
       "      <td>16.031224</td>\n",
       "      <td>100.376327</td>\n",
       "      <td>6.114286</td>\n",
       "      <td>5.629796</td>\n",
       "      <td>6.878647</td>\n",
       "    </tr>\n",
       "    <tr>\n",
       "      <th>2015-04-19</th>\n",
       "      <td>2.991374e+07</td>\n",
       "      <td>99.568980</td>\n",
       "      <td>11.181837</td>\n",
       "      <td>7.519388</td>\n",
       "      <td>3.550845e+07</td>\n",
       "      <td>16.105510</td>\n",
       "      <td>99.678367</td>\n",
       "      <td>8.142449</td>\n",
       "      <td>6.114286</td>\n",
       "      <td>7.070869</td>\n",
       "    </tr>\n",
       "  </tbody>\n",
       "</table>\n",
       "</div>"
      ],
      "text/plain": [
       "                Total_TP          PS        T2M     WS50M      TP_lag1w  \\\n",
       "DATE                                                                      \n",
       "2015-03-22  2.317096e+07   99.580612  13.854694  7.118980  1.724348e+07   \n",
       "2015-03-29  2.053256e+07   99.906531  16.650408  5.629796  2.317096e+07   \n",
       "2015-04-05  3.000496e+07  100.376327  16.031224  6.114286  2.053256e+07   \n",
       "2015-04-12  3.550845e+07   99.678367  16.105510  8.142449  3.000496e+07   \n",
       "2015-04-19  2.991374e+07   99.568980  11.181837  7.519388  3.550845e+07   \n",
       "\n",
       "            T2M_lag1w    PS_lag1w  WS50M_lag1w  WS50M_lag2w  WS50M_EWMA  \n",
       "DATE                                                                     \n",
       "2015-03-22  17.476327   99.761224     4.644694     7.480408    6.776480  \n",
       "2015-03-29  13.854694   99.580612     7.118980     4.644694    6.432474  \n",
       "2015-04-05  16.650408   99.906531     5.629796     7.118980    6.337018  \n",
       "2015-04-12  16.031224  100.376327     6.114286     5.629796    6.878647  \n",
       "2015-04-19  16.105510   99.678367     8.142449     6.114286    7.070869  "
      ]
     },
     "execution_count": 49,
     "metadata": {},
     "output_type": "execute_result"
    }
   ],
   "source": [
    "df_wind_weekly_lagged_north.head()"
   ]
  },
  {
   "cell_type": "code",
   "execution_count": 50,
   "metadata": {},
   "outputs": [
    {
     "name": "stdout",
     "output_type": "stream",
     "text": [
      "['Total_TP', 'PS', 'T2M', 'WS50M', 'TP_lag1w', 'T2M_lag1w', 'PS_lag1w', 'WS50M_lag1w', 'WS50M_lag2w', 'WS50M_EWMA']\n"
     ]
    }
   ],
   "source": [
    "print(df_wind_weekly_lagged_north.columns.tolist())"
   ]
  },
  {
   "cell_type": "code",
   "execution_count": 51,
   "metadata": {},
   "outputs": [],
   "source": [
    "#exog_cols = ['WS50M', 'TP_lag1w']"
   ]
  },
  {
   "cell_type": "code",
   "execution_count": 52,
   "metadata": {},
   "outputs": [],
   "source": [
    "#factors = ['WS50M', 'TP_lag1w']\n",
    "# factors = ['WS50M_EWMA']\n",
    "factors = ['WS50M', 'TP_lag1w','WS50M_EWMA']"
   ]
  },
  {
   "cell_type": "code",
   "execution_count": 53,
   "metadata": {},
   "outputs": [],
   "source": [
    "# 2) Split via slicing\n",
    "n = len(df_wind_weekly_lagged_north)\n",
    "split_idx = int(n * 0.8)\n",
    "\n",
    "train_df = df_wind_weekly_lagged_north.iloc[:split_idx]\n",
    "test_df  = df_wind_weekly_lagged_north.iloc[split_idx:]\n",
    "\n",
    "# 3) Extract raw X and y for train/test\n",
    "X_train_raw = train_df[factors].values\n",
    "X_test_raw  = test_df[factors].values\n",
    "y_train_raw = train_df['Total_TP'].values.reshape(-1, 1)\n",
    "y_test_raw  = test_df['Total_TP'].values.reshape(-1, 1)"
   ]
  },
  {
   "cell_type": "code",
   "execution_count": 54,
   "metadata": {},
   "outputs": [],
   "source": [
    "# 4) Scale\n",
    "x_scaler = StandardScaler().fit(X_train_raw)\n",
    "y_scaler = StandardScaler().fit(y_train_raw)\n",
    "\n",
    "X_train = x_scaler.transform(X_train_raw)\n",
    "X_test  = x_scaler.transform(X_test_raw)\n",
    "y_train = y_scaler.transform(y_train_raw)\n",
    "y_test  = y_scaler.transform(y_test_raw)"
   ]
  },
  {
   "cell_type": "code",
   "execution_count": 55,
   "metadata": {},
   "outputs": [
    {
     "name": "stdout",
     "output_type": "stream",
     "text": [
      "(412, 3) (412, 1)\n",
      "(103, 3) (103, 1)\n"
     ]
    }
   ],
   "source": [
    "# 5) Sanity‐check shapes\n",
    "print(X_train.shape, y_train.shape)\n",
    "print(X_test.shape,  y_test.shape)"
   ]
  },
  {
   "cell_type": "code",
   "execution_count": 109,
   "metadata": {},
   "outputs": [],
   "source": [
    "# optimizer with clipping & lower LR\n",
    "opt = tf.keras.optimizers.Adam(learning_rate=5e-4, clipnorm=1.0)"
   ]
  },
  {
   "cell_type": "code",
   "execution_count": 111,
   "metadata": {},
   "outputs": [
    {
     "name": "stderr",
     "output_type": "stream",
     "text": [
      "C:\\Users\\nwn86\\anaconda3\\Lib\\site-packages\\keras\\src\\layers\\core\\dense.py:87: UserWarning: Do not pass an `input_shape`/`input_dim` argument to a layer. When using Sequential models, prefer using an `Input(shape)` object as the first layer in the model instead.\n",
      "  super().__init__(activity_regularizer=activity_regularizer, **kwargs)\n",
      "C:\\Users\\nwn86\\anaconda3\\Lib\\site-packages\\keras\\src\\layers\\activations\\leaky_relu.py:41: UserWarning: Argument `alpha` is deprecated. Use `negative_slope` instead.\n",
      "  warnings.warn(\n"
     ]
    }
   ],
   "source": [
    "# #model.compile(optimizer=tf.keras.optimizers.Adam(learning_rate=0.001), loss=\"mse\")\n",
    "model = Sequential([\n",
    "    Dense(128, input_shape=(X_train.shape[1],)),  # start with 64 neurons\n",
    "    BatchNormalization(),\n",
    "    LeakyReLU(alpha=0.1),\n",
    "    Dropout(0.2),\n",
    "\n",
    "    Dense(64),\n",
    "    BatchNormalization(),\n",
    "    LeakyReLU(alpha=0.1),\n",
    "    Dropout(0.2),\n",
    "\n",
    "    Dense(32),\n",
    "    BatchNormalization(),\n",
    "    LeakyReLU(alpha=0.1),\n",
    "\n",
    "    Dense(1)  # linear output for regression\n",
    "])"
   ]
  },
  {
   "cell_type": "code",
   "execution_count": 113,
   "metadata": {},
   "outputs": [],
   "source": [
    "model.compile(\n",
    "    optimizer=opt,\n",
    "    loss=Huber(delta=0.5),\n",
    "    metrics=[tf.keras.metrics.MeanAbsolutePercentageError(name='mape')]\n",
    ")\n",
    "\n",
    "callbacks = [\n",
    "    EarlyStopping(monitor='val_loss', patience=10, restore_best_weights=True),\n",
    "    ReduceLROnPlateau(monitor='val_loss', factor=0.5, patience=5, min_lr=1e-6)\n",
    "]"
   ]
  },
  {
   "cell_type": "code",
   "execution_count": 115,
   "metadata": {},
   "outputs": [
    {
     "name": "stdout",
     "output_type": "stream",
     "text": [
      "Epoch 1/200\n",
      "\u001b[1m12/12\u001b[0m \u001b[32m━━━━━━━━━━━━━━━━━━━━\u001b[0m\u001b[37m\u001b[0m \u001b[1m3s\u001b[0m 34ms/step - loss: 0.3563 - mape: 337.1682 - val_loss: 0.5303 - val_mape: 95.7793 - learning_rate: 5.0000e-04\n",
      "Epoch 2/200\n",
      "\u001b[1m12/12\u001b[0m \u001b[32m━━━━━━━━━━━━━━━━━━━━\u001b[0m\u001b[37m\u001b[0m \u001b[1m0s\u001b[0m 8ms/step - loss: 0.2009 - mape: 277.8963 - val_loss: 0.4854 - val_mape: 97.2012 - learning_rate: 5.0000e-04\n",
      "Epoch 3/200\n",
      "\u001b[1m12/12\u001b[0m \u001b[32m━━━━━━━━━━━━━━━━━━━━\u001b[0m\u001b[37m\u001b[0m \u001b[1m0s\u001b[0m 9ms/step - loss: 0.1904 - mape: 261.9849 - val_loss: 0.4830 - val_mape: 95.8923 - learning_rate: 5.0000e-04\n",
      "Epoch 4/200\n",
      "\u001b[1m12/12\u001b[0m \u001b[32m━━━━━━━━━━━━━━━━━━━━\u001b[0m\u001b[37m\u001b[0m \u001b[1m0s\u001b[0m 8ms/step - loss: 0.1761 - mape: 212.4400 - val_loss: 0.4772 - val_mape: 99.6821 - learning_rate: 5.0000e-04\n",
      "Epoch 5/200\n",
      "\u001b[1m12/12\u001b[0m \u001b[32m━━━━━━━━━━━━━━━━━━━━\u001b[0m\u001b[37m\u001b[0m \u001b[1m0s\u001b[0m 9ms/step - loss: 0.1758 - mape: 330.2200 - val_loss: 0.4735 - val_mape: 102.3145 - learning_rate: 5.0000e-04\n",
      "Epoch 6/200\n",
      "\u001b[1m12/12\u001b[0m \u001b[32m━━━━━━━━━━━━━━━━━━━━\u001b[0m\u001b[37m\u001b[0m \u001b[1m0s\u001b[0m 9ms/step - loss: 0.1480 - mape: 211.1255 - val_loss: 0.4705 - val_mape: 103.2370 - learning_rate: 5.0000e-04\n",
      "Epoch 7/200\n",
      "\u001b[1m12/12\u001b[0m \u001b[32m━━━━━━━━━━━━━━━━━━━━\u001b[0m\u001b[37m\u001b[0m \u001b[1m0s\u001b[0m 10ms/step - loss: 0.1624 - mape: 232.9173 - val_loss: 0.4698 - val_mape: 107.2662 - learning_rate: 5.0000e-04\n",
      "Epoch 8/200\n",
      "\u001b[1m12/12\u001b[0m \u001b[32m━━━━━━━━━━━━━━━━━━━━\u001b[0m\u001b[37m\u001b[0m \u001b[1m0s\u001b[0m 8ms/step - loss: 0.1483 - mape: 219.4005 - val_loss: 0.4612 - val_mape: 112.9587 - learning_rate: 5.0000e-04\n",
      "Epoch 9/200\n",
      "\u001b[1m12/12\u001b[0m \u001b[32m━━━━━━━━━━━━━━━━━━━━\u001b[0m\u001b[37m\u001b[0m \u001b[1m0s\u001b[0m 9ms/step - loss: 0.1402 - mape: 209.8947 - val_loss: 0.4572 - val_mape: 111.4775 - learning_rate: 5.0000e-04\n",
      "Epoch 10/200\n",
      "\u001b[1m12/12\u001b[0m \u001b[32m━━━━━━━━━━━━━━━━━━━━\u001b[0m\u001b[37m\u001b[0m \u001b[1m0s\u001b[0m 8ms/step - loss: 0.1385 - mape: 181.1493 - val_loss: 0.4607 - val_mape: 114.0638 - learning_rate: 5.0000e-04\n",
      "Epoch 11/200\n",
      "\u001b[1m12/12\u001b[0m \u001b[32m━━━━━━━━━━━━━━━━━━━━\u001b[0m\u001b[37m\u001b[0m \u001b[1m0s\u001b[0m 9ms/step - loss: 0.1545 - mape: 220.3764 - val_loss: 0.4539 - val_mape: 116.1265 - learning_rate: 5.0000e-04\n",
      "Epoch 12/200\n",
      "\u001b[1m12/12\u001b[0m \u001b[32m━━━━━━━━━━━━━━━━━━━━\u001b[0m\u001b[37m\u001b[0m \u001b[1m0s\u001b[0m 9ms/step - loss: 0.1470 - mape: 209.0588 - val_loss: 0.4503 - val_mape: 118.1066 - learning_rate: 5.0000e-04\n",
      "Epoch 13/200\n",
      "\u001b[1m12/12\u001b[0m \u001b[32m━━━━━━━━━━━━━━━━━━━━\u001b[0m\u001b[37m\u001b[0m \u001b[1m0s\u001b[0m 9ms/step - loss: 0.1363 - mape: 222.7065 - val_loss: 0.4441 - val_mape: 119.4326 - learning_rate: 5.0000e-04\n",
      "Epoch 14/200\n",
      "\u001b[1m12/12\u001b[0m \u001b[32m━━━━━━━━━━━━━━━━━━━━\u001b[0m\u001b[37m\u001b[0m \u001b[1m0s\u001b[0m 8ms/step - loss: 0.1352 - mape: 193.7888 - val_loss: 0.4353 - val_mape: 118.6846 - learning_rate: 5.0000e-04\n",
      "Epoch 15/200\n",
      "\u001b[1m12/12\u001b[0m \u001b[32m━━━━━━━━━━━━━━━━━━━━\u001b[0m\u001b[37m\u001b[0m \u001b[1m0s\u001b[0m 12ms/step - loss: 0.1295 - mape: 201.1722 - val_loss: 0.4233 - val_mape: 121.1810 - learning_rate: 5.0000e-04\n",
      "Epoch 16/200\n",
      "\u001b[1m12/12\u001b[0m \u001b[32m━━━━━━━━━━━━━━━━━━━━\u001b[0m\u001b[37m\u001b[0m \u001b[1m0s\u001b[0m 13ms/step - loss: 0.1329 - mape: 207.7967 - val_loss: 0.4204 - val_mape: 120.4761 - learning_rate: 5.0000e-04\n",
      "Epoch 17/200\n",
      "\u001b[1m12/12\u001b[0m \u001b[32m━━━━━━━━━━━━━━━━━━━━\u001b[0m\u001b[37m\u001b[0m \u001b[1m0s\u001b[0m 15ms/step - loss: 0.1348 - mape: 196.3688 - val_loss: 0.4218 - val_mape: 123.9418 - learning_rate: 5.0000e-04\n",
      "Epoch 18/200\n",
      "\u001b[1m12/12\u001b[0m \u001b[32m━━━━━━━━━━━━━━━━━━━━\u001b[0m\u001b[37m\u001b[0m \u001b[1m0s\u001b[0m 9ms/step - loss: 0.1345 - mape: 178.6483 - val_loss: 0.4192 - val_mape: 127.4009 - learning_rate: 5.0000e-04\n",
      "Epoch 19/200\n",
      "\u001b[1m12/12\u001b[0m \u001b[32m━━━━━━━━━━━━━━━━━━━━\u001b[0m\u001b[37m\u001b[0m \u001b[1m0s\u001b[0m 10ms/step - loss: 0.1339 - mape: 179.3303 - val_loss: 0.4278 - val_mape: 130.0041 - learning_rate: 5.0000e-04\n",
      "Epoch 20/200\n",
      "\u001b[1m12/12\u001b[0m \u001b[32m━━━━━━━━━━━━━━━━━━━━\u001b[0m\u001b[37m\u001b[0m \u001b[1m0s\u001b[0m 9ms/step - loss: 0.1167 - mape: 142.9357 - val_loss: 0.4323 - val_mape: 132.2684 - learning_rate: 5.0000e-04\n",
      "Epoch 21/200\n",
      "\u001b[1m12/12\u001b[0m \u001b[32m━━━━━━━━━━━━━━━━━━━━\u001b[0m\u001b[37m\u001b[0m \u001b[1m0s\u001b[0m 10ms/step - loss: 0.1335 - mape: 197.6138 - val_loss: 0.4220 - val_mape: 136.3649 - learning_rate: 5.0000e-04\n",
      "Epoch 22/200\n",
      "\u001b[1m12/12\u001b[0m \u001b[32m━━━━━━━━━━━━━━━━━━━━\u001b[0m\u001b[37m\u001b[0m \u001b[1m0s\u001b[0m 7ms/step - loss: 0.1278 - mape: 163.7983 - val_loss: 0.4200 - val_mape: 141.2812 - learning_rate: 5.0000e-04\n",
      "Epoch 23/200\n",
      "\u001b[1m12/12\u001b[0m \u001b[32m━━━━━━━━━━━━━━━━━━━━\u001b[0m\u001b[37m\u001b[0m \u001b[1m0s\u001b[0m 7ms/step - loss: 0.1258 - mape: 162.5251 - val_loss: 0.4094 - val_mape: 142.4329 - learning_rate: 5.0000e-04\n",
      "Epoch 24/200\n",
      "\u001b[1m12/12\u001b[0m \u001b[32m━━━━━━━━━━━━━━━━━━━━\u001b[0m\u001b[37m\u001b[0m \u001b[1m0s\u001b[0m 12ms/step - loss: 0.1227 - mape: 200.5496 - val_loss: 0.3966 - val_mape: 140.0421 - learning_rate: 5.0000e-04\n",
      "Epoch 25/200\n",
      "\u001b[1m12/12\u001b[0m \u001b[32m━━━━━━━━━━━━━━━━━━━━\u001b[0m\u001b[37m\u001b[0m \u001b[1m0s\u001b[0m 10ms/step - loss: 0.1286 - mape: 180.7749 - val_loss: 0.3677 - val_mape: 138.2952 - learning_rate: 5.0000e-04\n",
      "Epoch 26/200\n",
      "\u001b[1m12/12\u001b[0m \u001b[32m━━━━━━━━━━━━━━━━━━━━\u001b[0m\u001b[37m\u001b[0m \u001b[1m0s\u001b[0m 10ms/step - loss: 0.1186 - mape: 149.2397 - val_loss: 0.3520 - val_mape: 137.4319 - learning_rate: 5.0000e-04\n",
      "Epoch 27/200\n",
      "\u001b[1m12/12\u001b[0m \u001b[32m━━━━━━━━━━━━━━━━━━━━\u001b[0m\u001b[37m\u001b[0m \u001b[1m0s\u001b[0m 13ms/step - loss: 0.1172 - mape: 155.9895 - val_loss: 0.3478 - val_mape: 136.9616 - learning_rate: 5.0000e-04\n",
      "Epoch 28/200\n",
      "\u001b[1m12/12\u001b[0m \u001b[32m━━━━━━━━━━━━━━━━━━━━\u001b[0m\u001b[37m\u001b[0m \u001b[1m0s\u001b[0m 12ms/step - loss: 0.1223 - mape: 158.1631 - val_loss: 0.3463 - val_mape: 132.1427 - learning_rate: 5.0000e-04\n",
      "Epoch 29/200\n",
      "\u001b[1m12/12\u001b[0m \u001b[32m━━━━━━━━━━━━━━━━━━━━\u001b[0m\u001b[37m\u001b[0m \u001b[1m0s\u001b[0m 11ms/step - loss: 0.1261 - mape: 169.8368 - val_loss: 0.3577 - val_mape: 130.2258 - learning_rate: 5.0000e-04\n",
      "Epoch 30/200\n",
      "\u001b[1m12/12\u001b[0m \u001b[32m━━━━━━━━━━━━━━━━━━━━\u001b[0m\u001b[37m\u001b[0m \u001b[1m0s\u001b[0m 8ms/step - loss: 0.1198 - mape: 135.4557 - val_loss: 0.3584 - val_mape: 132.8241 - learning_rate: 5.0000e-04\n",
      "Epoch 31/200\n",
      "\u001b[1m12/12\u001b[0m \u001b[32m━━━━━━━━━━━━━━━━━━━━\u001b[0m\u001b[37m\u001b[0m \u001b[1m0s\u001b[0m 10ms/step - loss: 0.1205 - mape: 196.0523 - val_loss: 0.3521 - val_mape: 137.4645 - learning_rate: 5.0000e-04\n",
      "Epoch 32/200\n",
      "\u001b[1m12/12\u001b[0m \u001b[32m━━━━━━━━━━━━━━━━━━━━\u001b[0m\u001b[37m\u001b[0m \u001b[1m0s\u001b[0m 10ms/step - loss: 0.1260 - mape: 150.5866 - val_loss: 0.3444 - val_mape: 140.7829 - learning_rate: 5.0000e-04\n",
      "Epoch 33/200\n",
      "\u001b[1m12/12\u001b[0m \u001b[32m━━━━━━━━━━━━━━━━━━━━\u001b[0m\u001b[37m\u001b[0m \u001b[1m0s\u001b[0m 12ms/step - loss: 0.1167 - mape: 170.8759 - val_loss: 0.3433 - val_mape: 137.4501 - learning_rate: 5.0000e-04\n",
      "Epoch 34/200\n",
      "\u001b[1m12/12\u001b[0m \u001b[32m━━━━━━━━━━━━━━━━━━━━\u001b[0m\u001b[37m\u001b[0m \u001b[1m0s\u001b[0m 10ms/step - loss: 0.1198 - mape: 149.9042 - val_loss: 0.3374 - val_mape: 135.9335 - learning_rate: 5.0000e-04\n",
      "Epoch 35/200\n",
      "\u001b[1m12/12\u001b[0m \u001b[32m━━━━━━━━━━━━━━━━━━━━\u001b[0m\u001b[37m\u001b[0m \u001b[1m0s\u001b[0m 9ms/step - loss: 0.1205 - mape: 149.1875 - val_loss: 0.3306 - val_mape: 138.7578 - learning_rate: 5.0000e-04\n",
      "Epoch 36/200\n",
      "\u001b[1m12/12\u001b[0m \u001b[32m━━━━━━━━━━━━━━━━━━━━\u001b[0m\u001b[37m\u001b[0m \u001b[1m0s\u001b[0m 10ms/step - loss: 0.1178 - mape: 172.2022 - val_loss: 0.3316 - val_mape: 138.1838 - learning_rate: 5.0000e-04\n",
      "Epoch 37/200\n",
      "\u001b[1m12/12\u001b[0m \u001b[32m━━━━━━━━━━━━━━━━━━━━\u001b[0m\u001b[37m\u001b[0m \u001b[1m0s\u001b[0m 10ms/step - loss: 0.1141 - mape: 142.6201 - val_loss: 0.3288 - val_mape: 137.3402 - learning_rate: 5.0000e-04\n",
      "Epoch 38/200\n",
      "\u001b[1m12/12\u001b[0m \u001b[32m━━━━━━━━━━━━━━━━━━━━\u001b[0m\u001b[37m\u001b[0m \u001b[1m0s\u001b[0m 10ms/step - loss: 0.1177 - mape: 168.0755 - val_loss: 0.3208 - val_mape: 139.0762 - learning_rate: 5.0000e-04\n",
      "Epoch 39/200\n",
      "\u001b[1m12/12\u001b[0m \u001b[32m━━━━━━━━━━━━━━━━━━━━\u001b[0m\u001b[37m\u001b[0m \u001b[1m0s\u001b[0m 10ms/step - loss: 0.1098 - mape: 179.4437 - val_loss: 0.3090 - val_mape: 138.7782 - learning_rate: 5.0000e-04\n",
      "Epoch 40/200\n",
      "\u001b[1m12/12\u001b[0m \u001b[32m━━━━━━━━━━━━━━━━━━━━\u001b[0m\u001b[37m\u001b[0m \u001b[1m0s\u001b[0m 10ms/step - loss: 0.1193 - mape: 149.3670 - val_loss: 0.3020 - val_mape: 141.0071 - learning_rate: 5.0000e-04\n",
      "Epoch 41/200\n",
      "\u001b[1m12/12\u001b[0m \u001b[32m━━━━━━━━━━━━━━━━━━━━\u001b[0m\u001b[37m\u001b[0m \u001b[1m0s\u001b[0m 10ms/step - loss: 0.1209 - mape: 150.1057 - val_loss: 0.3019 - val_mape: 143.4945 - learning_rate: 5.0000e-04\n",
      "Epoch 42/200\n",
      "\u001b[1m12/12\u001b[0m \u001b[32m━━━━━━━━━━━━━━━━━━━━\u001b[0m\u001b[37m\u001b[0m \u001b[1m0s\u001b[0m 10ms/step - loss: 0.1184 - mape: 168.4072 - val_loss: 0.2975 - val_mape: 140.0049 - learning_rate: 5.0000e-04\n",
      "Epoch 43/200\n",
      "\u001b[1m12/12\u001b[0m \u001b[32m━━━━━━━━━━━━━━━━━━━━\u001b[0m\u001b[37m\u001b[0m \u001b[1m0s\u001b[0m 9ms/step - loss: 0.1166 - mape: 168.3969 - val_loss: 0.2866 - val_mape: 137.4688 - learning_rate: 5.0000e-04\n",
      "Epoch 44/200\n",
      "\u001b[1m12/12\u001b[0m \u001b[32m━━━━━━━━━━━━━━━━━━━━\u001b[0m\u001b[37m\u001b[0m \u001b[1m0s\u001b[0m 11ms/step - loss: 0.1215 - mape: 174.4738 - val_loss: 0.2816 - val_mape: 139.4153 - learning_rate: 5.0000e-04\n",
      "Epoch 45/200\n",
      "\u001b[1m12/12\u001b[0m \u001b[32m━━━━━━━━━━━━━━━━━━━━\u001b[0m\u001b[37m\u001b[0m \u001b[1m0s\u001b[0m 10ms/step - loss: 0.1103 - mape: 158.4768 - val_loss: 0.2956 - val_mape: 142.3851 - learning_rate: 5.0000e-04\n",
      "Epoch 46/200\n",
      "\u001b[1m12/12\u001b[0m \u001b[32m━━━━━━━━━━━━━━━━━━━━\u001b[0m\u001b[37m\u001b[0m \u001b[1m0s\u001b[0m 16ms/step - loss: 0.1191 - mape: 149.5846 - val_loss: 0.3003 - val_mape: 140.5366 - learning_rate: 5.0000e-04\n",
      "Epoch 47/200\n",
      "\u001b[1m12/12\u001b[0m \u001b[32m━━━━━━━━━━━━━━━━━━━━\u001b[0m\u001b[37m\u001b[0m \u001b[1m0s\u001b[0m 10ms/step - loss: 0.1230 - mape: 176.7723 - val_loss: 0.2893 - val_mape: 141.8914 - learning_rate: 5.0000e-04\n",
      "Epoch 48/200\n",
      "\u001b[1m12/12\u001b[0m \u001b[32m━━━━━━━━━━━━━━━━━━━━\u001b[0m\u001b[37m\u001b[0m \u001b[1m0s\u001b[0m 14ms/step - loss: 0.1157 - mape: 154.3574 - val_loss: 0.2808 - val_mape: 143.7673 - learning_rate: 5.0000e-04\n",
      "Epoch 49/200\n",
      "\u001b[1m12/12\u001b[0m \u001b[32m━━━━━━━━━━━━━━━━━━━━\u001b[0m\u001b[37m\u001b[0m \u001b[1m0s\u001b[0m 9ms/step - loss: 0.1211 - mape: 173.6272 - val_loss: 0.2727 - val_mape: 150.7545 - learning_rate: 5.0000e-04\n",
      "Epoch 50/200\n",
      "\u001b[1m12/12\u001b[0m \u001b[32m━━━━━━━━━━━━━━━━━━━━\u001b[0m\u001b[37m\u001b[0m \u001b[1m0s\u001b[0m 9ms/step - loss: 0.1150 - mape: 170.9031 - val_loss: 0.2799 - val_mape: 150.1705 - learning_rate: 5.0000e-04\n",
      "Epoch 51/200\n",
      "\u001b[1m12/12\u001b[0m \u001b[32m━━━━━━━━━━━━━━━━━━━━\u001b[0m\u001b[37m\u001b[0m \u001b[1m0s\u001b[0m 9ms/step - loss: 0.1142 - mape: 161.5672 - val_loss: 0.2814 - val_mape: 145.4781 - learning_rate: 5.0000e-04\n",
      "Epoch 52/200\n",
      "\u001b[1m12/12\u001b[0m \u001b[32m━━━━━━━━━━━━━━━━━━━━\u001b[0m\u001b[37m\u001b[0m \u001b[1m0s\u001b[0m 11ms/step - loss: 0.1147 - mape: 143.5405 - val_loss: 0.2711 - val_mape: 146.9027 - learning_rate: 5.0000e-04\n",
      "Epoch 53/200\n",
      "\u001b[1m12/12\u001b[0m \u001b[32m━━━━━━━━━━━━━━━━━━━━\u001b[0m\u001b[37m\u001b[0m \u001b[1m0s\u001b[0m 8ms/step - loss: 0.1210 - mape: 174.1063 - val_loss: 0.2751 - val_mape: 150.1623 - learning_rate: 5.0000e-04\n",
      "Epoch 54/200\n",
      "\u001b[1m12/12\u001b[0m \u001b[32m━━━━━━━━━━━━━━━━━━━━\u001b[0m\u001b[37m\u001b[0m \u001b[1m0s\u001b[0m 8ms/step - loss: 0.1133 - mape: 153.7430 - val_loss: 0.2728 - val_mape: 150.7626 - learning_rate: 5.0000e-04\n",
      "Epoch 55/200\n",
      "\u001b[1m12/12\u001b[0m \u001b[32m━━━━━━━━━━━━━━━━━━━━\u001b[0m\u001b[37m\u001b[0m \u001b[1m0s\u001b[0m 10ms/step - loss: 0.1126 - mape: 133.3745 - val_loss: 0.2674 - val_mape: 150.6720 - learning_rate: 5.0000e-04\n",
      "Epoch 56/200\n",
      "\u001b[1m12/12\u001b[0m \u001b[32m━━━━━━━━━━━━━━━━━━━━\u001b[0m\u001b[37m\u001b[0m \u001b[1m0s\u001b[0m 16ms/step - loss: 0.1158 - mape: 158.0450 - val_loss: 0.2597 - val_mape: 154.1131 - learning_rate: 5.0000e-04\n",
      "Epoch 57/200\n",
      "\u001b[1m12/12\u001b[0m \u001b[32m━━━━━━━━━━━━━━━━━━━━\u001b[0m\u001b[37m\u001b[0m \u001b[1m0s\u001b[0m 14ms/step - loss: 0.1077 - mape: 166.9487 - val_loss: 0.2590 - val_mape: 145.6108 - learning_rate: 5.0000e-04\n",
      "Epoch 58/200\n",
      "\u001b[1m12/12\u001b[0m \u001b[32m━━━━━━━━━━━━━━━━━━━━\u001b[0m\u001b[37m\u001b[0m \u001b[1m0s\u001b[0m 9ms/step - loss: 0.1092 - mape: 144.0160 - val_loss: 0.2667 - val_mape: 139.5870 - learning_rate: 5.0000e-04\n",
      "Epoch 59/200\n",
      "\u001b[1m12/12\u001b[0m \u001b[32m━━━━━━━━━━━━━━━━━━━━\u001b[0m\u001b[37m\u001b[0m \u001b[1m0s\u001b[0m 10ms/step - loss: 0.1141 - mape: 138.6922 - val_loss: 0.2661 - val_mape: 144.6692 - learning_rate: 5.0000e-04\n",
      "Epoch 60/200\n",
      "\u001b[1m12/12\u001b[0m \u001b[32m━━━━━━━━━━━━━━━━━━━━\u001b[0m\u001b[37m\u001b[0m \u001b[1m0s\u001b[0m 12ms/step - loss: 0.1113 - mape: 162.3111 - val_loss: 0.2688 - val_mape: 144.6550 - learning_rate: 5.0000e-04\n",
      "Epoch 61/200\n",
      "\u001b[1m12/12\u001b[0m \u001b[32m━━━━━━━━━━━━━━━━━━━━\u001b[0m\u001b[37m\u001b[0m \u001b[1m0s\u001b[0m 13ms/step - loss: 0.1034 - mape: 133.1709 - val_loss: 0.2698 - val_mape: 146.1985 - learning_rate: 5.0000e-04\n",
      "Epoch 62/200\n",
      "\u001b[1m12/12\u001b[0m \u001b[32m━━━━━━━━━━━━━━━━━━━━\u001b[0m\u001b[37m\u001b[0m \u001b[1m0s\u001b[0m 9ms/step - loss: 0.1097 - mape: 141.6942 - val_loss: 0.2657 - val_mape: 147.4129 - learning_rate: 5.0000e-04\n",
      "Epoch 63/200\n",
      "\u001b[1m12/12\u001b[0m \u001b[32m━━━━━━━━━━━━━━━━━━━━\u001b[0m\u001b[37m\u001b[0m \u001b[1m0s\u001b[0m 10ms/step - loss: 0.1120 - mape: 134.7382 - val_loss: 0.2671 - val_mape: 145.6864 - learning_rate: 2.5000e-04\n",
      "Epoch 64/200\n",
      "\u001b[1m12/12\u001b[0m \u001b[32m━━━━━━━━━━━━━━━━━━━━\u001b[0m\u001b[37m\u001b[0m \u001b[1m0s\u001b[0m 11ms/step - loss: 0.1067 - mape: 154.6885 - val_loss: 0.2668 - val_mape: 146.6371 - learning_rate: 2.5000e-04\n",
      "Epoch 65/200\n",
      "\u001b[1m12/12\u001b[0m \u001b[32m━━━━━━━━━━━━━━━━━━━━\u001b[0m\u001b[37m\u001b[0m \u001b[1m0s\u001b[0m 12ms/step - loss: 0.1100 - mape: 151.4188 - val_loss: 0.2621 - val_mape: 148.1570 - learning_rate: 2.5000e-04\n",
      "Epoch 66/200\n",
      "\u001b[1m12/12\u001b[0m \u001b[32m━━━━━━━━━━━━━━━━━━━━\u001b[0m\u001b[37m\u001b[0m \u001b[1m0s\u001b[0m 11ms/step - loss: 0.1121 - mape: 136.8300 - val_loss: 0.2652 - val_mape: 149.5985 - learning_rate: 2.5000e-04\n",
      "Epoch 67/200\n",
      "\u001b[1m12/12\u001b[0m \u001b[32m━━━━━━━━━━━━━━━━━━━━\u001b[0m\u001b[37m\u001b[0m \u001b[1m0s\u001b[0m 14ms/step - loss: 0.1138 - mape: 178.0706 - val_loss: 0.2680 - val_mape: 149.6264 - learning_rate: 2.5000e-04\n"
     ]
    }
   ],
   "source": [
    "# ── 5) Train (use 10% of train_df as internal validation, keep test_df fully unseen) ──\n",
    "history = model.fit(\n",
    "    X_train, y_train,\n",
    "    validation_split=0.10,  # 10% of training for validation\n",
    "    epochs=200,\n",
    "    batch_size=32,\n",
    "    callbacks=callbacks,\n",
    "    verbose=1\n",
    ")"
   ]
  },
  {
   "cell_type": "code",
   "execution_count": 117,
   "metadata": {},
   "outputs": [
    {
     "name": "stdout",
     "output_type": "stream",
     "text": [
      "\u001b[1m4/4\u001b[0m \u001b[32m━━━━━━━━━━━━━━━━━━━━\u001b[0m\u001b[37m\u001b[0m \u001b[1m0s\u001b[0m 37ms/step\n"
     ]
    }
   ],
   "source": [
    "# 1) Predict & inverse‑scale\n",
    "y_pred_s = model.predict(X_test)\n",
    "y_pred = y_scaler.inverse_transform(y_pred_s).ravel()\n",
    "y_true = y_scaler.inverse_transform(y_test).ravel()"
   ]
  },
  {
   "cell_type": "code",
   "execution_count": 119,
   "metadata": {},
   "outputs": [
    {
     "name": "stdout",
     "output_type": "stream",
     "text": [
      "RQ2: North Island (with regressors) - Wind - ANN - MAE: 14594292.50, RMSE: 17475830.76, MAPE: 23.40%\n"
     ]
    }
   ],
   "source": [
    "# 2) Metrics\n",
    "mae  = mean_absolute_error(y_true, y_pred)\n",
    "#rmse = mean_squared_error(y_true, y_pred, squared=False)\n",
    "rmse = root_mean_squared_error(y_true, y_pred)\n",
    "mape = mean_absolute_percentage_error(y_true, y_pred) * 100\n",
    "# print(\"\\nRQ2‐ANN Performance - Hydro (South Island):\")\n",
    "# print(f\"MAE : {mae:,.2f}\")\n",
    "# print(f\"RMSE: {rmse:,.2f}\")\n",
    "# print(f\"MAPE: {mape:.2f}%\")\n",
    "print(f\"RQ2: North Island (with regressors) - Wind - ANN - MAE: {mae:.2f}, RMSE: {rmse:.2f}, MAPE: {mape:.2f}%\")"
   ]
  },
  {
   "cell_type": "code",
   "execution_count": 62,
   "metadata": {},
   "outputs": [],
   "source": [
    "# factors = ['WS50M', 'TP_lag1w']\n",
    "# RQ2‐ANN Performance - Hydro (South Island):\n",
    "# MAE : 18,033,781.28\n",
    "# RMSE: 21,014,915.23\n",
    "# MAPE: 28.48%\n"
   ]
  },
  {
   "cell_type": "code",
   "execution_count": 125,
   "metadata": {},
   "outputs": [
    {
     "data": {
      "image/png": "[encoded data removed]",
      "text/plain": [
       "<Figure size 1200x500 with 1 Axes>"
      ]
     },
     "metadata": {},
     "output_type": "display_data"
    }
   ],
   "source": [
    "# 11) Plot Train, Test Actuals, and RQ2‐ANN Forecast\n",
    "plt.figure(figsize=(12, 5))\n",
    "# 11a) Training‐period actuals (2015 to split)\n",
    "plt.plot(train_df.index, y_train_raw.flatten(),label=\"Train(2015 -> split)\",color=\"lightgray\")\n",
    "# 11b) Test‐period actuals\n",
    "plt.plot(test_df.index,y_test_raw.flatten(),label=\"Actual\",   color=\"black\")\n",
    "# 11c) RQ2‐ANN forecast over test period\n",
    "plt.plot(test_df.index,y_pred,label=\"Forecast\",      color=\"darkorange\")\n",
    "plt.title(\"North Island: ANN Wind Forecast vs. Actual (RQ2)\" , fontsize=9)\n",
    "plt.xlabel(\"Date\")\n",
    "plt.ylabel(\"Weekly Total_TP (×10⁸ kWh)\",  fontsize=9)\n",
    "plt.grid(True)\n",
    "plt.legend(loc=\"upper right\", fontsize=7)\n",
    "plt.tight_layout()\n",
    "plt.show()"
   ]
  },
  {
   "cell_type": "code",
   "execution_count": 4,
   "metadata": {},
   "outputs": [
    {
     "ename": "NameError",
     "evalue": "name 'df_wind_weekly_lagged_north' is not defined",
     "output_type": "error",
     "traceback": [
      "\u001b[1;31m---------------------------------------------------------------------------\u001b[0m",
      "\u001b[1;31mNameError\u001b[0m                                 Traceback (most recent call last)",
      "Cell \u001b[1;32mIn[4], line 16\u001b[0m\n\u001b[0;32m     13\u001b[0m factors \u001b[38;5;241m=\u001b[39m [\u001b[38;5;124m'\u001b[39m\u001b[38;5;124mWS50M\u001b[39m\u001b[38;5;124m'\u001b[39m, \u001b[38;5;124m'\u001b[39m\u001b[38;5;124mTP_lag1w\u001b[39m\u001b[38;5;124m'\u001b[39m, \u001b[38;5;124m'\u001b[39m\u001b[38;5;124mWS50M_EWMA\u001b[39m\u001b[38;5;124m'\u001b[39m]\n\u001b[0;32m     15\u001b[0m \u001b[38;5;66;03m# 2) Train/test split (80/20)\u001b[39;00m\n\u001b[1;32m---> 16\u001b[0m n \u001b[38;5;241m=\u001b[39m \u001b[38;5;28mlen\u001b[39m(df_wind_weekly_lagged_north)\n\u001b[0;32m     17\u001b[0m split_idx \u001b[38;5;241m=\u001b[39m \u001b[38;5;28mint\u001b[39m(n \u001b[38;5;241m*\u001b[39m \u001b[38;5;241m0.8\u001b[39m)\n\u001b[0;32m     19\u001b[0m train_df \u001b[38;5;241m=\u001b[39m df_wind_weekly_lagged_north\u001b[38;5;241m.\u001b[39miloc[:split_idx]\u001b[38;5;241m.\u001b[39mcopy()\n",
      "\u001b[1;31mNameError\u001b[0m: name 'df_wind_weekly_lagged_north' is not defined"
     ]
    }
   ],
   "source": [
    "# -----------------------------------------------------------------------------\n",
    "# ASSUMPTIONS / PREDEFINED:\n",
    "# -----------------------------------------------------------------------------\n",
    "# • df_wind_weekly_lagged_north : pandas.DataFrame indexed by a weekly DateTimeIndex,\n",
    "#      containing at least these columns:\n",
    "#        – 'Total_TP'       (target series, e.g. weekly North‐Island wind output in kWh)\n",
    "#        – 'WS50M'          (wind speed at 50 m)\n",
    "#        – 'TP_lag1w'       (Total_TP lagged by one week)\n",
    "#        – 'WS50M_EWMA'     (EWMA of WS50M)\n",
    "# -----------------------------------------------------------------------------\n",
    "\n",
    "# 1) Define the new list of three candidate factors:\n",
    "factors = ['WS50M', 'TP_lag1w', 'WS50M_EWMA']\n",
    "\n",
    "# 2) Train/test split (80/20)\n",
    "n = len(df_wind_weekly_lagged_north)\n",
    "split_idx = int(n * 0.8)\n",
    "\n",
    "train_df = df_wind_weekly_lagged_north.iloc[:split_idx].copy()\n",
    "test_df  = df_wind_weekly_lagged_north.iloc[split_idx:].copy()\n",
    "\n",
    "# 3) Extract target arrays for train/test\n",
    "y_train_full = train_df['Total_TP'].values.reshape(-1, 1)\n",
    "y_test_full  = test_df['Total_TP'].values.reshape(-1, 1)\n",
    "\n",
    "# 4) Prepare a list to hold results\n",
    "all_results = []\n",
    "\n",
    "# 5) Helper to build a fresh ANN each time\n",
    "def build_ann(input_dim):\n",
    "    model = Sequential([\n",
    "        Dense(64, input_shape=(input_dim,)),\n",
    "        BatchNormalization(),\n",
    "        LeakyReLU(alpha=0.1),\n",
    "        Dropout(0.2),\n",
    "\n",
    "        Dense(32),\n",
    "        BatchNormalization(),\n",
    "        LeakyReLU(alpha=0.1),\n",
    "        Dropout(0.2),\n",
    "\n",
    "        Dense(16),\n",
    "        BatchNormalization(),\n",
    "        LeakyReLU(alpha=0.1),\n",
    "\n",
    "        Dense(1)  # linear output\n",
    "    ])\n",
    "    return model\n",
    "\n",
    "# 6) Loop over every non‐empty subset of `factors`\n",
    "for k in range(1, len(factors) + 1):\n",
    "    for combo in itertools.combinations(factors, k):\n",
    "        combo = list(combo)\n",
    "\n",
    "        # 6a) Extract raw X_train/X_test for this subset\n",
    "        X_train_raw = train_df[combo].values\n",
    "        X_test_raw  = test_df[combo].values\n",
    "\n",
    "        # 6b) Drop any leading rows with NaNs in X_train_raw so alignment holds\n",
    "        exog_train_df = train_df[combo].copy()\n",
    "        first_valid_index = exog_train_df.dropna().index.min()\n",
    "        if first_valid_index is None:\n",
    "            continue  # skip if all‐NaN\n",
    "        train_start_loc = train_df.index.get_loc(first_valid_index)\n",
    "\n",
    "        X_train_sub_raw = X_train_raw[train_start_loc:]\n",
    "        y_train_sub_raw = y_train_full[train_start_loc:]\n",
    "\n",
    "        # For the test side, keep all rows (lags only affect train)\n",
    "        X_test_sub_raw  = X_test_raw\n",
    "        y_test_sub_raw  = y_test_full\n",
    "\n",
    "        # 6c) Scale X and y with StandardScaler\n",
    "        x_scaler = StandardScaler().fit(X_train_sub_raw)\n",
    "        y_scaler = StandardScaler().fit(y_train_sub_raw)\n",
    "\n",
    "        X_train = x_scaler.transform(X_train_sub_raw)\n",
    "        X_test  = x_scaler.transform(X_test_sub_raw)\n",
    "        y_train = y_scaler.transform(y_train_sub_raw)\n",
    "        y_test  = y_scaler.transform(y_test_sub_raw)\n",
    "\n",
    "        # 6d) Build, compile, and train the ANN\n",
    "        tf.keras.backend.clear_session()\n",
    "        input_dim = X_train.shape[1]\n",
    "        model = build_ann(input_dim)\n",
    "\n",
    "        opt = tf.keras.optimizers.Adam(learning_rate=5e-4, clipnorm=1.0)\n",
    "        model.compile(\n",
    "            optimizer=opt,\n",
    "            loss=Huber(delta=0.5),\n",
    "            metrics=[tf.keras.metrics.MeanAbsolutePercentageError(name='mape')]\n",
    "        )\n",
    "\n",
    "        callbacks = [\n",
    "            EarlyStopping(monitor='val_loss', patience=10, restore_best_weights=True),\n",
    "            ReduceLROnPlateau(monitor='val_loss', factor=0.5, patience=5, min_lr=1e-6)\n",
    "        ]\n",
    "\n",
    "        history = model.fit(\n",
    "            X_train, y_train,\n",
    "            validation_split=0.10,\n",
    "            epochs=200,\n",
    "            batch_size=32,\n",
    "            callbacks=callbacks,\n",
    "            verbose=0\n",
    "        )\n",
    "\n",
    "        # 6e) Predict on the test set, then inverse‐scale\n",
    "        y_pred_scaled = model.predict(X_test)\n",
    "        y_pred = y_scaler.inverse_transform(y_pred_scaled).ravel()\n",
    "        y_true = y_scaler.inverse_transform(y_test).ravel()\n",
    "\n",
    "        # 6f) Compute metrics\n",
    "        mae  = mean_absolute_error(y_true, y_pred)\n",
    "        rmse = np.sqrt(mean_squared_error(y_true, y_pred))\n",
    "        mape = mean_absolute_percentage_error(y_true, y_pred) * 100\n",
    "\n",
    "        # 6g) Record this result\n",
    "        all_results.append({\n",
    "            \"features\": tuple(combo),\n",
    "            \"MAE\":      mae,\n",
    "            \"RMSE\":     rmse,\n",
    "            \"MAPE\":     mape\n",
    "        })\n",
    "\n",
    "        # Clean up\n",
    "        del model\n",
    "        tf.keras.backend.clear_session()\n",
    "\n",
    "# 7) Convert all_results to a DataFrame and sort by MAPE\n",
    "df_ann_results_north = pd.DataFrame(all_results)\n",
    "df_ann_results_north = df_ann_results_north.sort_values(\"MAPE\").reset_index(drop=True)\n",
    "\n",
    "# 8) The DataFrame `df_ann_results_north` is now accessible for later use.\n",
    "print(df_ann_results_north.to_string(index=False))\n"
   ]
  },
  {
   "cell_type": "markdown",
   "metadata": {},
   "source": [
    "## End Noth Island"
   ]
  },
  {
   "cell_type": "markdown",
   "metadata": {},
   "source": [
    "# South Island "
   ]
  },
  {
   "cell_type": "code",
   "execution_count": 127,
   "metadata": {},
   "outputs": [
    {
     "data": {
      "text/html": [
       "<div>\n",
       "<style scoped>\n",
       "    .dataframe tbody tr th:only-of-type {\n",
       "        vertical-align: middle;\n",
       "    }\n",
       "\n",
       "    .dataframe tbody tr th {\n",
       "        vertical-align: top;\n",
       "    }\n",
       "\n",
       "    .dataframe thead th {\n",
       "        text-align: right;\n",
       "    }\n",
       "</style>\n",
       "<table border=\"1\" class=\"dataframe\">\n",
       "  <thead>\n",
       "    <tr style=\"text-align: right;\">\n",
       "      <th></th>\n",
       "      <th>Total_TP</th>\n",
       "      <th>PS</th>\n",
       "      <th>T2M</th>\n",
       "      <th>WS50M</th>\n",
       "    </tr>\n",
       "    <tr>\n",
       "      <th>DATE</th>\n",
       "      <th></th>\n",
       "      <th></th>\n",
       "      <th></th>\n",
       "      <th></th>\n",
       "    </tr>\n",
       "  </thead>\n",
       "  <tbody>\n",
       "    <tr>\n",
       "      <th>2015-03-08</th>\n",
       "      <td>2.978269e+06</td>\n",
       "      <td>99.881429</td>\n",
       "      <td>13.911429</td>\n",
       "      <td>6.545714</td>\n",
       "    </tr>\n",
       "    <tr>\n",
       "      <th>2015-03-15</th>\n",
       "      <td>2.755933e+06</td>\n",
       "      <td>101.075714</td>\n",
       "      <td>13.817143</td>\n",
       "      <td>4.945714</td>\n",
       "    </tr>\n",
       "    <tr>\n",
       "      <th>2015-03-22</th>\n",
       "      <td>2.169076e+06</td>\n",
       "      <td>101.260000</td>\n",
       "      <td>11.324286</td>\n",
       "      <td>5.302857</td>\n",
       "    </tr>\n",
       "    <tr>\n",
       "      <th>2015-03-29</th>\n",
       "      <td>1.893987e+06</td>\n",
       "      <td>100.988571</td>\n",
       "      <td>13.421429</td>\n",
       "      <td>3.867143</td>\n",
       "    </tr>\n",
       "    <tr>\n",
       "      <th>2015-04-05</th>\n",
       "      <td>4.960861e+06</td>\n",
       "      <td>101.465714</td>\n",
       "      <td>13.738571</td>\n",
       "      <td>7.328571</td>\n",
       "    </tr>\n",
       "  </tbody>\n",
       "</table>\n",
       "</div>"
      ],
      "text/plain": [
       "                Total_TP          PS        T2M     WS50M\n",
       "DATE                                                     \n",
       "2015-03-08  2.978269e+06   99.881429  13.911429  6.545714\n",
       "2015-03-15  2.755933e+06  101.075714  13.817143  4.945714\n",
       "2015-03-22  2.169076e+06  101.260000  11.324286  5.302857\n",
       "2015-03-29  1.893987e+06  100.988571  13.421429  3.867143\n",
       "2015-04-05  4.960861e+06  101.465714  13.738571  7.328571"
      ]
     },
     "execution_count": 127,
     "metadata": {},
     "output_type": "execute_result"
    }
   ],
   "source": [
    "df_wind_weekly_south.head()"
   ]
  },
  {
   "cell_type": "code",
   "execution_count": 129,
   "metadata": {},
   "outputs": [],
   "source": [
    "# Add 1 to 2-week lagged climate features\n",
    "df_wind_weekly_south['TP_lag1w'] = df_wind_weekly_south['Total_TP'].shift(1)\n",
    "df_wind_weekly_south['T2M_lag1w'] = df_wind_weekly_south['T2M'].shift(1)\n",
    "df_wind_weekly_south['PS_lag1w'] = df_wind_weekly_south['PS'].shift(1)\n",
    "df_wind_weekly_south['WS50M_lag1w'] = df_wind_weekly_south['WS50M'].shift(1)\n",
    "df_wind_weekly_south['WS50M_lag2w'] = df_wind_weekly_south['WS50M'].shift(2)\n",
    "df_wind_weekly_south['WS50M_EWMA'] = df_wind_weekly_south['WS50M'].ewm(alpha=0.3, adjust=False).mean()\n",
    "#df_hydro_weekly_north['APIxGWETPROF'] = df_hydro_weekly_north['PRECIP_EWMA'] * df_hydro_weekly_north['GWETPROF']"
   ]
  },
  {
   "cell_type": "code",
   "execution_count": 131,
   "metadata": {},
   "outputs": [
    {
     "data": {
      "text/html": [
       "<div>\n",
       "<style scoped>\n",
       "    .dataframe tbody tr th:only-of-type {\n",
       "        vertical-align: middle;\n",
       "    }\n",
       "\n",
       "    .dataframe tbody tr th {\n",
       "        vertical-align: top;\n",
       "    }\n",
       "\n",
       "    .dataframe thead th {\n",
       "        text-align: right;\n",
       "    }\n",
       "</style>\n",
       "<table border=\"1\" class=\"dataframe\">\n",
       "  <thead>\n",
       "    <tr style=\"text-align: right;\">\n",
       "      <th></th>\n",
       "      <th>Total_TP</th>\n",
       "      <th>PS</th>\n",
       "      <th>T2M</th>\n",
       "      <th>WS50M</th>\n",
       "      <th>TP_lag1w</th>\n",
       "      <th>T2M_lag1w</th>\n",
       "      <th>PS_lag1w</th>\n",
       "      <th>WS50M_lag1w</th>\n",
       "      <th>WS50M_lag2w</th>\n",
       "      <th>WS50M_EWMA</th>\n",
       "    </tr>\n",
       "    <tr>\n",
       "      <th>DATE</th>\n",
       "      <th></th>\n",
       "      <th></th>\n",
       "      <th></th>\n",
       "      <th></th>\n",
       "      <th></th>\n",
       "      <th></th>\n",
       "      <th></th>\n",
       "      <th></th>\n",
       "      <th></th>\n",
       "      <th></th>\n",
       "    </tr>\n",
       "  </thead>\n",
       "  <tbody>\n",
       "    <tr>\n",
       "      <th>2015-03-22</th>\n",
       "      <td>2.169076e+06</td>\n",
       "      <td>101.260000</td>\n",
       "      <td>11.324286</td>\n",
       "      <td>5.302857</td>\n",
       "      <td>2.755933e+06</td>\n",
       "      <td>13.817143</td>\n",
       "      <td>101.075714</td>\n",
       "      <td>4.945714</td>\n",
       "      <td>6.545714</td>\n",
       "      <td>5.836857</td>\n",
       "    </tr>\n",
       "    <tr>\n",
       "      <th>2015-03-29</th>\n",
       "      <td>1.893987e+06</td>\n",
       "      <td>100.988571</td>\n",
       "      <td>13.421429</td>\n",
       "      <td>3.867143</td>\n",
       "      <td>2.169076e+06</td>\n",
       "      <td>11.324286</td>\n",
       "      <td>101.260000</td>\n",
       "      <td>5.302857</td>\n",
       "      <td>4.945714</td>\n",
       "      <td>5.245943</td>\n",
       "    </tr>\n",
       "    <tr>\n",
       "      <th>2015-04-05</th>\n",
       "      <td>4.960861e+06</td>\n",
       "      <td>101.465714</td>\n",
       "      <td>13.738571</td>\n",
       "      <td>7.328571</td>\n",
       "      <td>1.893987e+06</td>\n",
       "      <td>13.421429</td>\n",
       "      <td>100.988571</td>\n",
       "      <td>3.867143</td>\n",
       "      <td>5.302857</td>\n",
       "      <td>5.870731</td>\n",
       "    </tr>\n",
       "    <tr>\n",
       "      <th>2015-04-12</th>\n",
       "      <td>2.796316e+06</td>\n",
       "      <td>100.537143</td>\n",
       "      <td>11.622857</td>\n",
       "      <td>7.647143</td>\n",
       "      <td>4.960861e+06</td>\n",
       "      <td>13.738571</td>\n",
       "      <td>101.465714</td>\n",
       "      <td>7.328571</td>\n",
       "      <td>3.867143</td>\n",
       "      <td>6.403655</td>\n",
       "    </tr>\n",
       "    <tr>\n",
       "      <th>2015-04-19</th>\n",
       "      <td>2.640676e+06</td>\n",
       "      <td>101.004286</td>\n",
       "      <td>9.812857</td>\n",
       "      <td>7.208571</td>\n",
       "      <td>2.796316e+06</td>\n",
       "      <td>11.622857</td>\n",
       "      <td>100.537143</td>\n",
       "      <td>7.647143</td>\n",
       "      <td>7.328571</td>\n",
       "      <td>6.645130</td>\n",
       "    </tr>\n",
       "  </tbody>\n",
       "</table>\n",
       "</div>"
      ],
      "text/plain": [
       "                Total_TP          PS        T2M     WS50M      TP_lag1w  \\\n",
       "DATE                                                                      \n",
       "2015-03-22  2.169076e+06  101.260000  11.324286  5.302857  2.755933e+06   \n",
       "2015-03-29  1.893987e+06  100.988571  13.421429  3.867143  2.169076e+06   \n",
       "2015-04-05  4.960861e+06  101.465714  13.738571  7.328571  1.893987e+06   \n",
       "2015-04-12  2.796316e+06  100.537143  11.622857  7.647143  4.960861e+06   \n",
       "2015-04-19  2.640676e+06  101.004286   9.812857  7.208571  2.796316e+06   \n",
       "\n",
       "            T2M_lag1w    PS_lag1w  WS50M_lag1w  WS50M_lag2w  WS50M_EWMA  \n",
       "DATE                                                                     \n",
       "2015-03-22  13.817143  101.075714     4.945714     6.545714    5.836857  \n",
       "2015-03-29  11.324286  101.260000     5.302857     4.945714    5.245943  \n",
       "2015-04-05  13.421429  100.988571     3.867143     5.302857    5.870731  \n",
       "2015-04-12  13.738571  101.465714     7.328571     3.867143    6.403655  \n",
       "2015-04-19  11.622857  100.537143     7.647143     7.328571    6.645130  "
      ]
     },
     "execution_count": 131,
     "metadata": {},
     "output_type": "execute_result"
    }
   ],
   "source": [
    "# Retain only lagged + target, drop NA\n",
    "df_wind_weekly_lagged_south = df_wind_weekly_south[['Total_TP', 'PS', 'T2M', 'WS50M', 'TP_lag1w', 'T2M_lag1w', 'PS_lag1w', 'WS50M_lag1w', 'WS50M_lag2w', 'WS50M_EWMA']].dropna()\n",
    "df_wind_weekly_lagged_south.head()"
   ]
  },
  {
   "cell_type": "code",
   "execution_count": 133,
   "metadata": {},
   "outputs": [],
   "source": [
    "# 2) Data prep (no randomness here, aside from ’shift’ which is deterministic)\n",
    "df_ann_wind_south_wk = df_wind_weekly_lagged_south[['Total_TP','TP_lag1w']]"
   ]
  },
  {
   "cell_type": "code",
   "execution_count": 135,
   "metadata": {},
   "outputs": [],
   "source": [
    "s_hydro_ann     = len(df_ann_wind_south_wk)\n",
    "split_ann = int(s_hydro_ann * 0.8)\n",
    "\n",
    "train_s_ann = df_ann_wind_south_wk.iloc[:split_ann]\n",
    "test_s_ann  = df_ann_wind_south_wk.iloc[split_ann:]\n",
    "\n",
    "X_train = train_s_ann[['TP_lag1w']].values\n",
    "y_train = train_s_ann['Total_TP'].values.reshape(-1,1)\n",
    "X_test  = test_s_ann[['TP_lag1w']].values\n",
    "y_test  = test_s_ann['Total_TP'].values.reshape(-1,1)"
   ]
  },
  {
   "cell_type": "code",
   "execution_count": 137,
   "metadata": {},
   "outputs": [],
   "source": [
    "# 3) Scaling\n",
    "scaler_X = MinMaxScaler()\n",
    "X_train_s = scaler_X.fit_transform(X_train)\n",
    "X_test_s  = scaler_X.transform(X_test)\n",
    "\n",
    "scaler_y = MinMaxScaler()\n",
    "y_train_s = scaler_y.fit_transform(y_train)\n",
    "# (We hold off on transforming y_test because we want raw y_test for metrics.)"
   ]
  },
  {
   "cell_type": "code",
   "execution_count": 139,
   "metadata": {},
   "outputs": [
    {
     "name": "stderr",
     "output_type": "stream",
     "text": [
      "C:\\Users\\nwn86\\anaconda3\\Lib\\site-packages\\keras\\src\\layers\\core\\dense.py:87: UserWarning: Do not pass an `input_shape`/`input_dim` argument to a layer. When using Sequential models, prefer using an `Input(shape)` object as the first layer in the model instead.\n",
      "  super().__init__(activity_regularizer=activity_regularizer, **kwargs)\n"
     ]
    }
   ],
   "source": [
    "# 4) Build the ANN\n",
    "model_ann_s = Sequential([\n",
    "    Dense(16, activation='relu', input_shape=(1,)),\n",
    "    Dense(8,  activation='relu'),\n",
    "    Dense(1)\n",
    "])\n",
    "model_ann_s.compile(optimizer='adam', loss='mse')"
   ]
  },
  {
   "cell_type": "code",
   "execution_count": 141,
   "metadata": {},
   "outputs": [],
   "source": [
    "# 5) Train the ANN (the shuffle order is now deterministic)\n",
    "history_s = model_ann_s.fit(\n",
    "    X_train_s, y_train_s,\n",
    "    epochs=100,\n",
    "    batch_size=16,\n",
    "    validation_split=0.05,\n",
    "    verbose=0\n",
    ")"
   ]
  },
  {
   "cell_type": "code",
   "execution_count": 143,
   "metadata": {},
   "outputs": [
    {
     "name": "stdout",
     "output_type": "stream",
     "text": [
      "WARNING:tensorflow:5 out of the last 9 calls to <function TensorFlowTrainer.make_predict_function.<locals>.one_step_on_data_distributed at 0x00000230989BD9E0> triggered tf.function retracing. Tracing is expensive and the excessive number of tracings could be due to (1) creating @tf.function repeatedly in a loop, (2) passing tensors with different shapes, (3) passing Python objects instead of tensors. For (1), please define your @tf.function outside of the loop. For (2), @tf.function has reduce_retracing=True option that can avoid unnecessary retracing. For (3), please refer to https://www.tensorflow.org/guide/function#controlling_retracing and https://www.tensorflow.org/api_docs/python/tf/function for  more details.\n",
      "\u001b[1m1/4\u001b[0m \u001b[32m━━━━━\u001b[0m\u001b[37m━━━━━━━━━━━━━━━\u001b[0m \u001b[1m0s\u001b[0m 69ms/stepWARNING:tensorflow:6 out of the last 12 calls to <function TensorFlowTrainer.make_predict_function.<locals>.one_step_on_data_distributed at 0x00000230989BD9E0> triggered tf.function retracing. Tracing is expensive and the excessive number of tracings could be due to (1) creating @tf.function repeatedly in a loop, (2) passing tensors with different shapes, (3) passing Python objects instead of tensors. For (1), please define your @tf.function outside of the loop. For (2), @tf.function has reduce_retracing=True option that can avoid unnecessary retracing. For (3), please refer to https://www.tensorflow.org/guide/function#controlling_retracing and https://www.tensorflow.org/api_docs/python/tf/function for  more details.\n",
      "\u001b[1m4/4\u001b[0m \u001b[32m━━━━━━━━━━━━━━━━━━━━\u001b[0m\u001b[37m\u001b[0m \u001b[1m0s\u001b[0m 17ms/step\n"
     ]
    }
   ],
   "source": [
    "# 6) Predict & rescale\n",
    "y_pred_s = model_ann_s.predict(X_test_s)\n",
    "y_pred   = scaler_y.inverse_transform(y_pred_s).flatten()"
   ]
  },
  {
   "cell_type": "code",
   "execution_count": 145,
   "metadata": {},
   "outputs": [
    {
     "name": "stdout",
     "output_type": "stream",
     "text": [
      "South Island (without regressors) - Wind - ANN - MAE: 1776606.86, RMSE: 2316326.45, MAPE: 46.03%\n"
     ]
    }
   ],
   "source": [
    "# 7) Metrics on raw scale\n",
    "mae_ann  = mean_absolute_error(y_test.flatten(), y_pred)\n",
    "rmse_ann = np.sqrt(mean_squared_error(y_test.flatten(), y_pred))\n",
    "mape_ann = np.mean(np.abs((y_test.flatten() - y_pred) / y_test.flatten())) * 100\n",
    "\n",
    "# print(f\"Univariate ANN : South Island - MAE: {mae_ann:.2f}, RMSE: {rmse_ann:.2f}, MAPE: {mape_ann:.2f}%\")\n",
    "print(f\"South Island (without regressors) - Wind - ANN - MAE: {mae_ann:.2f}, RMSE: {rmse_ann:.2f}, MAPE: {mape_ann:.2f}%\")"
   ]
  },
  {
   "cell_type": "code",
   "execution_count": 147,
   "metadata": {},
   "outputs": [
    {
     "data": {
      "image/png": "[encoded data removed]",
      "text/plain": [
       "<Figure size 1200x500 with 1 Axes>"
      ]
     },
     "metadata": {},
     "output_type": "display_data"
    }
   ],
   "source": [
    "plt.figure(figsize=(12,5))\n",
    "plt.plot(train_s_ann.index,y_train.flatten(),label=\"Train(2015 -> split)\",color=\"lightgray\")\n",
    "plt.plot(test_s_ann.index, y_test, label=\"Actual\",   color=\"black\")\n",
    "plt.plot(test_s_ann.index, y_pred, label=\"Forecast\",      color=\"darkorange\")\n",
    "plt.title(\"South Island: ANN Wind Forecast vs. Actual (RQ1)\" , fontsize=9)\n",
    "plt.xlabel(\"Date\")\n",
    "plt.ylabel(\"Weekly Total_TP (×10⁸ kWh)\",  fontsize=9)\n",
    "plt.legend(loc=\"upper right\", fontsize=7)\n",
    "plt.grid(True)\n",
    "plt.tight_layout()\n",
    "plt.show()"
   ]
  },
  {
   "cell_type": "markdown",
   "metadata": {},
   "source": [
    "## RQ2 Start"
   ]
  },
  {
   "cell_type": "code",
   "execution_count": 255,
   "metadata": {},
   "outputs": [],
   "source": [
    "# factors = ['WS50M', 'TP_lag1w','PS_lag1w']\n",
    "# factors = ['WS50M', 'TP_lag1w','WS50M_EWMA']\n",
    "# factors = ['WS50M_EWMA']\n",
    "factors = ['WS50M', 'TP_lag1w','WS50M_EWMA']"
   ]
  },
  {
   "cell_type": "code",
   "execution_count": 257,
   "metadata": {},
   "outputs": [
    {
     "data": {
      "text/html": [
       "<div>\n",
       "<style scoped>\n",
       "    .dataframe tbody tr th:only-of-type {\n",
       "        vertical-align: middle;\n",
       "    }\n",
       "\n",
       "    .dataframe tbody tr th {\n",
       "        vertical-align: top;\n",
       "    }\n",
       "\n",
       "    .dataframe thead th {\n",
       "        text-align: right;\n",
       "    }\n",
       "</style>\n",
       "<table border=\"1\" class=\"dataframe\">\n",
       "  <thead>\n",
       "    <tr style=\"text-align: right;\">\n",
       "      <th></th>\n",
       "      <th>Total_TP</th>\n",
       "      <th>PS</th>\n",
       "      <th>T2M</th>\n",
       "      <th>WS50M</th>\n",
       "      <th>TP_lag1w</th>\n",
       "      <th>T2M_lag1w</th>\n",
       "      <th>PS_lag1w</th>\n",
       "      <th>WS50M_lag1w</th>\n",
       "      <th>WS50M_lag2w</th>\n",
       "      <th>WS50M_EWMA</th>\n",
       "    </tr>\n",
       "    <tr>\n",
       "      <th>DATE</th>\n",
       "      <th></th>\n",
       "      <th></th>\n",
       "      <th></th>\n",
       "      <th></th>\n",
       "      <th></th>\n",
       "      <th></th>\n",
       "      <th></th>\n",
       "      <th></th>\n",
       "      <th></th>\n",
       "      <th></th>\n",
       "    </tr>\n",
       "  </thead>\n",
       "  <tbody>\n",
       "    <tr>\n",
       "      <th>2015-03-22</th>\n",
       "      <td>2.169076e+06</td>\n",
       "      <td>101.260000</td>\n",
       "      <td>11.324286</td>\n",
       "      <td>5.302857</td>\n",
       "      <td>2.755933e+06</td>\n",
       "      <td>13.817143</td>\n",
       "      <td>101.075714</td>\n",
       "      <td>4.945714</td>\n",
       "      <td>6.545714</td>\n",
       "      <td>5.836857</td>\n",
       "    </tr>\n",
       "    <tr>\n",
       "      <th>2015-03-29</th>\n",
       "      <td>1.893987e+06</td>\n",
       "      <td>100.988571</td>\n",
       "      <td>13.421429</td>\n",
       "      <td>3.867143</td>\n",
       "      <td>2.169076e+06</td>\n",
       "      <td>11.324286</td>\n",
       "      <td>101.260000</td>\n",
       "      <td>5.302857</td>\n",
       "      <td>4.945714</td>\n",
       "      <td>5.245943</td>\n",
       "    </tr>\n",
       "    <tr>\n",
       "      <th>2015-04-05</th>\n",
       "      <td>4.960861e+06</td>\n",
       "      <td>101.465714</td>\n",
       "      <td>13.738571</td>\n",
       "      <td>7.328571</td>\n",
       "      <td>1.893987e+06</td>\n",
       "      <td>13.421429</td>\n",
       "      <td>100.988571</td>\n",
       "      <td>3.867143</td>\n",
       "      <td>5.302857</td>\n",
       "      <td>5.870731</td>\n",
       "    </tr>\n",
       "    <tr>\n",
       "      <th>2015-04-12</th>\n",
       "      <td>2.796316e+06</td>\n",
       "      <td>100.537143</td>\n",
       "      <td>11.622857</td>\n",
       "      <td>7.647143</td>\n",
       "      <td>4.960861e+06</td>\n",
       "      <td>13.738571</td>\n",
       "      <td>101.465714</td>\n",
       "      <td>7.328571</td>\n",
       "      <td>3.867143</td>\n",
       "      <td>6.403655</td>\n",
       "    </tr>\n",
       "    <tr>\n",
       "      <th>2015-04-19</th>\n",
       "      <td>2.640676e+06</td>\n",
       "      <td>101.004286</td>\n",
       "      <td>9.812857</td>\n",
       "      <td>7.208571</td>\n",
       "      <td>2.796316e+06</td>\n",
       "      <td>11.622857</td>\n",
       "      <td>100.537143</td>\n",
       "      <td>7.647143</td>\n",
       "      <td>7.328571</td>\n",
       "      <td>6.645130</td>\n",
       "    </tr>\n",
       "  </tbody>\n",
       "</table>\n",
       "</div>"
      ],
      "text/plain": [
       "                Total_TP          PS        T2M     WS50M      TP_lag1w  \\\n",
       "DATE                                                                      \n",
       "2015-03-22  2.169076e+06  101.260000  11.324286  5.302857  2.755933e+06   \n",
       "2015-03-29  1.893987e+06  100.988571  13.421429  3.867143  2.169076e+06   \n",
       "2015-04-05  4.960861e+06  101.465714  13.738571  7.328571  1.893987e+06   \n",
       "2015-04-12  2.796316e+06  100.537143  11.622857  7.647143  4.960861e+06   \n",
       "2015-04-19  2.640676e+06  101.004286   9.812857  7.208571  2.796316e+06   \n",
       "\n",
       "            T2M_lag1w    PS_lag1w  WS50M_lag1w  WS50M_lag2w  WS50M_EWMA  \n",
       "DATE                                                                     \n",
       "2015-03-22  13.817143  101.075714     4.945714     6.545714    5.836857  \n",
       "2015-03-29  11.324286  101.260000     5.302857     4.945714    5.245943  \n",
       "2015-04-05  13.421429  100.988571     3.867143     5.302857    5.870731  \n",
       "2015-04-12  13.738571  101.465714     7.328571     3.867143    6.403655  \n",
       "2015-04-19  11.622857  100.537143     7.647143     7.328571    6.645130  "
      ]
     },
     "execution_count": 257,
     "metadata": {},
     "output_type": "execute_result"
    }
   ],
   "source": [
    "df_wind_weekly_lagged_south.head()"
   ]
  },
  {
   "cell_type": "code",
   "execution_count": 259,
   "metadata": {},
   "outputs": [
    {
     "name": "stdout",
     "output_type": "stream",
     "text": [
      "['Total_TP', 'PS', 'T2M', 'WS50M', 'TP_lag1w', 'T2M_lag1w', 'PS_lag1w', 'WS50M_lag1w', 'WS50M_lag2w', 'WS50M_EWMA']\n"
     ]
    }
   ],
   "source": [
    "print(df_wind_weekly_lagged_south.columns.tolist())"
   ]
  },
  {
   "cell_type": "code",
   "execution_count": 261,
   "metadata": {},
   "outputs": [],
   "source": [
    "# df_wind_weekly_lagged_south['PS_lag1wx_WS50M'] = df_wind_weekly_lagged_south['PS_lag1w'] * df_wind_weekly_lagged_south['WS50M']"
   ]
  },
  {
   "cell_type": "code",
   "execution_count": 263,
   "metadata": {},
   "outputs": [],
   "source": [
    "# 2) Split via slicing\n",
    "n = len(df_wind_weekly_lagged_south)\n",
    "split_idx = int(n * 0.8)\n",
    "\n",
    "train_df = df_wind_weekly_lagged_south.iloc[:split_idx]\n",
    "test_df  = df_wind_weekly_lagged_south.iloc[split_idx:]\n",
    "\n",
    "# 3) Extract raw X and y for train/test\n",
    "X_train_raw = train_df[factors].values  # (n_samples, n_features)\n",
    "X_test_raw  = test_df[factors].values\n",
    "y_train_raw = train_df['Total_TP'].values.reshape(-1, 1)\n",
    "y_test_raw  = test_df['Total_TP'].values.reshape(-1, 1) # (n_samples, 1)"
   ]
  },
  {
   "cell_type": "code",
   "execution_count": 265,
   "metadata": {},
   "outputs": [],
   "source": [
    "# 4) Scale\n",
    "x_scaler = StandardScaler().fit(X_train_raw)\n",
    "y_scaler = StandardScaler().fit(y_train_raw)\n",
    "\n",
    "X_train = x_scaler.transform(X_train_raw)\n",
    "X_test  = x_scaler.transform(X_test_raw)\n",
    "y_train = y_scaler.transform(y_train_raw)\n",
    "y_test  = y_scaler.transform(y_test_raw)"
   ]
  },
  {
   "cell_type": "code",
   "execution_count": 267,
   "metadata": {},
   "outputs": [
    {
     "name": "stdout",
     "output_type": "stream",
     "text": [
      "(412, 3) (412, 1)\n",
      "(103, 3) (103, 1)\n"
     ]
    }
   ],
   "source": [
    "# 5) Sanity‐check shapes\n",
    "print(X_train.shape, y_train.shape)\n",
    "print(X_test.shape,  y_test.shape)"
   ]
  },
  {
   "cell_type": "code",
   "execution_count": 269,
   "metadata": {},
   "outputs": [],
   "source": [
    "# optimizer with clipping & lower LR\n",
    "opt = tf.keras.optimizers.Adam(learning_rate=5e-4, clipnorm=1.0)"
   ]
  },
  {
   "cell_type": "code",
   "execution_count": 271,
   "metadata": {},
   "outputs": [
    {
     "name": "stderr",
     "output_type": "stream",
     "text": [
      "C:\\Users\\nwn86\\anaconda3\\Lib\\site-packages\\keras\\src\\layers\\core\\dense.py:87: UserWarning: Do not pass an `input_shape`/`input_dim` argument to a layer. When using Sequential models, prefer using an `Input(shape)` object as the first layer in the model instead.\n",
      "  super().__init__(activity_regularizer=activity_regularizer, **kwargs)\n",
      "C:\\Users\\nwn86\\anaconda3\\Lib\\site-packages\\keras\\src\\layers\\activations\\leaky_relu.py:41: UserWarning: Argument `alpha` is deprecated. Use `negative_slope` instead.\n",
      "  warnings.warn(\n"
     ]
    }
   ],
   "source": [
    "#   ANN Model  \n",
    "model = Sequential([\n",
    "    Dense(128, input_shape=(X_train.shape[1],)),  # start with 64 neurons\n",
    "    BatchNormalization(),\n",
    "    LeakyReLU(alpha=0.1),\n",
    "    Dropout(0.2),\n",
    "\n",
    "    Dense(64),\n",
    "    BatchNormalization(),\n",
    "    LeakyReLU(alpha=0.1),\n",
    "    Dropout(0.2),\n",
    "\n",
    "    Dense(32),\n",
    "    BatchNormalization(),\n",
    "    LeakyReLU(alpha=0.1),\n",
    "\n",
    "    Dense(1)  # linear output for regression\n",
    "])\n",
    "\n",
    "#model.compile(optimizer=tf.keras.optimizers.Adam(learning_rate=0.001), loss=\"mse\")"
   ]
  },
  {
   "cell_type": "code",
   "execution_count": 273,
   "metadata": {},
   "outputs": [],
   "source": [
    "model.compile(\n",
    "    optimizer=opt,\n",
    "    loss=Huber(delta=0.5),\n",
    "    metrics=[tf.keras.metrics.MeanAbsolutePercentageError(name='mape')]\n",
    ")\n",
    "\n",
    "callbacks = [\n",
    "    EarlyStopping(monitor='val_loss', patience=10, restore_best_weights=True),\n",
    "    ReduceLROnPlateau(monitor='val_loss', factor=0.5, patience=5, min_lr=1e-6)\n",
    "]"
   ]
  },
  {
   "cell_type": "code",
   "execution_count": 275,
   "metadata": {},
   "outputs": [
    {
     "name": "stdout",
     "output_type": "stream",
     "text": [
      "Epoch 1/200\n",
      "\u001b[1m12/12\u001b[0m \u001b[32m━━━━━━━━━━━━━━━━━━━━\u001b[0m\u001b[37m\u001b[0m \u001b[1m3s\u001b[0m 26ms/step - loss: 0.3408 - mape: 5712.2554 - val_loss: 0.3068 - val_mape: 96.7445 - learning_rate: 5.0000e-04\n",
      "Epoch 2/200\n",
      "\u001b[1m12/12\u001b[0m \u001b[32m━━━━━━━━━━━━━━━━━━━━\u001b[0m\u001b[37m\u001b[0m \u001b[1m0s\u001b[0m 10ms/step - loss: 0.2606 - mape: 2551.1006 - val_loss: 0.2796 - val_mape: 92.5758 - learning_rate: 5.0000e-04\n",
      "Epoch 3/200\n",
      "\u001b[1m12/12\u001b[0m \u001b[32m━━━━━━━━━━━━━━━━━━━━\u001b[0m\u001b[37m\u001b[0m \u001b[1m0s\u001b[0m 11ms/step - loss: 0.2450 - mape: 6940.8755 - val_loss: 0.2770 - val_mape: 92.0730 - learning_rate: 5.0000e-04\n",
      "Epoch 4/200\n",
      "\u001b[1m12/12\u001b[0m \u001b[32m━━━━━━━━━━━━━━━━━━━━\u001b[0m\u001b[37m\u001b[0m \u001b[1m0s\u001b[0m 9ms/step - loss: 0.2471 - mape: 6231.9307 - val_loss: 0.2742 - val_mape: 94.1577 - learning_rate: 5.0000e-04\n",
      "Epoch 5/200\n",
      "\u001b[1m12/12\u001b[0m \u001b[32m━━━━━━━━━━━━━━━━━━━━\u001b[0m\u001b[37m\u001b[0m \u001b[1m0s\u001b[0m 9ms/step - loss: 0.2313 - mape: 6128.5400 - val_loss: 0.2756 - val_mape: 98.4826 - learning_rate: 5.0000e-04\n",
      "Epoch 6/200\n",
      "\u001b[1m12/12\u001b[0m \u001b[32m━━━━━━━━━━━━━━━━━━━━\u001b[0m\u001b[37m\u001b[0m \u001b[1m0s\u001b[0m 9ms/step - loss: 0.2318 - mape: 2346.0991 - val_loss: 0.2836 - val_mape: 101.4042 - learning_rate: 5.0000e-04\n",
      "Epoch 7/200\n",
      "\u001b[1m12/12\u001b[0m \u001b[32m━━━━━━━━━━━━━━━━━━━━\u001b[0m\u001b[37m\u001b[0m \u001b[1m0s\u001b[0m 11ms/step - loss: 0.2241 - mape: 3290.6633 - val_loss: 0.2705 - val_mape: 98.3482 - learning_rate: 5.0000e-04\n",
      "Epoch 8/200\n",
      "\u001b[1m12/12\u001b[0m \u001b[32m━━━━━━━━━━━━━━━━━━━━\u001b[0m\u001b[37m\u001b[0m \u001b[1m0s\u001b[0m 10ms/step - loss: 0.2121 - mape: 4697.4775 - val_loss: 0.2668 - val_mape: 97.7660 - learning_rate: 5.0000e-04\n",
      "Epoch 9/200\n",
      "\u001b[1m12/12\u001b[0m \u001b[32m━━━━━━━━━━━━━━━━━━━━\u001b[0m\u001b[37m\u001b[0m \u001b[1m0s\u001b[0m 9ms/step - loss: 0.2162 - mape: 4499.1470 - val_loss: 0.2533 - val_mape: 98.7005 - learning_rate: 5.0000e-04\n",
      "Epoch 10/200\n",
      "\u001b[1m12/12\u001b[0m \u001b[32m━━━━━━━━━━━━━━━━━━━━\u001b[0m\u001b[37m\u001b[0m \u001b[1m0s\u001b[0m 9ms/step - loss: 0.2099 - mape: 1600.7201 - val_loss: 0.2415 - val_mape: 98.2880 - learning_rate: 5.0000e-04\n",
      "Epoch 11/200\n",
      "\u001b[1m12/12\u001b[0m \u001b[32m━━━━━━━━━━━━━━━━━━━━\u001b[0m\u001b[37m\u001b[0m \u001b[1m0s\u001b[0m 11ms/step - loss: 0.2082 - mape: 3871.9182 - val_loss: 0.2428 - val_mape: 99.7257 - learning_rate: 5.0000e-04\n",
      "Epoch 12/200\n",
      "\u001b[1m12/12\u001b[0m \u001b[32m━━━━━━━━━━━━━━━━━━━━\u001b[0m\u001b[37m\u001b[0m \u001b[1m0s\u001b[0m 7ms/step - loss: 0.1914 - mape: 3802.9749 - val_loss: 0.2448 - val_mape: 101.5377 - learning_rate: 5.0000e-04\n",
      "Epoch 13/200\n",
      "\u001b[1m12/12\u001b[0m \u001b[32m━━━━━━━━━━━━━━━━━━━━\u001b[0m\u001b[37m\u001b[0m \u001b[1m0s\u001b[0m 9ms/step - loss: 0.2016 - mape: 5687.2368 - val_loss: 0.2466 - val_mape: 105.9673 - learning_rate: 5.0000e-04\n",
      "Epoch 14/200\n",
      "\u001b[1m12/12\u001b[0m \u001b[32m━━━━━━━━━━━━━━━━━━━━\u001b[0m\u001b[37m\u001b[0m \u001b[1m0s\u001b[0m 9ms/step - loss: 0.1911 - mape: 3158.0493 - val_loss: 0.2330 - val_mape: 105.0636 - learning_rate: 5.0000e-04\n",
      "Epoch 15/200\n",
      "\u001b[1m12/12\u001b[0m \u001b[32m━━━━━━━━━━━━━━━━━━━━\u001b[0m\u001b[37m\u001b[0m \u001b[1m0s\u001b[0m 12ms/step - loss: 0.1788 - mape: 3279.6414 - val_loss: 0.2281 - val_mape: 104.2027 - learning_rate: 5.0000e-04\n",
      "Epoch 16/200\n",
      "\u001b[1m12/12\u001b[0m \u001b[32m━━━━━━━━━━━━━━━━━━━━\u001b[0m\u001b[37m\u001b[0m \u001b[1m0s\u001b[0m 9ms/step - loss: 0.1913 - mape: 2118.3337 - val_loss: 0.2248 - val_mape: 105.4044 - learning_rate: 5.0000e-04\n",
      "Epoch 17/200\n",
      "\u001b[1m12/12\u001b[0m \u001b[32m━━━━━━━━━━━━━━━━━━━━\u001b[0m\u001b[37m\u001b[0m \u001b[1m0s\u001b[0m 8ms/step - loss: 0.1872 - mape: 5177.3491 - val_loss: 0.2289 - val_mape: 106.6775 - learning_rate: 5.0000e-04\n",
      "Epoch 18/200\n",
      "\u001b[1m12/12\u001b[0m \u001b[32m━━━━━━━━━━━━━━━━━━━━\u001b[0m\u001b[37m\u001b[0m \u001b[1m0s\u001b[0m 10ms/step - loss: 0.1902 - mape: 4783.7817 - val_loss: 0.2262 - val_mape: 104.9702 - learning_rate: 5.0000e-04\n",
      "Epoch 19/200\n",
      "\u001b[1m12/12\u001b[0m \u001b[32m━━━━━━━━━━━━━━━━━━━━\u001b[0m\u001b[37m\u001b[0m \u001b[1m0s\u001b[0m 11ms/step - loss: 0.1928 - mape: 4799.0015 - val_loss: 0.2102 - val_mape: 101.0328 - learning_rate: 5.0000e-04\n",
      "Epoch 20/200\n",
      "\u001b[1m12/12\u001b[0m \u001b[32m━━━━━━━━━━━━━━━━━━━━\u001b[0m\u001b[37m\u001b[0m \u001b[1m0s\u001b[0m 8ms/step - loss: 0.1836 - mape: 4092.4485 - val_loss: 0.2006 - val_mape: 100.4654 - learning_rate: 5.0000e-04\n",
      "Epoch 21/200\n",
      "\u001b[1m12/12\u001b[0m \u001b[32m━━━━━━━━━━━━━━━━━━━━\u001b[0m\u001b[37m\u001b[0m \u001b[1m0s\u001b[0m 12ms/step - loss: 0.1908 - mape: 3444.0359 - val_loss: 0.2058 - val_mape: 107.0453 - learning_rate: 5.0000e-04\n",
      "Epoch 22/200\n",
      "\u001b[1m12/12\u001b[0m \u001b[32m━━━━━━━━━━━━━━━━━━━━\u001b[0m\u001b[37m\u001b[0m \u001b[1m0s\u001b[0m 12ms/step - loss: 0.1889 - mape: 3799.4998 - val_loss: 0.2076 - val_mape: 111.2361 - learning_rate: 5.0000e-04\n",
      "Epoch 23/200\n",
      "\u001b[1m12/12\u001b[0m \u001b[32m━━━━━━━━━━━━━━━━━━━━\u001b[0m\u001b[37m\u001b[0m \u001b[1m0s\u001b[0m 10ms/step - loss: 0.1793 - mape: 3172.1333 - val_loss: 0.2079 - val_mape: 115.5758 - learning_rate: 5.0000e-04\n",
      "Epoch 24/200\n",
      "\u001b[1m12/12\u001b[0m \u001b[32m━━━━━━━━━━━━━━━━━━━━\u001b[0m\u001b[37m\u001b[0m \u001b[1m0s\u001b[0m 11ms/step - loss: 0.1757 - mape: 4094.7646 - val_loss: 0.2176 - val_mape: 122.7956 - learning_rate: 5.0000e-04\n",
      "Epoch 25/200\n",
      "\u001b[1m12/12\u001b[0m \u001b[32m━━━━━━━━━━━━━━━━━━━━\u001b[0m\u001b[37m\u001b[0m \u001b[1m0s\u001b[0m 11ms/step - loss: 0.1873 - mape: 3166.3328 - val_loss: 0.2197 - val_mape: 124.3993 - learning_rate: 5.0000e-04\n",
      "Epoch 26/200\n",
      "\u001b[1m12/12\u001b[0m \u001b[32m━━━━━━━━━━━━━━━━━━━━\u001b[0m\u001b[37m\u001b[0m \u001b[1m0s\u001b[0m 9ms/step - loss: 0.1790 - mape: 2750.9009 - val_loss: 0.2169 - val_mape: 121.6114 - learning_rate: 2.5000e-04\n",
      "Epoch 27/200\n",
      "\u001b[1m12/12\u001b[0m \u001b[32m━━━━━━━━━━━━━━━━━━━━\u001b[0m\u001b[37m\u001b[0m \u001b[1m0s\u001b[0m 9ms/step - loss: 0.1765 - mape: 4122.6289 - val_loss: 0.2170 - val_mape: 121.3749 - learning_rate: 2.5000e-04\n",
      "Epoch 28/200\n",
      "\u001b[1m12/12\u001b[0m \u001b[32m━━━━━━━━━━━━━━━━━━━━\u001b[0m\u001b[37m\u001b[0m \u001b[1m0s\u001b[0m 9ms/step - loss: 0.1848 - mape: 2798.1384 - val_loss: 0.2094 - val_mape: 121.2388 - learning_rate: 2.5000e-04\n",
      "Epoch 29/200\n",
      "\u001b[1m12/12\u001b[0m \u001b[32m━━━━━━━━━━━━━━━━━━━━\u001b[0m\u001b[37m\u001b[0m \u001b[1m0s\u001b[0m 12ms/step - loss: 0.1830 - mape: 5414.8281 - val_loss: 0.2022 - val_mape: 119.8116 - learning_rate: 2.5000e-04\n",
      "Epoch 30/200\n",
      "\u001b[1m12/12\u001b[0m \u001b[32m━━━━━━━━━━━━━━━━━━━━\u001b[0m\u001b[37m\u001b[0m \u001b[1m0s\u001b[0m 12ms/step - loss: 0.1839 - mape: 5038.9678 - val_loss: 0.1983 - val_mape: 120.9984 - learning_rate: 2.5000e-04\n",
      "Epoch 31/200\n",
      "\u001b[1m12/12\u001b[0m \u001b[32m━━━━━━━━━━━━━━━━━━━━\u001b[0m\u001b[37m\u001b[0m \u001b[1m0s\u001b[0m 12ms/step - loss: 0.1825 - mape: 3701.9512 - val_loss: 0.1911 - val_mape: 119.6582 - learning_rate: 2.5000e-04\n",
      "Epoch 32/200\n",
      "\u001b[1m12/12\u001b[0m \u001b[32m━━━━━━━━━━━━━━━━━━━━\u001b[0m\u001b[37m\u001b[0m \u001b[1m0s\u001b[0m 9ms/step - loss: 0.1704 - mape: 5023.3481 - val_loss: 0.1902 - val_mape: 118.2158 - learning_rate: 2.5000e-04\n",
      "Epoch 33/200\n",
      "\u001b[1m12/12\u001b[0m \u001b[32m━━━━━━━━━━━━━━━━━━━━\u001b[0m\u001b[37m\u001b[0m \u001b[1m0s\u001b[0m 9ms/step - loss: 0.1767 - mape: 5585.1196 - val_loss: 0.1929 - val_mape: 117.6826 - learning_rate: 2.5000e-04\n",
      "Epoch 34/200\n",
      "\u001b[1m12/12\u001b[0m \u001b[32m━━━━━━━━━━━━━━━━━━━━\u001b[0m\u001b[37m\u001b[0m \u001b[1m0s\u001b[0m 12ms/step - loss: 0.1777 - mape: 3826.2725 - val_loss: 0.1894 - val_mape: 116.1149 - learning_rate: 2.5000e-04\n",
      "Epoch 35/200\n",
      "\u001b[1m12/12\u001b[0m \u001b[32m━━━━━━━━━━━━━━━━━━━━\u001b[0m\u001b[37m\u001b[0m \u001b[1m0s\u001b[0m 12ms/step - loss: 0.1799 - mape: 5319.5557 - val_loss: 0.1809 - val_mape: 114.6561 - learning_rate: 2.5000e-04\n",
      "Epoch 36/200\n",
      "\u001b[1m12/12\u001b[0m \u001b[32m━━━━━━━━━━━━━━━━━━━━\u001b[0m\u001b[37m\u001b[0m \u001b[1m0s\u001b[0m 12ms/step - loss: 0.1703 - mape: 4773.6196 - val_loss: 0.1753 - val_mape: 114.4478 - learning_rate: 2.5000e-04\n",
      "Epoch 37/200\n",
      "\u001b[1m12/12\u001b[0m \u001b[32m━━━━━━━━━━━━━━━━━━━━\u001b[0m\u001b[37m\u001b[0m \u001b[1m0s\u001b[0m 12ms/step - loss: 0.1836 - mape: 4166.0010 - val_loss: 0.1742 - val_mape: 113.4131 - learning_rate: 2.5000e-04\n",
      "Epoch 38/200\n",
      "\u001b[1m12/12\u001b[0m \u001b[32m━━━━━━━━━━━━━━━━━━━━\u001b[0m\u001b[37m\u001b[0m \u001b[1m0s\u001b[0m 10ms/step - loss: 0.1823 - mape: 2649.7744 - val_loss: 0.1752 - val_mape: 111.9165 - learning_rate: 2.5000e-04\n",
      "Epoch 39/200\n",
      "\u001b[1m12/12\u001b[0m \u001b[32m━━━━━━━━━━━━━━━━━━━━\u001b[0m\u001b[37m\u001b[0m \u001b[1m0s\u001b[0m 11ms/step - loss: 0.1776 - mape: 3133.6982 - val_loss: 0.1730 - val_mape: 111.5744 - learning_rate: 2.5000e-04\n",
      "Epoch 40/200\n",
      "\u001b[1m12/12\u001b[0m \u001b[32m━━━━━━━━━━━━━━━━━━━━\u001b[0m\u001b[37m\u001b[0m \u001b[1m0s\u001b[0m 9ms/step - loss: 0.1754 - mape: 3512.4980 - val_loss: 0.1748 - val_mape: 112.2271 - learning_rate: 2.5000e-04\n",
      "Epoch 41/200\n",
      "\u001b[1m12/12\u001b[0m \u001b[32m━━━━━━━━━━━━━━━━━━━━\u001b[0m\u001b[37m\u001b[0m \u001b[1m0s\u001b[0m 9ms/step - loss: 0.1847 - mape: 2626.7173 - val_loss: 0.1771 - val_mape: 114.7553 - learning_rate: 2.5000e-04\n",
      "Epoch 42/200\n",
      "\u001b[1m12/12\u001b[0m \u001b[32m━━━━━━━━━━━━━━━━━━━━\u001b[0m\u001b[37m\u001b[0m \u001b[1m0s\u001b[0m 9ms/step - loss: 0.1730 - mape: 3792.6870 - val_loss: 0.1782 - val_mape: 115.1614 - learning_rate: 2.5000e-04\n",
      "Epoch 43/200\n",
      "\u001b[1m12/12\u001b[0m \u001b[32m━━━━━━━━━━━━━━━━━━━━\u001b[0m\u001b[37m\u001b[0m \u001b[1m0s\u001b[0m 10ms/step - loss: 0.1845 - mape: 4569.2427 - val_loss: 0.1712 - val_mape: 113.1337 - learning_rate: 2.5000e-04\n",
      "Epoch 44/200\n",
      "\u001b[1m12/12\u001b[0m \u001b[32m━━━━━━━━━━━━━━━━━━━━\u001b[0m\u001b[37m\u001b[0m \u001b[1m0s\u001b[0m 9ms/step - loss: 0.1801 - mape: 3522.7896 - val_loss: 0.1715 - val_mape: 114.7257 - learning_rate: 2.5000e-04\n",
      "Epoch 45/200\n",
      "\u001b[1m12/12\u001b[0m \u001b[32m━━━━━━━━━━━━━━━━━━━━\u001b[0m\u001b[37m\u001b[0m \u001b[1m0s\u001b[0m 13ms/step - loss: 0.1714 - mape: 4512.3623 - val_loss: 0.1736 - val_mape: 115.2790 - learning_rate: 2.5000e-04\n",
      "Epoch 46/200\n",
      "\u001b[1m12/12\u001b[0m \u001b[32m━━━━━━━━━━━━━━━━━━━━\u001b[0m\u001b[37m\u001b[0m \u001b[1m0s\u001b[0m 10ms/step - loss: 0.1744 - mape: 4702.7563 - val_loss: 0.1818 - val_mape: 115.3576 - learning_rate: 2.5000e-04\n",
      "Epoch 47/200\n",
      "\u001b[1m12/12\u001b[0m \u001b[32m━━━━━━━━━━━━━━━━━━━━\u001b[0m\u001b[37m\u001b[0m \u001b[1m0s\u001b[0m 12ms/step - loss: 0.1737 - mape: 3459.3484 - val_loss: 0.1820 - val_mape: 116.4000 - learning_rate: 2.5000e-04\n",
      "Epoch 48/200\n",
      "\u001b[1m12/12\u001b[0m \u001b[32m━━━━━━━━━━━━━━━━━━━━\u001b[0m\u001b[37m\u001b[0m \u001b[1m0s\u001b[0m 10ms/step - loss: 0.1664 - mape: 3100.3896 - val_loss: 0.1783 - val_mape: 117.2646 - learning_rate: 2.5000e-04\n",
      "Epoch 49/200\n",
      "\u001b[1m12/12\u001b[0m \u001b[32m━━━━━━━━━━━━━━━━━━━━\u001b[0m\u001b[37m\u001b[0m \u001b[1m0s\u001b[0m 9ms/step - loss: 0.1754 - mape: 4083.0027 - val_loss: 0.1782 - val_mape: 118.2755 - learning_rate: 1.2500e-04\n",
      "Epoch 50/200\n",
      "\u001b[1m12/12\u001b[0m \u001b[32m━━━━━━━━━━━━━━━━━━━━\u001b[0m\u001b[37m\u001b[0m \u001b[1m0s\u001b[0m 9ms/step - loss: 0.1728 - mape: 5841.5874 - val_loss: 0.1782 - val_mape: 118.4513 - learning_rate: 1.2500e-04\n",
      "Epoch 51/200\n",
      "\u001b[1m12/12\u001b[0m \u001b[32m━━━━━━━━━━━━━━━━━━━━\u001b[0m\u001b[37m\u001b[0m \u001b[1m0s\u001b[0m 8ms/step - loss: 0.1609 - mape: 4152.2969 - val_loss: 0.1770 - val_mape: 117.5278 - learning_rate: 1.2500e-04\n",
      "Epoch 52/200\n",
      "\u001b[1m12/12\u001b[0m \u001b[32m━━━━━━━━━━━━━━━━━━━━\u001b[0m\u001b[37m\u001b[0m \u001b[1m0s\u001b[0m 13ms/step - loss: 0.1740 - mape: 2663.6787 - val_loss: 0.1792 - val_mape: 118.0072 - learning_rate: 1.2500e-04\n",
      "Epoch 53/200\n",
      "\u001b[1m12/12\u001b[0m \u001b[32m━━━━━━━━━━━━━━━━━━━━\u001b[0m\u001b[37m\u001b[0m \u001b[1m0s\u001b[0m 12ms/step - loss: 0.1789 - mape: 4029.5747 - val_loss: 0.1802 - val_mape: 118.3048 - learning_rate: 1.2500e-04\n"
     ]
    }
   ],
   "source": [
    "history = model.fit(\n",
    "    X_train, y_train,\n",
    "    validation_split=0.10,  # 10% of training for validation\n",
    "    epochs=200,\n",
    "    batch_size=32,\n",
    "    callbacks=callbacks,\n",
    "    verbose=1\n",
    ")"
   ]
  },
  {
   "cell_type": "code",
   "execution_count": 276,
   "metadata": {},
   "outputs": [
    {
     "name": "stdout",
     "output_type": "stream",
     "text": [
      "\u001b[1m4/4\u001b[0m \u001b[32m━━━━━━━━━━━━━━━━━━━━\u001b[0m\u001b[37m\u001b[0m \u001b[1m0s\u001b[0m 35ms/step\n"
     ]
    }
   ],
   "source": [
    "# 1) Predict & inverse‑scale\n",
    "y_pred_s = model.predict(X_test)\n",
    "y_pred = y_scaler.inverse_transform(y_pred_s).ravel()\n",
    "y_true = y_scaler.inverse_transform(y_test).ravel()\n",
    "\n"
   ]
  },
  {
   "cell_type": "code",
   "execution_count": 277,
   "metadata": {},
   "outputs": [
    {
     "name": "stdout",
     "output_type": "stream",
     "text": [
      "RQ2: South Island (with regressors) - Wind - ANN - MAE: 1937966.26, RMSE: 2355926.60, MAPE: 43.19%\n"
     ]
    }
   ],
   "source": [
    "# 2) Metrics\n",
    "mae  = mean_absolute_error(y_true, y_pred)\n",
    "#rmse = mean_squared_error(y_true, y_pred, squared=False)\n",
    "rmse = root_mean_squared_error(y_true, y_pred)\n",
    "mape = mean_absolute_percentage_error(y_true, y_pred) * 100\n",
    "# print(\"\\nRQ2‐ANN Performance - Wind (South Island):\")\n",
    "# print(f\"MAE : {mae:,.2f}\")\n",
    "# print(f\"RMSE: {rmse:,.2f}\")\n",
    "# print(f\"MAPE: {mape:.2f}%\")\n",
    "print(f\"RQ2: South Island (with regressors) - Wind - ANN - MAE: {mae:.2f}, RMSE: {rmse:.2f}, MAPE: {mape:.2f}%\")"
   ]
  },
  {
   "cell_type": "code",
   "execution_count": 176,
   "metadata": {},
   "outputs": [],
   "source": [
    "# 64X\n",
    "# RQ2‐ANN Performance - Wind (South Island):\n",
    "# MAE : 1,998,118.16\n",
    "# RMSE: 2,405,874.11\n",
    "# MAPE: 45.24%"
   ]
  },
  {
   "cell_type": "code",
   "execution_count": 285,
   "metadata": {},
   "outputs": [
    {
     "data": {
      "image/png": "[encoded data removed]",
      "text/plain": [
       "<Figure size 1200x500 with 1 Axes>"
      ]
     },
     "metadata": {},
     "output_type": "display_data"
    }
   ],
   "source": [
    "# 11) Plot Train, Test Actuals, and RQ2‐ANN Forecast\n",
    "plt.figure(figsize=(12, 5))\n",
    "# 11a) Training‐period actuals (2015 to split)\n",
    "plt.plot(train_df.index, y_train_raw.flatten(),label=\"Train(2015 -> split)\",color=\"lightgray\")\n",
    "# 11b) Test‐period actuals\n",
    "plt.plot(test_df.index,y_test_raw.flatten(),label=\"Actual\",   color=\"black\")\n",
    "# 11c) RQ2‐ANN forecast over test period\n",
    "plt.plot(test_df.index,y_pred,label=\"Forecast\", color=\"darkorange\")\n",
    "plt.title(\"South Island: ANN Wind Forecast vs. Actual (RQ2)\" , fontsize=9)\n",
    "plt.xlabel(\"Date\")\n",
    "plt.ylabel(\"Weekly Total_TP (×10⁸ kWh)\",  fontsize=9)\n",
    "plt.grid(True)\n",
    "plt.legend(loc=\"upper right\", fontsize=7)\n",
    "plt.tight_layout()\n",
    "plt.show()\n",
    "\n",
    "\n",
    "\n",
    "# plt.figure(figsize=(12,5))\n",
    "# plt.plot(train_s_ann.index,y_train.flatten(),label=\"Train(2015 -> split)\",color=\"lightgray\")\n",
    "# plt.plot(test_s_ann.index, y_test, label=\"Actual\",   color=\"black\")\n",
    "# plt.plot(test_s_ann.index, y_pred, label=\"Forecast\",      color=\"darkorange\")\n",
    "# plt.title(\"South Island: ANN Wind Forecast vs. Actual (RQ1)\" , fontsize=9)\n",
    "# plt.xlabel(\"Date\")\n",
    "# plt.ylabel(\"Weekly Total_TP (×10⁸ kWh)\",  fontsize=9)\n",
    "# plt.legend(loc=\"upper right\", fontsize=7)\n",
    "# plt.grid(True)\n",
    "# plt.tight_layout()\n",
    "# plt.show()"
   ]
  },
  {
   "cell_type": "code",
   "execution_count": null,
   "metadata": {},
   "outputs": [],
   "source": []
  }
 ],
 "metadata": {
  "kernelspec": {
   "display_name": "Python [conda env:base] *",
   "language": "python",
   "name": "conda-base-py"
  },
  "language_info": {
   "codemirror_mode": {
    "name": "ipython",
    "version": 3
   },
   "file_extension": ".py",
   "mimetype": "text/x-python",
   "name": "python",
   "nbconvert_exporter": "python",
   "pygments_lexer": "ipython3",
   "version": "3.12.7"
  }
 },
 "nbformat": 4,
 "nbformat_minor": 4
}
