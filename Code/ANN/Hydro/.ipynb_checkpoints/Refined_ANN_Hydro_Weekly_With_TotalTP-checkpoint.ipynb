{
 "cells": [
  {
   "cell_type": "markdown",
   "id": "f2f980a8",
   "metadata": {},
   "source": [
    "# ANN Forecasting of Weekly Hydro Energy Generation in New Zealand\n",
    "\n",
    "This notebook addresses:\n",
    "- **RQ1**: How accurately can ANN forecast weekly hydro energy compared to SARIMA?\n",
    "- **RQ2**: Do lagged climate features improve ANN forecasting performance?\n",
    "\n",
    "Hydro generation data is merged with NASA climate variables and aggregated to weekly frequency."
   ]
  },
  {
   "cell_type": "code",
   "execution_count": null,
   "id": "a26d40aa",
   "metadata": {},
   "outputs": [],
   "source": [
    "import pandas as pd\n",
    "import numpy as np\n",
    "import matplotlib.pyplot as plt\n",
    "from sklearn.preprocessing import MinMaxScaler\n",
    "from sklearn.metrics import mean_absolute_error, mean_squared_error\n",
    "from tensorflow.keras.models import Sequential\n",
    "from tensorflow.keras.layers import Dense, Dropout\n",
    "from tensorflow.keras.callbacks import EarlyStopping\n",
    "import seaborn as sns\n",
    "import warnings\n",
    "warnings.filterwarnings('ignore')\n",
    "plt.style.use('seaborn-vintage')"
   ]
  },
  {
   "cell_type": "markdown",
   "id": "f7edad9f",
   "metadata": {},
   "source": [
    "## Load and Prepare Weekly Aggregated Hydro + Climate Dataset"
   ]
  },
  {
   "cell_type": "code",
   "execution_count": null,
   "id": "dbb01957",
   "metadata": {},
   "outputs": [],
   "source": [
    "# Load weekly dataset (assumes already prepared like SARIMA)\n",
    "weekly_df = pd.read_csv('weekly_hydro_climate.csv', parse_dates=['DATE'], index_col='DATE')\n",
    "weekly_df = weekly_df.dropna()\n",
    "weekly_df.head()"
   ]
  },
  {
   "cell_type": "code",
   "execution_count": null,
   "id": "38e0aa21",
   "metadata": {},
   "outputs": [],
   "source": [
    "# Check if 'Total_TP' exists in the dataset\n",
    "if 'Total_TP' in weekly_df.columns:\n",
    "    # Compute correlation\n",
    "    corr_tp = weekly_df[['GENERATION', 'Total_TP']].corr()\n",
    "    print('Correlation between GENERATION and Total_TP:')\n",
    "    print(corr_tp)\n",
    "\n",
    "    # Optional: Add rolling mean of Total_TP\n",
    "    weekly_df['TP_rolling_avg_2w'] = weekly_df['Total_TP'].rolling(window=2).mean()\n",
    "    weekly_df['TP_rolling_avg_4w'] = weekly_df['Total_TP'].rolling(window=4).mean()\n",
    "    weekly_df.dropna(inplace=True)\n",
    "else:\n",
    "    print(\"'Total_TP' not found in the dataset.\")"
   ]
  },
  {
   "cell_type": "markdown",
   "id": "d316a3c6",
   "metadata": {},
   "source": [
    "## Feature Scaling and Train-Test Split"
   ]
  },
  {
   "cell_type": "code",
   "execution_count": null,
   "id": "1c3d4600",
   "metadata": {},
   "outputs": [],
   "source": [
    "# Define features and target\n",
    "X = weekly_df.drop(columns='GENERATION')\n",
    "y = weekly_df['GENERATION']\n",
    "\n",
    "# Scale features\n",
    "scaler = MinMaxScaler()\n",
    "X_scaled = scaler.fit_transform(X)\n",
    "\n",
    "# Split into train/test (last 10 weeks for test)\n",
    "X_train, X_test = X_scaled[:-10], X_scaled[-10:]\n",
    "y_train, y_test = y[:-10], y[-10:]"
   ]
  },
  {
   "cell_type": "markdown",
   "id": "7eaae037",
   "metadata": {},
   "source": [
    "## 🧠 ANN Model without Lagged Climate Features (RQ1)"
   ]
  },
  {
   "cell_type": "code",
   "execution_count": null,
   "id": "7ad66e14",
   "metadata": {},
   "outputs": [],
   "source": [
    "# Build simple ANN\n",
    "model = Sequential()\n",
    "model.add(Dense(64, activation='relu', input_shape=(X_train.shape[1],)))\n",
    "model.add(Dropout(0.2))\n",
    "model.add(Dense(32, activation='relu'))\n",
    "model.add(Dense(1))\n",
    "\n",
    "model.compile(optimizer='adam', loss='mse')\n",
    "es = EarlyStopping(monitor='val_loss', patience=20, restore_best_weights=True)\n",
    "\n",
    "# Train model\n",
    "history = model.fit(X_train, y_train, validation_split=0.2, epochs=200, batch_size=8, callbacks=[es], verbose=0)"
   ]
  },
  {
   "cell_type": "markdown",
   "id": "aa4e510f",
   "metadata": {},
   "source": [
    "## Forecast Evaluation and RQ1 Analysis"
   ]
  },
  {
   "cell_type": "code",
   "execution_count": null,
   "id": "e84b2d5d",
   "metadata": {},
   "outputs": [],
   "source": [
    "# Predict and evaluate\n",
    "y_pred = model.predict(X_test).flatten()\n",
    "mae = mean_absolute_error(y_test, y_pred)\n",
    "rmse = np.sqrt(mean_squared_error(y_test, y_pred))\n",
    "mape = np.mean(np.abs((y_test - y_pred) / y_test)) * 100\n",
    "\n",
    "print(f'ANN MAE: {mae:.2f}')\n",
    "print(f'ANN RMSE: {rmse:.2f}')\n",
    "print(f'ANN MAPE: {mape:.2f}%')"
   ]
  },
  {
   "cell_type": "code",
   "execution_count": null,
   "id": "b5e33513",
   "metadata": {},
   "outputs": [],
   "source": [
    "plt.figure(figsize=(12,4))\n",
    "plt.plot(y_test.values, label='Actual')\n",
    "plt.plot(y_pred, label='Predicted')\n",
    "plt.title('ANN Prediction vs Actual (Weekly Hydro Generation)')\n",
    "plt.legend()\n",
    "plt.show()"
   ]
  },
  {
   "cell_type": "markdown",
   "id": "497def9f",
   "metadata": {},
   "source": [
    "### 🔍 Interpretation (RQ1)\n",
    "The ANN model's accuracy metrics (MAPE, MAE, RMSE) are used to compare against SARIMA and SARIMAX models.\n",
    "Lower errors here support ANN as a better forecasting tool under similar data conditions."
   ]
  },
  {
   "cell_type": "markdown",
   "id": "89029d0a",
   "metadata": {},
   "source": [
    "## Add Lagged Climate Features for RQ2"
   ]
  },
  {
   "cell_type": "code",
   "execution_count": null,
   "id": "fb330e9a",
   "metadata": {},
   "outputs": [],
   "source": [
    "# Manually shift climate variables by 1 week to simulate lag\n",
    "lagged_df = weekly_df.copy()\n",
    "lagged_df['T2M_lag1'] = lagged_df['T2M'].shift(1)\n",
    "lagged_df['PS_lag1'] = lagged_df['PS'].shift(1)\n",
    "lagged_df['WS50M_lag1'] = lagged_df['WS50M'].shift(1)\n",
    "lagged_df['RH2M_lag1'] = lagged_df['RH2M'].shift(1)\n",
    "lagged_df['PRECTOTCORR_lag1'] = lagged_df['PRECTOTCORR'].shift(1)\n",
    "lagged_df['EVLAND_lag1'] = lagged_df['EVLAND'].shift(1)\n",
    "\n",
    "# Drop original variables and NAs from lag\n",
    "lagged_df = lagged_df[['GENERATION', 'T2M_lag1', 'PS_lag1', 'WS50M_lag1', 'RH2M_lag1', 'PRECTOTCORR_lag1', 'EVLAND_lag1']].dropna()"
   ]
  },
  {
   "cell_type": "markdown",
   "id": "1da2b3eb",
   "metadata": {},
   "source": [
    "## Preprocessing Lagged Inputs"
   ]
  },
  {
   "cell_type": "code",
   "execution_count": null,
   "id": "db8bffbc",
   "metadata": {},
   "outputs": [],
   "source": [
    "X_lag = lagged_df.drop(columns='GENERATION')\n",
    "y_lag = lagged_df['GENERATION']\n",
    "\n",
    "X_lag_scaled = scaler.fit_transform(X_lag)\n",
    "\n",
    "X_train_lag, X_test_lag = X_lag_scaled[:-10], X_lag_scaled[-10:]\n",
    "y_train_lag, y_test_lag = y_lag[:-10], y_lag[-10:]"
   ]
  },
  {
   "cell_type": "markdown",
   "id": "10967c5f",
   "metadata": {},
   "source": [
    "## 🌦️ ANN Model with Lagged Climate Features (RQ2)"
   ]
  },
  {
   "cell_type": "code",
   "execution_count": null,
   "id": "ccb120f7",
   "metadata": {},
   "outputs": [],
   "source": [
    "model_lag = Sequential()\n",
    "model_lag.add(Dense(64, activation='relu', input_shape=(X_train_lag.shape[1],)))\n",
    "model_lag.add(Dropout(0.2))\n",
    "model_lag.add(Dense(32, activation='relu'))\n",
    "model_lag.add(Dense(1))\n",
    "\n",
    "model_lag.compile(optimizer='adam', loss='mse')\n",
    "es_lag = EarlyStopping(monitor='val_loss', patience=20, restore_best_weights=True)\n",
    "\n",
    "history_lag = model_lag.fit(X_train_lag, y_train_lag, validation_split=0.2,\n",
    "                            epochs=200, batch_size=8, callbacks=[es_lag], verbose=0)"
   ]
  },
  {
   "cell_type": "markdown",
   "id": "1cb03a69",
   "metadata": {},
   "source": [
    "## Forecast Evaluation for RQ2 (Lagged ANN)"
   ]
  },
  {
   "cell_type": "code",
   "execution_count": null,
   "id": "099d5e21",
   "metadata": {},
   "outputs": [],
   "source": [
    "y_pred_lag = model_lag.predict(X_test_lag).flatten()\n",
    "mae_lag = mean_absolute_error(y_test_lag, y_pred_lag)\n",
    "rmse_lag = np.sqrt(mean_squared_error(y_test_lag, y_pred_lag))\n",
    "mape_lag = np.mean(np.abs((y_test_lag - y_pred_lag) / y_test_lag)) * 100\n",
    "\n",
    "print(f'Lagged ANN MAE: {mae_lag:.2f}')\n",
    "print(f'Lagged ANN RMSE: {rmse_lag:.2f}')\n",
    "print(f'Lagged ANN MAPE: {mape_lag:.2f}%')"
   ]
  },
  {
   "cell_type": "code",
   "execution_count": null,
   "id": "a8df292a",
   "metadata": {},
   "outputs": [],
   "source": [
    "plt.figure(figsize=(12,4))\n",
    "plt.plot(y_test_lag.values, label='Actual')\n",
    "plt.plot(y_pred_lag, label='Predicted (Lagged)')\n",
    "plt.title('ANN with Lagged Climate Features')\n",
    "plt.legend()\n",
    "plt.show()"
   ]
  },
  {
   "cell_type": "markdown",
   "id": "2a9c0d3e",
   "metadata": {},
   "source": [
    "### 🧠 Interpretation (RQ2)\n",
    "This ANN model uses **1-week lagged climate inputs**. If its accuracy (MAPE, MAE, RMSE) improves over the non-lagged version,\n",
    "it indicates that hydro forecasting benefits from incorporating delayed climate effects — thus supporting **RQ2**."
   ]
  },
  {
   "cell_type": "markdown",
   "id": "13e3067d",
   "metadata": {},
   "source": [
    "## 🌦️ ANN Model with Lagged Climate Features (RQ2)"
   ]
  },
  {
   "cell_type": "code",
   "execution_count": null,
   "id": "e910327d",
   "metadata": {},
   "outputs": [],
   "source": [
    "# Create lagged features (1-week lag)\n",
    "weekly_df['T2M_lag1'] = weekly_df['T2M'].shift(1)\n",
    "weekly_df['PS_lag1'] = weekly_df['PS'].shift(1)\n",
    "weekly_df['WS50M_lag1'] = weekly_df['WS50M'].shift(1)\n",
    "weekly_df['RH2M_lag1'] = weekly_df['RH2M'].shift(1)\n",
    "weekly_df['PRECTOTCORR_lag1'] = weekly_df['PRECTOTCORR'].shift(1)\n",
    "weekly_df['EVLAND_lag1'] = weekly_df['EVLAND'].shift(1)\n",
    "\n",
    "# Keep only lagged features and target\n",
    "lagged_df = weekly_df[['GENERATION', 'T2M_lag1', 'PS_lag1', 'WS50M_lag1', 'RH2M_lag1', 'PRECTOTCORR_lag1', 'EVLAND_lag1']].dropna()"
   ]
  },
  {
   "cell_type": "code",
   "execution_count": null,
   "id": "e79c0bc3",
   "metadata": {},
   "outputs": [],
   "source": [
    "# Define features and target\n",
    "X_lag = lagged_df.drop(columns='GENERATION')\n",
    "y_lag = lagged_df['GENERATION']\n",
    "\n",
    "# Scale\n",
    "X_lag_scaled = scaler.fit_transform(X_lag)\n",
    "\n",
    "# Train-test split\n",
    "X_lag_train, X_lag_test = X_lag_scaled[:-10], X_lag_scaled[-10:]\n",
    "y_lag_train, y_lag_test = y_lag[:-10], y_lag[-10:]"
   ]
  },
  {
   "cell_type": "code",
   "execution_count": null,
   "id": "be16dbe7",
   "metadata": {},
   "outputs": [],
   "source": [
    "# ANN for lagged features\n",
    "model_lag = Sequential()\n",
    "model_lag.add(Dense(64, activation='relu', input_shape=(X_lag_train.shape[1],)))\n",
    "model_lag.add(Dropout(0.2))\n",
    "model_lag.add(Dense(32, activation='relu'))\n",
    "model_lag.add(Dense(1))\n",
    "\n",
    "model_lag.compile(optimizer='adam', loss='mse')\n",
    "es_lag = EarlyStopping(monitor='val_loss', patience=20, restore_best_weights=True)\n",
    "\n",
    "history_lag = model_lag.fit(X_lag_train, y_lag_train, validation_split=0.2, epochs=200, batch_size=8, callbacks=[es_lag], verbose=0)"
   ]
  },
  {
   "cell_type": "code",
   "execution_count": null,
   "id": "af572bb5",
   "metadata": {},
   "outputs": [],
   "source": [
    "# Predict and evaluate\n",
    "y_lag_pred = model_lag.predict(X_lag_test).flatten()\n",
    "mae_lag_ann = mean_absolute_error(y_lag_test, y_lag_pred)\n",
    "rmse_lag_ann = np.sqrt(mean_squared_error(y_lag_test, y_lag_pred))\n",
    "mape_lag_ann = np.mean(np.abs((y_lag_test - y_lag_pred) / y_lag_test)) * 100\n",
    "\n",
    "print(f'ANN (Lagged) MAE: {mae_lag_ann:.2f}')\n",
    "print(f'ANN (Lagged) RMSE: {rmse_lag_ann:.2f}')\n",
    "print(f'ANN (Lagged) MAPE: {mape_lag_ann:.2f}%')"
   ]
  },
  {
   "cell_type": "code",
   "execution_count": null,
   "id": "7cfe2bd5",
   "metadata": {},
   "outputs": [],
   "source": [
    "plt.figure(figsize=(12,4))\n",
    "plt.plot(y_lag_test.values, label='Actual')\n",
    "plt.plot(y_lag_pred, label='Predicted')\n",
    "plt.title('ANN Prediction vs Actual (Lagged Climate Features)')\n",
    "plt.legend()\n",
    "plt.show()"
   ]
  },
  {
   "cell_type": "markdown",
   "id": "eedda703",
   "metadata": {},
   "source": [
    "### 🔍 Interpretation (RQ2)\n",
    "By adding lagged climate variables, the ANN model may better anticipate how prior weather affects current hydro generation.\n",
    "If MAPE is improved over the non-lagged ANN model, this supports the hypothesis that **lagged climate inputs enhance forecast accuracy**, answering **RQ2**."
   ]
  }
 ],
 "metadata": {},
 "nbformat": 4,
 "nbformat_minor": 5
}
