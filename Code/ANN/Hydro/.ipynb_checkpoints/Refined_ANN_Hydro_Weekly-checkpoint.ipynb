{
 "cells": [
  {
   "cell_type": "markdown",
   "id": "f2f980a8",
   "metadata": {},
   "source": [
    "# ANN Forecasting of Weekly Hydro Energy Generation in New Zealand\n",
    "\n",
    "This notebook addresses:\n",
    "- **RQ1**: How accurately can ANN forecast weekly hydro energy compared to SARIMA?\n",
    "- **RQ2**: Do lagged climate features improve ANN forecasting performance?\n",
    "\n",
    "Hydro generation data is merged with NASA climate variables and aggregated to weekly frequency."
   ]
  },
  {
   "cell_type": "code",
   "execution_count": null,
   "id": "a26d40aa",
   "metadata": {},
   "outputs": [],
   "source": [
    "import pandas as pd\n",
    "import numpy as np\n",
    "import matplotlib.pyplot as plt\n",
    "from sklearn.preprocessing import MinMaxScaler\n",
    "from sklearn.metrics import mean_absolute_error, mean_squared_error\n",
    "from tensorflow.keras.models import Sequential\n",
    "from tensorflow.keras.layers import Dense, Dropout\n",
    "from tensorflow.keras.callbacks import EarlyStopping\n",
    "import seaborn as sns\n",
    "import warnings\n",
    "warnings.filterwarnings('ignore')\n",
    "plt.style.use('seaborn-vintage')"
   ]
  },
  {
   "cell_type": "markdown",
   "id": "f7edad9f",
   "metadata": {},
   "source": [
    "## Load and Prepare Weekly Aggregated Hydro + Climate Dataset"
   ]
  },
  {
   "cell_type": "code",
   "execution_count": null,
   "id": "dbb01957",
   "metadata": {},
   "outputs": [],
   "source": [
    "# Load weekly dataset (assumes already prepared like SARIMA)\n",
    "weekly_df = pd.read_csv('weekly_hydro_climate.csv', parse_dates=['DATE'], index_col='DATE')\n",
    "weekly_df = weekly_df.dropna()\n",
    "weekly_df.head()"
   ]
  },
  {
   "cell_type": "markdown",
   "id": "d316a3c6",
   "metadata": {},
   "source": [
    "## Feature Scaling and Train-Test Split"
   ]
  },
  {
   "cell_type": "code",
   "execution_count": null,
   "id": "1c3d4600",
   "metadata": {},
   "outputs": [],
   "source": [
    "# Define features and target\n",
    "X = weekly_df.drop(columns='GENERATION')\n",
    "y = weekly_df['GENERATION']\n",
    "\n",
    "# Scale features\n",
    "scaler = MinMaxScaler()\n",
    "X_scaled = scaler.fit_transform(X)\n",
    "\n",
    "# Split into train/test (last 10 weeks for test)\n",
    "X_train, X_test = X_scaled[:-10], X_scaled[-10:]\n",
    "y_train, y_test = y[:-10], y[-10:]"
   ]
  },
  {
   "cell_type": "markdown",
   "id": "7eaae037",
   "metadata": {},
   "source": [
    "## ANN Model Training"
   ]
  },
  {
   "cell_type": "code",
   "execution_count": null,
   "id": "7ad66e14",
   "metadata": {},
   "outputs": [],
   "source": [
    "# Build simple ANN\n",
    "model = Sequential()\n",
    "model.add(Dense(64, activation='relu', input_shape=(X_train.shape[1],)))\n",
    "model.add(Dropout(0.2))\n",
    "model.add(Dense(32, activation='relu'))\n",
    "model.add(Dense(1))\n",
    "\n",
    "model.compile(optimizer='adam', loss='mse')\n",
    "es = EarlyStopping(monitor='val_loss', patience=20, restore_best_weights=True)\n",
    "\n",
    "# Train model\n",
    "history = model.fit(X_train, y_train, validation_split=0.2, epochs=200, batch_size=8, callbacks=[es], verbose=0)"
   ]
  },
  {
   "cell_type": "markdown",
   "id": "aa4e510f",
   "metadata": {},
   "source": [
    "## Forecast Evaluation and RQ1 Analysis"
   ]
  },
  {
   "cell_type": "code",
   "execution_count": null,
   "id": "e84b2d5d",
   "metadata": {},
   "outputs": [],
   "source": [
    "# Predict and evaluate\n",
    "y_pred = model.predict(X_test).flatten()\n",
    "mae = mean_absolute_error(y_test, y_pred)\n",
    "rmse = np.sqrt(mean_squared_error(y_test, y_pred))\n",
    "mape = np.mean(np.abs((y_test - y_pred) / y_test)) * 100\n",
    "\n",
    "print(f'ANN MAE: {mae:.2f}')\n",
    "print(f'ANN RMSE: {rmse:.2f}')\n",
    "print(f'ANN MAPE: {mape:.2f}%')"
   ]
  },
  {
   "cell_type": "code",
   "execution_count": null,
   "id": "b5e33513",
   "metadata": {},
   "outputs": [],
   "source": [
    "plt.figure(figsize=(12,4))\n",
    "plt.plot(y_test.values, label='Actual')\n",
    "plt.plot(y_pred, label='Predicted')\n",
    "plt.title('ANN Prediction vs Actual (Weekly Hydro Generation)')\n",
    "plt.legend()\n",
    "plt.show()"
   ]
  },
  {
   "cell_type": "markdown",
   "id": "497def9f",
   "metadata": {},
   "source": [
    "### 🔍 Interpretation (RQ1)\n",
    "The ANN model's accuracy metrics (MAPE, MAE, RMSE) are used to compare against SARIMA and SARIMAX models.\n",
    "Lower errors here support ANN as a better forecasting tool under similar data conditions."
   ]
  }
 ],
 "metadata": {},
 "nbformat": 4,
 "nbformat_minor": 5
}
