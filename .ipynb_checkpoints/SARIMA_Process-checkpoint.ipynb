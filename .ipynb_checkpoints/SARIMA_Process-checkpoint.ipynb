{
 "cells": [
  {
   "cell_type": "code",
   "execution_count": null,
   "metadata": {},
   "outputs": [],
   "source": [
    "import pandas as pd\n",
    "\n",
    "# Load Hydropower Generation Data\n",
    "energy_data = pd.read_csv(\"energy_generation.csv\", parse_dates=[\"Trading_Date\"])\n",
    "energy_data.set_index(\"Trading_Date\", inplace=True)  # Set Date as Index\n",
    "\n",
    "# Load Precipitation Data\n",
    "precipitation_data = pd.read_csv(\"precipitation.csv\", parse_dates=[[\"YEAR\", \"DOY\"]])\n",
    "precipitation_data.rename(columns={\"YEAR_DOY\": \"Date\"}, inplace=True)  # Rename merged column\n",
    "precipitation_data.set_index(\"Date\", inplace=True)  # Set Date as Index\n"
   ]
  }
 ],
 "metadata": {
  "kernelspec": {
   "display_name": "Python [conda env:base] *",
   "language": "python",
   "name": "conda-base-py"
  },
  "language_info": {
   "codemirror_mode": {
    "name": "ipython",
    "version": 3
   },
   "file_extension": ".py",
   "mimetype": "text/x-python",
   "name": "python",
   "nbconvert_exporter": "python",
   "pygments_lexer": "ipython3",
   "version": "3.12.7"
  }
 },
 "nbformat": 4,
 "nbformat_minor": 4
}
