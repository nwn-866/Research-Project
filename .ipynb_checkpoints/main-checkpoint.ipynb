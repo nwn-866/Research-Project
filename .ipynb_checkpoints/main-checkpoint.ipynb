{
 "cells": [
  {
   "cell_type": "code",
   "execution_count": 205,
   "metadata": {},
   "outputs": [],
   "source": [
    "import pandas as pd\n",
    "from pandas import DataFrame\n",
    "import numpy as np\n",
    "import requests"
   ]
  },
  {
   "attachments": {},
   "cell_type": "markdown",
   "metadata": {},
   "source": [
    "# Data Extraction and Cleaning"
   ]
  },
  {
   "attachments": {},
   "cell_type": "markdown",
   "metadata": {},
   "source": [
    "First, we import the necessary files. This includes the network service provider information (saved as `nsp_info`), and generation by fuel type (saved as `fuel_gen`)."
   ]
  },
  {
   "attachments": {},
   "cell_type": "markdown",
   "metadata": {},
   "source": [
    "## NSP Data"
   ]
  },
  {
   "cell_type": "code",
   "execution_count": 206,
   "metadata": {},
   "outputs": [],
   "source": [
    "nsp_info = pd.read_csv('https://www.emi.ea.govt.nz/Wholesale/Datasets/MappingsAndGeospatial/NetworkSupplyPointsTable/20221217_NetworkSupplyPointsTable.csv')"
   ]
  },
  {
   "cell_type": "code",
   "execution_count": 207,
   "metadata": {},
   "outputs": [
    {
     "data": {
      "text/html": [
       "<div>\n",
       "<style scoped>\n",
       "    .dataframe tbody tr th:only-of-type {\n",
       "        vertical-align: middle;\n",
       "    }\n",
       "\n",
       "    .dataframe tbody tr th {\n",
       "        vertical-align: top;\n",
       "    }\n",
       "\n",
       "    .dataframe thead th {\n",
       "        text-align: right;\n",
       "    }\n",
       "</style>\n",
       "<table border=\"1\" class=\"dataframe\">\n",
       "  <thead>\n",
       "    <tr style=\"text-align: right;\">\n",
       "      <th></th>\n",
       "      <th>Current flag</th>\n",
       "      <th>NSP</th>\n",
       "      <th>NSP replaced by</th>\n",
       "      <th>POC code</th>\n",
       "      <th>Network participant</th>\n",
       "      <th>Embedded under POC code</th>\n",
       "      <th>Embedded under network participant</th>\n",
       "      <th>Reconciliation type</th>\n",
       "      <th>X flow</th>\n",
       "      <th>I flow</th>\n",
       "      <th>...</th>\n",
       "      <th>Start date</th>\n",
       "      <th>Start TP</th>\n",
       "      <th>End date</th>\n",
       "      <th>End TP</th>\n",
       "      <th>SB ICP</th>\n",
       "      <th>Balancing code</th>\n",
       "      <th>MEP</th>\n",
       "      <th>Responsible participant</th>\n",
       "      <th>Certification expiry</th>\n",
       "      <th>Metering information exemption expiry date</th>\n",
       "    </tr>\n",
       "  </thead>\n",
       "  <tbody>\n",
       "    <tr>\n",
       "      <th>0</th>\n",
       "      <td>1</td>\n",
       "      <td>ABY0111ALPEGN</td>\n",
       "      <td>NaN</td>\n",
       "      <td>ABY0111</td>\n",
       "      <td>ALPE</td>\n",
       "      <td>NaN</td>\n",
       "      <td>NaN</td>\n",
       "      <td>GN</td>\n",
       "      <td>1</td>\n",
       "      <td>1</td>\n",
       "      <td>...</td>\n",
       "      <td>2012-01-01</td>\n",
       "      <td>1</td>\n",
       "      <td>NaN</td>\n",
       "      <td>NaN</td>\n",
       "      <td>NaN</td>\n",
       "      <td>CENTRALALPEG</td>\n",
       "      <td>TPNZ</td>\n",
       "      <td>TPNZ</td>\n",
       "      <td>2023-02-12</td>\n",
       "      <td>NaN</td>\n",
       "    </tr>\n",
       "    <tr>\n",
       "      <th>1</th>\n",
       "      <td>1</td>\n",
       "      <td>AKK0011SMRTEN</td>\n",
       "      <td>NaN</td>\n",
       "      <td>AKK0011</td>\n",
       "      <td>SMRT</td>\n",
       "      <td>KOE1101</td>\n",
       "      <td>TOPE</td>\n",
       "      <td>EN</td>\n",
       "      <td>1</td>\n",
       "      <td>0</td>\n",
       "      <td>...</td>\n",
       "      <td>2021-08-01</td>\n",
       "      <td>1</td>\n",
       "      <td>NaN</td>\n",
       "      <td>NaN</td>\n",
       "      <td>NaN</td>\n",
       "      <td>AKK0011SMRTE</td>\n",
       "      <td>AMCI</td>\n",
       "      <td>SMRT</td>\n",
       "      <td>2026-07-29</td>\n",
       "      <td>NaN</td>\n",
       "    </tr>\n",
       "    <tr>\n",
       "      <th>2</th>\n",
       "      <td>1</td>\n",
       "      <td>AKL0331AIALEN</td>\n",
       "      <td>NaN</td>\n",
       "      <td>AKL0331</td>\n",
       "      <td>AIAL</td>\n",
       "      <td>MNG0331</td>\n",
       "      <td>VECT</td>\n",
       "      <td>EN</td>\n",
       "      <td>1</td>\n",
       "      <td>1</td>\n",
       "      <td>...</td>\n",
       "      <td>2022-10-01</td>\n",
       "      <td>1</td>\n",
       "      <td>NaN</td>\n",
       "      <td>NaN</td>\n",
       "      <td>1001136290AA143</td>\n",
       "      <td>AKL0331AIALE</td>\n",
       "      <td>AMCI</td>\n",
       "      <td>AIAL</td>\n",
       "      <td>2022-12-24</td>\n",
       "      <td>NaN</td>\n",
       "    </tr>\n",
       "    <tr>\n",
       "      <th>3</th>\n",
       "      <td>1</td>\n",
       "      <td>ALB0331UNETGN</td>\n",
       "      <td>NaN</td>\n",
       "      <td>ALB0331</td>\n",
       "      <td>UNET</td>\n",
       "      <td>NaN</td>\n",
       "      <td>NaN</td>\n",
       "      <td>GN</td>\n",
       "      <td>1</td>\n",
       "      <td>1</td>\n",
       "      <td>...</td>\n",
       "      <td>2020-08-14</td>\n",
       "      <td>1</td>\n",
       "      <td>NaN</td>\n",
       "      <td>NaN</td>\n",
       "      <td>NaN</td>\n",
       "      <td>NORTHRNUNETG</td>\n",
       "      <td>TPNZ</td>\n",
       "      <td>TPNZ</td>\n",
       "      <td>2025-06-29</td>\n",
       "      <td>NaN</td>\n",
       "    </tr>\n",
       "    <tr>\n",
       "      <th>4</th>\n",
       "      <td>1</td>\n",
       "      <td>ALB1101UNETGN</td>\n",
       "      <td>NaN</td>\n",
       "      <td>ALB1101</td>\n",
       "      <td>UNET</td>\n",
       "      <td>NaN</td>\n",
       "      <td>NaN</td>\n",
       "      <td>GN</td>\n",
       "      <td>1</td>\n",
       "      <td>0</td>\n",
       "      <td>...</td>\n",
       "      <td>2008-05-01</td>\n",
       "      <td>1</td>\n",
       "      <td>NaN</td>\n",
       "      <td>NaN</td>\n",
       "      <td>NaN</td>\n",
       "      <td>NORTHRNUNETG</td>\n",
       "      <td>TPNZ</td>\n",
       "      <td>TPNZ</td>\n",
       "      <td>2025-04-23</td>\n",
       "      <td>NaN</td>\n",
       "    </tr>\n",
       "    <tr>\n",
       "      <th>...</th>\n",
       "      <td>...</td>\n",
       "      <td>...</td>\n",
       "      <td>...</td>\n",
       "      <td>...</td>\n",
       "      <td>...</td>\n",
       "      <td>...</td>\n",
       "      <td>...</td>\n",
       "      <td>...</td>\n",
       "      <td>...</td>\n",
       "      <td>...</td>\n",
       "      <td>...</td>\n",
       "      <td>...</td>\n",
       "      <td>...</td>\n",
       "      <td>...</td>\n",
       "      <td>...</td>\n",
       "      <td>...</td>\n",
       "      <td>...</td>\n",
       "      <td>...</td>\n",
       "      <td>...</td>\n",
       "      <td>...</td>\n",
       "      <td>...</td>\n",
       "    </tr>\n",
       "    <tr>\n",
       "      <th>2209</th>\n",
       "      <td>0</td>\n",
       "      <td>WWC0011WFNZEN</td>\n",
       "      <td>WWC0011TENCEN</td>\n",
       "      <td>WWC0011</td>\n",
       "      <td>WFNZ</td>\n",
       "      <td>HEP0331</td>\n",
       "      <td>UNET</td>\n",
       "      <td>EN</td>\n",
       "      <td>1</td>\n",
       "      <td>0</td>\n",
       "      <td>...</td>\n",
       "      <td>2011-01-01</td>\n",
       "      <td>1</td>\n",
       "      <td>2017-06-30</td>\n",
       "      <td>48.0</td>\n",
       "      <td>0002220000WFEDE</td>\n",
       "      <td>WWC0011WFNZE</td>\n",
       "      <td>AMCI</td>\n",
       "      <td>WFNZ</td>\n",
       "      <td>2017-12-14</td>\n",
       "      <td>NaN</td>\n",
       "    </tr>\n",
       "    <tr>\n",
       "      <th>2210</th>\n",
       "      <td>0</td>\n",
       "      <td>WWD1102MERIGD</td>\n",
       "      <td>WWD1102MERIGG</td>\n",
       "      <td>WWD1102</td>\n",
       "      <td>MERI</td>\n",
       "      <td>NaN</td>\n",
       "      <td>NaN</td>\n",
       "      <td>GD</td>\n",
       "      <td>1</td>\n",
       "      <td>0</td>\n",
       "      <td>...</td>\n",
       "      <td>2008-12-01</td>\n",
       "      <td>1</td>\n",
       "      <td>2009-02-16</td>\n",
       "      <td>48.0</td>\n",
       "      <td>NaN</td>\n",
       "      <td>WWD1102MERIG</td>\n",
       "      <td>MERG</td>\n",
       "      <td>MERI</td>\n",
       "      <td>2023-08-11</td>\n",
       "      <td>NaN</td>\n",
       "    </tr>\n",
       "    <tr>\n",
       "      <th>2211</th>\n",
       "      <td>0</td>\n",
       "      <td>WWD1103MERIGD</td>\n",
       "      <td>WWD1103MERIGG</td>\n",
       "      <td>WWD1103</td>\n",
       "      <td>MERI</td>\n",
       "      <td>NaN</td>\n",
       "      <td>NaN</td>\n",
       "      <td>GD</td>\n",
       "      <td>1</td>\n",
       "      <td>0</td>\n",
       "      <td>...</td>\n",
       "      <td>2008-12-01</td>\n",
       "      <td>1</td>\n",
       "      <td>2009-02-16</td>\n",
       "      <td>48.0</td>\n",
       "      <td>NaN</td>\n",
       "      <td>WWD1103MERIG</td>\n",
       "      <td>MERG</td>\n",
       "      <td>MERI</td>\n",
       "      <td>2023-08-12</td>\n",
       "      <td>NaN</td>\n",
       "    </tr>\n",
       "    <tr>\n",
       "      <th>2212</th>\n",
       "      <td>0</td>\n",
       "      <td>WWK0111WAIKEN</td>\n",
       "      <td>WWK0111WAIKEN</td>\n",
       "      <td>WWK0111</td>\n",
       "      <td>WAIK</td>\n",
       "      <td>WRK0331</td>\n",
       "      <td>HAWK</td>\n",
       "      <td>EN</td>\n",
       "      <td>1</td>\n",
       "      <td>0</td>\n",
       "      <td>...</td>\n",
       "      <td>2005-09-01</td>\n",
       "      <td>1</td>\n",
       "      <td>2008-04-30</td>\n",
       "      <td>48.0</td>\n",
       "      <td>NaN</td>\n",
       "      <td>WWK0111WAIKE</td>\n",
       "      <td>NaN</td>\n",
       "      <td>NaN</td>\n",
       "      <td>NaN</td>\n",
       "      <td>NaN</td>\n",
       "    </tr>\n",
       "    <tr>\n",
       "      <th>2213</th>\n",
       "      <td>0</td>\n",
       "      <td>WWK0111WAIKEN</td>\n",
       "      <td>NaN</td>\n",
       "      <td>WWK0111</td>\n",
       "      <td>WAIK</td>\n",
       "      <td>WRK0331</td>\n",
       "      <td>HAWK</td>\n",
       "      <td>EN</td>\n",
       "      <td>1</td>\n",
       "      <td>0</td>\n",
       "      <td>...</td>\n",
       "      <td>2008-05-01</td>\n",
       "      <td>1</td>\n",
       "      <td>2012-10-31</td>\n",
       "      <td>48.0</td>\n",
       "      <td>NaN</td>\n",
       "      <td>WWK0111WAIKE</td>\n",
       "      <td>NaN</td>\n",
       "      <td>NaN</td>\n",
       "      <td>NaN</td>\n",
       "      <td>NaN</td>\n",
       "    </tr>\n",
       "  </tbody>\n",
       "</table>\n",
       "<p>2214 rows × 27 columns</p>\n",
       "</div>"
      ],
      "text/plain": [
       "      Current flag            NSP NSP replaced by POC code  \\\n",
       "0                1  ABY0111ALPEGN             NaN  ABY0111   \n",
       "1                1  AKK0011SMRTEN             NaN  AKK0011   \n",
       "2                1  AKL0331AIALEN             NaN  AKL0331   \n",
       "3                1  ALB0331UNETGN             NaN  ALB0331   \n",
       "4                1  ALB1101UNETGN             NaN  ALB1101   \n",
       "...            ...            ...             ...      ...   \n",
       "2209             0  WWC0011WFNZEN   WWC0011TENCEN  WWC0011   \n",
       "2210             0  WWD1102MERIGD   WWD1102MERIGG  WWD1102   \n",
       "2211             0  WWD1103MERIGD   WWD1103MERIGG  WWD1103   \n",
       "2212             0  WWK0111WAIKEN   WWK0111WAIKEN  WWK0111   \n",
       "2213             0  WWK0111WAIKEN             NaN  WWK0111   \n",
       "\n",
       "     Network participant Embedded under POC code  \\\n",
       "0                   ALPE                     NaN   \n",
       "1                   SMRT                 KOE1101   \n",
       "2                   AIAL                 MNG0331   \n",
       "3                   UNET                     NaN   \n",
       "4                   UNET                     NaN   \n",
       "...                  ...                     ...   \n",
       "2209                WFNZ                 HEP0331   \n",
       "2210                MERI                     NaN   \n",
       "2211                MERI                     NaN   \n",
       "2212                WAIK                 WRK0331   \n",
       "2213                WAIK                 WRK0331   \n",
       "\n",
       "     Embedded under network participant Reconciliation type  X flow  I flow  \\\n",
       "0                                   NaN                  GN       1       1   \n",
       "1                                  TOPE                  EN       1       0   \n",
       "2                                  VECT                  EN       1       1   \n",
       "3                                   NaN                  GN       1       1   \n",
       "4                                   NaN                  GN       1       0   \n",
       "...                                 ...                 ...     ...     ...   \n",
       "2209                               UNET                  EN       1       0   \n",
       "2210                                NaN                  GD       1       0   \n",
       "2211                                NaN                  GD       1       0   \n",
       "2212                               HAWK                  EN       1       0   \n",
       "2213                               HAWK                  EN       1       0   \n",
       "\n",
       "      ...  Start date  Start TP    End date  End TP           SB ICP  \\\n",
       "0     ...  2012-01-01         1         NaN     NaN              NaN   \n",
       "1     ...  2021-08-01         1         NaN     NaN              NaN   \n",
       "2     ...  2022-10-01         1         NaN     NaN  1001136290AA143   \n",
       "3     ...  2020-08-14         1         NaN     NaN              NaN   \n",
       "4     ...  2008-05-01         1         NaN     NaN              NaN   \n",
       "...   ...         ...       ...         ...     ...              ...   \n",
       "2209  ...  2011-01-01         1  2017-06-30    48.0  0002220000WFEDE   \n",
       "2210  ...  2008-12-01         1  2009-02-16    48.0              NaN   \n",
       "2211  ...  2008-12-01         1  2009-02-16    48.0              NaN   \n",
       "2212  ...  2005-09-01         1  2008-04-30    48.0              NaN   \n",
       "2213  ...  2008-05-01         1  2012-10-31    48.0              NaN   \n",
       "\n",
       "     Balancing code   MEP Responsible participant  Certification expiry  \\\n",
       "0      CENTRALALPEG  TPNZ                    TPNZ            2023-02-12   \n",
       "1      AKK0011SMRTE  AMCI                    SMRT            2026-07-29   \n",
       "2      AKL0331AIALE  AMCI                    AIAL            2022-12-24   \n",
       "3      NORTHRNUNETG  TPNZ                    TPNZ            2025-06-29   \n",
       "4      NORTHRNUNETG  TPNZ                    TPNZ            2025-04-23   \n",
       "...             ...   ...                     ...                   ...   \n",
       "2209   WWC0011WFNZE  AMCI                    WFNZ            2017-12-14   \n",
       "2210   WWD1102MERIG  MERG                    MERI            2023-08-11   \n",
       "2211   WWD1103MERIG  MERG                    MERI            2023-08-12   \n",
       "2212   WWK0111WAIKE   NaN                     NaN                   NaN   \n",
       "2213   WWK0111WAIKE   NaN                     NaN                   NaN   \n",
       "\n",
       "     Metering information exemption expiry date  \n",
       "0                                           NaN  \n",
       "1                                           NaN  \n",
       "2                                           NaN  \n",
       "3                                           NaN  \n",
       "4                                           NaN  \n",
       "...                                         ...  \n",
       "2209                                        NaN  \n",
       "2210                                        NaN  \n",
       "2211                                        NaN  \n",
       "2212                                        NaN  \n",
       "2213                                        NaN  \n",
       "\n",
       "[2214 rows x 27 columns]"
      ]
     },
     "execution_count": 207,
     "metadata": {},
     "output_type": "execute_result"
    }
   ],
   "source": [
    "nsp_info"
   ]
  },
  {
   "cell_type": "code",
   "execution_count": 208,
   "metadata": {},
   "outputs": [
    {
     "data": {
      "text/plain": [
       "['Current flag',\n",
       " 'NSP',\n",
       " 'NSP replaced by',\n",
       " 'POC code',\n",
       " 'Network participant',\n",
       " 'Embedded under POC code',\n",
       " 'Embedded under network participant',\n",
       " 'Reconciliation type',\n",
       " 'X flow',\n",
       " 'I flow',\n",
       " 'Description',\n",
       " 'NZTM easting',\n",
       " 'NZTM northing',\n",
       " 'Network reporting region ID',\n",
       " 'Network reporting region',\n",
       " 'Zone',\n",
       " 'Island',\n",
       " 'Start date',\n",
       " 'Start TP',\n",
       " 'End date',\n",
       " 'End TP',\n",
       " 'SB ICP',\n",
       " 'Balancing code',\n",
       " 'MEP',\n",
       " 'Responsible participant',\n",
       " 'Certification expiry',\n",
       " 'Metering information exemption expiry date']"
      ]
     },
     "execution_count": 208,
     "metadata": {},
     "output_type": "execute_result"
    }
   ],
   "source": [
    "nsp_info.columns.tolist()"
   ]
  },
  {
   "attachments": {},
   "cell_type": "markdown",
   "metadata": {},
   "source": [
    "We can see this dataset contains a lot of information about the network service providers (NSPs). The only columns relevant for us are `POC code`, `NZTM easting`, and `NZTM northing`. POC stands for point of connection on the electrcitiy grid. Some NSPs have the same POC code because they consist of multiple generation units within the same facility. NZTM easting and northing describe the location of the POC in the NZTM coordinate system. We can remove the unnecessary columns."
   ]
  },
  {
   "cell_type": "code",
   "execution_count": 209,
   "metadata": {},
   "outputs": [],
   "source": [
    "nsp_info = nsp_info[['POC code', 'NZTM easting', 'NZTM northing']].copy()"
   ]
  },
  {
   "cell_type": "code",
   "execution_count": 210,
   "metadata": {},
   "outputs": [
    {
     "data": {
      "text/html": [
       "<div>\n",
       "<style scoped>\n",
       "    .dataframe tbody tr th:only-of-type {\n",
       "        vertical-align: middle;\n",
       "    }\n",
       "\n",
       "    .dataframe tbody tr th {\n",
       "        vertical-align: top;\n",
       "    }\n",
       "\n",
       "    .dataframe thead th {\n",
       "        text-align: right;\n",
       "    }\n",
       "</style>\n",
       "<table border=\"1\" class=\"dataframe\">\n",
       "  <thead>\n",
       "    <tr style=\"text-align: right;\">\n",
       "      <th></th>\n",
       "      <th>POC code</th>\n",
       "      <th>NZTM easting</th>\n",
       "      <th>NZTM northing</th>\n",
       "    </tr>\n",
       "  </thead>\n",
       "  <tbody>\n",
       "    <tr>\n",
       "      <th>1</th>\n",
       "      <td>AKK0011</td>\n",
       "      <td>NaN</td>\n",
       "      <td>NaN</td>\n",
       "    </tr>\n",
       "    <tr>\n",
       "      <th>25</th>\n",
       "      <td>BCK0011</td>\n",
       "      <td>NaN</td>\n",
       "      <td>NaN</td>\n",
       "    </tr>\n",
       "    <tr>\n",
       "      <th>26</th>\n",
       "      <td>BCK0012</td>\n",
       "      <td>NaN</td>\n",
       "      <td>NaN</td>\n",
       "    </tr>\n",
       "    <tr>\n",
       "      <th>30</th>\n",
       "      <td>BJL0011</td>\n",
       "      <td>NaN</td>\n",
       "      <td>NaN</td>\n",
       "    </tr>\n",
       "    <tr>\n",
       "      <th>34</th>\n",
       "      <td>BMR0011</td>\n",
       "      <td>NaN</td>\n",
       "      <td>NaN</td>\n",
       "    </tr>\n",
       "    <tr>\n",
       "      <th>...</th>\n",
       "      <td>...</td>\n",
       "      <td>...</td>\n",
       "      <td>...</td>\n",
       "    </tr>\n",
       "    <tr>\n",
       "      <th>2057</th>\n",
       "      <td>VWC0011</td>\n",
       "      <td>NaN</td>\n",
       "      <td>NaN</td>\n",
       "    </tr>\n",
       "    <tr>\n",
       "      <th>2058</th>\n",
       "      <td>VWC0011</td>\n",
       "      <td>NaN</td>\n",
       "      <td>NaN</td>\n",
       "    </tr>\n",
       "    <tr>\n",
       "      <th>2059</th>\n",
       "      <td>VWC0011</td>\n",
       "      <td>NaN</td>\n",
       "      <td>NaN</td>\n",
       "    </tr>\n",
       "    <tr>\n",
       "      <th>2117</th>\n",
       "      <td>WPH0011</td>\n",
       "      <td>NaN</td>\n",
       "      <td>NaN</td>\n",
       "    </tr>\n",
       "    <tr>\n",
       "      <th>2199</th>\n",
       "      <td>WTR0111</td>\n",
       "      <td>NaN</td>\n",
       "      <td>NaN</td>\n",
       "    </tr>\n",
       "  </tbody>\n",
       "</table>\n",
       "<p>308 rows × 3 columns</p>\n",
       "</div>"
      ],
      "text/plain": [
       "     POC code  NZTM easting  NZTM northing\n",
       "1     AKK0011           NaN            NaN\n",
       "25    BCK0011           NaN            NaN\n",
       "26    BCK0012           NaN            NaN\n",
       "30    BJL0011           NaN            NaN\n",
       "34    BMR0011           NaN            NaN\n",
       "...       ...           ...            ...\n",
       "2057  VWC0011           NaN            NaN\n",
       "2058  VWC0011           NaN            NaN\n",
       "2059  VWC0011           NaN            NaN\n",
       "2117  WPH0011           NaN            NaN\n",
       "2199  WTR0111           NaN            NaN\n",
       "\n",
       "[308 rows x 3 columns]"
      ]
     },
     "execution_count": 210,
     "metadata": {},
     "output_type": "execute_result"
    }
   ],
   "source": [
    "nsp_info[nsp_info['NZTM easting'].isna()]"
   ]
  },
  {
   "attachments": {},
   "cell_type": "markdown",
   "metadata": {},
   "source": [
    "Notice there are several POCs without NZTM coordinates. These POCs are usually either no longer operating or are embedded under another POC. As a result, we can disregard these POCs without losing any information."
   ]
  },
  {
   "cell_type": "code",
   "execution_count": 211,
   "metadata": {},
   "outputs": [],
   "source": [
    "nsp_info.dropna(inplace=True)"
   ]
  },
  {
   "attachments": {},
   "cell_type": "markdown",
   "metadata": {},
   "source": [
    "Another point to note is that several generation units can have the same POC code if they are operating within the same facility. We can see this by comparing the length of the dataset with the length of unique values."
   ]
  },
  {
   "cell_type": "code",
   "execution_count": 212,
   "metadata": {},
   "outputs": [
    {
     "name": "stdout",
     "output_type": "stream",
     "text": [
      "Total data points: 1906\n",
      "Unique data points: 485\n"
     ]
    }
   ],
   "source": [
    "print(\"Total data points: {count}\".format(count=len(nsp_info)))\n",
    "\n",
    "print(\"Unique data points: {count}\".format(count=len(nsp_info.value_counts())))"
   ]
  },
  {
   "attachments": {},
   "cell_type": "markdown",
   "metadata": {},
   "source": [
    "There were an astounding number of duplicates in our data. We can drop these without any loss of information."
   ]
  },
  {
   "cell_type": "code",
   "execution_count": 213,
   "metadata": {},
   "outputs": [],
   "source": [
    "nsp_info.drop_duplicates(inplace=True)"
   ]
  },
  {
   "cell_type": "code",
   "execution_count": 214,
   "metadata": {},
   "outputs": [
    {
     "data": {
      "text/html": [
       "<div>\n",
       "<style scoped>\n",
       "    .dataframe tbody tr th:only-of-type {\n",
       "        vertical-align: middle;\n",
       "    }\n",
       "\n",
       "    .dataframe tbody tr th {\n",
       "        vertical-align: top;\n",
       "    }\n",
       "\n",
       "    .dataframe thead th {\n",
       "        text-align: right;\n",
       "    }\n",
       "</style>\n",
       "<table border=\"1\" class=\"dataframe\">\n",
       "  <thead>\n",
       "    <tr style=\"text-align: right;\">\n",
       "      <th></th>\n",
       "      <th>POC code</th>\n",
       "      <th>NZTM easting</th>\n",
       "      <th>NZTM northing</th>\n",
       "    </tr>\n",
       "  </thead>\n",
       "  <tbody>\n",
       "    <tr>\n",
       "      <th>0</th>\n",
       "      <td>ABY0111</td>\n",
       "      <td>1424393.0</td>\n",
       "      <td>5097839.0</td>\n",
       "    </tr>\n",
       "    <tr>\n",
       "      <th>2</th>\n",
       "      <td>AKL0331</td>\n",
       "      <td>1762701.0</td>\n",
       "      <td>5907699.0</td>\n",
       "    </tr>\n",
       "    <tr>\n",
       "      <th>3</th>\n",
       "      <td>ALB0331</td>\n",
       "      <td>1750900.0</td>\n",
       "      <td>5932739.0</td>\n",
       "    </tr>\n",
       "    <tr>\n",
       "      <th>4</th>\n",
       "      <td>ALB1101</td>\n",
       "      <td>1750900.0</td>\n",
       "      <td>5932739.0</td>\n",
       "    </tr>\n",
       "    <tr>\n",
       "      <th>5</th>\n",
       "      <td>ANI0331</td>\n",
       "      <td>1931640.0</td>\n",
       "      <td>5754616.0</td>\n",
       "    </tr>\n",
       "    <tr>\n",
       "      <th>...</th>\n",
       "      <td>...</td>\n",
       "      <td>...</td>\n",
       "      <td>...</td>\n",
       "    </tr>\n",
       "    <tr>\n",
       "      <th>2155</th>\n",
       "      <td>WRA0111</td>\n",
       "      <td>1981648.0</td>\n",
       "      <td>5674331.0</td>\n",
       "    </tr>\n",
       "    <tr>\n",
       "      <th>2158</th>\n",
       "      <td>WRA0501</td>\n",
       "      <td>1981648.0</td>\n",
       "      <td>5674331.0</td>\n",
       "    </tr>\n",
       "    <tr>\n",
       "      <th>2197</th>\n",
       "      <td>WTN0111</td>\n",
       "      <td>1237336.0</td>\n",
       "      <td>4879291.0</td>\n",
       "    </tr>\n",
       "    <tr>\n",
       "      <th>2198</th>\n",
       "      <td>WTN0661</td>\n",
       "      <td>1237336.0</td>\n",
       "      <td>4879291.0</td>\n",
       "    </tr>\n",
       "    <tr>\n",
       "      <th>2212</th>\n",
       "      <td>WWK0111</td>\n",
       "      <td>1870346.0</td>\n",
       "      <td>5720184.0</td>\n",
       "    </tr>\n",
       "  </tbody>\n",
       "</table>\n",
       "<p>485 rows × 3 columns</p>\n",
       "</div>"
      ],
      "text/plain": [
       "     POC code  NZTM easting  NZTM northing\n",
       "0     ABY0111     1424393.0      5097839.0\n",
       "2     AKL0331     1762701.0      5907699.0\n",
       "3     ALB0331     1750900.0      5932739.0\n",
       "4     ALB1101     1750900.0      5932739.0\n",
       "5     ANI0331     1931640.0      5754616.0\n",
       "...       ...           ...            ...\n",
       "2155  WRA0111     1981648.0      5674331.0\n",
       "2158  WRA0501     1981648.0      5674331.0\n",
       "2197  WTN0111     1237336.0      4879291.0\n",
       "2198  WTN0661     1237336.0      4879291.0\n",
       "2212  WWK0111     1870346.0      5720184.0\n",
       "\n",
       "[485 rows x 3 columns]"
      ]
     },
     "execution_count": 214,
     "metadata": {},
     "output_type": "execute_result"
    }
   ],
   "source": [
    "nsp_info"
   ]
  },
  {
   "attachments": {},
   "cell_type": "markdown",
   "metadata": {},
   "source": [
    "This looks good for the moment, let's export this data so we have it saved if needed elsewhere."
   ]
  },
  {
   "cell_type": "code",
   "execution_count": 215,
   "metadata": {},
   "outputs": [],
   "source": [
    "nsp_info.to_csv('data/nsp_info.csv', index=False)"
   ]
  },
  {
   "attachments": {},
   "cell_type": "markdown",
   "metadata": {},
   "source": [
    "## Fuel Generation Data"
   ]
  },
  {
   "attachments": {},
   "cell_type": "markdown",
   "metadata": {},
   "source": [
    "Now we extract the fuel generation data. This dataset contains a list of point of connections (POCs), corresponding to the power stations across New Zealand. More importantly, they contain information about the fuel generation type for each POC."
   ]
  },
  {
   "cell_type": "code",
   "execution_count": 216,
   "metadata": {},
   "outputs": [],
   "source": [
    "fuel_gen = pd.read_csv('https://www.emi.ea.govt.nz/Wholesale/Datasets/Generation/Generation_MD/202211_Generation_MD.csv')"
   ]
  },
  {
   "cell_type": "code",
   "execution_count": 217,
   "metadata": {},
   "outputs": [
    {
     "data": {
      "text/html": [
       "<div>\n",
       "<style scoped>\n",
       "    .dataframe tbody tr th:only-of-type {\n",
       "        vertical-align: middle;\n",
       "    }\n",
       "\n",
       "    .dataframe tbody tr th {\n",
       "        vertical-align: top;\n",
       "    }\n",
       "\n",
       "    .dataframe thead th {\n",
       "        text-align: right;\n",
       "    }\n",
       "</style>\n",
       "<table border=\"1\" class=\"dataframe\">\n",
       "  <thead>\n",
       "    <tr style=\"text-align: right;\">\n",
       "      <th></th>\n",
       "      <th>Site_Code</th>\n",
       "      <th>POC_Code</th>\n",
       "      <th>Nwk_Code</th>\n",
       "      <th>Gen_Code</th>\n",
       "      <th>Fuel_Code</th>\n",
       "      <th>Tech_Code</th>\n",
       "      <th>Trading_Date</th>\n",
       "      <th>TP1</th>\n",
       "      <th>TP2</th>\n",
       "      <th>TP3</th>\n",
       "      <th>...</th>\n",
       "      <th>TP41</th>\n",
       "      <th>TP42</th>\n",
       "      <th>TP43</th>\n",
       "      <th>TP44</th>\n",
       "      <th>TP45</th>\n",
       "      <th>TP46</th>\n",
       "      <th>TP47</th>\n",
       "      <th>TP48</th>\n",
       "      <th>TP49</th>\n",
       "      <th>TP50</th>\n",
       "    </tr>\n",
       "  </thead>\n",
       "  <tbody>\n",
       "    <tr>\n",
       "      <th>0</th>\n",
       "      <td>ARA</td>\n",
       "      <td>ARA2201</td>\n",
       "      <td>MRPL</td>\n",
       "      <td>aratiatia</td>\n",
       "      <td>Hydro</td>\n",
       "      <td>Hydro</td>\n",
       "      <td>2022-11-01</td>\n",
       "      <td>23640</td>\n",
       "      <td>23590</td>\n",
       "      <td>30130</td>\n",
       "      <td>...</td>\n",
       "      <td>39070</td>\n",
       "      <td>39060</td>\n",
       "      <td>38950</td>\n",
       "      <td>39100</td>\n",
       "      <td>39010</td>\n",
       "      <td>38960</td>\n",
       "      <td>39040</td>\n",
       "      <td>38960</td>\n",
       "      <td>NaN</td>\n",
       "      <td>NaN</td>\n",
       "    </tr>\n",
       "    <tr>\n",
       "      <th>1</th>\n",
       "      <td>ARA</td>\n",
       "      <td>ARA2201</td>\n",
       "      <td>MRPL</td>\n",
       "      <td>aratiatia</td>\n",
       "      <td>Hydro</td>\n",
       "      <td>Hydro</td>\n",
       "      <td>2022-11-02</td>\n",
       "      <td>37340</td>\n",
       "      <td>24300</td>\n",
       "      <td>21050</td>\n",
       "      <td>...</td>\n",
       "      <td>37510</td>\n",
       "      <td>36780</td>\n",
       "      <td>36970</td>\n",
       "      <td>36920</td>\n",
       "      <td>36980</td>\n",
       "      <td>36870</td>\n",
       "      <td>36900</td>\n",
       "      <td>26000</td>\n",
       "      <td>NaN</td>\n",
       "      <td>NaN</td>\n",
       "    </tr>\n",
       "    <tr>\n",
       "      <th>2</th>\n",
       "      <td>ARA</td>\n",
       "      <td>ARA2201</td>\n",
       "      <td>MRPL</td>\n",
       "      <td>aratiatia</td>\n",
       "      <td>Hydro</td>\n",
       "      <td>Hydro</td>\n",
       "      <td>2022-11-03</td>\n",
       "      <td>25040</td>\n",
       "      <td>15960</td>\n",
       "      <td>10370</td>\n",
       "      <td>...</td>\n",
       "      <td>36520</td>\n",
       "      <td>36410</td>\n",
       "      <td>36480</td>\n",
       "      <td>34060</td>\n",
       "      <td>24770</td>\n",
       "      <td>18960</td>\n",
       "      <td>15440</td>\n",
       "      <td>11810</td>\n",
       "      <td>NaN</td>\n",
       "      <td>NaN</td>\n",
       "    </tr>\n",
       "    <tr>\n",
       "      <th>3</th>\n",
       "      <td>ARA</td>\n",
       "      <td>ARA2201</td>\n",
       "      <td>MRPL</td>\n",
       "      <td>aratiatia</td>\n",
       "      <td>Hydro</td>\n",
       "      <td>Hydro</td>\n",
       "      <td>2022-11-04</td>\n",
       "      <td>11830</td>\n",
       "      <td>12730</td>\n",
       "      <td>8000</td>\n",
       "      <td>...</td>\n",
       "      <td>23840</td>\n",
       "      <td>24620</td>\n",
       "      <td>24830</td>\n",
       "      <td>25140</td>\n",
       "      <td>25120</td>\n",
       "      <td>25250</td>\n",
       "      <td>24020</td>\n",
       "      <td>12300</td>\n",
       "      <td>NaN</td>\n",
       "      <td>NaN</td>\n",
       "    </tr>\n",
       "    <tr>\n",
       "      <th>4</th>\n",
       "      <td>ARA</td>\n",
       "      <td>ARA2201</td>\n",
       "      <td>MRPL</td>\n",
       "      <td>aratiatia</td>\n",
       "      <td>Hydro</td>\n",
       "      <td>Hydro</td>\n",
       "      <td>2022-11-05</td>\n",
       "      <td>12330</td>\n",
       "      <td>12300</td>\n",
       "      <td>12320</td>\n",
       "      <td>...</td>\n",
       "      <td>22680</td>\n",
       "      <td>22600</td>\n",
       "      <td>22670</td>\n",
       "      <td>22680</td>\n",
       "      <td>23600</td>\n",
       "      <td>23640</td>\n",
       "      <td>23630</td>\n",
       "      <td>23600</td>\n",
       "      <td>NaN</td>\n",
       "      <td>NaN</td>\n",
       "    </tr>\n",
       "    <tr>\n",
       "      <th>...</th>\n",
       "      <td>...</td>\n",
       "      <td>...</td>\n",
       "      <td>...</td>\n",
       "      <td>...</td>\n",
       "      <td>...</td>\n",
       "      <td>...</td>\n",
       "      <td>...</td>\n",
       "      <td>...</td>\n",
       "      <td>...</td>\n",
       "      <td>...</td>\n",
       "      <td>...</td>\n",
       "      <td>...</td>\n",
       "      <td>...</td>\n",
       "      <td>...</td>\n",
       "      <td>...</td>\n",
       "      <td>...</td>\n",
       "      <td>...</td>\n",
       "      <td>...</td>\n",
       "      <td>...</td>\n",
       "      <td>...</td>\n",
       "      <td>...</td>\n",
       "    </tr>\n",
       "    <tr>\n",
       "      <th>2255</th>\n",
       "      <td>WWD</td>\n",
       "      <td>WWD1103</td>\n",
       "      <td>MERI</td>\n",
       "      <td>west_wind</td>\n",
       "      <td>Wind</td>\n",
       "      <td>Wind</td>\n",
       "      <td>2022-11-26</td>\n",
       "      <td>10451</td>\n",
       "      <td>12149</td>\n",
       "      <td>8548</td>\n",
       "      <td>...</td>\n",
       "      <td>29315</td>\n",
       "      <td>27086</td>\n",
       "      <td>25050</td>\n",
       "      <td>27218</td>\n",
       "      <td>28169</td>\n",
       "      <td>28079</td>\n",
       "      <td>28025</td>\n",
       "      <td>24999</td>\n",
       "      <td>NaN</td>\n",
       "      <td>NaN</td>\n",
       "    </tr>\n",
       "    <tr>\n",
       "      <th>2256</th>\n",
       "      <td>WWD</td>\n",
       "      <td>WWD1103</td>\n",
       "      <td>MERI</td>\n",
       "      <td>west_wind</td>\n",
       "      <td>Wind</td>\n",
       "      <td>Wind</td>\n",
       "      <td>2022-11-27</td>\n",
       "      <td>21975</td>\n",
       "      <td>23230</td>\n",
       "      <td>28269</td>\n",
       "      <td>...</td>\n",
       "      <td>2720</td>\n",
       "      <td>1146</td>\n",
       "      <td>297</td>\n",
       "      <td>3718</td>\n",
       "      <td>4911</td>\n",
       "      <td>10490</td>\n",
       "      <td>19926</td>\n",
       "      <td>27001</td>\n",
       "      <td>NaN</td>\n",
       "      <td>NaN</td>\n",
       "    </tr>\n",
       "    <tr>\n",
       "      <th>2257</th>\n",
       "      <td>WWD</td>\n",
       "      <td>WWD1103</td>\n",
       "      <td>MERI</td>\n",
       "      <td>west_wind</td>\n",
       "      <td>Wind</td>\n",
       "      <td>Wind</td>\n",
       "      <td>2022-11-28</td>\n",
       "      <td>27339</td>\n",
       "      <td>26956</td>\n",
       "      <td>28241</td>\n",
       "      <td>...</td>\n",
       "      <td>15251</td>\n",
       "      <td>19838</td>\n",
       "      <td>18063</td>\n",
       "      <td>16951</td>\n",
       "      <td>16498</td>\n",
       "      <td>18356</td>\n",
       "      <td>24159</td>\n",
       "      <td>28895</td>\n",
       "      <td>NaN</td>\n",
       "      <td>NaN</td>\n",
       "    </tr>\n",
       "    <tr>\n",
       "      <th>2258</th>\n",
       "      <td>WWD</td>\n",
       "      <td>WWD1103</td>\n",
       "      <td>MERI</td>\n",
       "      <td>west_wind</td>\n",
       "      <td>Wind</td>\n",
       "      <td>Wind</td>\n",
       "      <td>2022-11-29</td>\n",
       "      <td>32248</td>\n",
       "      <td>33141</td>\n",
       "      <td>33195</td>\n",
       "      <td>...</td>\n",
       "      <td>32352</td>\n",
       "      <td>30964</td>\n",
       "      <td>30027</td>\n",
       "      <td>30044</td>\n",
       "      <td>30767</td>\n",
       "      <td>28349</td>\n",
       "      <td>28680</td>\n",
       "      <td>29829</td>\n",
       "      <td>NaN</td>\n",
       "      <td>NaN</td>\n",
       "    </tr>\n",
       "    <tr>\n",
       "      <th>2259</th>\n",
       "      <td>WWD</td>\n",
       "      <td>WWD1103</td>\n",
       "      <td>MERI</td>\n",
       "      <td>west_wind</td>\n",
       "      <td>Wind</td>\n",
       "      <td>Wind</td>\n",
       "      <td>2022-11-30</td>\n",
       "      <td>31098</td>\n",
       "      <td>29599</td>\n",
       "      <td>30638</td>\n",
       "      <td>...</td>\n",
       "      <td>7929</td>\n",
       "      <td>4056</td>\n",
       "      <td>1390</td>\n",
       "      <td>3886</td>\n",
       "      <td>12937</td>\n",
       "      <td>17105</td>\n",
       "      <td>17091</td>\n",
       "      <td>20234</td>\n",
       "      <td>NaN</td>\n",
       "      <td>NaN</td>\n",
       "    </tr>\n",
       "  </tbody>\n",
       "</table>\n",
       "<p>2260 rows × 57 columns</p>\n",
       "</div>"
      ],
      "text/plain": [
       "     Site_Code POC_Code Nwk_Code   Gen_Code Fuel_Code Tech_Code Trading_Date  \\\n",
       "0          ARA  ARA2201     MRPL  aratiatia     Hydro     Hydro   2022-11-01   \n",
       "1          ARA  ARA2201     MRPL  aratiatia     Hydro     Hydro   2022-11-02   \n",
       "2          ARA  ARA2201     MRPL  aratiatia     Hydro     Hydro   2022-11-03   \n",
       "3          ARA  ARA2201     MRPL  aratiatia     Hydro     Hydro   2022-11-04   \n",
       "4          ARA  ARA2201     MRPL  aratiatia     Hydro     Hydro   2022-11-05   \n",
       "...        ...      ...      ...        ...       ...       ...          ...   \n",
       "2255       WWD  WWD1103     MERI  west_wind      Wind      Wind   2022-11-26   \n",
       "2256       WWD  WWD1103     MERI  west_wind      Wind      Wind   2022-11-27   \n",
       "2257       WWD  WWD1103     MERI  west_wind      Wind      Wind   2022-11-28   \n",
       "2258       WWD  WWD1103     MERI  west_wind      Wind      Wind   2022-11-29   \n",
       "2259       WWD  WWD1103     MERI  west_wind      Wind      Wind   2022-11-30   \n",
       "\n",
       "        TP1    TP2    TP3  ...   TP41   TP42   TP43   TP44   TP45   TP46  \\\n",
       "0     23640  23590  30130  ...  39070  39060  38950  39100  39010  38960   \n",
       "1     37340  24300  21050  ...  37510  36780  36970  36920  36980  36870   \n",
       "2     25040  15960  10370  ...  36520  36410  36480  34060  24770  18960   \n",
       "3     11830  12730   8000  ...  23840  24620  24830  25140  25120  25250   \n",
       "4     12330  12300  12320  ...  22680  22600  22670  22680  23600  23640   \n",
       "...     ...    ...    ...  ...    ...    ...    ...    ...    ...    ...   \n",
       "2255  10451  12149   8548  ...  29315  27086  25050  27218  28169  28079   \n",
       "2256  21975  23230  28269  ...   2720   1146    297   3718   4911  10490   \n",
       "2257  27339  26956  28241  ...  15251  19838  18063  16951  16498  18356   \n",
       "2258  32248  33141  33195  ...  32352  30964  30027  30044  30767  28349   \n",
       "2259  31098  29599  30638  ...   7929   4056   1390   3886  12937  17105   \n",
       "\n",
       "       TP47   TP48  TP49  TP50  \n",
       "0     39040  38960   NaN   NaN  \n",
       "1     36900  26000   NaN   NaN  \n",
       "2     15440  11810   NaN   NaN  \n",
       "3     24020  12300   NaN   NaN  \n",
       "4     23630  23600   NaN   NaN  \n",
       "...     ...    ...   ...   ...  \n",
       "2255  28025  24999   NaN   NaN  \n",
       "2256  19926  27001   NaN   NaN  \n",
       "2257  24159  28895   NaN   NaN  \n",
       "2258  28680  29829   NaN   NaN  \n",
       "2259  17091  20234   NaN   NaN  \n",
       "\n",
       "[2260 rows x 57 columns]"
      ]
     },
     "execution_count": 217,
     "metadata": {},
     "output_type": "execute_result"
    }
   ],
   "source": [
    "fuel_gen"
   ]
  },
  {
   "cell_type": "code",
   "execution_count": 218,
   "metadata": {},
   "outputs": [
    {
     "data": {
      "text/plain": [
       "Index(['Site_Code', 'POC_Code', 'Nwk_Code', 'Gen_Code', 'Fuel_Code',\n",
       "       'Tech_Code', 'Trading_Date', 'TP1', 'TP2', 'TP3', 'TP4', 'TP5', 'TP6',\n",
       "       'TP7', 'TP8', 'TP9', 'TP10', 'TP11', 'TP12', 'TP13', 'TP14', 'TP15',\n",
       "       'TP16', 'TP17', 'TP18', 'TP19', 'TP20', 'TP21', 'TP22', 'TP23', 'TP24',\n",
       "       'TP25', 'TP26', 'TP27', 'TP28', 'TP29', 'TP30', 'TP31', 'TP32', 'TP33',\n",
       "       'TP34', 'TP35', 'TP36', 'TP37', 'TP38', 'TP39', 'TP40', 'TP41', 'TP42',\n",
       "       'TP43', 'TP44', 'TP45', 'TP46', 'TP47', 'TP48', 'TP49', 'TP50'],\n",
       "      dtype='object')"
      ]
     },
     "execution_count": 218,
     "metadata": {},
     "output_type": "execute_result"
    }
   ],
   "source": [
    "fuel_gen.columns"
   ]
  },
  {
   "attachments": {},
   "cell_type": "markdown",
   "metadata": {},
   "source": [
    "This dataset contains fuel generation (in kWh) for every trading period of every day in November 2022. However, we are only concerned with the `POC_Code` and `Fuel_Code` columns. We can also include the `Gen_Code` column for specific names of the power stations locations."
   ]
  },
  {
   "cell_type": "code",
   "execution_count": 219,
   "metadata": {},
   "outputs": [],
   "source": [
    "fuel_gen = fuel_gen[['POC_Code', 'Gen_Code', 'Fuel_Code']].copy()"
   ]
  },
  {
   "attachments": {},
   "cell_type": "markdown",
   "metadata": {},
   "source": [
    "Again, there will be several duplicates since each POC contains multiple generation units in the same facility. We can drop these duplicates."
   ]
  },
  {
   "cell_type": "code",
   "execution_count": 220,
   "metadata": {},
   "outputs": [],
   "source": [
    "fuel_gen.drop_duplicates(inplace=True)"
   ]
  },
  {
   "attachments": {},
   "cell_type": "markdown",
   "metadata": {},
   "source": [
    "Now we only want power stations which generate using wind and hydroelectric power."
   ]
  },
  {
   "cell_type": "code",
   "execution_count": 221,
   "metadata": {},
   "outputs": [],
   "source": [
    "fuel_gen = fuel_gen[fuel_gen['Fuel_Code'].isin(['Hydro', 'Wind'])].reset_index(drop=True).copy()"
   ]
  },
  {
   "cell_type": "code",
   "execution_count": 222,
   "metadata": {},
   "outputs": [
    {
     "data": {
      "text/html": [
       "<div>\n",
       "<style scoped>\n",
       "    .dataframe tbody tr th:only-of-type {\n",
       "        vertical-align: middle;\n",
       "    }\n",
       "\n",
       "    .dataframe tbody tr th {\n",
       "        vertical-align: top;\n",
       "    }\n",
       "\n",
       "    .dataframe thead th {\n",
       "        text-align: right;\n",
       "    }\n",
       "</style>\n",
       "<table border=\"1\" class=\"dataframe\">\n",
       "  <thead>\n",
       "    <tr style=\"text-align: right;\">\n",
       "      <th></th>\n",
       "      <th>POC_Code</th>\n",
       "      <th>Gen_Code</th>\n",
       "      <th>Fuel_Code</th>\n",
       "    </tr>\n",
       "  </thead>\n",
       "  <tbody>\n",
       "    <tr>\n",
       "      <th>0</th>\n",
       "      <td>ARA2201</td>\n",
       "      <td>aratiatia</td>\n",
       "      <td>Hydro</td>\n",
       "    </tr>\n",
       "    <tr>\n",
       "      <th>1</th>\n",
       "      <td>ARG1101</td>\n",
       "      <td>argyle_wairau</td>\n",
       "      <td>Hydro</td>\n",
       "    </tr>\n",
       "    <tr>\n",
       "      <th>2</th>\n",
       "      <td>ARI1101</td>\n",
       "      <td>arapuni</td>\n",
       "      <td>Hydro</td>\n",
       "    </tr>\n",
       "    <tr>\n",
       "      <th>3</th>\n",
       "      <td>ARI1102</td>\n",
       "      <td>arapuni</td>\n",
       "      <td>Hydro</td>\n",
       "    </tr>\n",
       "    <tr>\n",
       "      <th>4</th>\n",
       "      <td>ASB0661</td>\n",
       "      <td>highbank</td>\n",
       "      <td>Hydro</td>\n",
       "    </tr>\n",
       "    <tr>\n",
       "      <th>5</th>\n",
       "      <td>ATI2201</td>\n",
       "      <td>atiamuri</td>\n",
       "      <td>Hydro</td>\n",
       "    </tr>\n",
       "    <tr>\n",
       "      <th>6</th>\n",
       "      <td>AVI2201</td>\n",
       "      <td>aviemore</td>\n",
       "      <td>Hydro</td>\n",
       "    </tr>\n",
       "    <tr>\n",
       "      <th>7</th>\n",
       "      <td>BEN2202</td>\n",
       "      <td>benmore</td>\n",
       "      <td>Hydro</td>\n",
       "    </tr>\n",
       "    <tr>\n",
       "      <th>8</th>\n",
       "      <td>BPE0331</td>\n",
       "      <td>twf_12</td>\n",
       "      <td>Wind</td>\n",
       "    </tr>\n",
       "    <tr>\n",
       "      <th>9</th>\n",
       "      <td>BWK1101</td>\n",
       "      <td>waipori</td>\n",
       "      <td>Hydro</td>\n",
       "    </tr>\n",
       "    <tr>\n",
       "      <th>10</th>\n",
       "      <td>COL0661</td>\n",
       "      <td>coleridge</td>\n",
       "      <td>Hydro</td>\n",
       "    </tr>\n",
       "    <tr>\n",
       "      <th>11</th>\n",
       "      <td>CYD0331</td>\n",
       "      <td>teviot</td>\n",
       "      <td>Hydro</td>\n",
       "    </tr>\n",
       "    <tr>\n",
       "      <th>12</th>\n",
       "      <td>CYD2201</td>\n",
       "      <td>clyde</td>\n",
       "      <td>Hydro</td>\n",
       "    </tr>\n",
       "    <tr>\n",
       "      <th>13</th>\n",
       "      <td>HWA1101</td>\n",
       "      <td>patea</td>\n",
       "      <td>Hydro</td>\n",
       "    </tr>\n",
       "    <tr>\n",
       "      <th>14</th>\n",
       "      <td>KPO1101</td>\n",
       "      <td>karapiro</td>\n",
       "      <td>Hydro</td>\n",
       "    </tr>\n",
       "    <tr>\n",
       "      <th>15</th>\n",
       "      <td>LTN0331</td>\n",
       "      <td>twf_12</td>\n",
       "      <td>Wind</td>\n",
       "    </tr>\n",
       "    <tr>\n",
       "      <th>16</th>\n",
       "      <td>LTN2201</td>\n",
       "      <td>turitea</td>\n",
       "      <td>Wind</td>\n",
       "    </tr>\n",
       "    <tr>\n",
       "      <th>17</th>\n",
       "      <td>MAN2201</td>\n",
       "      <td>manapouri</td>\n",
       "      <td>Hydro</td>\n",
       "    </tr>\n",
       "    <tr>\n",
       "      <th>18</th>\n",
       "      <td>MAT1101</td>\n",
       "      <td>aniwhenua</td>\n",
       "      <td>Hydro</td>\n",
       "    </tr>\n",
       "    <tr>\n",
       "      <th>19</th>\n",
       "      <td>MHO0331</td>\n",
       "      <td>mangahao</td>\n",
       "      <td>Hydro</td>\n",
       "    </tr>\n",
       "    <tr>\n",
       "      <th>20</th>\n",
       "      <td>MTI2201</td>\n",
       "      <td>maraetai</td>\n",
       "      <td>Hydro</td>\n",
       "    </tr>\n",
       "    <tr>\n",
       "      <th>21</th>\n",
       "      <td>NMA0331</td>\n",
       "      <td>white_hill</td>\n",
       "      <td>Wind</td>\n",
       "    </tr>\n",
       "    <tr>\n",
       "      <th>22</th>\n",
       "      <td>NSY0331</td>\n",
       "      <td>paerau</td>\n",
       "      <td>Hydro</td>\n",
       "    </tr>\n",
       "    <tr>\n",
       "      <th>23</th>\n",
       "      <td>OHA2201</td>\n",
       "      <td>ohau_a</td>\n",
       "      <td>Hydro</td>\n",
       "    </tr>\n",
       "    <tr>\n",
       "      <th>24</th>\n",
       "      <td>OHB2201</td>\n",
       "      <td>ohau_b</td>\n",
       "      <td>Hydro</td>\n",
       "    </tr>\n",
       "    <tr>\n",
       "      <th>25</th>\n",
       "      <td>OHC2201</td>\n",
       "      <td>ohau_c</td>\n",
       "      <td>Hydro</td>\n",
       "    </tr>\n",
       "    <tr>\n",
       "      <th>26</th>\n",
       "      <td>OHK2201</td>\n",
       "      <td>ohakuri</td>\n",
       "      <td>Hydro</td>\n",
       "    </tr>\n",
       "    <tr>\n",
       "      <th>27</th>\n",
       "      <td>ROT1101</td>\n",
       "      <td>wheao_flaxy</td>\n",
       "      <td>Hydro</td>\n",
       "    </tr>\n",
       "    <tr>\n",
       "      <th>28</th>\n",
       "      <td>ROX1101</td>\n",
       "      <td>roxburgh</td>\n",
       "      <td>Hydro</td>\n",
       "    </tr>\n",
       "    <tr>\n",
       "      <th>29</th>\n",
       "      <td>ROX2201</td>\n",
       "      <td>roxburgh</td>\n",
       "      <td>Hydro</td>\n",
       "    </tr>\n",
       "    <tr>\n",
       "      <th>30</th>\n",
       "      <td>RPO2201</td>\n",
       "      <td>rangipo</td>\n",
       "      <td>Hydro</td>\n",
       "    </tr>\n",
       "    <tr>\n",
       "      <th>31</th>\n",
       "      <td>STK0661</td>\n",
       "      <td>cobb</td>\n",
       "      <td>Hydro</td>\n",
       "    </tr>\n",
       "    <tr>\n",
       "      <th>32</th>\n",
       "      <td>TGA0331</td>\n",
       "      <td>kaimai</td>\n",
       "      <td>Hydro</td>\n",
       "    </tr>\n",
       "    <tr>\n",
       "      <th>33</th>\n",
       "      <td>TKA0111</td>\n",
       "      <td>tekapo_a</td>\n",
       "      <td>Hydro</td>\n",
       "    </tr>\n",
       "    <tr>\n",
       "      <th>34</th>\n",
       "      <td>TKB2201</td>\n",
       "      <td>tekapo_b</td>\n",
       "      <td>Hydro</td>\n",
       "    </tr>\n",
       "    <tr>\n",
       "      <th>35</th>\n",
       "      <td>TKU2201</td>\n",
       "      <td>tokaanu</td>\n",
       "      <td>Hydro</td>\n",
       "    </tr>\n",
       "    <tr>\n",
       "      <th>36</th>\n",
       "      <td>TUI1101</td>\n",
       "      <td>waikaremoana</td>\n",
       "      <td>Hydro</td>\n",
       "    </tr>\n",
       "    <tr>\n",
       "      <th>37</th>\n",
       "      <td>TWC2201</td>\n",
       "      <td>te_rere_hau</td>\n",
       "      <td>Wind</td>\n",
       "    </tr>\n",
       "    <tr>\n",
       "      <th>38</th>\n",
       "      <td>TWC2201</td>\n",
       "      <td>twf_3</td>\n",
       "      <td>Wind</td>\n",
       "    </tr>\n",
       "    <tr>\n",
       "      <th>39</th>\n",
       "      <td>TWH0331</td>\n",
       "      <td>te_uku</td>\n",
       "      <td>Wind</td>\n",
       "    </tr>\n",
       "    <tr>\n",
       "      <th>40</th>\n",
       "      <td>WDV1101</td>\n",
       "      <td>te_apiti</td>\n",
       "      <td>Wind</td>\n",
       "    </tr>\n",
       "    <tr>\n",
       "      <th>41</th>\n",
       "      <td>WKM2201</td>\n",
       "      <td>whakamaru</td>\n",
       "      <td>Hydro</td>\n",
       "    </tr>\n",
       "    <tr>\n",
       "      <th>42</th>\n",
       "      <td>WPA2201</td>\n",
       "      <td>waipapa</td>\n",
       "      <td>Hydro</td>\n",
       "    </tr>\n",
       "    <tr>\n",
       "      <th>43</th>\n",
       "      <td>WPG0331</td>\n",
       "      <td>waipori</td>\n",
       "      <td>Hydro</td>\n",
       "    </tr>\n",
       "    <tr>\n",
       "      <th>44</th>\n",
       "      <td>WTK0111</td>\n",
       "      <td>waitaki</td>\n",
       "      <td>Hydro</td>\n",
       "    </tr>\n",
       "    <tr>\n",
       "      <th>45</th>\n",
       "      <td>WVY1101</td>\n",
       "      <td>waipipi</td>\n",
       "      <td>Wind</td>\n",
       "    </tr>\n",
       "    <tr>\n",
       "      <th>46</th>\n",
       "      <td>WWD1102</td>\n",
       "      <td>west_wind</td>\n",
       "      <td>Wind</td>\n",
       "    </tr>\n",
       "    <tr>\n",
       "      <th>47</th>\n",
       "      <td>WWD1103</td>\n",
       "      <td>west_wind</td>\n",
       "      <td>Wind</td>\n",
       "    </tr>\n",
       "  </tbody>\n",
       "</table>\n",
       "</div>"
      ],
      "text/plain": [
       "   POC_Code       Gen_Code Fuel_Code\n",
       "0   ARA2201      aratiatia     Hydro\n",
       "1   ARG1101  argyle_wairau     Hydro\n",
       "2   ARI1101        arapuni     Hydro\n",
       "3   ARI1102        arapuni     Hydro\n",
       "4   ASB0661       highbank     Hydro\n",
       "5   ATI2201       atiamuri     Hydro\n",
       "6   AVI2201       aviemore     Hydro\n",
       "7   BEN2202        benmore     Hydro\n",
       "8   BPE0331         twf_12      Wind\n",
       "9   BWK1101        waipori     Hydro\n",
       "10  COL0661      coleridge     Hydro\n",
       "11  CYD0331         teviot     Hydro\n",
       "12  CYD2201          clyde     Hydro\n",
       "13  HWA1101          patea     Hydro\n",
       "14  KPO1101       karapiro     Hydro\n",
       "15  LTN0331         twf_12      Wind\n",
       "16  LTN2201        turitea      Wind\n",
       "17  MAN2201      manapouri     Hydro\n",
       "18  MAT1101      aniwhenua     Hydro\n",
       "19  MHO0331       mangahao     Hydro\n",
       "20  MTI2201       maraetai     Hydro\n",
       "21  NMA0331     white_hill      Wind\n",
       "22  NSY0331         paerau     Hydro\n",
       "23  OHA2201         ohau_a     Hydro\n",
       "24  OHB2201         ohau_b     Hydro\n",
       "25  OHC2201         ohau_c     Hydro\n",
       "26  OHK2201        ohakuri     Hydro\n",
       "27  ROT1101    wheao_flaxy     Hydro\n",
       "28  ROX1101       roxburgh     Hydro\n",
       "29  ROX2201       roxburgh     Hydro\n",
       "30  RPO2201        rangipo     Hydro\n",
       "31  STK0661           cobb     Hydro\n",
       "32  TGA0331         kaimai     Hydro\n",
       "33  TKA0111       tekapo_a     Hydro\n",
       "34  TKB2201       tekapo_b     Hydro\n",
       "35  TKU2201        tokaanu     Hydro\n",
       "36  TUI1101   waikaremoana     Hydro\n",
       "37  TWC2201    te_rere_hau      Wind\n",
       "38  TWC2201          twf_3      Wind\n",
       "39  TWH0331         te_uku      Wind\n",
       "40  WDV1101       te_apiti      Wind\n",
       "41  WKM2201      whakamaru     Hydro\n",
       "42  WPA2201        waipapa     Hydro\n",
       "43  WPG0331        waipori     Hydro\n",
       "44  WTK0111        waitaki     Hydro\n",
       "45  WVY1101        waipipi      Wind\n",
       "46  WWD1102      west_wind      Wind\n",
       "47  WWD1103      west_wind      Wind"
      ]
     },
     "execution_count": 222,
     "metadata": {},
     "output_type": "execute_result"
    }
   ],
   "source": [
    "fuel_gen"
   ]
  },
  {
   "attachments": {},
   "cell_type": "markdown",
   "metadata": {},
   "source": [
    "Now we have a neat list of 48 wind and hydro-power generation stations in New Zealand. Let's export this data."
   ]
  },
  {
   "cell_type": "code",
   "execution_count": 223,
   "metadata": {},
   "outputs": [],
   "source": [
    "fuel_gen.to_csv('data/fuel_gen.csv', index=False)"
   ]
  },
  {
   "attachments": {},
   "cell_type": "markdown",
   "metadata": {},
   "source": [
    "# Identifying Coordinates"
   ]
  },
  {
   "attachments": {},
   "cell_type": "markdown",
   "metadata": {},
   "source": [
    "Our goal is to identify the coordinates of every POC in the `fuel_gen` dataset, using the `nsp_info` dataset. Now the latter dataset contains coordinates for all POCs, not just hydro and wind. To quickly cross-reference between the POCs in the two datasets, we use a dictionary of the POCs in `nsp_info` dataset. The key will store the POC code and the values will be the NZTM coordinates as a list."
   ]
  },
  {
   "attachments": {},
   "cell_type": "markdown",
   "metadata": {},
   "source": [
    "To avoid confusion, I will just import the saved file."
   ]
  },
  {
   "cell_type": "code",
   "execution_count": 224,
   "metadata": {},
   "outputs": [],
   "source": [
    "nsp_info = pd.read_csv('data/nsp_info.csv')"
   ]
  },
  {
   "cell_type": "code",
   "execution_count": 225,
   "metadata": {},
   "outputs": [
    {
     "data": {
      "text/html": [
       "<div>\n",
       "<style scoped>\n",
       "    .dataframe tbody tr th:only-of-type {\n",
       "        vertical-align: middle;\n",
       "    }\n",
       "\n",
       "    .dataframe tbody tr th {\n",
       "        vertical-align: top;\n",
       "    }\n",
       "\n",
       "    .dataframe thead th {\n",
       "        text-align: right;\n",
       "    }\n",
       "</style>\n",
       "<table border=\"1\" class=\"dataframe\">\n",
       "  <thead>\n",
       "    <tr style=\"text-align: right;\">\n",
       "      <th></th>\n",
       "      <th>POC code</th>\n",
       "      <th>NZTM easting</th>\n",
       "      <th>NZTM northing</th>\n",
       "    </tr>\n",
       "  </thead>\n",
       "  <tbody>\n",
       "    <tr>\n",
       "      <th>0</th>\n",
       "      <td>ABY0111</td>\n",
       "      <td>1424393.0</td>\n",
       "      <td>5097839.0</td>\n",
       "    </tr>\n",
       "    <tr>\n",
       "      <th>1</th>\n",
       "      <td>AKL0331</td>\n",
       "      <td>1762701.0</td>\n",
       "      <td>5907699.0</td>\n",
       "    </tr>\n",
       "    <tr>\n",
       "      <th>2</th>\n",
       "      <td>ALB0331</td>\n",
       "      <td>1750900.0</td>\n",
       "      <td>5932739.0</td>\n",
       "    </tr>\n",
       "    <tr>\n",
       "      <th>3</th>\n",
       "      <td>ALB1101</td>\n",
       "      <td>1750900.0</td>\n",
       "      <td>5932739.0</td>\n",
       "    </tr>\n",
       "    <tr>\n",
       "      <th>4</th>\n",
       "      <td>ANI0331</td>\n",
       "      <td>1931640.0</td>\n",
       "      <td>5754616.0</td>\n",
       "    </tr>\n",
       "    <tr>\n",
       "      <th>...</th>\n",
       "      <td>...</td>\n",
       "      <td>...</td>\n",
       "      <td>...</td>\n",
       "    </tr>\n",
       "    <tr>\n",
       "      <th>480</th>\n",
       "      <td>WRA0111</td>\n",
       "      <td>1981648.0</td>\n",
       "      <td>5674331.0</td>\n",
       "    </tr>\n",
       "    <tr>\n",
       "      <th>481</th>\n",
       "      <td>WRA0501</td>\n",
       "      <td>1981648.0</td>\n",
       "      <td>5674331.0</td>\n",
       "    </tr>\n",
       "    <tr>\n",
       "      <th>482</th>\n",
       "      <td>WTN0111</td>\n",
       "      <td>1237336.0</td>\n",
       "      <td>4879291.0</td>\n",
       "    </tr>\n",
       "    <tr>\n",
       "      <th>483</th>\n",
       "      <td>WTN0661</td>\n",
       "      <td>1237336.0</td>\n",
       "      <td>4879291.0</td>\n",
       "    </tr>\n",
       "    <tr>\n",
       "      <th>484</th>\n",
       "      <td>WWK0111</td>\n",
       "      <td>1870346.0</td>\n",
       "      <td>5720184.0</td>\n",
       "    </tr>\n",
       "  </tbody>\n",
       "</table>\n",
       "<p>485 rows × 3 columns</p>\n",
       "</div>"
      ],
      "text/plain": [
       "    POC code  NZTM easting  NZTM northing\n",
       "0    ABY0111     1424393.0      5097839.0\n",
       "1    AKL0331     1762701.0      5907699.0\n",
       "2    ALB0331     1750900.0      5932739.0\n",
       "3    ALB1101     1750900.0      5932739.0\n",
       "4    ANI0331     1931640.0      5754616.0\n",
       "..       ...           ...            ...\n",
       "480  WRA0111     1981648.0      5674331.0\n",
       "481  WRA0501     1981648.0      5674331.0\n",
       "482  WTN0111     1237336.0      4879291.0\n",
       "483  WTN0661     1237336.0      4879291.0\n",
       "484  WWK0111     1870346.0      5720184.0\n",
       "\n",
       "[485 rows x 3 columns]"
      ]
     },
     "execution_count": 225,
     "metadata": {},
     "output_type": "execute_result"
    }
   ],
   "source": [
    "nsp_info"
   ]
  },
  {
   "attachments": {},
   "cell_type": "markdown",
   "metadata": {},
   "source": [
    "Now we create the dictionary."
   ]
  },
  {
   "cell_type": "code",
   "execution_count": 226,
   "metadata": {},
   "outputs": [],
   "source": [
    "location_hash = {}\n",
    "\n",
    "for i in range(len(nsp_info)):\n",
    "    \n",
    "    key = nsp_info.iloc[i][0]\n",
    "    value = [nsp_info.iloc[i][1], nsp_info.iloc[i][2]]\n",
    "    \n",
    "    location_hash[key] = value"
   ]
  },
  {
   "attachments": {},
   "cell_type": "markdown",
   "metadata": {},
   "source": [
    "Now let's identify the locations of the POCs in the `fuel_gen` data. We can store this information in a list. First, let's import the `fuel_gen.csv` file again."
   ]
  },
  {
   "cell_type": "code",
   "execution_count": 227,
   "metadata": {},
   "outputs": [],
   "source": [
    "fuel_gen = pd.read_csv('data/fuel_gen.csv')"
   ]
  },
  {
   "cell_type": "code",
   "execution_count": 228,
   "metadata": {},
   "outputs": [],
   "source": [
    "location_list = []\n",
    "\n",
    "for i in range(len(fuel_gen)):\n",
    "    poc = fuel_gen.iloc[i][0]\n",
    "    \n",
    "    location_list.append(location_hash[poc])"
   ]
  },
  {
   "attachments": {},
   "cell_type": "markdown",
   "metadata": {},
   "source": [
    "Thankfully, this worked without any trouble which means all the POCs in the `fuel_gen` data existed in the `nsp_info` data. I can't remember how many times these sort of problems occur and throw off the whole process. Anyway, let's append this list to the `fuel_gen` dataframe."
   ]
  },
  {
   "cell_type": "code",
   "execution_count": 229,
   "metadata": {},
   "outputs": [],
   "source": [
    "fuel_gen[['NZTM easting', 'NZTM northing']] = location_list"
   ]
  },
  {
   "cell_type": "code",
   "execution_count": 230,
   "metadata": {},
   "outputs": [
    {
     "data": {
      "text/html": [
       "<div>\n",
       "<style scoped>\n",
       "    .dataframe tbody tr th:only-of-type {\n",
       "        vertical-align: middle;\n",
       "    }\n",
       "\n",
       "    .dataframe tbody tr th {\n",
       "        vertical-align: top;\n",
       "    }\n",
       "\n",
       "    .dataframe thead th {\n",
       "        text-align: right;\n",
       "    }\n",
       "</style>\n",
       "<table border=\"1\" class=\"dataframe\">\n",
       "  <thead>\n",
       "    <tr style=\"text-align: right;\">\n",
       "      <th></th>\n",
       "      <th>POC_Code</th>\n",
       "      <th>Gen_Code</th>\n",
       "      <th>Fuel_Code</th>\n",
       "      <th>NZTM easting</th>\n",
       "      <th>NZTM northing</th>\n",
       "    </tr>\n",
       "  </thead>\n",
       "  <tbody>\n",
       "    <tr>\n",
       "      <th>0</th>\n",
       "      <td>ARA2201</td>\n",
       "      <td>aratiatia</td>\n",
       "      <td>Hydro</td>\n",
       "      <td>1873657.0</td>\n",
       "      <td>5721160.0</td>\n",
       "    </tr>\n",
       "    <tr>\n",
       "      <th>1</th>\n",
       "      <td>ARG1101</td>\n",
       "      <td>argyle_wairau</td>\n",
       "      <td>Hydro</td>\n",
       "      <td>1616836.0</td>\n",
       "      <td>5386748.0</td>\n",
       "    </tr>\n",
       "    <tr>\n",
       "      <th>2</th>\n",
       "      <td>ARI1101</td>\n",
       "      <td>arapuni</td>\n",
       "      <td>Hydro</td>\n",
       "      <td>1831834.0</td>\n",
       "      <td>5782895.0</td>\n",
       "    </tr>\n",
       "    <tr>\n",
       "      <th>3</th>\n",
       "      <td>ARI1102</td>\n",
       "      <td>arapuni</td>\n",
       "      <td>Hydro</td>\n",
       "      <td>1831834.0</td>\n",
       "      <td>5782895.0</td>\n",
       "    </tr>\n",
       "    <tr>\n",
       "      <th>4</th>\n",
       "      <td>ASB0661</td>\n",
       "      <td>highbank</td>\n",
       "      <td>Hydro</td>\n",
       "      <td>1503869.0</td>\n",
       "      <td>5133912.0</td>\n",
       "    </tr>\n",
       "    <tr>\n",
       "      <th>5</th>\n",
       "      <td>ATI2201</td>\n",
       "      <td>atiamuri</td>\n",
       "      <td>Hydro</td>\n",
       "      <td>1863994.0</td>\n",
       "      <td>5746271.0</td>\n",
       "    </tr>\n",
       "    <tr>\n",
       "      <th>6</th>\n",
       "      <td>AVI2201</td>\n",
       "      <td>aviemore</td>\n",
       "      <td>Hydro</td>\n",
       "      <td>1390245.0</td>\n",
       "      <td>5051586.0</td>\n",
       "    </tr>\n",
       "    <tr>\n",
       "      <th>7</th>\n",
       "      <td>BEN2202</td>\n",
       "      <td>benmore</td>\n",
       "      <td>Hydro</td>\n",
       "      <td>1377144.0</td>\n",
       "      <td>5061473.0</td>\n",
       "    </tr>\n",
       "    <tr>\n",
       "      <th>8</th>\n",
       "      <td>BPE0331</td>\n",
       "      <td>twf_12</td>\n",
       "      <td>Wind</td>\n",
       "      <td>1824481.0</td>\n",
       "      <td>5537751.0</td>\n",
       "    </tr>\n",
       "    <tr>\n",
       "      <th>9</th>\n",
       "      <td>BWK1101</td>\n",
       "      <td>waipori</td>\n",
       "      <td>Hydro</td>\n",
       "      <td>1375377.0</td>\n",
       "      <td>4908483.0</td>\n",
       "    </tr>\n",
       "    <tr>\n",
       "      <th>10</th>\n",
       "      <td>COL0661</td>\n",
       "      <td>coleridge</td>\n",
       "      <td>Hydro</td>\n",
       "      <td>1480658.0</td>\n",
       "      <td>5197735.0</td>\n",
       "    </tr>\n",
       "    <tr>\n",
       "      <th>11</th>\n",
       "      <td>CYD0331</td>\n",
       "      <td>teviot</td>\n",
       "      <td>Hydro</td>\n",
       "      <td>1309790.0</td>\n",
       "      <td>4990370.0</td>\n",
       "    </tr>\n",
       "    <tr>\n",
       "      <th>12</th>\n",
       "      <td>CYD2201</td>\n",
       "      <td>clyde</td>\n",
       "      <td>Hydro</td>\n",
       "      <td>1309790.0</td>\n",
       "      <td>4990370.0</td>\n",
       "    </tr>\n",
       "    <tr>\n",
       "      <th>13</th>\n",
       "      <td>HWA1101</td>\n",
       "      <td>patea</td>\n",
       "      <td>Hydro</td>\n",
       "      <td>1712537.0</td>\n",
       "      <td>5619536.0</td>\n",
       "    </tr>\n",
       "    <tr>\n",
       "      <th>14</th>\n",
       "      <td>KPO1101</td>\n",
       "      <td>karapiro</td>\n",
       "      <td>Hydro</td>\n",
       "      <td>1823029.0</td>\n",
       "      <td>5799542.0</td>\n",
       "    </tr>\n",
       "    <tr>\n",
       "      <th>15</th>\n",
       "      <td>LTN0331</td>\n",
       "      <td>twf_12</td>\n",
       "      <td>Wind</td>\n",
       "      <td>1823277.0</td>\n",
       "      <td>5523360.0</td>\n",
       "    </tr>\n",
       "    <tr>\n",
       "      <th>16</th>\n",
       "      <td>LTN2201</td>\n",
       "      <td>turitea</td>\n",
       "      <td>Wind</td>\n",
       "      <td>1823277.0</td>\n",
       "      <td>5523360.0</td>\n",
       "    </tr>\n",
       "    <tr>\n",
       "      <th>17</th>\n",
       "      <td>MAN2201</td>\n",
       "      <td>manapouri</td>\n",
       "      <td>Hydro</td>\n",
       "      <td>1153098.0</td>\n",
       "      <td>4943235.0</td>\n",
       "    </tr>\n",
       "    <tr>\n",
       "      <th>18</th>\n",
       "      <td>MAT1101</td>\n",
       "      <td>aniwhenua</td>\n",
       "      <td>Hydro</td>\n",
       "      <td>1934456.0</td>\n",
       "      <td>5774722.0</td>\n",
       "    </tr>\n",
       "    <tr>\n",
       "      <th>19</th>\n",
       "      <td>MHO0331</td>\n",
       "      <td>mangahao</td>\n",
       "      <td>Hydro</td>\n",
       "      <td>1807281.0</td>\n",
       "      <td>5505363.0</td>\n",
       "    </tr>\n",
       "    <tr>\n",
       "      <th>20</th>\n",
       "      <td>MTI2201</td>\n",
       "      <td>maraetai</td>\n",
       "      <td>Hydro</td>\n",
       "      <td>1839802.0</td>\n",
       "      <td>5751482.0</td>\n",
       "    </tr>\n",
       "    <tr>\n",
       "      <th>21</th>\n",
       "      <td>NMA0331</td>\n",
       "      <td>white_hill</td>\n",
       "      <td>Wind</td>\n",
       "      <td>1242677.0</td>\n",
       "      <td>4861547.0</td>\n",
       "    </tr>\n",
       "    <tr>\n",
       "      <th>22</th>\n",
       "      <td>NSY0331</td>\n",
       "      <td>paerau</td>\n",
       "      <td>Hydro</td>\n",
       "      <td>1371044.0</td>\n",
       "      <td>5009253.0</td>\n",
       "    </tr>\n",
       "    <tr>\n",
       "      <th>23</th>\n",
       "      <td>OHA2201</td>\n",
       "      <td>ohau_a</td>\n",
       "      <td>Hydro</td>\n",
       "      <td>1362883.0</td>\n",
       "      <td>5094304.0</td>\n",
       "    </tr>\n",
       "    <tr>\n",
       "      <th>24</th>\n",
       "      <td>OHB2201</td>\n",
       "      <td>ohau_b</td>\n",
       "      <td>Hydro</td>\n",
       "      <td>1369516.0</td>\n",
       "      <td>5090545.0</td>\n",
       "    </tr>\n",
       "    <tr>\n",
       "      <th>25</th>\n",
       "      <td>OHC2201</td>\n",
       "      <td>ohau_c</td>\n",
       "      <td>Hydro</td>\n",
       "      <td>1375175.0</td>\n",
       "      <td>5086098.0</td>\n",
       "    </tr>\n",
       "    <tr>\n",
       "      <th>26</th>\n",
       "      <td>OHK2201</td>\n",
       "      <td>ohakuri</td>\n",
       "      <td>Hydro</td>\n",
       "      <td>1869462.0</td>\n",
       "      <td>5744408.0</td>\n",
       "    </tr>\n",
       "    <tr>\n",
       "      <th>27</th>\n",
       "      <td>ROT1101</td>\n",
       "      <td>wheao_flaxy</td>\n",
       "      <td>Hydro</td>\n",
       "      <td>1882790.0</td>\n",
       "      <td>5772814.0</td>\n",
       "    </tr>\n",
       "    <tr>\n",
       "      <th>28</th>\n",
       "      <td>ROX1101</td>\n",
       "      <td>roxburgh</td>\n",
       "      <td>Hydro</td>\n",
       "      <td>1312313.0</td>\n",
       "      <td>4957442.0</td>\n",
       "    </tr>\n",
       "    <tr>\n",
       "      <th>29</th>\n",
       "      <td>ROX2201</td>\n",
       "      <td>roxburgh</td>\n",
       "      <td>Hydro</td>\n",
       "      <td>1312313.0</td>\n",
       "      <td>4957442.0</td>\n",
       "    </tr>\n",
       "    <tr>\n",
       "      <th>30</th>\n",
       "      <td>RPO2201</td>\n",
       "      <td>rangipo</td>\n",
       "      <td>Hydro</td>\n",
       "      <td>1845189.0</td>\n",
       "      <td>5662388.0</td>\n",
       "    </tr>\n",
       "    <tr>\n",
       "      <th>31</th>\n",
       "      <td>STK0661</td>\n",
       "      <td>cobb</td>\n",
       "      <td>Hydro</td>\n",
       "      <td>1620344.0</td>\n",
       "      <td>5426252.0</td>\n",
       "    </tr>\n",
       "    <tr>\n",
       "      <th>32</th>\n",
       "      <td>TGA0331</td>\n",
       "      <td>kaimai</td>\n",
       "      <td>Hydro</td>\n",
       "      <td>1875930.0</td>\n",
       "      <td>5819779.0</td>\n",
       "    </tr>\n",
       "    <tr>\n",
       "      <th>33</th>\n",
       "      <td>TKA0111</td>\n",
       "      <td>tekapo_a</td>\n",
       "      <td>Hydro</td>\n",
       "      <td>1396471.0</td>\n",
       "      <td>5123459.0</td>\n",
       "    </tr>\n",
       "    <tr>\n",
       "      <th>34</th>\n",
       "      <td>TKB2201</td>\n",
       "      <td>tekapo_b</td>\n",
       "      <td>Hydro</td>\n",
       "      <td>1376922.0</td>\n",
       "      <td>5110445.0</td>\n",
       "    </tr>\n",
       "    <tr>\n",
       "      <th>35</th>\n",
       "      <td>TKU2201</td>\n",
       "      <td>tokaanu</td>\n",
       "      <td>Hydro</td>\n",
       "      <td>1839960.0</td>\n",
       "      <td>5681601.0</td>\n",
       "    </tr>\n",
       "    <tr>\n",
       "      <th>36</th>\n",
       "      <td>TUI1101</td>\n",
       "      <td>waikaremoana</td>\n",
       "      <td>Hydro</td>\n",
       "      <td>1960528.0</td>\n",
       "      <td>5696630.0</td>\n",
       "    </tr>\n",
       "    <tr>\n",
       "      <th>37</th>\n",
       "      <td>TWC2201</td>\n",
       "      <td>te_rere_hau</td>\n",
       "      <td>Wind</td>\n",
       "      <td>1835550.0</td>\n",
       "      <td>5529228.0</td>\n",
       "    </tr>\n",
       "    <tr>\n",
       "      <th>38</th>\n",
       "      <td>TWC2201</td>\n",
       "      <td>twf_3</td>\n",
       "      <td>Wind</td>\n",
       "      <td>1835550.0</td>\n",
       "      <td>5529228.0</td>\n",
       "    </tr>\n",
       "    <tr>\n",
       "      <th>39</th>\n",
       "      <td>TWH0331</td>\n",
       "      <td>te_uku</td>\n",
       "      <td>Wind</td>\n",
       "      <td>1789809.0</td>\n",
       "      <td>5821033.0</td>\n",
       "    </tr>\n",
       "    <tr>\n",
       "      <th>40</th>\n",
       "      <td>WDV1101</td>\n",
       "      <td>te_apiti</td>\n",
       "      <td>Wind</td>\n",
       "      <td>1842684.0</td>\n",
       "      <td>5533314.0</td>\n",
       "    </tr>\n",
       "    <tr>\n",
       "      <th>41</th>\n",
       "      <td>WKM2201</td>\n",
       "      <td>whakamaru</td>\n",
       "      <td>Hydro</td>\n",
       "      <td>1844481.0</td>\n",
       "      <td>5743971.0</td>\n",
       "    </tr>\n",
       "    <tr>\n",
       "      <th>42</th>\n",
       "      <td>WPA2201</td>\n",
       "      <td>waipapa</td>\n",
       "      <td>Hydro</td>\n",
       "      <td>1834680.0</td>\n",
       "      <td>5758417.0</td>\n",
       "    </tr>\n",
       "    <tr>\n",
       "      <th>43</th>\n",
       "      <td>WPG0331</td>\n",
       "      <td>waipori</td>\n",
       "      <td>Hydro</td>\n",
       "      <td>1404006.0</td>\n",
       "      <td>4918940.0</td>\n",
       "    </tr>\n",
       "    <tr>\n",
       "      <th>44</th>\n",
       "      <td>WTK0111</td>\n",
       "      <td>waitaki</td>\n",
       "      <td>Hydro</td>\n",
       "      <td>1396285.0</td>\n",
       "      <td>5048037.0</td>\n",
       "    </tr>\n",
       "    <tr>\n",
       "      <th>45</th>\n",
       "      <td>WVY1101</td>\n",
       "      <td>waipipi</td>\n",
       "      <td>Wind</td>\n",
       "      <td>1740109.0</td>\n",
       "      <td>5598256.0</td>\n",
       "    </tr>\n",
       "    <tr>\n",
       "      <th>46</th>\n",
       "      <td>WWD1102</td>\n",
       "      <td>west_wind</td>\n",
       "      <td>Wind</td>\n",
       "      <td>1739027.0</td>\n",
       "      <td>5427096.0</td>\n",
       "    </tr>\n",
       "    <tr>\n",
       "      <th>47</th>\n",
       "      <td>WWD1103</td>\n",
       "      <td>west_wind</td>\n",
       "      <td>Wind</td>\n",
       "      <td>1739027.0</td>\n",
       "      <td>5427096.0</td>\n",
       "    </tr>\n",
       "  </tbody>\n",
       "</table>\n",
       "</div>"
      ],
      "text/plain": [
       "   POC_Code       Gen_Code Fuel_Code  NZTM easting  NZTM northing\n",
       "0   ARA2201      aratiatia     Hydro     1873657.0      5721160.0\n",
       "1   ARG1101  argyle_wairau     Hydro     1616836.0      5386748.0\n",
       "2   ARI1101        arapuni     Hydro     1831834.0      5782895.0\n",
       "3   ARI1102        arapuni     Hydro     1831834.0      5782895.0\n",
       "4   ASB0661       highbank     Hydro     1503869.0      5133912.0\n",
       "5   ATI2201       atiamuri     Hydro     1863994.0      5746271.0\n",
       "6   AVI2201       aviemore     Hydro     1390245.0      5051586.0\n",
       "7   BEN2202        benmore     Hydro     1377144.0      5061473.0\n",
       "8   BPE0331         twf_12      Wind     1824481.0      5537751.0\n",
       "9   BWK1101        waipori     Hydro     1375377.0      4908483.0\n",
       "10  COL0661      coleridge     Hydro     1480658.0      5197735.0\n",
       "11  CYD0331         teviot     Hydro     1309790.0      4990370.0\n",
       "12  CYD2201          clyde     Hydro     1309790.0      4990370.0\n",
       "13  HWA1101          patea     Hydro     1712537.0      5619536.0\n",
       "14  KPO1101       karapiro     Hydro     1823029.0      5799542.0\n",
       "15  LTN0331         twf_12      Wind     1823277.0      5523360.0\n",
       "16  LTN2201        turitea      Wind     1823277.0      5523360.0\n",
       "17  MAN2201      manapouri     Hydro     1153098.0      4943235.0\n",
       "18  MAT1101      aniwhenua     Hydro     1934456.0      5774722.0\n",
       "19  MHO0331       mangahao     Hydro     1807281.0      5505363.0\n",
       "20  MTI2201       maraetai     Hydro     1839802.0      5751482.0\n",
       "21  NMA0331     white_hill      Wind     1242677.0      4861547.0\n",
       "22  NSY0331         paerau     Hydro     1371044.0      5009253.0\n",
       "23  OHA2201         ohau_a     Hydro     1362883.0      5094304.0\n",
       "24  OHB2201         ohau_b     Hydro     1369516.0      5090545.0\n",
       "25  OHC2201         ohau_c     Hydro     1375175.0      5086098.0\n",
       "26  OHK2201        ohakuri     Hydro     1869462.0      5744408.0\n",
       "27  ROT1101    wheao_flaxy     Hydro     1882790.0      5772814.0\n",
       "28  ROX1101       roxburgh     Hydro     1312313.0      4957442.0\n",
       "29  ROX2201       roxburgh     Hydro     1312313.0      4957442.0\n",
       "30  RPO2201        rangipo     Hydro     1845189.0      5662388.0\n",
       "31  STK0661           cobb     Hydro     1620344.0      5426252.0\n",
       "32  TGA0331         kaimai     Hydro     1875930.0      5819779.0\n",
       "33  TKA0111       tekapo_a     Hydro     1396471.0      5123459.0\n",
       "34  TKB2201       tekapo_b     Hydro     1376922.0      5110445.0\n",
       "35  TKU2201        tokaanu     Hydro     1839960.0      5681601.0\n",
       "36  TUI1101   waikaremoana     Hydro     1960528.0      5696630.0\n",
       "37  TWC2201    te_rere_hau      Wind     1835550.0      5529228.0\n",
       "38  TWC2201          twf_3      Wind     1835550.0      5529228.0\n",
       "39  TWH0331         te_uku      Wind     1789809.0      5821033.0\n",
       "40  WDV1101       te_apiti      Wind     1842684.0      5533314.0\n",
       "41  WKM2201      whakamaru     Hydro     1844481.0      5743971.0\n",
       "42  WPA2201        waipapa     Hydro     1834680.0      5758417.0\n",
       "43  WPG0331        waipori     Hydro     1404006.0      4918940.0\n",
       "44  WTK0111        waitaki     Hydro     1396285.0      5048037.0\n",
       "45  WVY1101        waipipi      Wind     1740109.0      5598256.0\n",
       "46  WWD1102      west_wind      Wind     1739027.0      5427096.0\n",
       "47  WWD1103      west_wind      Wind     1739027.0      5427096.0"
      ]
     },
     "execution_count": 230,
     "metadata": {},
     "output_type": "execute_result"
    }
   ],
   "source": [
    "fuel_gen"
   ]
  },
  {
   "attachments": {},
   "cell_type": "markdown",
   "metadata": {},
   "source": [
    "Perfect! But the work is not complete. There are some power stations with the same location coordinates but different POC codes. These are generation units in the same facility, but with different POC codes. No problem, we can drop the duplicates."
   ]
  },
  {
   "cell_type": "code",
   "execution_count": 234,
   "metadata": {},
   "outputs": [],
   "source": [
    "fuel_gen = fuel_gen.drop_duplicates(subset=['NZTM easting', 'NZTM northing']).reset_index(drop=True)"
   ]
  },
  {
   "cell_type": "code",
   "execution_count": 235,
   "metadata": {},
   "outputs": [
    {
     "data": {
      "text/html": [
       "<div>\n",
       "<style scoped>\n",
       "    .dataframe tbody tr th:only-of-type {\n",
       "        vertical-align: middle;\n",
       "    }\n",
       "\n",
       "    .dataframe tbody tr th {\n",
       "        vertical-align: top;\n",
       "    }\n",
       "\n",
       "    .dataframe thead th {\n",
       "        text-align: right;\n",
       "    }\n",
       "</style>\n",
       "<table border=\"1\" class=\"dataframe\">\n",
       "  <thead>\n",
       "    <tr style=\"text-align: right;\">\n",
       "      <th></th>\n",
       "      <th>POC_Code</th>\n",
       "      <th>Gen_Code</th>\n",
       "      <th>Fuel_Code</th>\n",
       "      <th>NZTM easting</th>\n",
       "      <th>NZTM northing</th>\n",
       "    </tr>\n",
       "  </thead>\n",
       "  <tbody>\n",
       "    <tr>\n",
       "      <th>0</th>\n",
       "      <td>ARA2201</td>\n",
       "      <td>aratiatia</td>\n",
       "      <td>Hydro</td>\n",
       "      <td>1873657.0</td>\n",
       "      <td>5721160.0</td>\n",
       "    </tr>\n",
       "    <tr>\n",
       "      <th>1</th>\n",
       "      <td>ARG1101</td>\n",
       "      <td>argyle_wairau</td>\n",
       "      <td>Hydro</td>\n",
       "      <td>1616836.0</td>\n",
       "      <td>5386748.0</td>\n",
       "    </tr>\n",
       "    <tr>\n",
       "      <th>2</th>\n",
       "      <td>ARI1101</td>\n",
       "      <td>arapuni</td>\n",
       "      <td>Hydro</td>\n",
       "      <td>1831834.0</td>\n",
       "      <td>5782895.0</td>\n",
       "    </tr>\n",
       "    <tr>\n",
       "      <th>3</th>\n",
       "      <td>ASB0661</td>\n",
       "      <td>highbank</td>\n",
       "      <td>Hydro</td>\n",
       "      <td>1503869.0</td>\n",
       "      <td>5133912.0</td>\n",
       "    </tr>\n",
       "    <tr>\n",
       "      <th>4</th>\n",
       "      <td>ATI2201</td>\n",
       "      <td>atiamuri</td>\n",
       "      <td>Hydro</td>\n",
       "      <td>1863994.0</td>\n",
       "      <td>5746271.0</td>\n",
       "    </tr>\n",
       "    <tr>\n",
       "      <th>5</th>\n",
       "      <td>AVI2201</td>\n",
       "      <td>aviemore</td>\n",
       "      <td>Hydro</td>\n",
       "      <td>1390245.0</td>\n",
       "      <td>5051586.0</td>\n",
       "    </tr>\n",
       "    <tr>\n",
       "      <th>6</th>\n",
       "      <td>BEN2202</td>\n",
       "      <td>benmore</td>\n",
       "      <td>Hydro</td>\n",
       "      <td>1377144.0</td>\n",
       "      <td>5061473.0</td>\n",
       "    </tr>\n",
       "    <tr>\n",
       "      <th>7</th>\n",
       "      <td>BPE0331</td>\n",
       "      <td>twf_12</td>\n",
       "      <td>Wind</td>\n",
       "      <td>1824481.0</td>\n",
       "      <td>5537751.0</td>\n",
       "    </tr>\n",
       "    <tr>\n",
       "      <th>8</th>\n",
       "      <td>BWK1101</td>\n",
       "      <td>waipori</td>\n",
       "      <td>Hydro</td>\n",
       "      <td>1375377.0</td>\n",
       "      <td>4908483.0</td>\n",
       "    </tr>\n",
       "    <tr>\n",
       "      <th>9</th>\n",
       "      <td>COL0661</td>\n",
       "      <td>coleridge</td>\n",
       "      <td>Hydro</td>\n",
       "      <td>1480658.0</td>\n",
       "      <td>5197735.0</td>\n",
       "    </tr>\n",
       "    <tr>\n",
       "      <th>10</th>\n",
       "      <td>CYD0331</td>\n",
       "      <td>teviot</td>\n",
       "      <td>Hydro</td>\n",
       "      <td>1309790.0</td>\n",
       "      <td>4990370.0</td>\n",
       "    </tr>\n",
       "    <tr>\n",
       "      <th>11</th>\n",
       "      <td>HWA1101</td>\n",
       "      <td>patea</td>\n",
       "      <td>Hydro</td>\n",
       "      <td>1712537.0</td>\n",
       "      <td>5619536.0</td>\n",
       "    </tr>\n",
       "    <tr>\n",
       "      <th>12</th>\n",
       "      <td>KPO1101</td>\n",
       "      <td>karapiro</td>\n",
       "      <td>Hydro</td>\n",
       "      <td>1823029.0</td>\n",
       "      <td>5799542.0</td>\n",
       "    </tr>\n",
       "    <tr>\n",
       "      <th>13</th>\n",
       "      <td>LTN0331</td>\n",
       "      <td>twf_12</td>\n",
       "      <td>Wind</td>\n",
       "      <td>1823277.0</td>\n",
       "      <td>5523360.0</td>\n",
       "    </tr>\n",
       "    <tr>\n",
       "      <th>14</th>\n",
       "      <td>MAN2201</td>\n",
       "      <td>manapouri</td>\n",
       "      <td>Hydro</td>\n",
       "      <td>1153098.0</td>\n",
       "      <td>4943235.0</td>\n",
       "    </tr>\n",
       "    <tr>\n",
       "      <th>15</th>\n",
       "      <td>MAT1101</td>\n",
       "      <td>aniwhenua</td>\n",
       "      <td>Hydro</td>\n",
       "      <td>1934456.0</td>\n",
       "      <td>5774722.0</td>\n",
       "    </tr>\n",
       "    <tr>\n",
       "      <th>16</th>\n",
       "      <td>MHO0331</td>\n",
       "      <td>mangahao</td>\n",
       "      <td>Hydro</td>\n",
       "      <td>1807281.0</td>\n",
       "      <td>5505363.0</td>\n",
       "    </tr>\n",
       "    <tr>\n",
       "      <th>17</th>\n",
       "      <td>MTI2201</td>\n",
       "      <td>maraetai</td>\n",
       "      <td>Hydro</td>\n",
       "      <td>1839802.0</td>\n",
       "      <td>5751482.0</td>\n",
       "    </tr>\n",
       "    <tr>\n",
       "      <th>18</th>\n",
       "      <td>NMA0331</td>\n",
       "      <td>white_hill</td>\n",
       "      <td>Wind</td>\n",
       "      <td>1242677.0</td>\n",
       "      <td>4861547.0</td>\n",
       "    </tr>\n",
       "    <tr>\n",
       "      <th>19</th>\n",
       "      <td>NSY0331</td>\n",
       "      <td>paerau</td>\n",
       "      <td>Hydro</td>\n",
       "      <td>1371044.0</td>\n",
       "      <td>5009253.0</td>\n",
       "    </tr>\n",
       "    <tr>\n",
       "      <th>20</th>\n",
       "      <td>OHA2201</td>\n",
       "      <td>ohau_a</td>\n",
       "      <td>Hydro</td>\n",
       "      <td>1362883.0</td>\n",
       "      <td>5094304.0</td>\n",
       "    </tr>\n",
       "    <tr>\n",
       "      <th>21</th>\n",
       "      <td>OHB2201</td>\n",
       "      <td>ohau_b</td>\n",
       "      <td>Hydro</td>\n",
       "      <td>1369516.0</td>\n",
       "      <td>5090545.0</td>\n",
       "    </tr>\n",
       "    <tr>\n",
       "      <th>22</th>\n",
       "      <td>OHC2201</td>\n",
       "      <td>ohau_c</td>\n",
       "      <td>Hydro</td>\n",
       "      <td>1375175.0</td>\n",
       "      <td>5086098.0</td>\n",
       "    </tr>\n",
       "    <tr>\n",
       "      <th>23</th>\n",
       "      <td>OHK2201</td>\n",
       "      <td>ohakuri</td>\n",
       "      <td>Hydro</td>\n",
       "      <td>1869462.0</td>\n",
       "      <td>5744408.0</td>\n",
       "    </tr>\n",
       "    <tr>\n",
       "      <th>24</th>\n",
       "      <td>ROT1101</td>\n",
       "      <td>wheao_flaxy</td>\n",
       "      <td>Hydro</td>\n",
       "      <td>1882790.0</td>\n",
       "      <td>5772814.0</td>\n",
       "    </tr>\n",
       "    <tr>\n",
       "      <th>25</th>\n",
       "      <td>ROX1101</td>\n",
       "      <td>roxburgh</td>\n",
       "      <td>Hydro</td>\n",
       "      <td>1312313.0</td>\n",
       "      <td>4957442.0</td>\n",
       "    </tr>\n",
       "    <tr>\n",
       "      <th>26</th>\n",
       "      <td>RPO2201</td>\n",
       "      <td>rangipo</td>\n",
       "      <td>Hydro</td>\n",
       "      <td>1845189.0</td>\n",
       "      <td>5662388.0</td>\n",
       "    </tr>\n",
       "    <tr>\n",
       "      <th>27</th>\n",
       "      <td>STK0661</td>\n",
       "      <td>cobb</td>\n",
       "      <td>Hydro</td>\n",
       "      <td>1620344.0</td>\n",
       "      <td>5426252.0</td>\n",
       "    </tr>\n",
       "    <tr>\n",
       "      <th>28</th>\n",
       "      <td>TGA0331</td>\n",
       "      <td>kaimai</td>\n",
       "      <td>Hydro</td>\n",
       "      <td>1875930.0</td>\n",
       "      <td>5819779.0</td>\n",
       "    </tr>\n",
       "    <tr>\n",
       "      <th>29</th>\n",
       "      <td>TKA0111</td>\n",
       "      <td>tekapo_a</td>\n",
       "      <td>Hydro</td>\n",
       "      <td>1396471.0</td>\n",
       "      <td>5123459.0</td>\n",
       "    </tr>\n",
       "    <tr>\n",
       "      <th>30</th>\n",
       "      <td>TKB2201</td>\n",
       "      <td>tekapo_b</td>\n",
       "      <td>Hydro</td>\n",
       "      <td>1376922.0</td>\n",
       "      <td>5110445.0</td>\n",
       "    </tr>\n",
       "    <tr>\n",
       "      <th>31</th>\n",
       "      <td>TKU2201</td>\n",
       "      <td>tokaanu</td>\n",
       "      <td>Hydro</td>\n",
       "      <td>1839960.0</td>\n",
       "      <td>5681601.0</td>\n",
       "    </tr>\n",
       "    <tr>\n",
       "      <th>32</th>\n",
       "      <td>TUI1101</td>\n",
       "      <td>waikaremoana</td>\n",
       "      <td>Hydro</td>\n",
       "      <td>1960528.0</td>\n",
       "      <td>5696630.0</td>\n",
       "    </tr>\n",
       "    <tr>\n",
       "      <th>33</th>\n",
       "      <td>TWC2201</td>\n",
       "      <td>te_rere_hau</td>\n",
       "      <td>Wind</td>\n",
       "      <td>1835550.0</td>\n",
       "      <td>5529228.0</td>\n",
       "    </tr>\n",
       "    <tr>\n",
       "      <th>34</th>\n",
       "      <td>TWH0331</td>\n",
       "      <td>te_uku</td>\n",
       "      <td>Wind</td>\n",
       "      <td>1789809.0</td>\n",
       "      <td>5821033.0</td>\n",
       "    </tr>\n",
       "    <tr>\n",
       "      <th>35</th>\n",
       "      <td>WDV1101</td>\n",
       "      <td>te_apiti</td>\n",
       "      <td>Wind</td>\n",
       "      <td>1842684.0</td>\n",
       "      <td>5533314.0</td>\n",
       "    </tr>\n",
       "    <tr>\n",
       "      <th>36</th>\n",
       "      <td>WKM2201</td>\n",
       "      <td>whakamaru</td>\n",
       "      <td>Hydro</td>\n",
       "      <td>1844481.0</td>\n",
       "      <td>5743971.0</td>\n",
       "    </tr>\n",
       "    <tr>\n",
       "      <th>37</th>\n",
       "      <td>WPA2201</td>\n",
       "      <td>waipapa</td>\n",
       "      <td>Hydro</td>\n",
       "      <td>1834680.0</td>\n",
       "      <td>5758417.0</td>\n",
       "    </tr>\n",
       "    <tr>\n",
       "      <th>38</th>\n",
       "      <td>WPG0331</td>\n",
       "      <td>waipori</td>\n",
       "      <td>Hydro</td>\n",
       "      <td>1404006.0</td>\n",
       "      <td>4918940.0</td>\n",
       "    </tr>\n",
       "    <tr>\n",
       "      <th>39</th>\n",
       "      <td>WTK0111</td>\n",
       "      <td>waitaki</td>\n",
       "      <td>Hydro</td>\n",
       "      <td>1396285.0</td>\n",
       "      <td>5048037.0</td>\n",
       "    </tr>\n",
       "    <tr>\n",
       "      <th>40</th>\n",
       "      <td>WVY1101</td>\n",
       "      <td>waipipi</td>\n",
       "      <td>Wind</td>\n",
       "      <td>1740109.0</td>\n",
       "      <td>5598256.0</td>\n",
       "    </tr>\n",
       "    <tr>\n",
       "      <th>41</th>\n",
       "      <td>WWD1102</td>\n",
       "      <td>west_wind</td>\n",
       "      <td>Wind</td>\n",
       "      <td>1739027.0</td>\n",
       "      <td>5427096.0</td>\n",
       "    </tr>\n",
       "  </tbody>\n",
       "</table>\n",
       "</div>"
      ],
      "text/plain": [
       "   POC_Code       Gen_Code Fuel_Code  NZTM easting  NZTM northing\n",
       "0   ARA2201      aratiatia     Hydro     1873657.0      5721160.0\n",
       "1   ARG1101  argyle_wairau     Hydro     1616836.0      5386748.0\n",
       "2   ARI1101        arapuni     Hydro     1831834.0      5782895.0\n",
       "3   ASB0661       highbank     Hydro     1503869.0      5133912.0\n",
       "4   ATI2201       atiamuri     Hydro     1863994.0      5746271.0\n",
       "5   AVI2201       aviemore     Hydro     1390245.0      5051586.0\n",
       "6   BEN2202        benmore     Hydro     1377144.0      5061473.0\n",
       "7   BPE0331         twf_12      Wind     1824481.0      5537751.0\n",
       "8   BWK1101        waipori     Hydro     1375377.0      4908483.0\n",
       "9   COL0661      coleridge     Hydro     1480658.0      5197735.0\n",
       "10  CYD0331         teviot     Hydro     1309790.0      4990370.0\n",
       "11  HWA1101          patea     Hydro     1712537.0      5619536.0\n",
       "12  KPO1101       karapiro     Hydro     1823029.0      5799542.0\n",
       "13  LTN0331         twf_12      Wind     1823277.0      5523360.0\n",
       "14  MAN2201      manapouri     Hydro     1153098.0      4943235.0\n",
       "15  MAT1101      aniwhenua     Hydro     1934456.0      5774722.0\n",
       "16  MHO0331       mangahao     Hydro     1807281.0      5505363.0\n",
       "17  MTI2201       maraetai     Hydro     1839802.0      5751482.0\n",
       "18  NMA0331     white_hill      Wind     1242677.0      4861547.0\n",
       "19  NSY0331         paerau     Hydro     1371044.0      5009253.0\n",
       "20  OHA2201         ohau_a     Hydro     1362883.0      5094304.0\n",
       "21  OHB2201         ohau_b     Hydro     1369516.0      5090545.0\n",
       "22  OHC2201         ohau_c     Hydro     1375175.0      5086098.0\n",
       "23  OHK2201        ohakuri     Hydro     1869462.0      5744408.0\n",
       "24  ROT1101    wheao_flaxy     Hydro     1882790.0      5772814.0\n",
       "25  ROX1101       roxburgh     Hydro     1312313.0      4957442.0\n",
       "26  RPO2201        rangipo     Hydro     1845189.0      5662388.0\n",
       "27  STK0661           cobb     Hydro     1620344.0      5426252.0\n",
       "28  TGA0331         kaimai     Hydro     1875930.0      5819779.0\n",
       "29  TKA0111       tekapo_a     Hydro     1396471.0      5123459.0\n",
       "30  TKB2201       tekapo_b     Hydro     1376922.0      5110445.0\n",
       "31  TKU2201        tokaanu     Hydro     1839960.0      5681601.0\n",
       "32  TUI1101   waikaremoana     Hydro     1960528.0      5696630.0\n",
       "33  TWC2201    te_rere_hau      Wind     1835550.0      5529228.0\n",
       "34  TWH0331         te_uku      Wind     1789809.0      5821033.0\n",
       "35  WDV1101       te_apiti      Wind     1842684.0      5533314.0\n",
       "36  WKM2201      whakamaru     Hydro     1844481.0      5743971.0\n",
       "37  WPA2201        waipapa     Hydro     1834680.0      5758417.0\n",
       "38  WPG0331        waipori     Hydro     1404006.0      4918940.0\n",
       "39  WTK0111        waitaki     Hydro     1396285.0      5048037.0\n",
       "40  WVY1101        waipipi      Wind     1740109.0      5598256.0\n",
       "41  WWD1102      west_wind      Wind     1739027.0      5427096.0"
      ]
     },
     "execution_count": 235,
     "metadata": {},
     "output_type": "execute_result"
    }
   ],
   "source": [
    "fuel_gen"
   ]
  },
  {
   "attachments": {},
   "cell_type": "markdown",
   "metadata": {},
   "source": [
    "This would be sufficient if the weather API we plan on using can take NZTM coordinates as input. However, to be safe we should convert these to NZGD (New Zealand Geodetic Datum) 2000 (version 20180701) coordinates, the latitude and longitude system. This conversion is not straightforward so I use a website https://www.geodesy.linz.govt.nz/concord/ to do this. By inputting the NZTM coordinates into the website converter, I was able to obtain the latitude and longitude coordinates in the format below. I have verified that these conversions are accurate."
   ]
  },
  {
   "cell_type": "code",
   "execution_count": 240,
   "metadata": {},
   "outputs": [],
   "source": [
    "coords = [[-38.61589062,176.14303618,-26.981], [-41.67085104,173.20225110,-17.059], [-38.07202558,175.64291928,-30.510], [-43.94163712,171.80214900,-10.349],\n",
    "          [-38.39283133,176.02273036,-28.359], [-44.65844302,170.35433494,-10.134], [-44.56559630,170.19357061,-10.000], [-40.28061426,175.64051012,-13.439],\n",
    "          [-45.94046956,170.10217216,-6.1200], [-43.36376560,171.52712193,-14.314], [-45.18039051,169.30622444,-7.9980], [-39.56649650,174.31011668,-18.307],\n",
    "          [-37.92434939,175.53746149,-31.127], [-40.41045204,175.63139355,-13.905], [-45.52086826,167.27749984,-7.2430], [-38.11342929,176.81461707,-27.603], \n",
    "          [-40.57657526,175.44893017,-13.874], [-38.35273636,175.74426746,-29.037], [-46.30539088,168.35952698,-4.3560], [-45.03318014,170.09335299,-9.2140],\n",
    "          [-44.26587174,170.02921164,-9.7380], [-44.30180131,170.11055110,-9.8130], [-44.34356091,170.17949166,-9.9230], [-38.40796630,176.08596914,-28.188],\n",
    "          [-38.14825015,176.22704093,-29.211], [-45.47721291,169.31913607,-8.0540], [-39.15319409,175.83744312,-25.189], [-41.31494147,173.24305864,-16.553],\n",
    "          [-37.72771589,176.13086945,-30.948], [-44.01380711,170.46085338,-11.229], [-44.12516128,170.21174758,-10.246], [-38.98172132,175.77022447,-25.780],\n",
    "          [-38.80535422,177.15139892,-22.222], [-40.35426721,175.77371000,-14.698], [-37.73832727,175.15413879,-31.488], [-40.31545684,175.85606683,-15.130],\n",
    "          [-38.41908188,175.80036275,-28.633], [-38.29166090,175.68340783,-29.559], [-45.85520944,170.47538814,-5.9240], [-44.69209931,170.42902881,-9.9850],\n",
    "          [-39.75409738,174.63550258,-16.137], [-41.29561783,174.66049610,-12.669]]"
   ]
  },
  {
   "attachments": {},
   "cell_type": "markdown",
   "metadata": {},
   "source": [
    "This is the output format I received from the website. Within each sublist, the first value is the latitude, second is longitude, and third is the height. Let's add this data to our `fuel_gen` dataframe."
   ]
  },
  {
   "cell_type": "code",
   "execution_count": 241,
   "metadata": {},
   "outputs": [],
   "source": [
    "fuel_gen[['Latitude','Longitude','Height']] = DataFrame(coords)"
   ]
  },
  {
   "attachments": {},
   "cell_type": "markdown",
   "metadata": {},
   "source": [
    "We can remove the NZTM coordinates now, since they are redundant. We can also remove the height coordinate for this project."
   ]
  },
  {
   "cell_type": "code",
   "execution_count": 242,
   "metadata": {},
   "outputs": [],
   "source": [
    "fuel_gen.drop(columns=['NZTM easting', 'NZTM northing', 'Height'], inplace=True)"
   ]
  },
  {
   "cell_type": "code",
   "execution_count": 243,
   "metadata": {},
   "outputs": [
    {
     "data": {
      "text/html": [
       "<div>\n",
       "<style scoped>\n",
       "    .dataframe tbody tr th:only-of-type {\n",
       "        vertical-align: middle;\n",
       "    }\n",
       "\n",
       "    .dataframe tbody tr th {\n",
       "        vertical-align: top;\n",
       "    }\n",
       "\n",
       "    .dataframe thead th {\n",
       "        text-align: right;\n",
       "    }\n",
       "</style>\n",
       "<table border=\"1\" class=\"dataframe\">\n",
       "  <thead>\n",
       "    <tr style=\"text-align: right;\">\n",
       "      <th></th>\n",
       "      <th>POC_Code</th>\n",
       "      <th>Gen_Code</th>\n",
       "      <th>Fuel_Code</th>\n",
       "      <th>Latitude</th>\n",
       "      <th>Longitude</th>\n",
       "    </tr>\n",
       "  </thead>\n",
       "  <tbody>\n",
       "    <tr>\n",
       "      <th>0</th>\n",
       "      <td>ARA2201</td>\n",
       "      <td>aratiatia</td>\n",
       "      <td>Hydro</td>\n",
       "      <td>-38.615891</td>\n",
       "      <td>176.143036</td>\n",
       "    </tr>\n",
       "    <tr>\n",
       "      <th>1</th>\n",
       "      <td>ARG1101</td>\n",
       "      <td>argyle_wairau</td>\n",
       "      <td>Hydro</td>\n",
       "      <td>-41.670851</td>\n",
       "      <td>173.202251</td>\n",
       "    </tr>\n",
       "    <tr>\n",
       "      <th>2</th>\n",
       "      <td>ARI1101</td>\n",
       "      <td>arapuni</td>\n",
       "      <td>Hydro</td>\n",
       "      <td>-38.072026</td>\n",
       "      <td>175.642919</td>\n",
       "    </tr>\n",
       "    <tr>\n",
       "      <th>3</th>\n",
       "      <td>ASB0661</td>\n",
       "      <td>highbank</td>\n",
       "      <td>Hydro</td>\n",
       "      <td>-43.941637</td>\n",
       "      <td>171.802149</td>\n",
       "    </tr>\n",
       "    <tr>\n",
       "      <th>4</th>\n",
       "      <td>ATI2201</td>\n",
       "      <td>atiamuri</td>\n",
       "      <td>Hydro</td>\n",
       "      <td>-38.392831</td>\n",
       "      <td>176.022730</td>\n",
       "    </tr>\n",
       "    <tr>\n",
       "      <th>5</th>\n",
       "      <td>AVI2201</td>\n",
       "      <td>aviemore</td>\n",
       "      <td>Hydro</td>\n",
       "      <td>-44.658443</td>\n",
       "      <td>170.354335</td>\n",
       "    </tr>\n",
       "    <tr>\n",
       "      <th>6</th>\n",
       "      <td>BEN2202</td>\n",
       "      <td>benmore</td>\n",
       "      <td>Hydro</td>\n",
       "      <td>-44.565596</td>\n",
       "      <td>170.193571</td>\n",
       "    </tr>\n",
       "    <tr>\n",
       "      <th>7</th>\n",
       "      <td>BPE0331</td>\n",
       "      <td>twf_12</td>\n",
       "      <td>Wind</td>\n",
       "      <td>-40.280614</td>\n",
       "      <td>175.640510</td>\n",
       "    </tr>\n",
       "    <tr>\n",
       "      <th>8</th>\n",
       "      <td>BWK1101</td>\n",
       "      <td>waipori</td>\n",
       "      <td>Hydro</td>\n",
       "      <td>-45.940470</td>\n",
       "      <td>170.102172</td>\n",
       "    </tr>\n",
       "    <tr>\n",
       "      <th>9</th>\n",
       "      <td>COL0661</td>\n",
       "      <td>coleridge</td>\n",
       "      <td>Hydro</td>\n",
       "      <td>-43.363766</td>\n",
       "      <td>171.527122</td>\n",
       "    </tr>\n",
       "    <tr>\n",
       "      <th>10</th>\n",
       "      <td>CYD0331</td>\n",
       "      <td>teviot</td>\n",
       "      <td>Hydro</td>\n",
       "      <td>-45.180391</td>\n",
       "      <td>169.306224</td>\n",
       "    </tr>\n",
       "    <tr>\n",
       "      <th>11</th>\n",
       "      <td>HWA1101</td>\n",
       "      <td>patea</td>\n",
       "      <td>Hydro</td>\n",
       "      <td>-39.566496</td>\n",
       "      <td>174.310117</td>\n",
       "    </tr>\n",
       "    <tr>\n",
       "      <th>12</th>\n",
       "      <td>KPO1101</td>\n",
       "      <td>karapiro</td>\n",
       "      <td>Hydro</td>\n",
       "      <td>-37.924349</td>\n",
       "      <td>175.537461</td>\n",
       "    </tr>\n",
       "    <tr>\n",
       "      <th>13</th>\n",
       "      <td>LTN0331</td>\n",
       "      <td>twf_12</td>\n",
       "      <td>Wind</td>\n",
       "      <td>-40.410452</td>\n",
       "      <td>175.631394</td>\n",
       "    </tr>\n",
       "    <tr>\n",
       "      <th>14</th>\n",
       "      <td>MAN2201</td>\n",
       "      <td>manapouri</td>\n",
       "      <td>Hydro</td>\n",
       "      <td>-45.520868</td>\n",
       "      <td>167.277500</td>\n",
       "    </tr>\n",
       "    <tr>\n",
       "      <th>15</th>\n",
       "      <td>MAT1101</td>\n",
       "      <td>aniwhenua</td>\n",
       "      <td>Hydro</td>\n",
       "      <td>-38.113429</td>\n",
       "      <td>176.814617</td>\n",
       "    </tr>\n",
       "    <tr>\n",
       "      <th>16</th>\n",
       "      <td>MHO0331</td>\n",
       "      <td>mangahao</td>\n",
       "      <td>Hydro</td>\n",
       "      <td>-40.576575</td>\n",
       "      <td>175.448930</td>\n",
       "    </tr>\n",
       "    <tr>\n",
       "      <th>17</th>\n",
       "      <td>MTI2201</td>\n",
       "      <td>maraetai</td>\n",
       "      <td>Hydro</td>\n",
       "      <td>-38.352736</td>\n",
       "      <td>175.744267</td>\n",
       "    </tr>\n",
       "    <tr>\n",
       "      <th>18</th>\n",
       "      <td>NMA0331</td>\n",
       "      <td>white_hill</td>\n",
       "      <td>Wind</td>\n",
       "      <td>-46.305391</td>\n",
       "      <td>168.359527</td>\n",
       "    </tr>\n",
       "    <tr>\n",
       "      <th>19</th>\n",
       "      <td>NSY0331</td>\n",
       "      <td>paerau</td>\n",
       "      <td>Hydro</td>\n",
       "      <td>-45.033180</td>\n",
       "      <td>170.093353</td>\n",
       "    </tr>\n",
       "    <tr>\n",
       "      <th>20</th>\n",
       "      <td>OHA2201</td>\n",
       "      <td>ohau_a</td>\n",
       "      <td>Hydro</td>\n",
       "      <td>-44.265872</td>\n",
       "      <td>170.029212</td>\n",
       "    </tr>\n",
       "    <tr>\n",
       "      <th>21</th>\n",
       "      <td>OHB2201</td>\n",
       "      <td>ohau_b</td>\n",
       "      <td>Hydro</td>\n",
       "      <td>-44.301801</td>\n",
       "      <td>170.110551</td>\n",
       "    </tr>\n",
       "    <tr>\n",
       "      <th>22</th>\n",
       "      <td>OHC2201</td>\n",
       "      <td>ohau_c</td>\n",
       "      <td>Hydro</td>\n",
       "      <td>-44.343561</td>\n",
       "      <td>170.179492</td>\n",
       "    </tr>\n",
       "    <tr>\n",
       "      <th>23</th>\n",
       "      <td>OHK2201</td>\n",
       "      <td>ohakuri</td>\n",
       "      <td>Hydro</td>\n",
       "      <td>-38.407966</td>\n",
       "      <td>176.085969</td>\n",
       "    </tr>\n",
       "    <tr>\n",
       "      <th>24</th>\n",
       "      <td>ROT1101</td>\n",
       "      <td>wheao_flaxy</td>\n",
       "      <td>Hydro</td>\n",
       "      <td>-38.148250</td>\n",
       "      <td>176.227041</td>\n",
       "    </tr>\n",
       "    <tr>\n",
       "      <th>25</th>\n",
       "      <td>ROX1101</td>\n",
       "      <td>roxburgh</td>\n",
       "      <td>Hydro</td>\n",
       "      <td>-45.477213</td>\n",
       "      <td>169.319136</td>\n",
       "    </tr>\n",
       "    <tr>\n",
       "      <th>26</th>\n",
       "      <td>RPO2201</td>\n",
       "      <td>rangipo</td>\n",
       "      <td>Hydro</td>\n",
       "      <td>-39.153194</td>\n",
       "      <td>175.837443</td>\n",
       "    </tr>\n",
       "    <tr>\n",
       "      <th>27</th>\n",
       "      <td>STK0661</td>\n",
       "      <td>cobb</td>\n",
       "      <td>Hydro</td>\n",
       "      <td>-41.314941</td>\n",
       "      <td>173.243059</td>\n",
       "    </tr>\n",
       "    <tr>\n",
       "      <th>28</th>\n",
       "      <td>TGA0331</td>\n",
       "      <td>kaimai</td>\n",
       "      <td>Hydro</td>\n",
       "      <td>-37.727716</td>\n",
       "      <td>176.130869</td>\n",
       "    </tr>\n",
       "    <tr>\n",
       "      <th>29</th>\n",
       "      <td>TKA0111</td>\n",
       "      <td>tekapo_a</td>\n",
       "      <td>Hydro</td>\n",
       "      <td>-44.013807</td>\n",
       "      <td>170.460853</td>\n",
       "    </tr>\n",
       "    <tr>\n",
       "      <th>30</th>\n",
       "      <td>TKB2201</td>\n",
       "      <td>tekapo_b</td>\n",
       "      <td>Hydro</td>\n",
       "      <td>-44.125161</td>\n",
       "      <td>170.211748</td>\n",
       "    </tr>\n",
       "    <tr>\n",
       "      <th>31</th>\n",
       "      <td>TKU2201</td>\n",
       "      <td>tokaanu</td>\n",
       "      <td>Hydro</td>\n",
       "      <td>-38.981721</td>\n",
       "      <td>175.770224</td>\n",
       "    </tr>\n",
       "    <tr>\n",
       "      <th>32</th>\n",
       "      <td>TUI1101</td>\n",
       "      <td>waikaremoana</td>\n",
       "      <td>Hydro</td>\n",
       "      <td>-38.805354</td>\n",
       "      <td>177.151399</td>\n",
       "    </tr>\n",
       "    <tr>\n",
       "      <th>33</th>\n",
       "      <td>TWC2201</td>\n",
       "      <td>te_rere_hau</td>\n",
       "      <td>Wind</td>\n",
       "      <td>-40.354267</td>\n",
       "      <td>175.773710</td>\n",
       "    </tr>\n",
       "    <tr>\n",
       "      <th>34</th>\n",
       "      <td>TWH0331</td>\n",
       "      <td>te_uku</td>\n",
       "      <td>Wind</td>\n",
       "      <td>-37.738327</td>\n",
       "      <td>175.154139</td>\n",
       "    </tr>\n",
       "    <tr>\n",
       "      <th>35</th>\n",
       "      <td>WDV1101</td>\n",
       "      <td>te_apiti</td>\n",
       "      <td>Wind</td>\n",
       "      <td>-40.315457</td>\n",
       "      <td>175.856067</td>\n",
       "    </tr>\n",
       "    <tr>\n",
       "      <th>36</th>\n",
       "      <td>WKM2201</td>\n",
       "      <td>whakamaru</td>\n",
       "      <td>Hydro</td>\n",
       "      <td>-38.419082</td>\n",
       "      <td>175.800363</td>\n",
       "    </tr>\n",
       "    <tr>\n",
       "      <th>37</th>\n",
       "      <td>WPA2201</td>\n",
       "      <td>waipapa</td>\n",
       "      <td>Hydro</td>\n",
       "      <td>-38.291661</td>\n",
       "      <td>175.683408</td>\n",
       "    </tr>\n",
       "    <tr>\n",
       "      <th>38</th>\n",
       "      <td>WPG0331</td>\n",
       "      <td>waipori</td>\n",
       "      <td>Hydro</td>\n",
       "      <td>-45.855209</td>\n",
       "      <td>170.475388</td>\n",
       "    </tr>\n",
       "    <tr>\n",
       "      <th>39</th>\n",
       "      <td>WTK0111</td>\n",
       "      <td>waitaki</td>\n",
       "      <td>Hydro</td>\n",
       "      <td>-44.692099</td>\n",
       "      <td>170.429029</td>\n",
       "    </tr>\n",
       "    <tr>\n",
       "      <th>40</th>\n",
       "      <td>WVY1101</td>\n",
       "      <td>waipipi</td>\n",
       "      <td>Wind</td>\n",
       "      <td>-39.754097</td>\n",
       "      <td>174.635503</td>\n",
       "    </tr>\n",
       "    <tr>\n",
       "      <th>41</th>\n",
       "      <td>WWD1102</td>\n",
       "      <td>west_wind</td>\n",
       "      <td>Wind</td>\n",
       "      <td>-41.295618</td>\n",
       "      <td>174.660496</td>\n",
       "    </tr>\n",
       "  </tbody>\n",
       "</table>\n",
       "</div>"
      ],
      "text/plain": [
       "   POC_Code       Gen_Code Fuel_Code   Latitude   Longitude\n",
       "0   ARA2201      aratiatia     Hydro -38.615891  176.143036\n",
       "1   ARG1101  argyle_wairau     Hydro -41.670851  173.202251\n",
       "2   ARI1101        arapuni     Hydro -38.072026  175.642919\n",
       "3   ASB0661       highbank     Hydro -43.941637  171.802149\n",
       "4   ATI2201       atiamuri     Hydro -38.392831  176.022730\n",
       "5   AVI2201       aviemore     Hydro -44.658443  170.354335\n",
       "6   BEN2202        benmore     Hydro -44.565596  170.193571\n",
       "7   BPE0331         twf_12      Wind -40.280614  175.640510\n",
       "8   BWK1101        waipori     Hydro -45.940470  170.102172\n",
       "9   COL0661      coleridge     Hydro -43.363766  171.527122\n",
       "10  CYD0331         teviot     Hydro -45.180391  169.306224\n",
       "11  HWA1101          patea     Hydro -39.566496  174.310117\n",
       "12  KPO1101       karapiro     Hydro -37.924349  175.537461\n",
       "13  LTN0331         twf_12      Wind -40.410452  175.631394\n",
       "14  MAN2201      manapouri     Hydro -45.520868  167.277500\n",
       "15  MAT1101      aniwhenua     Hydro -38.113429  176.814617\n",
       "16  MHO0331       mangahao     Hydro -40.576575  175.448930\n",
       "17  MTI2201       maraetai     Hydro -38.352736  175.744267\n",
       "18  NMA0331     white_hill      Wind -46.305391  168.359527\n",
       "19  NSY0331         paerau     Hydro -45.033180  170.093353\n",
       "20  OHA2201         ohau_a     Hydro -44.265872  170.029212\n",
       "21  OHB2201         ohau_b     Hydro -44.301801  170.110551\n",
       "22  OHC2201         ohau_c     Hydro -44.343561  170.179492\n",
       "23  OHK2201        ohakuri     Hydro -38.407966  176.085969\n",
       "24  ROT1101    wheao_flaxy     Hydro -38.148250  176.227041\n",
       "25  ROX1101       roxburgh     Hydro -45.477213  169.319136\n",
       "26  RPO2201        rangipo     Hydro -39.153194  175.837443\n",
       "27  STK0661           cobb     Hydro -41.314941  173.243059\n",
       "28  TGA0331         kaimai     Hydro -37.727716  176.130869\n",
       "29  TKA0111       tekapo_a     Hydro -44.013807  170.460853\n",
       "30  TKB2201       tekapo_b     Hydro -44.125161  170.211748\n",
       "31  TKU2201        tokaanu     Hydro -38.981721  175.770224\n",
       "32  TUI1101   waikaremoana     Hydro -38.805354  177.151399\n",
       "33  TWC2201    te_rere_hau      Wind -40.354267  175.773710\n",
       "34  TWH0331         te_uku      Wind -37.738327  175.154139\n",
       "35  WDV1101       te_apiti      Wind -40.315457  175.856067\n",
       "36  WKM2201      whakamaru     Hydro -38.419082  175.800363\n",
       "37  WPA2201        waipapa     Hydro -38.291661  175.683408\n",
       "38  WPG0331        waipori     Hydro -45.855209  170.475388\n",
       "39  WTK0111        waitaki     Hydro -44.692099  170.429029\n",
       "40  WVY1101        waipipi      Wind -39.754097  174.635503\n",
       "41  WWD1102      west_wind      Wind -41.295618  174.660496"
      ]
     },
     "execution_count": 243,
     "metadata": {},
     "output_type": "execute_result"
    }
   ],
   "source": [
    "fuel_gen"
   ]
  },
  {
   "attachments": {},
   "cell_type": "markdown",
   "metadata": {},
   "source": [
    "Finally, we have obtained the latitude and longitude coordinates for all the hydro and wind generation stations across New Zealand. As one final exercise, let's plot these locations on the map of New Zealand."
   ]
  },
  {
   "attachments": {},
   "cell_type": "markdown",
   "metadata": {},
   "source": [
    "# Visualizing Power Station Locations"
   ]
  },
  {
   "cell_type": "code",
   "execution_count": 247,
   "metadata": {},
   "outputs": [],
   "source": [
    "import plotly.express as px"
   ]
  },
  {
   "attachments": {},
   "cell_type": "markdown",
   "metadata": {},
   "source": [
    "The `plotly` package provides an excellent resource for visualizing geographical locations OpenStreetMap."
   ]
  },
  {
   "cell_type": "code",
   "execution_count": 248,
   "metadata": {},
   "outputs": [
    {
     "data": {
      "application/vnd.plotly.v1+json": {
       "config": {
        "plotlyServerURL": "https://plot.ly"
       },
       "data": [
        {
         "customdata": [
          [
           "aratiatia",
           "Hydro"
          ],
          [
           "argyle_wairau",
           "Hydro"
          ],
          [
           "arapuni",
           "Hydro"
          ],
          [
           "highbank",
           "Hydro"
          ],
          [
           "atiamuri",
           "Hydro"
          ],
          [
           "aviemore",
           "Hydro"
          ],
          [
           "benmore",
           "Hydro"
          ],
          [
           "waipori",
           "Hydro"
          ],
          [
           "coleridge",
           "Hydro"
          ],
          [
           "teviot",
           "Hydro"
          ],
          [
           "patea",
           "Hydro"
          ],
          [
           "karapiro",
           "Hydro"
          ],
          [
           "manapouri",
           "Hydro"
          ],
          [
           "aniwhenua",
           "Hydro"
          ],
          [
           "mangahao",
           "Hydro"
          ],
          [
           "maraetai",
           "Hydro"
          ],
          [
           "paerau",
           "Hydro"
          ],
          [
           "ohau_a",
           "Hydro"
          ],
          [
           "ohau_b",
           "Hydro"
          ],
          [
           "ohau_c",
           "Hydro"
          ],
          [
           "ohakuri",
           "Hydro"
          ],
          [
           "wheao_flaxy",
           "Hydro"
          ],
          [
           "roxburgh",
           "Hydro"
          ],
          [
           "rangipo",
           "Hydro"
          ],
          [
           "cobb",
           "Hydro"
          ],
          [
           "kaimai",
           "Hydro"
          ],
          [
           "tekapo_a",
           "Hydro"
          ],
          [
           "tekapo_b",
           "Hydro"
          ],
          [
           "tokaanu",
           "Hydro"
          ],
          [
           "waikaremoana",
           "Hydro"
          ],
          [
           "whakamaru",
           "Hydro"
          ],
          [
           "waipapa",
           "Hydro"
          ],
          [
           "waipori",
           "Hydro"
          ],
          [
           "waitaki",
           "Hydro"
          ]
         ],
         "hovertemplate": "<b>%{hovertext}</b><br><br>Fuel_Code=%{customdata[1]}<br>Latitude=%{lat}<br>Longitude=%{lon}<br>Gen_Code=%{customdata[0]}<extra></extra>",
         "hovertext": [
          "aratiatia",
          "argyle_wairau",
          "arapuni",
          "highbank",
          "atiamuri",
          "aviemore",
          "benmore",
          "waipori",
          "coleridge",
          "teviot",
          "patea",
          "karapiro",
          "manapouri",
          "aniwhenua",
          "mangahao",
          "maraetai",
          "paerau",
          "ohau_a",
          "ohau_b",
          "ohau_c",
          "ohakuri",
          "wheao_flaxy",
          "roxburgh",
          "rangipo",
          "cobb",
          "kaimai",
          "tekapo_a",
          "tekapo_b",
          "tokaanu",
          "waikaremoana",
          "whakamaru",
          "waipapa",
          "waipori",
          "waitaki"
         ],
         "lat": [
          -38.61589062,
          -41.67085104,
          -38.07202558,
          -43.94163712,
          -38.39283133,
          -44.65844302,
          -44.5655963,
          -45.94046956,
          -43.3637656,
          -45.18039051,
          -39.5664965,
          -37.92434939,
          -45.52086826,
          -38.11342929,
          -40.57657526,
          -38.35273636,
          -45.03318014,
          -44.26587174,
          -44.30180131,
          -44.34356091,
          -38.4079663,
          -38.14825015,
          -45.47721291,
          -39.15319409,
          -41.31494147,
          -37.72771589,
          -44.01380711,
          -44.12516128,
          -38.98172132,
          -38.80535422,
          -38.41908188,
          -38.2916609,
          -45.85520944,
          -44.69209931
         ],
         "legendgroup": "Hydro",
         "lon": [
          176.14303618,
          173.2022511,
          175.64291928,
          171.802149,
          176.02273036,
          170.35433494,
          170.19357061,
          170.10217216,
          171.52712193,
          169.30622444,
          174.31011668,
          175.53746149,
          167.27749984,
          176.81461707,
          175.44893017,
          175.74426746,
          170.09335299,
          170.02921164,
          170.1105511,
          170.17949166,
          176.08596914,
          176.22704093,
          169.31913607,
          175.83744312,
          173.24305864,
          176.13086945,
          170.46085338,
          170.21174758,
          175.77022447,
          177.15139892,
          175.80036275,
          175.68340783,
          170.47538814,
          170.42902881
         ],
         "marker": {
          "color": "#636efa"
         },
         "mode": "markers",
         "name": "Hydro",
         "showlegend": true,
         "subplot": "mapbox",
         "type": "scattermapbox"
        },
        {
         "customdata": [
          [
           "twf_12",
           "Wind"
          ],
          [
           "twf_12",
           "Wind"
          ],
          [
           "white_hill",
           "Wind"
          ],
          [
           "te_rere_hau",
           "Wind"
          ],
          [
           "te_uku",
           "Wind"
          ],
          [
           "te_apiti",
           "Wind"
          ],
          [
           "waipipi",
           "Wind"
          ],
          [
           "west_wind",
           "Wind"
          ]
         ],
         "hovertemplate": "<b>%{hovertext}</b><br><br>Fuel_Code=%{customdata[1]}<br>Latitude=%{lat}<br>Longitude=%{lon}<br>Gen_Code=%{customdata[0]}<extra></extra>",
         "hovertext": [
          "twf_12",
          "twf_12",
          "white_hill",
          "te_rere_hau",
          "te_uku",
          "te_apiti",
          "waipipi",
          "west_wind"
         ],
         "lat": [
          -40.28061426,
          -40.41045204,
          -46.30539088,
          -40.35426721,
          -37.73832727,
          -40.31545684,
          -39.75409738,
          -41.29561783
         ],
         "legendgroup": "Wind",
         "lon": [
          175.64051012,
          175.63139355,
          168.35952698,
          175.77371,
          175.15413879,
          175.85606683,
          174.63550258,
          174.6604961
         ],
         "marker": {
          "color": "#EF553B"
         },
         "mode": "markers",
         "name": "Wind",
         "showlegend": true,
         "subplot": "mapbox",
         "type": "scattermapbox"
        }
       ],
       "layout": {
        "height": 600,
        "legend": {
         "title": {
          "text": "Fuel_Code"
         },
         "tracegroupgap": 0
        },
        "mapbox": {
         "center": {
          "lat": -41.48258023380951,
          "lon": 173.29474486380957
         },
         "domain": {
          "x": [
           0,
           1
          ],
          "y": [
           0,
           1
          ]
         },
         "style": "open-street-map",
         "zoom": 8
        },
        "margin": {
         "b": 0,
         "l": 0,
         "r": 0,
         "t": 0
        },
        "template": {
         "data": {
          "bar": [
           {
            "error_x": {
             "color": "#2a3f5f"
            },
            "error_y": {
             "color": "#2a3f5f"
            },
            "marker": {
             "line": {
              "color": "#E5ECF6",
              "width": 0.5
             },
             "pattern": {
              "fillmode": "overlay",
              "size": 10,
              "solidity": 0.2
             }
            },
            "type": "bar"
           }
          ],
          "barpolar": [
           {
            "marker": {
             "line": {
              "color": "#E5ECF6",
              "width": 0.5
             },
             "pattern": {
              "fillmode": "overlay",
              "size": 10,
              "solidity": 0.2
             }
            },
            "type": "barpolar"
           }
          ],
          "carpet": [
           {
            "aaxis": {
             "endlinecolor": "#2a3f5f",
             "gridcolor": "white",
             "linecolor": "white",
             "minorgridcolor": "white",
             "startlinecolor": "#2a3f5f"
            },
            "baxis": {
             "endlinecolor": "#2a3f5f",
             "gridcolor": "white",
             "linecolor": "white",
             "minorgridcolor": "white",
             "startlinecolor": "#2a3f5f"
            },
            "type": "carpet"
           }
          ],
          "choropleth": [
           {
            "colorbar": {
             "outlinewidth": 0,
             "ticks": ""
            },
            "type": "choropleth"
           }
          ],
          "contour": [
           {
            "colorbar": {
             "outlinewidth": 0,
             "ticks": ""
            },
            "colorscale": [
             [
              0,
              "#0d0887"
             ],
             [
              0.1111111111111111,
              "#46039f"
             ],
             [
              0.2222222222222222,
              "#7201a8"
             ],
             [
              0.3333333333333333,
              "#9c179e"
             ],
             [
              0.4444444444444444,
              "#bd3786"
             ],
             [
              0.5555555555555556,
              "#d8576b"
             ],
             [
              0.6666666666666666,
              "#ed7953"
             ],
             [
              0.7777777777777778,
              "#fb9f3a"
             ],
             [
              0.8888888888888888,
              "#fdca26"
             ],
             [
              1,
              "#f0f921"
             ]
            ],
            "type": "contour"
           }
          ],
          "contourcarpet": [
           {
            "colorbar": {
             "outlinewidth": 0,
             "ticks": ""
            },
            "type": "contourcarpet"
           }
          ],
          "heatmap": [
           {
            "colorbar": {
             "outlinewidth": 0,
             "ticks": ""
            },
            "colorscale": [
             [
              0,
              "#0d0887"
             ],
             [
              0.1111111111111111,
              "#46039f"
             ],
             [
              0.2222222222222222,
              "#7201a8"
             ],
             [
              0.3333333333333333,
              "#9c179e"
             ],
             [
              0.4444444444444444,
              "#bd3786"
             ],
             [
              0.5555555555555556,
              "#d8576b"
             ],
             [
              0.6666666666666666,
              "#ed7953"
             ],
             [
              0.7777777777777778,
              "#fb9f3a"
             ],
             [
              0.8888888888888888,
              "#fdca26"
             ],
             [
              1,
              "#f0f921"
             ]
            ],
            "type": "heatmap"
           }
          ],
          "heatmapgl": [
           {
            "colorbar": {
             "outlinewidth": 0,
             "ticks": ""
            },
            "colorscale": [
             [
              0,
              "#0d0887"
             ],
             [
              0.1111111111111111,
              "#46039f"
             ],
             [
              0.2222222222222222,
              "#7201a8"
             ],
             [
              0.3333333333333333,
              "#9c179e"
             ],
             [
              0.4444444444444444,
              "#bd3786"
             ],
             [
              0.5555555555555556,
              "#d8576b"
             ],
             [
              0.6666666666666666,
              "#ed7953"
             ],
             [
              0.7777777777777778,
              "#fb9f3a"
             ],
             [
              0.8888888888888888,
              "#fdca26"
             ],
             [
              1,
              "#f0f921"
             ]
            ],
            "type": "heatmapgl"
           }
          ],
          "histogram": [
           {
            "marker": {
             "pattern": {
              "fillmode": "overlay",
              "size": 10,
              "solidity": 0.2
             }
            },
            "type": "histogram"
           }
          ],
          "histogram2d": [
           {
            "colorbar": {
             "outlinewidth": 0,
             "ticks": ""
            },
            "colorscale": [
             [
              0,
              "#0d0887"
             ],
             [
              0.1111111111111111,
              "#46039f"
             ],
             [
              0.2222222222222222,
              "#7201a8"
             ],
             [
              0.3333333333333333,
              "#9c179e"
             ],
             [
              0.4444444444444444,
              "#bd3786"
             ],
             [
              0.5555555555555556,
              "#d8576b"
             ],
             [
              0.6666666666666666,
              "#ed7953"
             ],
             [
              0.7777777777777778,
              "#fb9f3a"
             ],
             [
              0.8888888888888888,
              "#fdca26"
             ],
             [
              1,
              "#f0f921"
             ]
            ],
            "type": "histogram2d"
           }
          ],
          "histogram2dcontour": [
           {
            "colorbar": {
             "outlinewidth": 0,
             "ticks": ""
            },
            "colorscale": [
             [
              0,
              "#0d0887"
             ],
             [
              0.1111111111111111,
              "#46039f"
             ],
             [
              0.2222222222222222,
              "#7201a8"
             ],
             [
              0.3333333333333333,
              "#9c179e"
             ],
             [
              0.4444444444444444,
              "#bd3786"
             ],
             [
              0.5555555555555556,
              "#d8576b"
             ],
             [
              0.6666666666666666,
              "#ed7953"
             ],
             [
              0.7777777777777778,
              "#fb9f3a"
             ],
             [
              0.8888888888888888,
              "#fdca26"
             ],
             [
              1,
              "#f0f921"
             ]
            ],
            "type": "histogram2dcontour"
           }
          ],
          "mesh3d": [
           {
            "colorbar": {
             "outlinewidth": 0,
             "ticks": ""
            },
            "type": "mesh3d"
           }
          ],
          "parcoords": [
           {
            "line": {
             "colorbar": {
              "outlinewidth": 0,
              "ticks": ""
             }
            },
            "type": "parcoords"
           }
          ],
          "pie": [
           {
            "automargin": true,
            "type": "pie"
           }
          ],
          "scatter": [
           {
            "fillpattern": {
             "fillmode": "overlay",
             "size": 10,
             "solidity": 0.2
            },
            "type": "scatter"
           }
          ],
          "scatter3d": [
           {
            "line": {
             "colorbar": {
              "outlinewidth": 0,
              "ticks": ""
             }
            },
            "marker": {
             "colorbar": {
              "outlinewidth": 0,
              "ticks": ""
             }
            },
            "type": "scatter3d"
           }
          ],
          "scattercarpet": [
           {
            "marker": {
             "colorbar": {
              "outlinewidth": 0,
              "ticks": ""
             }
            },
            "type": "scattercarpet"
           }
          ],
          "scattergeo": [
           {
            "marker": {
             "colorbar": {
              "outlinewidth": 0,
              "ticks": ""
             }
            },
            "type": "scattergeo"
           }
          ],
          "scattergl": [
           {
            "marker": {
             "colorbar": {
              "outlinewidth": 0,
              "ticks": ""
             }
            },
            "type": "scattergl"
           }
          ],
          "scattermapbox": [
           {
            "marker": {
             "colorbar": {
              "outlinewidth": 0,
              "ticks": ""
             }
            },
            "type": "scattermapbox"
           }
          ],
          "scatterpolar": [
           {
            "marker": {
             "colorbar": {
              "outlinewidth": 0,
              "ticks": ""
             }
            },
            "type": "scatterpolar"
           }
          ],
          "scatterpolargl": [
           {
            "marker": {
             "colorbar": {
              "outlinewidth": 0,
              "ticks": ""
             }
            },
            "type": "scatterpolargl"
           }
          ],
          "scatterternary": [
           {
            "marker": {
             "colorbar": {
              "outlinewidth": 0,
              "ticks": ""
             }
            },
            "type": "scatterternary"
           }
          ],
          "surface": [
           {
            "colorbar": {
             "outlinewidth": 0,
             "ticks": ""
            },
            "colorscale": [
             [
              0,
              "#0d0887"
             ],
             [
              0.1111111111111111,
              "#46039f"
             ],
             [
              0.2222222222222222,
              "#7201a8"
             ],
             [
              0.3333333333333333,
              "#9c179e"
             ],
             [
              0.4444444444444444,
              "#bd3786"
             ],
             [
              0.5555555555555556,
              "#d8576b"
             ],
             [
              0.6666666666666666,
              "#ed7953"
             ],
             [
              0.7777777777777778,
              "#fb9f3a"
             ],
             [
              0.8888888888888888,
              "#fdca26"
             ],
             [
              1,
              "#f0f921"
             ]
            ],
            "type": "surface"
           }
          ],
          "table": [
           {
            "cells": {
             "fill": {
              "color": "#EBF0F8"
             },
             "line": {
              "color": "white"
             }
            },
            "header": {
             "fill": {
              "color": "#C8D4E3"
             },
             "line": {
              "color": "white"
             }
            },
            "type": "table"
           }
          ]
         },
         "layout": {
          "annotationdefaults": {
           "arrowcolor": "#2a3f5f",
           "arrowhead": 0,
           "arrowwidth": 1
          },
          "autotypenumbers": "strict",
          "coloraxis": {
           "colorbar": {
            "outlinewidth": 0,
            "ticks": ""
           }
          },
          "colorscale": {
           "diverging": [
            [
             0,
             "#8e0152"
            ],
            [
             0.1,
             "#c51b7d"
            ],
            [
             0.2,
             "#de77ae"
            ],
            [
             0.3,
             "#f1b6da"
            ],
            [
             0.4,
             "#fde0ef"
            ],
            [
             0.5,
             "#f7f7f7"
            ],
            [
             0.6,
             "#e6f5d0"
            ],
            [
             0.7,
             "#b8e186"
            ],
            [
             0.8,
             "#7fbc41"
            ],
            [
             0.9,
             "#4d9221"
            ],
            [
             1,
             "#276419"
            ]
           ],
           "sequential": [
            [
             0,
             "#0d0887"
            ],
            [
             0.1111111111111111,
             "#46039f"
            ],
            [
             0.2222222222222222,
             "#7201a8"
            ],
            [
             0.3333333333333333,
             "#9c179e"
            ],
            [
             0.4444444444444444,
             "#bd3786"
            ],
            [
             0.5555555555555556,
             "#d8576b"
            ],
            [
             0.6666666666666666,
             "#ed7953"
            ],
            [
             0.7777777777777778,
             "#fb9f3a"
            ],
            [
             0.8888888888888888,
             "#fdca26"
            ],
            [
             1,
             "#f0f921"
            ]
           ],
           "sequentialminus": [
            [
             0,
             "#0d0887"
            ],
            [
             0.1111111111111111,
             "#46039f"
            ],
            [
             0.2222222222222222,
             "#7201a8"
            ],
            [
             0.3333333333333333,
             "#9c179e"
            ],
            [
             0.4444444444444444,
             "#bd3786"
            ],
            [
             0.5555555555555556,
             "#d8576b"
            ],
            [
             0.6666666666666666,
             "#ed7953"
            ],
            [
             0.7777777777777778,
             "#fb9f3a"
            ],
            [
             0.8888888888888888,
             "#fdca26"
            ],
            [
             1,
             "#f0f921"
            ]
           ]
          },
          "colorway": [
           "#636efa",
           "#EF553B",
           "#00cc96",
           "#ab63fa",
           "#FFA15A",
           "#19d3f3",
           "#FF6692",
           "#B6E880",
           "#FF97FF",
           "#FECB52"
          ],
          "font": {
           "color": "#2a3f5f"
          },
          "geo": {
           "bgcolor": "white",
           "lakecolor": "white",
           "landcolor": "#E5ECF6",
           "showlakes": true,
           "showland": true,
           "subunitcolor": "white"
          },
          "hoverlabel": {
           "align": "left"
          },
          "hovermode": "closest",
          "mapbox": {
           "style": "light"
          },
          "paper_bgcolor": "white",
          "plot_bgcolor": "#E5ECF6",
          "polar": {
           "angularaxis": {
            "gridcolor": "white",
            "linecolor": "white",
            "ticks": ""
           },
           "bgcolor": "#E5ECF6",
           "radialaxis": {
            "gridcolor": "white",
            "linecolor": "white",
            "ticks": ""
           }
          },
          "scene": {
           "xaxis": {
            "backgroundcolor": "#E5ECF6",
            "gridcolor": "white",
            "gridwidth": 2,
            "linecolor": "white",
            "showbackground": true,
            "ticks": "",
            "zerolinecolor": "white"
           },
           "yaxis": {
            "backgroundcolor": "#E5ECF6",
            "gridcolor": "white",
            "gridwidth": 2,
            "linecolor": "white",
            "showbackground": true,
            "ticks": "",
            "zerolinecolor": "white"
           },
           "zaxis": {
            "backgroundcolor": "#E5ECF6",
            "gridcolor": "white",
            "gridwidth": 2,
            "linecolor": "white",
            "showbackground": true,
            "ticks": "",
            "zerolinecolor": "white"
           }
          },
          "shapedefaults": {
           "line": {
            "color": "#2a3f5f"
           }
          },
          "ternary": {
           "aaxis": {
            "gridcolor": "white",
            "linecolor": "white",
            "ticks": ""
           },
           "baxis": {
            "gridcolor": "white",
            "linecolor": "white",
            "ticks": ""
           },
           "bgcolor": "#E5ECF6",
           "caxis": {
            "gridcolor": "white",
            "linecolor": "white",
            "ticks": ""
           }
          },
          "title": {
           "x": 0.05
          },
          "xaxis": {
           "automargin": true,
           "gridcolor": "white",
           "linecolor": "white",
           "ticks": "",
           "title": {
            "standoff": 15
           },
           "zerolinecolor": "white",
           "zerolinewidth": 2
          },
          "yaxis": {
           "automargin": true,
           "gridcolor": "white",
           "linecolor": "white",
           "ticks": "",
           "title": {
            "standoff": 15
           },
           "zerolinecolor": "white",
           "zerolinewidth": 2
          }
         }
        },
        "width": 800
       }
      }
     },
     "metadata": {},
     "output_type": "display_data"
    }
   ],
   "source": [
    "fig = px.scatter_mapbox(fuel_gen, \n",
    "                        lat=\"Latitude\", \n",
    "                        lon=\"Longitude\", \n",
    "                        hover_name=\"Gen_Code\", \n",
    "                        hover_data=[\"Gen_Code\", \"Fuel_Code\"],\n",
    "                        color=\"Fuel_Code\",\n",
    "                        zoom=8, \n",
    "                        height=600,\n",
    "                        width=800)\n",
    "\n",
    "fig.update_layout(mapbox_style=\"open-street-map\")\n",
    "fig.update_layout(margin={\"r\":0,\"t\":0,\"l\":0,\"b\":0})\n",
    "fig.show()"
   ]
  },
  {
   "attachments": {},
   "cell_type": "markdown",
   "metadata": {},
   "source": [
    "The results of the code above may not be visible on Github, so an image is attached to the repository in the `figures` directory. It is also visible in `README.md`."
   ]
  }
 ],
 "metadata": {
  "kernelspec": {
   "display_name": "Python [conda env:base] *",
   "language": "python",
   "name": "conda-base-py"
  },
  "language_info": {
   "codemirror_mode": {
    "name": "ipython",
    "version": 3
   },
   "file_extension": ".py",
   "mimetype": "text/x-python",
   "name": "python",
   "nbconvert_exporter": "python",
   "pygments_lexer": "ipython3",
   "version": "3.12.7"
  },
  "vscode": {
   "interpreter": {
    "hash": "16f5b46f222e2a3e8d4adbf7141cae37b71ed37616e60735fa5d1164a1bc3ada"
   }
  }
 },
 "nbformat": 4,
 "nbformat_minor": 4
}
